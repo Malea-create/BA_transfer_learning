{
 "nbformat": 4,
 "nbformat_minor": 2,
 "metadata": {
  "language_info": {
   "name": "python",
   "codemirror_mode": {
    "name": "ipython",
    "version": 3
   },
   "version": "3.10.9-final"
  },
  "orig_nbformat": 2,
  "file_extension": ".py",
  "mimetype": "text/x-python",
  "name": "python",
  "npconvert_exporter": "python",
  "pygments_lexer": "ipython3",
  "version": 3,
  "kernelspec": {
   "name": "python310964bittransferlearningconda9726b93461e0487db588c58d1bc36ff2",
   "display_name": "Python 3.10.9 64-bit ('transfer-learning': conda)"
  }
 },
 "cells": [
  {
   "cell_type": "code",
   "execution_count": 2,
   "metadata": {},
   "outputs": [],
   "source": [
    "import matplotlib.pyplot as plt\n",
    "import pandas as pd\n",
    "import numpy as np"
   ]
  },
  {
   "cell_type": "markdown",
   "execution_count": null,
   "metadata": {},
   "outputs": [],
   "source": [
    "## Load data"
   ]
  },
  {
   "cell_type": "code",
   "execution_count": 113,
   "metadata": {},
   "outputs": [],
   "source": [
    "x = \"S\"\n",
    "df = pd.read_csv(\"../data/mb/trainingSetDataItems_input_be.csv\", \",\", decimal='.')\n",
    "# bring rv to the end\n",
    "col = df.pop('rv')\n",
    "df = df.loc[df['class'] == x]\n",
    "df.insert(loc= 66 , column= 'rv', value= col)\n",
    "df.fillna(0, inplace=True)\n",
    "df_be = df[[\"kw\",\"month_into_model_year\",\"msrp_options\",\"years_into_facelift\",\"act_age_in_years\",\"act_contract_duration_in_month\", \"act_mileage\", \"mb_resale_volume\", \"msrp_full\", \"years_into_lifecycle\", \"d_amg\", \"d_diesel\", \"d_suv_coupe\", \"d_amg_entry\" ,\"rv\"]]\n",
    "\n",
    "df = pd.read_csv(\"../data/mb/trainingSetDataItems_input_es.csv\", \",\", decimal='.')\n",
    "# bring rv to the end\n",
    "col = df.pop('rv')\n",
    "df = df.loc[df['class'] == x]\n",
    "df.insert(loc= 66 , column= 'rv', value= col)\n",
    "df.fillna(0, inplace=True)\n",
    "df_es = df[[\"kw\",\"month_into_model_year\",\"msrp_options\",\"years_into_facelift\",\"act_age_in_years\",\"act_contract_duration_in_month\", \"act_mileage\", \"mb_resale_volume\", \"msrp_full\", \"years_into_lifecycle\", \"d_amg\", \"d_diesel\", \"d_suv_coupe\", \"d_amg_entry\" ,\"rv\"]]\n",
    "\n",
    "df = pd.read_csv(\"../data/mb/trainingSetDataItems_input_fr.csv\", \",\", decimal='.')\n",
    "# bring rv to the end\n",
    "col = df.pop('rv')\n",
    "df = df.loc[df['class'] == x]\n",
    "df.insert(loc= 66 , column= 'rv', value= col)\n",
    "df.fillna(0, inplace=True)\n",
    "df_fr = df[[\"kw\",\"month_into_model_year\",\"msrp_options\",\"years_into_facelift\",\"act_age_in_years\",\"act_contract_duration_in_month\", \"act_mileage\", \"mb_resale_volume\", \"msrp_full\", \"years_into_lifecycle\", \"d_amg\", \"d_diesel\", \"d_suv_coupe\", \"d_amg_entry\" ,\"rv\"]]\n",
    "\n",
    "df = pd.read_csv(\"../data/mb/trainingSetDataItems_input_nl.csv\", \",\", decimal='.')\n",
    "# bring rv to the end\n",
    "col = df.pop('rv')\n",
    "df = df.loc[df['class'] == x]\n",
    "df.insert(loc= 66 , column= 'rv', value= col)\n",
    "df.fillna(0, inplace=True)\n",
    "df_nl = df[[\"kw\",\"month_into_model_year\",\"msrp_options\",\"years_into_facelift\",\"act_age_in_years\",\"act_contract_duration_in_month\", \"act_mileage\", \"mb_resale_volume\", \"msrp_full\", \"years_into_lifecycle\", \"d_amg\", \"d_diesel\", \"d_suv_coupe\", \"d_amg_entry\" ,\"rv\"]]\n",
    "\n",
    "df = pd.read_csv(\"../data/mb/trainingSetDataItems_input_pt.csv\", \",\", decimal='.')\n",
    "# bring rv to the end\n",
    "col = df.pop('rv')\n",
    "df.insert(loc= 66 , column= 'rv', value= col)\n",
    "df.fillna(0, inplace=True)\n",
    "df = df.loc[df['class'] == x]\n",
    "df_pt = df[[\"kw\",\"month_into_model_year\",\"msrp_options\",\"years_into_facelift\",\"act_age_in_years\",\"act_contract_duration_in_month\", \"act_mileage\", \"mb_resale_volume\", \"msrp_full\", \"years_into_lifecycle\", \"d_amg\", \"d_diesel\", \"d_suv_coupe\", \"d_amg_entry\" ,\"rv\"]]\n",
    "\n",
    "df = pd.read_csv(\"../data/mb/trainingSetDataItems_input_ca.csv\", \",\", decimal='.')\n",
    "# bring rv to the end\n",
    "col = df.pop('rv')\n",
    "df.insert(loc= 66 , column= 'rv', value= col)\n",
    "df.fillna(0, inplace=True)\n",
    "df = df.loc[df['class'] == x]\n",
    "df_ca = df[[\"kw\",\"month_into_model_year\",\"msrp_options\",\"years_into_facelift\",\"act_age_in_years\",\"act_contract_duration_in_month\", \"act_mileage\", \"mb_resale_volume\", \"msrp_full\", \"years_into_lifecycle\", \"d_amg\", \"d_diesel\", \"d_suv_coupe\", \"d_amg_entry\" ,\"rv\"]]\n"
   ]
  },
  {
   "cell_type": "code",
   "execution_count": 58,
   "metadata": {},
   "outputs": [
    {
     "data": {
      "text/plain": "class\nA           2524.583836\nAMG GT     16699.394923\nB           2432.900548\nC           3016.321918\nCLA         3047.746301\nCLS         8051.151493\nE           3351.324110\nG          29130.755862\nGLA         3087.477123\nGLB         6861.206176\nGLC         4411.642603\nGLE         8163.947260\nGLS         9594.000143\nS          12677.177887\nSL         11371.001277\nSLC         6924.917797\noverall     3232.218630\nName: mae, dtype: float64"
     },
     "execution_count": 58,
     "metadata": {},
     "output_type": "execute_result"
    }
   ],
   "source": [
    "x = pd.read_csv(\"../backtesting_results_BE_Europe BE_pfv_just_weights.csv\", \",\", decimal='.')\n",
    "x = x.groupby(['class'])['mae'].mean()\n",
    "x"
   ]
  },
  {
   "cell_type": "markdown",
   "execution_count": null,
   "metadata": {},
   "outputs": [],
   "source": [
    "# Metrics"
   ]
  },
  {
   "cell_type": "code",
   "execution_count": 6,
   "metadata": {},
   "outputs": [],
   "source": [
    "from get_metrics import get_transferability_metrics\n",
    "\n",
    "sub_src_df_1 = ['df_be', 'df_es', 'df_fr', 'df_nl', 'df_ca']\n",
    "sub_tar_df_2 = ['df_pt', 'df_pt', 'df_pt', 'df_pt', 'df_pt']\n",
    "\n",
    "Values = []\n",
    "\n",
    "for i in range (0,5):\n",
    "\n",
    "        # get current src and tar\n",
    "\n",
    "        df_src = getattr(modobj, sub_src_df_1[i])\n",
    "        df_tar = getattr(modobj, sub_tar_df_2[i])\n",
    "\n",
    "        save_values = get_transferability_metrics(df_src, df_tar)\n",
    "\n",
    "        Values.append(save_values)"
   ]
  },
  {
   "cell_type": "code",
   "execution_count": 7,
   "metadata": {},
   "outputs": [
    {
     "data": {
      "text/html": "<div>\n<style scoped>\n    .dataframe tbody tr th:only-of-type {\n        vertical-align: middle;\n    }\n\n    .dataframe tbody tr th {\n        vertical-align: top;\n    }\n\n    .dataframe thead th {\n        text-align: right;\n    }\n</style>\n<table border=\"1\" class=\"dataframe\">\n  <thead>\n    <tr style=\"text-align: right;\">\n      <th></th>\n      <th>0</th>\n      <th>1</th>\n      <th>2</th>\n      <th>3</th>\n      <th>4</th>\n      <th>5</th>\n      <th>6</th>\n      <th>7</th>\n    </tr>\n  </thead>\n  <tbody>\n    <tr>\n      <th>0</th>\n      <td>df_be</td>\n      <td>df_pt</td>\n      <td>4048.201589</td>\n      <td>0.059381</td>\n      <td>8597.855543</td>\n      <td>0.221407</td>\n      <td>NaN</td>\n      <td>0.046237</td>\n    </tr>\n    <tr>\n      <th>1</th>\n      <td>df_es</td>\n      <td>df_pt</td>\n      <td>1992.507564</td>\n      <td>0.029604</td>\n      <td>6006.919368</td>\n      <td>0.187468</td>\n      <td>NaN</td>\n      <td>0.046498</td>\n    </tr>\n    <tr>\n      <th>2</th>\n      <td>df_fr</td>\n      <td>df_pt</td>\n      <td>1995.125581</td>\n      <td>0.034256</td>\n      <td>6621.053485</td>\n      <td>0.305866</td>\n      <td>NaN</td>\n      <td>0.047217</td>\n    </tr>\n    <tr>\n      <th>3</th>\n      <td>df_nl</td>\n      <td>df_pt</td>\n      <td>--</td>\n      <td>NaN</td>\n      <td>16419.974540</td>\n      <td>0.529312</td>\n      <td>NaN</td>\n      <td>NaN</td>\n    </tr>\n    <tr>\n      <th>4</th>\n      <td>df_ca</td>\n      <td>df_pt</td>\n      <td>3925.549013</td>\n      <td>0.057334</td>\n      <td>6320.571473</td>\n      <td>0.198039</td>\n      <td>NaN</td>\n      <td>0.046237</td>\n    </tr>\n  </tbody>\n</table>\n</div>",
      "text/plain": "       0      1            2         3             4         5   6         7\n0  df_be  df_pt  4048.201589  0.059381   8597.855543  0.221407 NaN  0.046237\n1  df_es  df_pt  1992.507564  0.029604   6006.919368  0.187468 NaN  0.046498\n2  df_fr  df_pt  1995.125581  0.034256   6621.053485  0.305866 NaN  0.047217\n3  df_nl  df_pt           --       NaN  16419.974540  0.529312 NaN       NaN\n4  df_ca  df_pt  3925.549013  0.057334   6320.571473  0.198039 NaN  0.046237"
     },
     "execution_count": 7,
     "metadata": {},
     "output_type": "execute_result"
    }
   ],
   "source": [
    "df_Values = pd.DataFrame(Values)\n",
    "df_Values"
   ]
  },
  {
   "cell_type": "markdown",
   "execution_count": null,
   "metadata": {},
   "outputs": [],
   "source": [
    "# Models"
   ]
  },
  {
   "cell_type": "markdown",
   "metadata": {},
   "source": [
    "## KMM"
   ]
  },
  {
   "cell_type": "code",
   "execution_count": 25,
   "metadata": {},
   "outputs": [
    {
     "name": "stdout",
     "output_type": "stream",
     "text": "pcost       dcost       gap    pres   dres\n 0: -2.0699e+14 -2.0699e+14  5e+04  5e-01  2e-16\n 1: -2.0699e+14 -2.0699e+14  3e+04  3e-01  2e-16\n 2: -2.0699e+14 -2.0699e+14  2e+04  2e-01  2e-16\n 3: -2.0699e+14 -2.0699e+14  3e+04  2e-01  1e-16\n 4: -2.0699e+14 -2.0699e+14  4e+04  2e-01  2e-16\n 5: -2.0699e+14 -2.0699e+14  5e+04  2e-01  2e-16\n 6: -2.0699e+14 -2.0699e+14  6e+04  2e-01  2e-16\n 7: -2.0699e+14 -2.0699e+14  7e+04  2e-01  1e-16\n 8: -2.0699e+14 -2.0699e+14  9e+04  2e-01  1e-16\n 9: -2.0699e+14 -2.0699e+14  1e+05  2e-01  2e-16\n10: -2.0699e+14 -2.0699e+14  1e+05  2e-01  2e-16\n11: -2.0699e+14 -2.0699e+14  1e+05  1e-01  1e-16\n12: -2.0699e+14 -2.0699e+14  2e+05  1e-01  1e-16\n13: -2.0699e+14 -2.0699e+14  2e+05  1e-01  2e-16\n14: -2.0699e+14 -2.0699e+14  2e+05  1e-01  1e-16\n15: -2.0699e+14 -2.0699e+14  2e+05  1e-01  2e-16\n16: -2.0699e+14 -2.0699e+14  3e+05  1e-01  1e-16\n17: -2.0699e+14 -2.0699e+14  3e+05  1e-01  1e-16\n18: -2.0699e+14 -2.0699e+14  4e+05  1e-01  1e-16\n19: -2.0699e+14 -2.0699e+14  4e+05  1e-01  1e-16\n20: -2.0699e+14 -2.0699e+14  5e+05  1e-01  1e-16\n21: -2.0699e+14 -2.0699e+14  5e+05  1e-01  1e-16\n22: -2.0699e+14 -2.0699e+14  7e+05  1e-01  1e-16\n23: -2.0699e+14 -2.0699e+14  8e+05  1e-01  1e-16\n24: -2.0699e+14 -2.0699e+14  9e+05  1e-01  1e-16\n25: -2.0699e+14 -2.0699e+14  9e+05  1e-01  1e-16\n26: -2.0699e+14 -2.0699e+14  1e+06  1e-01  1e-16\n27: -2.0699e+14 -2.0699e+14  1e+06  1e-01  1e-16\n28: -2.0699e+14 -2.0699e+14  1e+06  1e-01  1e-16\n29: -2.0699e+14 -2.0699e+14  2e+06  1e-01  1e-16\n30: -2.0699e+14 -2.0699e+14  2e+06  1e-01  1e-16\n31: -2.0699e+14 -2.0699e+14  3e+06  1e-01  1e-16\n32: -2.0699e+14 -2.0699e+14  3e+06  1e-01  1e-16\n33: -2.0699e+14 -2.0699e+14  4e+06  1e-01  1e-16\n34: -2.0699e+14 -2.0699e+14  4e+06  1e-01  1e-16\n35: -2.0699e+14 -2.0699e+14  5e+06  1e-01  1e-16\n36: -2.0699e+14 -2.0699e+14  5e+06  1e-01  1e-16\n37: -2.0699e+14 -2.0699e+14  6e+06  1e-01  1e-16\n38: -2.0699e+14 -2.0699e+14  7e+06  1e-01  1e-16\n39: -2.0699e+14 -2.0699e+14  7e+06  1e-01  1e-16\n40: -2.0699e+14 -2.0699e+14  8e+06  1e-01  1e-16\n41: -2.0699e+14 -2.0699e+14  9e+06  9e-02  1e-16\n42: -2.0699e+14 -2.0699e+14  1e+07  9e-02  1e-16\n43: -2.0699e+14 -2.0699e+14  1e+07  9e-02  1e-16\n44: -2.0699e+14 -2.0699e+14  1e+07  9e-02  1e-16\n45: -2.0699e+14 -2.0699e+14  2e+07  9e-02  1e-16\n46: -2.0699e+14 -2.0699e+14  2e+07  9e-02  1e-16\n47: -2.0699e+14 -2.0699e+14  2e+07  9e-02  1e-16\n48: -2.0699e+14 -2.0699e+14  2e+07  9e-02  1e-16\n49: -2.0699e+14 -2.0699e+14  2e+07  9e-02  1e-16\n50: -2.0699e+14 -2.0699e+14  2e+07  9e-02  1e-16\n51: -2.0699e+14 -2.0699e+14  2e+07  9e-02  1e-16\n52: -2.0699e+14 -2.0699e+14  3e+07  9e-02  1e-16\n53: -2.0699e+14 -2.0699e+14  3e+07  9e-02  1e-16\n54: -2.0699e+14 -2.0699e+14  3e+07  8e-02  1e-16\n55: -2.0699e+14 -2.0699e+14  4e+07  8e-02  1e-16\n56: -2.0699e+14 -2.0699e+14  5e+07  8e-02  1e-16\n57: -2.0699e+14 -2.0699e+14  6e+07  8e-02  1e-16\n58: -2.0699e+14 -2.0699e+14  6e+07  8e-02  1e-16\n59: -2.0699e+14 -2.0699e+14  8e+07  8e-02  1e-16\n60: -2.0699e+14 -2.0699e+14  9e+07  8e-02  1e-16\n61: -2.0699e+14 -2.0699e+14  1e+08  8e-02  1e-16\n62: -2.0699e+14 -2.0699e+14  2e+08  8e-02  1e-16\n63: -2.0699e+14 -2.0699e+14  2e+08  8e-02  1e-16\n64: -2.0699e+14 -2.0699e+14  2e+08  8e-02  1e-16\n65: -2.0699e+14 -2.0699e+14  5e+08  8e-02  1e-16\n66: -2.0699e+14 -2.0698e+14  1e+09  7e-02  1e-16\n67: -2.0699e+14 -2.0696e+14  3e+09  7e-02  1e-16\n68: -2.0699e+14 -2.0691e+14  8e+09  7e-02  1e-16\n69: -2.0699e+14 -2.0691e+14  9e+09  7e-02  1e-16\n70: -2.0699e+14 -2.0690e+14  1e+10  7e-02  1e-16\n71: -2.0699e+14 -2.0688e+14  1e+10  7e-02  1e-16\n72: -2.0699e+14 -2.0687e+14  1e+10  7e-02  1e-16\n73: -2.0699e+14 -2.0687e+14  1e+10  7e-02  1e-16\n74: -2.0699e+14 -2.0685e+14  2e+10  7e-02  1e-16\n75: -2.0699e+14 -2.0685e+14  2e+10  7e-02  1e-16\n76: -2.0699e+14 -2.0684e+14  2e+10  7e-02  1e-16\n77: -2.0698e+14 -2.0682e+14  2e+10  7e-02  1e-16\n78: -2.0698e+14 -2.0681e+14  3e+10  7e-02  1e-16\n79: -2.0698e+14 -2.0678e+14  3e+10  7e-02  1e-16\n80: -2.0698e+14 -2.0677e+14  3e+10  7e-02  1e-16\n81: -2.0697e+14 -2.0675e+14  4e+10  7e-02  1e-16\n82: -2.0696e+14 -2.0669e+14  5e+10  7e-02  1e-16\n83: -2.0696e+14 -2.0666e+14  6e+10  6e-02  1e-16\n84: -2.0695e+14 -2.0664e+14  6e+10  6e-02  1e-16\n85: -2.0694e+14 -2.0660e+14  7e+10  6e-02  1e-16\n86: -2.0694e+14 -2.0659e+14  7e+10  6e-02  1e-16\n87: -2.0694e+14 -2.0659e+14  7e+10  6e-02  1e-16\n88: -2.0692e+14 -2.0652e+14  9e+10  6e-02  1e-16\n89: -2.0691e+14 -2.0647e+14  1e+11  6e-02  1e-16\n90: -2.0689e+14 -2.0642e+14  1e+11  6e-02  1e-16\n91: -2.0686e+14 -2.0635e+14  1e+11  5e-02  9e-17\n92: -2.0685e+14 -2.0634e+14  1e+11  5e-02  1e-16\n93: -2.0684e+14 -2.0632e+14  1e+11  5e-02  1e-16\n94: -2.0681e+14 -2.0625e+14  2e+11  5e-02  1e-16\n95: -2.0677e+14 -2.0619e+14  2e+11  5e-02  1e-16\n96: -2.0673e+14 -2.0612e+14  2e+11  4e-02  1e-16\n97: -2.0671e+14 -2.0609e+14  2e+11  4e-02  1e-16\n98: -2.0668e+14 -2.0604e+14  2e+11  4e-02  1e-16\n99: -2.0665e+14 -2.0601e+14  2e+11  4e-02  1e-16\n100: -2.0662e+14 -2.0595e+14  3e+11  4e-02  1e-16\nTerminated (maximum number of iterations reached).\nMSE Transfer Testdata:  7662.778323025806\nMSE Transfer Testdata:  9081.66654259788\nMSE Transfer Testdata:  11807.139900033699\n"
    },
    {
     "data": {
      "image/png": "[encoded data removed]",
      "image/svg+xml": "<?xml version=\"1.0\" encoding=\"utf-8\" standalone=\"no\"?>\n<!DOCTYPE svg PUBLIC \"-//W3C//DTD SVG 1.1//EN\"\n  \"http://www.w3.org/Graphics/SVG/1.1/DTD/svg11.dtd\">\n<svg xmlns:xlink=\"http://www.w3.org/1999/xlink\" width=\"439.916875pt\" height=\"325.986375pt\" viewBox=\"0 0 439.916875 325.986375\" xmlns=\"http://www.w3.org/2000/svg\" version=\"1.1\">\n <metadata>\n  <rdf:RDF xmlns:dc=\"http://purl.org/dc/elements/1.1/\" xmlns:cc=\"http://creativecommons.org/ns#\" xmlns:rdf=\"http://www.w3.org/1999/02/22-rdf-syntax-ns#\">\n   <cc:Work>\n    <dc:type rdf:resource=\"http://purl.org/dc/dcmitype/StillImage\"/>\n    <dc:date>2023-04-24T16:03:58.249184</dc:date>\n    <dc:format>image/svg+xml</dc:format>\n    <dc:creator>\n     <cc:Agent>\n      <dc:title>Matplotlib v3.7.0, https://matplotlib.org/</dc:title>\n     </cc:Agent>\n    </dc:creator>\n   </cc:Work>\n  </rdf:RDF>\n </metadata>\n <defs>\n  <style type=\"text/css\">*{stroke-linejoin: round; stroke-linecap: butt}</style>\n </defs>\n <g id=\"figure_1\">\n  <g id=\"patch_1\">\n   <path d=\"M 0 325.986375 \nL 439.916875 325.986375 \nL 439.916875 0 \nL 0 0 \nz\n\" style=\"fill: #ffffff\"/>\n  </g>\n  <g id=\"axes_1\">\n   <g id=\"patch_2\">\n    <path d=\"M 66.053125 288.430125 \nL 423.173125 288.430125 \nL 423.173125 22.318125 \nL 66.053125 22.318125 \nz\n\" style=\"fill: #ffffff\"/>\n   </g>\n   <g id=\"matplotlib.axis_1\">\n    <g id=\"xtick_1\">\n     <g id=\"line2d_1\">\n      <defs>\n       <path id=\"mfdb5a910bb\" d=\"M 0 0 \nL 0 3.5 \n\" style=\"stroke: #000000; stroke-width: 0.8\"/>\n      </defs>\n      <g>\n       <use xlink:href=\"#mfdb5a910bb\" x=\"66.053125\" y=\"288.430125\" style=\"stroke: #000000; stroke-width: 0.8\"/>\n      </g>\n     </g>\n     <g id=\"text_1\">\n      <!-- 0 -->\n      <g transform=\"translate(62.871875 303.028562) scale(0.1 -0.1)\">\n       <defs>\n        <path id=\"DejaVuSans-30\" d=\"M 2034 4250 \nQ 1547 4250 1301 3770 \nQ 1056 3291 1056 2328 \nQ 1056 1369 1301 889 \nQ 1547 409 2034 409 \nQ 2525 409 2770 889 \nQ 3016 1369 3016 2328 \nQ 3016 3291 2770 3770 \nQ 2525 4250 2034 4250 \nz\nM 2034 4750 \nQ 2819 4750 3233 4129 \nQ 3647 3509 3647 2328 \nQ 3647 1150 3233 529 \nQ 2819 -91 2034 -91 \nQ 1250 -91 836 529 \nQ 422 1150 422 2328 \nQ 422 3509 836 4129 \nQ 1250 4750 2034 4750 \nz\n\" transform=\"scale(0.015625)\"/>\n       </defs>\n       <use xlink:href=\"#DejaVuSans-30\"/>\n      </g>\n     </g>\n    </g>\n    <g id=\"xtick_2\">\n     <g id=\"line2d_2\">\n      <g>\n       <use xlink:href=\"#mfdb5a910bb\" x=\"137.477125\" y=\"288.430125\" style=\"stroke: #000000; stroke-width: 0.8\"/>\n      </g>\n     </g>\n     <g id=\"text_2\">\n      <!-- 20 -->\n      <g transform=\"translate(131.114625 303.028562) scale(0.1 -0.1)\">\n       <defs>\n        <path id=\"DejaVuSans-32\" d=\"M 1228 531 \nL 3431 531 \nL 3431 0 \nL 469 0 \nL 469 531 \nQ 828 903 1448 1529 \nQ 2069 2156 2228 2338 \nQ 2531 2678 2651 2914 \nQ 2772 3150 2772 3378 \nQ 2772 3750 2511 3984 \nQ 2250 4219 1831 4219 \nQ 1534 4219 1204 4116 \nQ 875 4013 500 3803 \nL 500 4441 \nQ 881 4594 1212 4672 \nQ 1544 4750 1819 4750 \nQ 2544 4750 2975 4387 \nQ 3406 4025 3406 3419 \nQ 3406 3131 3298 2873 \nQ 3191 2616 2906 2266 \nQ 2828 2175 2409 1742 \nQ 1991 1309 1228 531 \nz\n\" transform=\"scale(0.015625)\"/>\n       </defs>\n       <use xlink:href=\"#DejaVuSans-32\"/>\n       <use xlink:href=\"#DejaVuSans-30\" x=\"63.623047\"/>\n      </g>\n     </g>\n    </g>\n    <g id=\"xtick_3\">\n     <g id=\"line2d_3\">\n      <g>\n       <use xlink:href=\"#mfdb5a910bb\" x=\"208.901125\" y=\"288.430125\" style=\"stroke: #000000; stroke-width: 0.8\"/>\n      </g>\n     </g>\n     <g id=\"text_3\">\n      <!-- 40 -->\n      <g transform=\"translate(202.538625 303.028562) scale(0.1 -0.1)\">\n       <defs>\n        <path id=\"DejaVuSans-34\" d=\"M 2419 4116 \nL 825 1625 \nL 2419 1625 \nL 2419 4116 \nz\nM 2253 4666 \nL 3047 4666 \nL 3047 1625 \nL 3713 1625 \nL 3713 1100 \nL 3047 1100 \nL 3047 0 \nL 2419 0 \nL 2419 1100 \nL 313 1100 \nL 313 1709 \nL 2253 4666 \nz\n\" transform=\"scale(0.015625)\"/>\n       </defs>\n       <use xlink:href=\"#DejaVuSans-34\"/>\n       <use xlink:href=\"#DejaVuSans-30\" x=\"63.623047\"/>\n      </g>\n     </g>\n    </g>\n    <g id=\"xtick_4\">\n     <g id=\"line2d_4\">\n      <g>\n       <use xlink:href=\"#mfdb5a910bb\" x=\"280.325125\" y=\"288.430125\" style=\"stroke: #000000; stroke-width: 0.8\"/>\n      </g>\n     </g>\n     <g id=\"text_4\">\n      <!-- 60 -->\n      <g transform=\"translate(273.962625 303.028562) scale(0.1 -0.1)\">\n       <defs>\n        <path id=\"DejaVuSans-36\" d=\"M 2113 2584 \nQ 1688 2584 1439 2293 \nQ 1191 2003 1191 1497 \nQ 1191 994 1439 701 \nQ 1688 409 2113 409 \nQ 2538 409 2786 701 \nQ 3034 994 3034 1497 \nQ 3034 2003 2786 2293 \nQ 2538 2584 2113 2584 \nz\nM 3366 4563 \nL 3366 3988 \nQ 3128 4100 2886 4159 \nQ 2644 4219 2406 4219 \nQ 1781 4219 1451 3797 \nQ 1122 3375 1075 2522 \nQ 1259 2794 1537 2939 \nQ 1816 3084 2150 3084 \nQ 2853 3084 3261 2657 \nQ 3669 2231 3669 1497 \nQ 3669 778 3244 343 \nQ 2819 -91 2113 -91 \nQ 1303 -91 875 529 \nQ 447 1150 447 2328 \nQ 447 3434 972 4092 \nQ 1497 4750 2381 4750 \nQ 2619 4750 2861 4703 \nQ 3103 4656 3366 4563 \nz\n\" transform=\"scale(0.015625)\"/>\n       </defs>\n       <use xlink:href=\"#DejaVuSans-36\"/>\n       <use xlink:href=\"#DejaVuSans-30\" x=\"63.623047\"/>\n      </g>\n     </g>\n    </g>\n    <g id=\"xtick_5\">\n     <g id=\"line2d_5\">\n      <g>\n       <use xlink:href=\"#mfdb5a910bb\" x=\"351.749125\" y=\"288.430125\" style=\"stroke: #000000; stroke-width: 0.8\"/>\n      </g>\n     </g>\n     <g id=\"text_5\">\n      <!-- 80 -->\n      <g transform=\"translate(345.386625 303.028562) scale(0.1 -0.1)\">\n       <defs>\n        <path id=\"DejaVuSans-38\" d=\"M 2034 2216 \nQ 1584 2216 1326 1975 \nQ 1069 1734 1069 1313 \nQ 1069 891 1326 650 \nQ 1584 409 2034 409 \nQ 2484 409 2743 651 \nQ 3003 894 3003 1313 \nQ 3003 1734 2745 1975 \nQ 2488 2216 2034 2216 \nz\nM 1403 2484 \nQ 997 2584 770 2862 \nQ 544 3141 544 3541 \nQ 544 4100 942 4425 \nQ 1341 4750 2034 4750 \nQ 2731 4750 3128 4425 \nQ 3525 4100 3525 3541 \nQ 3525 3141 3298 2862 \nQ 3072 2584 2669 2484 \nQ 3125 2378 3379 2068 \nQ 3634 1759 3634 1313 \nQ 3634 634 3220 271 \nQ 2806 -91 2034 -91 \nQ 1263 -91 848 271 \nQ 434 634 434 1313 \nQ 434 1759 690 2068 \nQ 947 2378 1403 2484 \nz\nM 1172 3481 \nQ 1172 3119 1398 2916 \nQ 1625 2713 2034 2713 \nQ 2441 2713 2670 2916 \nQ 2900 3119 2900 3481 \nQ 2900 3844 2670 4047 \nQ 2441 4250 2034 4250 \nQ 1625 4250 1398 4047 \nQ 1172 3844 1172 3481 \nz\n\" transform=\"scale(0.015625)\"/>\n       </defs>\n       <use xlink:href=\"#DejaVuSans-38\"/>\n       <use xlink:href=\"#DejaVuSans-30\" x=\"63.623047\"/>\n      </g>\n     </g>\n    </g>\n    <g id=\"xtick_6\">\n     <g id=\"line2d_6\">\n      <g>\n       <use xlink:href=\"#mfdb5a910bb\" x=\"423.173125\" y=\"288.430125\" style=\"stroke: #000000; stroke-width: 0.8\"/>\n      </g>\n     </g>\n     <g id=\"text_6\">\n      <!-- 100 -->\n      <g transform=\"translate(413.629375 303.028562) scale(0.1 -0.1)\">\n       <defs>\n        <path id=\"DejaVuSans-31\" d=\"M 794 531 \nL 1825 531 \nL 1825 4091 \nL 703 3866 \nL 703 4441 \nL 1819 4666 \nL 2450 4666 \nL 2450 531 \nL 3481 531 \nL 3481 0 \nL 794 0 \nL 794 531 \nz\n\" transform=\"scale(0.015625)\"/>\n       </defs>\n       <use xlink:href=\"#DejaVuSans-31\"/>\n       <use xlink:href=\"#DejaVuSans-30\" x=\"63.623047\"/>\n       <use xlink:href=\"#DejaVuSans-30\" x=\"127.246094\"/>\n      </g>\n     </g>\n    </g>\n    <g id=\"text_7\">\n     <!-- Sampels -->\n     <g transform=\"translate(223.26 316.706687) scale(0.1 -0.1)\">\n      <defs>\n       <path id=\"DejaVuSans-53\" d=\"M 3425 4513 \nL 3425 3897 \nQ 3066 4069 2747 4153 \nQ 2428 4238 2131 4238 \nQ 1616 4238 1336 4038 \nQ 1056 3838 1056 3469 \nQ 1056 3159 1242 3001 \nQ 1428 2844 1947 2747 \nL 2328 2669 \nQ 3034 2534 3370 2195 \nQ 3706 1856 3706 1288 \nQ 3706 609 3251 259 \nQ 2797 -91 1919 -91 \nQ 1588 -91 1214 -16 \nQ 841 59 441 206 \nL 441 856 \nQ 825 641 1194 531 \nQ 1563 422 1919 422 \nQ 2459 422 2753 634 \nQ 3047 847 3047 1241 \nQ 3047 1584 2836 1778 \nQ 2625 1972 2144 2069 \nL 1759 2144 \nQ 1053 2284 737 2584 \nQ 422 2884 422 3419 \nQ 422 4038 858 4394 \nQ 1294 4750 2059 4750 \nQ 2388 4750 2728 4690 \nQ 3069 4631 3425 4513 \nz\n\" transform=\"scale(0.015625)\"/>\n       <path id=\"DejaVuSans-61\" d=\"M 2194 1759 \nQ 1497 1759 1228 1600 \nQ 959 1441 959 1056 \nQ 959 750 1161 570 \nQ 1363 391 1709 391 \nQ 2188 391 2477 730 \nQ 2766 1069 2766 1631 \nL 2766 1759 \nL 2194 1759 \nz\nM 3341 1997 \nL 3341 0 \nL 2766 0 \nL 2766 531 \nQ 2569 213 2275 61 \nQ 1981 -91 1556 -91 \nQ 1019 -91 701 211 \nQ 384 513 384 1019 \nQ 384 1609 779 1909 \nQ 1175 2209 1959 2209 \nL 2766 2209 \nL 2766 2266 \nQ 2766 2663 2505 2880 \nQ 2244 3097 1772 3097 \nQ 1472 3097 1187 3025 \nQ 903 2953 641 2809 \nL 641 3341 \nQ 956 3463 1253 3523 \nQ 1550 3584 1831 3584 \nQ 2591 3584 2966 3190 \nQ 3341 2797 3341 1997 \nz\n\" transform=\"scale(0.015625)\"/>\n       <path id=\"DejaVuSans-6d\" d=\"M 3328 2828 \nQ 3544 3216 3844 3400 \nQ 4144 3584 4550 3584 \nQ 5097 3584 5394 3201 \nQ 5691 2819 5691 2113 \nL 5691 0 \nL 5113 0 \nL 5113 2094 \nQ 5113 2597 4934 2840 \nQ 4756 3084 4391 3084 \nQ 3944 3084 3684 2787 \nQ 3425 2491 3425 1978 \nL 3425 0 \nL 2847 0 \nL 2847 2094 \nQ 2847 2600 2669 2842 \nQ 2491 3084 2119 3084 \nQ 1678 3084 1418 2786 \nQ 1159 2488 1159 1978 \nL 1159 0 \nL 581 0 \nL 581 3500 \nL 1159 3500 \nL 1159 2956 \nQ 1356 3278 1631 3431 \nQ 1906 3584 2284 3584 \nQ 2666 3584 2933 3390 \nQ 3200 3197 3328 2828 \nz\n\" transform=\"scale(0.015625)\"/>\n       <path id=\"DejaVuSans-70\" d=\"M 1159 525 \nL 1159 -1331 \nL 581 -1331 \nL 581 3500 \nL 1159 3500 \nL 1159 2969 \nQ 1341 3281 1617 3432 \nQ 1894 3584 2278 3584 \nQ 2916 3584 3314 3078 \nQ 3713 2572 3713 1747 \nQ 3713 922 3314 415 \nQ 2916 -91 2278 -91 \nQ 1894 -91 1617 61 \nQ 1341 213 1159 525 \nz\nM 3116 1747 \nQ 3116 2381 2855 2742 \nQ 2594 3103 2138 3103 \nQ 1681 3103 1420 2742 \nQ 1159 2381 1159 1747 \nQ 1159 1113 1420 752 \nQ 1681 391 2138 391 \nQ 2594 391 2855 752 \nQ 3116 1113 3116 1747 \nz\n\" transform=\"scale(0.015625)\"/>\n       <path id=\"DejaVuSans-65\" d=\"M 3597 1894 \nL 3597 1613 \nL 953 1613 \nQ 991 1019 1311 708 \nQ 1631 397 2203 397 \nQ 2534 397 2845 478 \nQ 3156 559 3463 722 \nL 3463 178 \nQ 3153 47 2828 -22 \nQ 2503 -91 2169 -91 \nQ 1331 -91 842 396 \nQ 353 884 353 1716 \nQ 353 2575 817 3079 \nQ 1281 3584 2069 3584 \nQ 2775 3584 3186 3129 \nQ 3597 2675 3597 1894 \nz\nM 3022 2063 \nQ 3016 2534 2758 2815 \nQ 2500 3097 2075 3097 \nQ 1594 3097 1305 2825 \nQ 1016 2553 972 2059 \nL 3022 2063 \nz\n\" transform=\"scale(0.015625)\"/>\n       <path id=\"DejaVuSans-6c\" d=\"M 603 4863 \nL 1178 4863 \nL 1178 0 \nL 603 0 \nL 603 4863 \nz\n\" transform=\"scale(0.015625)\"/>\n       <path id=\"DejaVuSans-73\" d=\"M 2834 3397 \nL 2834 2853 \nQ 2591 2978 2328 3040 \nQ 2066 3103 1784 3103 \nQ 1356 3103 1142 2972 \nQ 928 2841 928 2578 \nQ 928 2378 1081 2264 \nQ 1234 2150 1697 2047 \nL 1894 2003 \nQ 2506 1872 2764 1633 \nQ 3022 1394 3022 966 \nQ 3022 478 2636 193 \nQ 2250 -91 1575 -91 \nQ 1294 -91 989 -36 \nQ 684 19 347 128 \nL 347 722 \nQ 666 556 975 473 \nQ 1284 391 1588 391 \nQ 1994 391 2212 530 \nQ 2431 669 2431 922 \nQ 2431 1156 2273 1281 \nQ 2116 1406 1581 1522 \nL 1381 1569 \nQ 847 1681 609 1914 \nQ 372 2147 372 2553 \nQ 372 3047 722 3315 \nQ 1072 3584 1716 3584 \nQ 2034 3584 2315 3537 \nQ 2597 3491 2834 3397 \nz\n\" transform=\"scale(0.015625)\"/>\n      </defs>\n      <use xlink:href=\"#DejaVuSans-53\"/>\n      <use xlink:href=\"#DejaVuSans-61\" x=\"63.476562\"/>\n      <use xlink:href=\"#DejaVuSans-6d\" x=\"124.755859\"/>\n      <use xlink:href=\"#DejaVuSans-70\" x=\"222.167969\"/>\n      <use xlink:href=\"#DejaVuSans-65\" x=\"285.644531\"/>\n      <use xlink:href=\"#DejaVuSans-6c\" x=\"347.167969\"/>\n      <use xlink:href=\"#DejaVuSans-73\" x=\"374.951172\"/>\n     </g>\n    </g>\n   </g>\n   <g id=\"matplotlib.axis_2\">\n    <g id=\"ytick_1\">\n     <g id=\"line2d_7\">\n      <defs>\n       <path id=\"m1efa302d84\" d=\"M 0 0 \nL -3.5 0 \n\" style=\"stroke: #000000; stroke-width: 0.8\"/>\n      </defs>\n      <g>\n       <use xlink:href=\"#m1efa302d84\" x=\"66.053125\" y=\"255.879959\" style=\"stroke: #000000; stroke-width: 0.8\"/>\n      </g>\n     </g>\n     <g id=\"text_8\">\n      <!-- 40000 -->\n      <g transform=\"translate(27.240625 259.679178) scale(0.1 -0.1)\">\n       <use xlink:href=\"#DejaVuSans-34\"/>\n       <use xlink:href=\"#DejaVuSans-30\" x=\"63.623047\"/>\n       <use xlink:href=\"#DejaVuSans-30\" x=\"127.246094\"/>\n       <use xlink:href=\"#DejaVuSans-30\" x=\"190.869141\"/>\n       <use xlink:href=\"#DejaVuSans-30\" x=\"254.492188\"/>\n      </g>\n     </g>\n    </g>\n    <g id=\"ytick_2\">\n     <g id=\"line2d_8\">\n      <g>\n       <use xlink:href=\"#m1efa302d84\" x=\"66.053125\" y=\"220.463576\" style=\"stroke: #000000; stroke-width: 0.8\"/>\n      </g>\n     </g>\n     <g id=\"text_9\">\n      <!-- 50000 -->\n      <g transform=\"translate(27.240625 224.262795) scale(0.1 -0.1)\">\n       <defs>\n        <path id=\"DejaVuSans-35\" d=\"M 691 4666 \nL 3169 4666 \nL 3169 4134 \nL 1269 4134 \nL 1269 2991 \nQ 1406 3038 1543 3061 \nQ 1681 3084 1819 3084 \nQ 2600 3084 3056 2656 \nQ 3513 2228 3513 1497 \nQ 3513 744 3044 326 \nQ 2575 -91 1722 -91 \nQ 1428 -91 1123 -41 \nQ 819 9 494 109 \nL 494 744 \nQ 775 591 1075 516 \nQ 1375 441 1709 441 \nQ 2250 441 2565 725 \nQ 2881 1009 2881 1497 \nQ 2881 1984 2565 2268 \nQ 2250 2553 1709 2553 \nQ 1456 2553 1204 2497 \nQ 953 2441 691 2322 \nL 691 4666 \nz\n\" transform=\"scale(0.015625)\"/>\n       </defs>\n       <use xlink:href=\"#DejaVuSans-35\"/>\n       <use xlink:href=\"#DejaVuSans-30\" x=\"63.623047\"/>\n       <use xlink:href=\"#DejaVuSans-30\" x=\"127.246094\"/>\n       <use xlink:href=\"#DejaVuSans-30\" x=\"190.869141\"/>\n       <use xlink:href=\"#DejaVuSans-30\" x=\"254.492188\"/>\n      </g>\n     </g>\n    </g>\n    <g id=\"ytick_3\">\n     <g id=\"line2d_9\">\n      <g>\n       <use xlink:href=\"#m1efa302d84\" x=\"66.053125\" y=\"185.047193\" style=\"stroke: #000000; stroke-width: 0.8\"/>\n      </g>\n     </g>\n     <g id=\"text_10\">\n      <!-- 60000 -->\n      <g transform=\"translate(27.240625 188.846412) scale(0.1 -0.1)\">\n       <use xlink:href=\"#DejaVuSans-36\"/>\n       <use xlink:href=\"#DejaVuSans-30\" x=\"63.623047\"/>\n       <use xlink:href=\"#DejaVuSans-30\" x=\"127.246094\"/>\n       <use xlink:href=\"#DejaVuSans-30\" x=\"190.869141\"/>\n       <use xlink:href=\"#DejaVuSans-30\" x=\"254.492188\"/>\n      </g>\n     </g>\n    </g>\n    <g id=\"ytick_4\">\n     <g id=\"line2d_10\">\n      <g>\n       <use xlink:href=\"#m1efa302d84\" x=\"66.053125\" y=\"149.630809\" style=\"stroke: #000000; stroke-width: 0.8\"/>\n      </g>\n     </g>\n     <g id=\"text_11\">\n      <!-- 70000 -->\n      <g transform=\"translate(27.240625 153.430028) scale(0.1 -0.1)\">\n       <defs>\n        <path id=\"DejaVuSans-37\" d=\"M 525 4666 \nL 3525 4666 \nL 3525 4397 \nL 1831 0 \nL 1172 0 \nL 2766 4134 \nL 525 4134 \nL 525 4666 \nz\n\" transform=\"scale(0.015625)\"/>\n       </defs>\n       <use xlink:href=\"#DejaVuSans-37\"/>\n       <use xlink:href=\"#DejaVuSans-30\" x=\"63.623047\"/>\n       <use xlink:href=\"#DejaVuSans-30\" x=\"127.246094\"/>\n       <use xlink:href=\"#DejaVuSans-30\" x=\"190.869141\"/>\n       <use xlink:href=\"#DejaVuSans-30\" x=\"254.492188\"/>\n      </g>\n     </g>\n    </g>\n    <g id=\"ytick_5\">\n     <g id=\"line2d_11\">\n      <g>\n       <use xlink:href=\"#m1efa302d84\" x=\"66.053125\" y=\"114.214426\" style=\"stroke: #000000; stroke-width: 0.8\"/>\n      </g>\n     </g>\n     <g id=\"text_12\">\n      <!-- 80000 -->\n      <g transform=\"translate(27.240625 118.013645) scale(0.1 -0.1)\">\n       <use xlink:href=\"#DejaVuSans-38\"/>\n       <use xlink:href=\"#DejaVuSans-30\" x=\"63.623047\"/>\n       <use xlink:href=\"#DejaVuSans-30\" x=\"127.246094\"/>\n       <use xlink:href=\"#DejaVuSans-30\" x=\"190.869141\"/>\n       <use xlink:href=\"#DejaVuSans-30\" x=\"254.492188\"/>\n      </g>\n     </g>\n    </g>\n    <g id=\"ytick_6\">\n     <g id=\"line2d_12\">\n      <g>\n       <use xlink:href=\"#m1efa302d84\" x=\"66.053125\" y=\"78.798043\" style=\"stroke: #000000; stroke-width: 0.8\"/>\n      </g>\n     </g>\n     <g id=\"text_13\">\n      <!-- 90000 -->\n      <g transform=\"translate(27.240625 82.597262) scale(0.1 -0.1)\">\n       <defs>\n        <path id=\"DejaVuSans-39\" d=\"M 703 97 \nL 703 672 \nQ 941 559 1184 500 \nQ 1428 441 1663 441 \nQ 2288 441 2617 861 \nQ 2947 1281 2994 2138 \nQ 2813 1869 2534 1725 \nQ 2256 1581 1919 1581 \nQ 1219 1581 811 2004 \nQ 403 2428 403 3163 \nQ 403 3881 828 4315 \nQ 1253 4750 1959 4750 \nQ 2769 4750 3195 4129 \nQ 3622 3509 3622 2328 \nQ 3622 1225 3098 567 \nQ 2575 -91 1691 -91 \nQ 1453 -91 1209 -44 \nQ 966 3 703 97 \nz\nM 1959 2075 \nQ 2384 2075 2632 2365 \nQ 2881 2656 2881 3163 \nQ 2881 3666 2632 3958 \nQ 2384 4250 1959 4250 \nQ 1534 4250 1286 3958 \nQ 1038 3666 1038 3163 \nQ 1038 2656 1286 2365 \nQ 1534 2075 1959 2075 \nz\n\" transform=\"scale(0.015625)\"/>\n       </defs>\n       <use xlink:href=\"#DejaVuSans-39\"/>\n       <use xlink:href=\"#DejaVuSans-30\" x=\"63.623047\"/>\n       <use xlink:href=\"#DejaVuSans-30\" x=\"127.246094\"/>\n       <use xlink:href=\"#DejaVuSans-30\" x=\"190.869141\"/>\n       <use xlink:href=\"#DejaVuSans-30\" x=\"254.492188\"/>\n      </g>\n     </g>\n    </g>\n    <g id=\"ytick_7\">\n     <g id=\"line2d_13\">\n      <g>\n       <use xlink:href=\"#m1efa302d84\" x=\"66.053125\" y=\"43.38166\" style=\"stroke: #000000; stroke-width: 0.8\"/>\n      </g>\n     </g>\n     <g id=\"text_14\">\n      <!-- 100000 -->\n      <g transform=\"translate(20.878125 47.180878) scale(0.1 -0.1)\">\n       <use xlink:href=\"#DejaVuSans-31\"/>\n       <use xlink:href=\"#DejaVuSans-30\" x=\"63.623047\"/>\n       <use xlink:href=\"#DejaVuSans-30\" x=\"127.246094\"/>\n       <use xlink:href=\"#DejaVuSans-30\" x=\"190.869141\"/>\n       <use xlink:href=\"#DejaVuSans-30\" x=\"254.492188\"/>\n       <use xlink:href=\"#DejaVuSans-30\" x=\"318.115234\"/>\n      </g>\n     </g>\n    </g>\n    <g id=\"text_15\">\n     <!-- RV -->\n     <g transform=\"translate(14.798438 161.993656) rotate(-90) scale(0.1 -0.1)\">\n      <defs>\n       <path id=\"DejaVuSans-52\" d=\"M 2841 2188 \nQ 3044 2119 3236 1894 \nQ 3428 1669 3622 1275 \nL 4263 0 \nL 3584 0 \nL 2988 1197 \nQ 2756 1666 2539 1819 \nQ 2322 1972 1947 1972 \nL 1259 1972 \nL 1259 0 \nL 628 0 \nL 628 4666 \nL 2053 4666 \nQ 2853 4666 3247 4331 \nQ 3641 3997 3641 3322 \nQ 3641 2881 3436 2590 \nQ 3231 2300 2841 2188 \nz\nM 1259 4147 \nL 1259 2491 \nL 2053 2491 \nQ 2509 2491 2742 2702 \nQ 2975 2913 2975 3322 \nQ 2975 3731 2742 3939 \nQ 2509 4147 2053 4147 \nL 1259 4147 \nz\n\" transform=\"scale(0.015625)\"/>\n       <path id=\"DejaVuSans-56\" d=\"M 1831 0 \nL 50 4666 \nL 709 4666 \nL 2188 738 \nL 3669 4666 \nL 4325 4666 \nL 2547 0 \nL 1831 0 \nz\n\" transform=\"scale(0.015625)\"/>\n      </defs>\n      <use xlink:href=\"#DejaVuSans-52\"/>\n      <use xlink:href=\"#DejaVuSans-56\" x=\"63.982422\"/>\n     </g>\n    </g>\n   </g>\n   <g id=\"line2d_14\">\n    <path d=\"M 66.053125 185.575393 \nL 69.624325 152.480872 \nL 73.195525 250.369241 \nL 76.766725 196.38929 \nL 80.337925 196.089986 \nL 83.909125 257.42808 \nL 87.480325 175.641628 \nL 91.051525 183.093944 \nL 94.622725 190.673404 \nL 98.193925 276.334125 \nL 101.765125 211.69579 \nL 105.336325 204.114134 \nL 108.907525 128.633286 \nL 112.478725 178.278378 \nL 116.049925 171.823672 \nL 119.621125 267.626724 \nL 123.192325 194.713847 \nL 126.763525 34.414125 \nL 130.334725 232.955891 \nL 133.905925 160.022791 \nL 137.477125 231.604472 \nL 141.048325 212.282569 \nL 144.619525 156.291427 \nL 148.190725 204.280662 \nL 151.761925 250.298408 \nL 155.333125 233.871829 \nL 158.904325 199.819933 \nL 162.475525 105.340958 \nL 166.046725 228.474231 \nL 169.617925 143.840125 \nL 173.189125 220.024838 \nL 176.760325 226.961597 \nL 180.331525 209.085921 \nL 183.902725 222.134875 \nL 187.473925 143.410595 \nL 191.045125 228.383104 \nL 194.616325 172.111925 \nL 198.187525 275.843502 \nL 201.758725 257.622871 \nL 205.329925 191.320036 \nL 208.901125 229.396119 \nL 212.472325 167.637809 \nL 216.043525 216.485431 \nL 219.614725 185.798764 \n\" clip-path=\"url(#p4c8e41d715)\" style=\"fill: none; stroke: #1f77b4; stroke-width: 1.5; stroke-linecap: square\"/>\n   </g>\n   <g id=\"line2d_15\">\n    <path d=\"M 66.053125 202.740231 \nL 69.624325 184.070021 \nL 73.195525 204.961279 \nL 76.766725 203.853128 \nL 80.337925 194.857574 \nL 83.909125 204.541919 \nL 87.480325 203.876044 \nL 91.051525 199.463272 \nL 94.622725 201.993076 \nL 98.193925 208.141208 \nL 101.765125 196.464471 \nL 105.336325 191.529181 \nL 108.907525 199.704831 \nL 112.478725 196.126731 \nL 116.049925 196.25828 \nL 119.621125 205.270713 \nL 123.192325 203.896054 \nL 126.763525 185.213471 \nL 130.334725 205.086343 \nL 133.905925 193.103278 \nL 137.477125 202.104069 \nL 141.048325 202.807151 \nL 144.619525 203.83233 \nL 148.190725 202.835969 \nL 151.761925 204.749263 \nL 155.333125 195.429122 \nL 158.904325 202.089001 \nL 162.475525 180.743294 \nL 166.046725 193.453161 \nL 169.617925 196.055684 \nL 173.189125 201.994657 \nL 176.760325 204.691767 \nL 180.331525 195.838084 \nL 183.902725 206.595091 \nL 187.473925 190.774475 \nL 191.045125 206.000058 \nL 194.616325 199.026055 \nL 198.187525 205.854342 \nL 201.758725 205.03035 \nL 205.329925 183.36867 \nL 208.901125 209.281058 \nL 212.472325 190.508179 \nL 216.043525 203.869379 \nL 219.614725 188.385314 \n\" clip-path=\"url(#p4c8e41d715)\" style=\"fill: none; stroke: #ff7f0e; stroke-width: 1.5; stroke-linecap: square\"/>\n   </g>\n   <g id=\"patch_3\">\n    <path d=\"M 66.053125 288.430125 \nL 66.053125 22.318125 \n\" style=\"fill: none; stroke: #000000; stroke-width: 0.8; stroke-linejoin: miter; stroke-linecap: square\"/>\n   </g>\n   <g id=\"patch_4\">\n    <path d=\"M 423.173125 288.430125 \nL 423.173125 22.318125 \n\" style=\"fill: none; stroke: #000000; stroke-width: 0.8; stroke-linejoin: miter; stroke-linecap: square\"/>\n   </g>\n   <g id=\"patch_5\">\n    <path d=\"M 66.053125 288.430125 \nL 423.173125 288.430125 \n\" style=\"fill: none; stroke: #000000; stroke-width: 0.8; stroke-linejoin: miter; stroke-linecap: square\"/>\n   </g>\n   <g id=\"patch_6\">\n    <path d=\"M 66.053125 22.318125 \nL 423.173125 22.318125 \n\" style=\"fill: none; stroke: #000000; stroke-width: 0.8; stroke-linejoin: miter; stroke-linecap: square\"/>\n   </g>\n   <g id=\"text_16\">\n    <!-- KMM with RMSE: df_be11807.139900033699 -->\n    <g transform=\"translate(109.681563 16.318125) scale(0.12 -0.12)\">\n     <defs>\n      <path id=\"DejaVuSans-4b\" d=\"M 628 4666 \nL 1259 4666 \nL 1259 2694 \nL 3353 4666 \nL 4166 4666 \nL 1850 2491 \nL 4331 0 \nL 3500 0 \nL 1259 2247 \nL 1259 0 \nL 628 0 \nL 628 4666 \nz\n\" transform=\"scale(0.015625)\"/>\n      <path id=\"DejaVuSans-4d\" d=\"M 628 4666 \nL 1569 4666 \nL 2759 1491 \nL 3956 4666 \nL 4897 4666 \nL 4897 0 \nL 4281 0 \nL 4281 4097 \nL 3078 897 \nL 2444 897 \nL 1241 4097 \nL 1241 0 \nL 628 0 \nL 628 4666 \nz\n\" transform=\"scale(0.015625)\"/>\n      <path id=\"DejaVuSans-20\" transform=\"scale(0.015625)\"/>\n      <path id=\"DejaVuSans-77\" d=\"M 269 3500 \nL 844 3500 \nL 1563 769 \nL 2278 3500 \nL 2956 3500 \nL 3675 769 \nL 4391 3500 \nL 4966 3500 \nL 4050 0 \nL 3372 0 \nL 2619 2869 \nL 1863 0 \nL 1184 0 \nL 269 3500 \nz\n\" transform=\"scale(0.015625)\"/>\n      <path id=\"DejaVuSans-69\" d=\"M 603 3500 \nL 1178 3500 \nL 1178 0 \nL 603 0 \nL 603 3500 \nz\nM 603 4863 \nL 1178 4863 \nL 1178 4134 \nL 603 4134 \nL 603 4863 \nz\n\" transform=\"scale(0.015625)\"/>\n      <path id=\"DejaVuSans-74\" d=\"M 1172 4494 \nL 1172 3500 \nL 2356 3500 \nL 2356 3053 \nL 1172 3053 \nL 1172 1153 \nQ 1172 725 1289 603 \nQ 1406 481 1766 481 \nL 2356 481 \nL 2356 0 \nL 1766 0 \nQ 1100 0 847 248 \nQ 594 497 594 1153 \nL 594 3053 \nL 172 3053 \nL 172 3500 \nL 594 3500 \nL 594 4494 \nL 1172 4494 \nz\n\" transform=\"scale(0.015625)\"/>\n      <path id=\"DejaVuSans-68\" d=\"M 3513 2113 \nL 3513 0 \nL 2938 0 \nL 2938 2094 \nQ 2938 2591 2744 2837 \nQ 2550 3084 2163 3084 \nQ 1697 3084 1428 2787 \nQ 1159 2491 1159 1978 \nL 1159 0 \nL 581 0 \nL 581 4863 \nL 1159 4863 \nL 1159 2956 \nQ 1366 3272 1645 3428 \nQ 1925 3584 2291 3584 \nQ 2894 3584 3203 3211 \nQ 3513 2838 3513 2113 \nz\n\" transform=\"scale(0.015625)\"/>\n      <path id=\"DejaVuSans-45\" d=\"M 628 4666 \nL 3578 4666 \nL 3578 4134 \nL 1259 4134 \nL 1259 2753 \nL 3481 2753 \nL 3481 2222 \nL 1259 2222 \nL 1259 531 \nL 3634 531 \nL 3634 0 \nL 628 0 \nL 628 4666 \nz\n\" transform=\"scale(0.015625)\"/>\n      <path id=\"DejaVuSans-3a\" d=\"M 750 794 \nL 1409 794 \nL 1409 0 \nL 750 0 \nL 750 794 \nz\nM 750 3309 \nL 1409 3309 \nL 1409 2516 \nL 750 2516 \nL 750 3309 \nz\n\" transform=\"scale(0.015625)\"/>\n      <path id=\"DejaVuSans-64\" d=\"M 2906 2969 \nL 2906 4863 \nL 3481 4863 \nL 3481 0 \nL 2906 0 \nL 2906 525 \nQ 2725 213 2448 61 \nQ 2172 -91 1784 -91 \nQ 1150 -91 751 415 \nQ 353 922 353 1747 \nQ 353 2572 751 3078 \nQ 1150 3584 1784 3584 \nQ 2172 3584 2448 3432 \nQ 2725 3281 2906 2969 \nz\nM 947 1747 \nQ 947 1113 1208 752 \nQ 1469 391 1925 391 \nQ 2381 391 2643 752 \nQ 2906 1113 2906 1747 \nQ 2906 2381 2643 2742 \nQ 2381 3103 1925 3103 \nQ 1469 3103 1208 2742 \nQ 947 2381 947 1747 \nz\n\" transform=\"scale(0.015625)\"/>\n      <path id=\"DejaVuSans-66\" d=\"M 2375 4863 \nL 2375 4384 \nL 1825 4384 \nQ 1516 4384 1395 4259 \nQ 1275 4134 1275 3809 \nL 1275 3500 \nL 2222 3500 \nL 2222 3053 \nL 1275 3053 \nL 1275 0 \nL 697 0 \nL 697 3053 \nL 147 3053 \nL 147 3500 \nL 697 3500 \nL 697 3744 \nQ 697 4328 969 4595 \nQ 1241 4863 1831 4863 \nL 2375 4863 \nz\n\" transform=\"scale(0.015625)\"/>\n      <path id=\"DejaVuSans-5f\" d=\"M 3263 -1063 \nL 3263 -1509 \nL -63 -1509 \nL -63 -1063 \nL 3263 -1063 \nz\n\" transform=\"scale(0.015625)\"/>\n      <path id=\"DejaVuSans-62\" d=\"M 3116 1747 \nQ 3116 2381 2855 2742 \nQ 2594 3103 2138 3103 \nQ 1681 3103 1420 2742 \nQ 1159 2381 1159 1747 \nQ 1159 1113 1420 752 \nQ 1681 391 2138 391 \nQ 2594 391 2855 752 \nQ 3116 1113 3116 1747 \nz\nM 1159 2969 \nQ 1341 3281 1617 3432 \nQ 1894 3584 2278 3584 \nQ 2916 3584 3314 3078 \nQ 3713 2572 3713 1747 \nQ 3713 922 3314 415 \nQ 2916 -91 2278 -91 \nQ 1894 -91 1617 61 \nQ 1341 213 1159 525 \nL 1159 0 \nL 581 0 \nL 581 4863 \nL 1159 4863 \nL 1159 2969 \nz\n\" transform=\"scale(0.015625)\"/>\n      <path id=\"DejaVuSans-2e\" d=\"M 684 794 \nL 1344 794 \nL 1344 0 \nL 684 0 \nL 684 794 \nz\n\" transform=\"scale(0.015625)\"/>\n      <path id=\"DejaVuSans-33\" d=\"M 2597 2516 \nQ 3050 2419 3304 2112 \nQ 3559 1806 3559 1356 \nQ 3559 666 3084 287 \nQ 2609 -91 1734 -91 \nQ 1441 -91 1130 -33 \nQ 819 25 488 141 \nL 488 750 \nQ 750 597 1062 519 \nQ 1375 441 1716 441 \nQ 2309 441 2620 675 \nQ 2931 909 2931 1356 \nQ 2931 1769 2642 2001 \nQ 2353 2234 1838 2234 \nL 1294 2234 \nL 1294 2753 \nL 1863 2753 \nQ 2328 2753 2575 2939 \nQ 2822 3125 2822 3475 \nQ 2822 3834 2567 4026 \nQ 2313 4219 1838 4219 \nQ 1578 4219 1281 4162 \nQ 984 4106 628 3988 \nL 628 4550 \nQ 988 4650 1302 4700 \nQ 1616 4750 1894 4750 \nQ 2613 4750 3031 4423 \nQ 3450 4097 3450 3541 \nQ 3450 3153 3228 2886 \nQ 3006 2619 2597 2516 \nz\n\" transform=\"scale(0.015625)\"/>\n     </defs>\n     <use xlink:href=\"#DejaVuSans-4b\"/>\n     <use xlink:href=\"#DejaVuSans-4d\" x=\"65.576172\"/>\n     <use xlink:href=\"#DejaVuSans-4d\" x=\"151.855469\"/>\n     <use xlink:href=\"#DejaVuSans-20\" x=\"238.134766\"/>\n     <use xlink:href=\"#DejaVuSans-77\" x=\"269.921875\"/>\n     <use xlink:href=\"#DejaVuSans-69\" x=\"351.708984\"/>\n     <use xlink:href=\"#DejaVuSans-74\" x=\"379.492188\"/>\n     <use xlink:href=\"#DejaVuSans-68\" x=\"418.701172\"/>\n     <use xlink:href=\"#DejaVuSans-20\" x=\"482.080078\"/>\n     <use xlink:href=\"#DejaVuSans-52\" x=\"513.867188\"/>\n     <use xlink:href=\"#DejaVuSans-4d\" x=\"583.349609\"/>\n     <use xlink:href=\"#DejaVuSans-53\" x=\"669.628906\"/>\n     <use xlink:href=\"#DejaVuSans-45\" x=\"733.105469\"/>\n     <use xlink:href=\"#DejaVuSans-3a\" x=\"796.289062\"/>\n     <use xlink:href=\"#DejaVuSans-20\" x=\"829.980469\"/>\n     <use xlink:href=\"#DejaVuSans-64\" x=\"861.767578\"/>\n     <use xlink:href=\"#DejaVuSans-66\" x=\"925.244141\"/>\n     <use xlink:href=\"#DejaVuSans-5f\" x=\"960.449219\"/>\n     <use xlink:href=\"#DejaVuSans-62\" x=\"1010.449219\"/>\n     <use xlink:href=\"#DejaVuSans-65\" x=\"1073.925781\"/>\n     <use xlink:href=\"#DejaVuSans-31\" x=\"1135.449219\"/>\n     <use xlink:href=\"#DejaVuSans-31\" x=\"1199.072266\"/>\n     <use xlink:href=\"#DejaVuSans-38\" x=\"1262.695312\"/>\n     <use xlink:href=\"#DejaVuSans-30\" x=\"1326.318359\"/>\n     <use xlink:href=\"#DejaVuSans-37\" x=\"1389.941406\"/>\n     <use xlink:href=\"#DejaVuSans-2e\" x=\"1453.564453\"/>\n     <use xlink:href=\"#DejaVuSans-31\" x=\"1485.351562\"/>\n     <use xlink:href=\"#DejaVuSans-33\" x=\"1548.974609\"/>\n     <use xlink:href=\"#DejaVuSans-39\" x=\"1612.597656\"/>\n     <use xlink:href=\"#DejaVuSans-39\" x=\"1676.220703\"/>\n     <use xlink:href=\"#DejaVuSans-30\" x=\"1739.84375\"/>\n     <use xlink:href=\"#DejaVuSans-30\" x=\"1803.466797\"/>\n     <use xlink:href=\"#DejaVuSans-30\" x=\"1867.089844\"/>\n     <use xlink:href=\"#DejaVuSans-33\" x=\"1930.712891\"/>\n     <use xlink:href=\"#DejaVuSans-33\" x=\"1994.335938\"/>\n     <use xlink:href=\"#DejaVuSans-36\" x=\"2057.958984\"/>\n     <use xlink:href=\"#DejaVuSans-39\" x=\"2121.582031\"/>\n     <use xlink:href=\"#DejaVuSans-39\" x=\"2185.205078\"/>\n    </g>\n   </g>\n  </g>\n </g>\n <defs>\n  <clipPath id=\"p4c8e41d715\">\n   <rect x=\"66.053125\" y=\"22.318125\" width=\"357.12\" height=\"266.112\"/>\n  </clipPath>\n </defs>\n</svg>\n",
      "text/plain": "<Figure size 640x480 with 1 Axes>"
     },
     "metadata": {},
     "output_type": "display_data"
    },
    {
     "name": "stdout",
     "output_type": "stream",
     "text": "pcost       dcost       gap    pres   dres\n 0: -9.9190e+14 -9.9190e+14  1e+05  3e-01  1e-16\n 1: -9.9190e+14 -9.9190e+14  6e+04  1e-01  1e-16\n 2: -9.9190e+14 -9.9190e+14  5e+04  8e-02  1e-16\n 3: -9.9190e+14 -9.9190e+14  5e+04  7e-02  9e-17\n 4: -9.9190e+14 -9.9190e+14  6e+04  7e-02  1e-16\n 5: -9.9190e+14 -9.9190e+14  8e+04  6e-02  1e-16\n 6: -9.9190e+14 -9.9190e+14  1e+05  6e-02  9e-17\n 7: -9.9190e+14 -9.9190e+14  1e+05  6e-02  9e-17\n 8: -9.9190e+14 -9.9190e+14  2e+05  6e-02  9e-17\n 9: -9.9190e+14 -9.9190e+14  2e+05  6e-02  1e-16\n"
    },
    {
     "ename": "KeyboardInterrupt",
     "evalue": "",
     "output_type": "error",
     "traceback": [
      "\u001b[1;31m---------------------------------------------------------------------------\u001b[0m",
      "\u001b[1;31mKeyboardInterrupt\u001b[0m                         Traceback (most recent call last)",
      "Cell \u001b[1;32mIn[25], line 44\u001b[0m\n\u001b[0;32m     41\u001b[0m X_train, X_test, y_train, y_test\u001b[38;5;241m=\u001b[39m train_test_split(Xt, Yt, random_state\u001b[38;5;241m=\u001b[39m\u001b[38;5;241m0\u001b[39m)\n\u001b[0;32m     43\u001b[0m kmm_1 \u001b[38;5;241m=\u001b[39m KMM()\n\u001b[1;32m---> 44\u001b[0m beta \u001b[38;5;241m=\u001b[39m \u001b[43mkmm_1\u001b[49m\u001b[38;5;241;43m.\u001b[39;49m\u001b[43mfit\u001b[49m\u001b[43m(\u001b[49m\u001b[43mXs\u001b[49m\u001b[43m,\u001b[49m\u001b[43m \u001b[49m\u001b[43mX_train\u001b[49m\u001b[43m)\u001b[49m\n\u001b[0;32m     46\u001b[0m Xs \u001b[38;5;241m=\u001b[39m Xs\u001b[38;5;241m.\u001b[39mappend(X_train)\n\u001b[0;32m     47\u001b[0m Ys \u001b[38;5;241m=\u001b[39m Ys\u001b[38;5;241m.\u001b[39mappend(y_train)\n",
      "File \u001b[1;32mc:\\Users\\lemaye\\Desktop\\GitHub\\BA_transfer_learning\\TL_Regression_Methods\\KMM.py:69\u001b[0m, in \u001b[0;36mKMM.fit\u001b[1;34m(self, Xs, Xt)\u001b[0m\n\u001b[0;32m     66\u001b[0m G \u001b[38;5;241m=\u001b[39m matrix(np\u001b[38;5;241m.\u001b[39mr_[np\u001b[38;5;241m.\u001b[39mones((\u001b[38;5;241m1\u001b[39m, ns)), \u001b[38;5;241m-\u001b[39mnp\u001b[38;5;241m.\u001b[39mones((\u001b[38;5;241m1\u001b[39m, ns)), np\u001b[38;5;241m.\u001b[39meye(ns), \u001b[38;5;241m-\u001b[39mnp\u001b[38;5;241m.\u001b[39meye(ns)])\n\u001b[0;32m     67\u001b[0m h \u001b[38;5;241m=\u001b[39m matrix(np\u001b[38;5;241m.\u001b[39mr_[ns \u001b[38;5;241m*\u001b[39m (\u001b[38;5;241m1\u001b[39m \u001b[38;5;241m+\u001b[39m \u001b[38;5;28mself\u001b[39m\u001b[38;5;241m.\u001b[39meps), ns \u001b[38;5;241m*\u001b[39m (\u001b[38;5;28mself\u001b[39m\u001b[38;5;241m.\u001b[39meps \u001b[38;5;241m-\u001b[39m \u001b[38;5;241m1\u001b[39m), \u001b[38;5;28mself\u001b[39m\u001b[38;5;241m.\u001b[39mB \u001b[38;5;241m*\u001b[39m np\u001b[38;5;241m.\u001b[39mones((ns,)), np\u001b[38;5;241m.\u001b[39mzeros((ns,))])\n\u001b[1;32m---> 69\u001b[0m sol \u001b[38;5;241m=\u001b[39m \u001b[43msolvers\u001b[49m\u001b[38;5;241;43m.\u001b[39;49m\u001b[43mqp\u001b[49m\u001b[43m(\u001b[49m\u001b[43mK\u001b[49m\u001b[43m,\u001b[49m\u001b[43m \u001b[49m\u001b[38;5;241;43m-\u001b[39;49m\u001b[43mkappa\u001b[49m\u001b[43m,\u001b[49m\u001b[43m \u001b[49m\u001b[43mG\u001b[49m\u001b[43m,\u001b[49m\u001b[43m \u001b[49m\u001b[43mh\u001b[49m\u001b[43m,\u001b[49m\u001b[43m \u001b[49m\u001b[43mkktsolver\u001b[49m\u001b[38;5;241;43m=\u001b[39;49m\u001b[38;5;124;43m'\u001b[39;49m\u001b[38;5;124;43mldl\u001b[39;49m\u001b[38;5;124;43m'\u001b[39;49m\u001b[43m,\u001b[49m\u001b[43m \u001b[49m\u001b[43moptions\u001b[49m\u001b[38;5;241;43m=\u001b[39;49m\u001b[43m{\u001b[49m\u001b[38;5;124;43m'\u001b[39;49m\u001b[38;5;124;43mkktreg\u001b[39;49m\u001b[38;5;124;43m'\u001b[39;49m\u001b[43m:\u001b[49m\u001b[38;5;241;43m1e-9\u001b[39;49m\u001b[43m}\u001b[49m\u001b[43m)\u001b[49m\n\u001b[0;32m     70\u001b[0m beta \u001b[38;5;241m=\u001b[39m np\u001b[38;5;241m.\u001b[39marray(sol[\u001b[38;5;124m'\u001b[39m\u001b[38;5;124mx\u001b[39m\u001b[38;5;124m'\u001b[39m])\n\u001b[0;32m     71\u001b[0m \u001b[38;5;28;01mreturn\u001b[39;00m beta\n",
      "File \u001b[1;32m~\\Miniconda3\\envs\\transfer-learning\\lib\\site-packages\\cvxopt\\coneprog.py:4485\u001b[0m, in \u001b[0;36mqp\u001b[1;34m(P, q, G, h, A, b, solver, kktsolver, initvals, **kwargs)\u001b[0m\n\u001b[0;32m   4475\u001b[0m         pinfres, dinfres \u001b[38;5;241m=\u001b[39m \u001b[38;5;28;01mNone\u001b[39;00m, \u001b[38;5;28;01mNone\u001b[39;00m\n\u001b[0;32m   4477\u001b[0m     \u001b[38;5;28;01mreturn\u001b[39;00m {\u001b[38;5;124m'\u001b[39m\u001b[38;5;124mstatus\u001b[39m\u001b[38;5;124m'\u001b[39m: status, \u001b[38;5;124m'\u001b[39m\u001b[38;5;124mx\u001b[39m\u001b[38;5;124m'\u001b[39m: x, \u001b[38;5;124m'\u001b[39m\u001b[38;5;124ms\u001b[39m\u001b[38;5;124m'\u001b[39m: s, \u001b[38;5;124m'\u001b[39m\u001b[38;5;124my\u001b[39m\u001b[38;5;124m'\u001b[39m: y, \u001b[38;5;124m'\u001b[39m\u001b[38;5;124mz\u001b[39m\u001b[38;5;124m'\u001b[39m: z,\n\u001b[0;32m   4478\u001b[0m         \u001b[38;5;124m'\u001b[39m\u001b[38;5;124mprimal objective\u001b[39m\u001b[38;5;124m'\u001b[39m: pcost, \u001b[38;5;124m'\u001b[39m\u001b[38;5;124mdual objective\u001b[39m\u001b[38;5;124m'\u001b[39m: dcost,\n\u001b[0;32m   4479\u001b[0m         \u001b[38;5;124m'\u001b[39m\u001b[38;5;124mgap\u001b[39m\u001b[38;5;124m'\u001b[39m: gap, \u001b[38;5;124m'\u001b[39m\u001b[38;5;124mrelative gap\u001b[39m\u001b[38;5;124m'\u001b[39m: relgap,\n\u001b[1;32m   (...)\u001b[0m\n\u001b[0;32m   4482\u001b[0m         \u001b[38;5;124m'\u001b[39m\u001b[38;5;124mresidual as primal infeasibility certificate\u001b[39m\u001b[38;5;124m'\u001b[39m: pinfres,\n\u001b[0;32m   4483\u001b[0m         \u001b[38;5;124m'\u001b[39m\u001b[38;5;124mresidual as dual infeasibility certificate\u001b[39m\u001b[38;5;124m'\u001b[39m: dinfres}\n\u001b[1;32m-> 4485\u001b[0m \u001b[38;5;28;01mreturn\u001b[39;00m \u001b[43mconeqp\u001b[49m\u001b[43m(\u001b[49m\u001b[43mP\u001b[49m\u001b[43m,\u001b[49m\u001b[43m \u001b[49m\u001b[43mq\u001b[49m\u001b[43m,\u001b[49m\u001b[43m \u001b[49m\u001b[43mG\u001b[49m\u001b[43m,\u001b[49m\u001b[43m \u001b[49m\u001b[43mh\u001b[49m\u001b[43m,\u001b[49m\u001b[43m \u001b[49m\u001b[38;5;28;43;01mNone\u001b[39;49;00m\u001b[43m,\u001b[49m\u001b[43m \u001b[49m\u001b[43mA\u001b[49m\u001b[43m,\u001b[49m\u001b[43m  \u001b[49m\u001b[43mb\u001b[49m\u001b[43m,\u001b[49m\u001b[43m \u001b[49m\u001b[43minitvals\u001b[49m\u001b[43m,\u001b[49m\u001b[43m \u001b[49m\u001b[43mkktsolver\u001b[49m\u001b[43m \u001b[49m\u001b[38;5;241;43m=\u001b[39;49m\u001b[43m \u001b[49m\u001b[43mkktsolver\u001b[49m\u001b[43m,\u001b[49m\u001b[43m \u001b[49m\u001b[43moptions\u001b[49m\u001b[43m \u001b[49m\u001b[38;5;241;43m=\u001b[39;49m\u001b[43m \u001b[49m\u001b[43moptions\u001b[49m\u001b[43m)\u001b[49m\n",
      "File \u001b[1;32m~\\Miniconda3\\envs\\transfer-learning\\lib\\site-packages\\cvxopt\\coneprog.py:2256\u001b[0m, in \u001b[0;36mconeqp\u001b[1;34m(P, q, G, h, dims, A, b, initvals, kktsolver, xnewcopy, xdot, xaxpy, xscal, ynewcopy, ydot, yaxpy, yscal, **kwargs)\u001b[0m\n\u001b[0;32m   2244\u001b[0m misc\u001b[38;5;241m.\u001b[39mssqr(lmbdasq, lmbda, dims)\n\u001b[0;32m   2247\u001b[0m \u001b[38;5;66;03m# f3(x, y, z) solves\u001b[39;00m\n\u001b[0;32m   2248\u001b[0m \u001b[38;5;66;03m#\u001b[39;00m\n\u001b[0;32m   2249\u001b[0m \u001b[38;5;66;03m#    [ P   A'  G'    ] [ ux        ]   [ bx ]\u001b[39;00m\n\u001b[1;32m   (...)\u001b[0m\n\u001b[0;32m   2253\u001b[0m \u001b[38;5;66;03m# On entry, x, y, z containg bx, by, bz.\u001b[39;00m\n\u001b[0;32m   2254\u001b[0m \u001b[38;5;66;03m# On exit, they contain ux, uy, uz.\u001b[39;00m\n\u001b[1;32m-> 2256\u001b[0m \u001b[38;5;28;01mtry\u001b[39;00m: f3 \u001b[38;5;241m=\u001b[39m \u001b[43mkktsolver\u001b[49m\u001b[43m(\u001b[49m\u001b[43mW\u001b[49m\u001b[43m)\u001b[49m\n\u001b[0;32m   2257\u001b[0m \u001b[38;5;28;01mexcept\u001b[39;00m \u001b[38;5;167;01mArithmeticError\u001b[39;00m:\n\u001b[0;32m   2258\u001b[0m     \u001b[38;5;28;01mif\u001b[39;00m iters \u001b[38;5;241m==\u001b[39m \u001b[38;5;241m0\u001b[39m:\n",
      "File \u001b[1;32m~\\Miniconda3\\envs\\transfer-learning\\lib\\site-packages\\cvxopt\\coneprog.py:1981\u001b[0m, in \u001b[0;36mconeqp.<locals>.kktsolver\u001b[1;34m(W)\u001b[0m\n\u001b[0;32m   1980\u001b[0m \u001b[38;5;28;01mdef\u001b[39;00m \u001b[38;5;21mkktsolver\u001b[39m(W):\n\u001b[1;32m-> 1981\u001b[0m     \u001b[38;5;28;01mreturn\u001b[39;00m \u001b[43mfactor\u001b[49m\u001b[43m(\u001b[49m\u001b[43mW\u001b[49m\u001b[43m,\u001b[49m\u001b[43m \u001b[49m\u001b[43mP\u001b[49m\u001b[43m)\u001b[49m\n",
      "File \u001b[1;32m~\\Miniconda3\\envs\\transfer-learning\\lib\\site-packages\\cvxopt\\misc.py:1099\u001b[0m, in \u001b[0;36mkkt_ldl.<locals>.factor\u001b[1;34m(W, H, Df)\u001b[0m\n\u001b[0;32m   1097\u001b[0m     K[\u001b[38;5;241m0\u001b[39m : (ldK\u001b[38;5;241m+\u001b[39m\u001b[38;5;241m1\u001b[39m)\u001b[38;5;241m*\u001b[39mn : ldK\u001b[38;5;241m+\u001b[39m\u001b[38;5;241m1\u001b[39m]  \u001b[38;5;241m+\u001b[39m\u001b[38;5;241m=\u001b[39m kktreg  \u001b[38;5;66;03m# Reg. term, 1x1 block (positive)\u001b[39;00m\n\u001b[0;32m   1098\u001b[0m     K[(ldK\u001b[38;5;241m+\u001b[39m\u001b[38;5;241m1\u001b[39m)\u001b[38;5;241m*\u001b[39mn :: ldK\u001b[38;5;241m+\u001b[39m\u001b[38;5;241m1\u001b[39m]  \u001b[38;5;241m-\u001b[39m\u001b[38;5;241m=\u001b[39m kktreg     \u001b[38;5;66;03m# Reg. term, 2x2 block (negative)\u001b[39;00m\n\u001b[1;32m-> 1099\u001b[0m \u001b[43mlapack\u001b[49m\u001b[38;5;241;43m.\u001b[39;49m\u001b[43msytrf\u001b[49m\u001b[43m(\u001b[49m\u001b[43mK\u001b[49m\u001b[43m,\u001b[49m\u001b[43m \u001b[49m\u001b[43mipiv\u001b[49m\u001b[43m)\u001b[49m\n\u001b[0;32m   1101\u001b[0m \u001b[38;5;28;01mdef\u001b[39;00m \u001b[38;5;21msolve\u001b[39m(x, y, z):\n\u001b[0;32m   1102\u001b[0m \n\u001b[0;32m   1103\u001b[0m     \u001b[38;5;66;03m# Solve\u001b[39;00m\n\u001b[1;32m   (...)\u001b[0m\n\u001b[0;32m   1111\u001b[0m     \u001b[38;5;66;03m# On entry, x, y, z contain bx, by, bz.  On exit, they contain\u001b[39;00m\n\u001b[0;32m   1112\u001b[0m     \u001b[38;5;66;03m# the solution ux, uy, W*uz.\u001b[39;00m\n\u001b[0;32m   1114\u001b[0m     blas\u001b[38;5;241m.\u001b[39mcopy(x, u)\n",
      "\u001b[1;31mKeyboardInterrupt\u001b[0m: "
     ]
    }
   ],
   "source": [
    "import plotly.express as px\n",
    "from sklearn.decomposition import PCA\n",
    "import sklearn\n",
    "from sklearn.svm import SVR\n",
    "from sklearn.metrics import mean_squared_error\n",
    "from sklearn.tree import DecisionTreeRegressor\n",
    "from TL_Regression_Methods.KMM import KMM\n",
    "from sklearn.model_selection import train_test_split\n",
    "from sklearn import linear_model\n",
    "from sklearn.svm import SVR\n",
    "from sklearn.pipeline import make_pipeline\n",
    "from sklearn.preprocessing import StandardScaler\n",
    "import numpy as np\n",
    "import sys\n",
    "modname = globals()['__name__']\n",
    "modobj  = sys.modules[modname]\n",
    "\n",
    "sub_src_df_1 = ['df_be', 'df_es', 'df_fr', 'df_nl', 'df_ca']\n",
    "sub_tar_df_2 = ['df_pt', 'df_pt', 'df_pt', 'df_pt', 'df_pt']\n",
    "\n",
    "for i in range (0,6):\n",
    "\n",
    "    df_src = getattr(modobj, sub_src_df_1[i])\n",
    "\n",
    "    df_tar = getattr(modobj, sub_tar_df_2[i])\n",
    "\n",
    "    # source split\n",
    "    Xs = df_src.iloc[:,:-1]\n",
    "    Ys = df_src.iloc[:,-1]\n",
    "\n",
    "    # target split\n",
    "    Xt = df_tar.iloc[:,:-1]\n",
    "    Yt = df_tar.iloc[:,-1]\n",
    "\n",
    "    # add Train Target\n",
    "\n",
    "    X_train, X_test, y_train, y_test= train_test_split(Xt, Yt, random_state=0)\n",
    "\n",
    "    kmm_1 = KMM()\n",
    "    beta = kmm_1.fit(Xs, X_train)\n",
    "\n",
    "    Xs = Xs.append(X_train)\n",
    "    Ys = Ys.append(y_train)\n",
    "\n",
    "    beta_append = [np.max(beta)]*len(X_train)\n",
    "\n",
    "    beta = np.append(beta,beta_append)\n",
    "\n",
    "    model =  DecisionTreeRegressor(max_depth=5)\n",
    "    model.fit(Xs, Ys, sample_weight=beta.clip(min=0).flatten() )\n",
    "    y_pre_kmm = model.predict(X_test)\n",
    "    rmse_kmm = np.sqrt( mean_squared_error(y_test, y_pre_kmm) )\n",
    "\n",
    "    print(\"MSE Transfer Testdata: \", rmse_kmm)\n",
    "\n",
    "    model =  linear_model.Lasso(alpha=15)\n",
    "    model.fit(Xs, Ys, sample_weight=beta.clip(min=0).flatten() )\n",
    "    y_pre_kmm = model.predict(X_test)\n",
    "    rmse_kmm = np.sqrt( mean_squared_error(y_test, y_pre_kmm) )\n",
    "\n",
    "    print(\"MSE Transfer Testdata: \", rmse_kmm)\n",
    "\n",
    "    regr = make_pipeline(StandardScaler(), SVR(C=200.0, epsilon=1))\n",
    "    regr.fit(Xs, Ys)\n",
    "    y_pre_kmm = regr.predict(X_test)\n",
    "    rmse_kmm = np.sqrt( mean_squared_error(y_test, y_pre_kmm) )\n",
    "\n",
    "    print(\"MSE Transfer Testdata: \", rmse_kmm)\n",
    "\n",
    "\n",
    "    plt.plot(y_test.reset_index(drop=True))\n",
    "    plt.plot(y_pre_kmm)\n",
    "    plt.xlim(0, 100)\n",
    "    plt.title('KMM with RMSE: '+ sub_src_df_1[i] + str(rmse_kmm))\n",
    "    plt.xlabel('Sampels')\n",
    "    plt.ylabel('RV')\n",
    "    plt.show()\n",
    "\n"
   ]
  },
  {
   "cell_type": "markdown",
   "metadata": {},
   "source": [
    "# Get Baselines"
   ]
  },
  {
   "cell_type": "code",
   "execution_count": 76,
   "metadata": {},
   "outputs": [
    {
     "data": {
      "image/png": "[encoded data removed]",
      "image/svg+xml": "<?xml version=\"1.0\" encoding=\"utf-8\" standalone=\"no\"?>\n<!DOCTYPE svg PUBLIC \"-//W3C//DTD SVG 1.1//EN\"\n  \"http://www.w3.org/Graphics/SVG/1.1/DTD/svg11.dtd\">\n<svg xmlns:xlink=\"http://www.w3.org/1999/xlink\" width=\"433.554375pt\" height=\"325.986375pt\" viewBox=\"0 0 433.554375 325.986375\" xmlns=\"http://www.w3.org/2000/svg\" version=\"1.1\">\n <metadata>\n  <rdf:RDF xmlns:dc=\"http://purl.org/dc/elements/1.1/\" xmlns:cc=\"http://creativecommons.org/ns#\" xmlns:rdf=\"http://www.w3.org/1999/02/22-rdf-syntax-ns#\">\n   <cc:Work>\n    <dc:type rdf:resource=\"http://purl.org/dc/dcmitype/StillImage\"/>\n    <dc:date>2023-04-21T19:44:17.265086</dc:date>\n    <dc:format>image/svg+xml</dc:format>\n    <dc:creator>\n     <cc:Agent>\n      <dc:title>Matplotlib v3.7.0, https://matplotlib.org/</dc:title>\n     </cc:Agent>\n    </dc:creator>\n   </cc:Work>\n  </rdf:RDF>\n </metadata>\n <defs>\n  <style type=\"text/css\">*{stroke-linejoin: round; stroke-linecap: butt}</style>\n </defs>\n <g id=\"figure_1\">\n  <g id=\"patch_1\">\n   <path d=\"M 0 325.986375 \nL 433.554375 325.986375 \nL 433.554375 0 \nL 0 0 \nz\n\" style=\"fill: #ffffff\"/>\n  </g>\n  <g id=\"axes_1\">\n   <g id=\"patch_2\">\n    <path d=\"M 59.690625 288.430125 \nL 416.810625 288.430125 \nL 416.810625 22.318125 \nL 59.690625 22.318125 \nz\n\" style=\"fill: #ffffff\"/>\n   </g>\n   <g id=\"matplotlib.axis_1\">\n    <g id=\"xtick_1\">\n     <g id=\"line2d_1\">\n      <defs>\n       <path id=\"m27578d8185\" d=\"M 0 0 \nL 0 3.5 \n\" style=\"stroke: #000000; stroke-width: 0.8\"/>\n      </defs>\n      <g>\n       <use xlink:href=\"#m27578d8185\" x=\"59.690625\" y=\"288.430125\" style=\"stroke: #000000; stroke-width: 0.8\"/>\n      </g>\n     </g>\n     <g id=\"text_1\">\n      <!-- 0 -->\n      <g transform=\"translate(56.509375 303.028562) scale(0.1 -0.1)\">\n       <defs>\n        <path id=\"DejaVuSans-30\" d=\"M 2034 4250 \nQ 1547 4250 1301 3770 \nQ 1056 3291 1056 2328 \nQ 1056 1369 1301 889 \nQ 1547 409 2034 409 \nQ 2525 409 2770 889 \nQ 3016 1369 3016 2328 \nQ 3016 3291 2770 3770 \nQ 2525 4250 2034 4250 \nz\nM 2034 4750 \nQ 2819 4750 3233 4129 \nQ 3647 3509 3647 2328 \nQ 3647 1150 3233 529 \nQ 2819 -91 2034 -91 \nQ 1250 -91 836 529 \nQ 422 1150 422 2328 \nQ 422 3509 836 4129 \nQ 1250 4750 2034 4750 \nz\n\" transform=\"scale(0.015625)\"/>\n       </defs>\n       <use xlink:href=\"#DejaVuSans-30\"/>\n      </g>\n     </g>\n    </g>\n    <g id=\"xtick_2\">\n     <g id=\"line2d_2\">\n      <g>\n       <use xlink:href=\"#m27578d8185\" x=\"131.114625\" y=\"288.430125\" style=\"stroke: #000000; stroke-width: 0.8\"/>\n      </g>\n     </g>\n     <g id=\"text_2\">\n      <!-- 20 -->\n      <g transform=\"translate(124.752125 303.028562) scale(0.1 -0.1)\">\n       <defs>\n        <path id=\"DejaVuSans-32\" d=\"M 1228 531 \nL 3431 531 \nL 3431 0 \nL 469 0 \nL 469 531 \nQ 828 903 1448 1529 \nQ 2069 2156 2228 2338 \nQ 2531 2678 2651 2914 \nQ 2772 3150 2772 3378 \nQ 2772 3750 2511 3984 \nQ 2250 4219 1831 4219 \nQ 1534 4219 1204 4116 \nQ 875 4013 500 3803 \nL 500 4441 \nQ 881 4594 1212 4672 \nQ 1544 4750 1819 4750 \nQ 2544 4750 2975 4387 \nQ 3406 4025 3406 3419 \nQ 3406 3131 3298 2873 \nQ 3191 2616 2906 2266 \nQ 2828 2175 2409 1742 \nQ 1991 1309 1228 531 \nz\n\" transform=\"scale(0.015625)\"/>\n       </defs>\n       <use xlink:href=\"#DejaVuSans-32\"/>\n       <use xlink:href=\"#DejaVuSans-30\" x=\"63.623047\"/>\n      </g>\n     </g>\n    </g>\n    <g id=\"xtick_3\">\n     <g id=\"line2d_3\">\n      <g>\n       <use xlink:href=\"#m27578d8185\" x=\"202.538625\" y=\"288.430125\" style=\"stroke: #000000; stroke-width: 0.8\"/>\n      </g>\n     </g>\n     <g id=\"text_3\">\n      <!-- 40 -->\n      <g transform=\"translate(196.176125 303.028562) scale(0.1 -0.1)\">\n       <defs>\n        <path id=\"DejaVuSans-34\" d=\"M 2419 4116 \nL 825 1625 \nL 2419 1625 \nL 2419 4116 \nz\nM 2253 4666 \nL 3047 4666 \nL 3047 1625 \nL 3713 1625 \nL 3713 1100 \nL 3047 1100 \nL 3047 0 \nL 2419 0 \nL 2419 1100 \nL 313 1100 \nL 313 1709 \nL 2253 4666 \nz\n\" transform=\"scale(0.015625)\"/>\n       </defs>\n       <use xlink:href=\"#DejaVuSans-34\"/>\n       <use xlink:href=\"#DejaVuSans-30\" x=\"63.623047\"/>\n      </g>\n     </g>\n    </g>\n    <g id=\"xtick_4\">\n     <g id=\"line2d_4\">\n      <g>\n       <use xlink:href=\"#m27578d8185\" x=\"273.962625\" y=\"288.430125\" style=\"stroke: #000000; stroke-width: 0.8\"/>\n      </g>\n     </g>\n     <g id=\"text_4\">\n      <!-- 60 -->\n      <g transform=\"translate(267.600125 303.028562) scale(0.1 -0.1)\">\n       <defs>\n        <path id=\"DejaVuSans-36\" d=\"M 2113 2584 \nQ 1688 2584 1439 2293 \nQ 1191 2003 1191 1497 \nQ 1191 994 1439 701 \nQ 1688 409 2113 409 \nQ 2538 409 2786 701 \nQ 3034 994 3034 1497 \nQ 3034 2003 2786 2293 \nQ 2538 2584 2113 2584 \nz\nM 3366 4563 \nL 3366 3988 \nQ 3128 4100 2886 4159 \nQ 2644 4219 2406 4219 \nQ 1781 4219 1451 3797 \nQ 1122 3375 1075 2522 \nQ 1259 2794 1537 2939 \nQ 1816 3084 2150 3084 \nQ 2853 3084 3261 2657 \nQ 3669 2231 3669 1497 \nQ 3669 778 3244 343 \nQ 2819 -91 2113 -91 \nQ 1303 -91 875 529 \nQ 447 1150 447 2328 \nQ 447 3434 972 4092 \nQ 1497 4750 2381 4750 \nQ 2619 4750 2861 4703 \nQ 3103 4656 3366 4563 \nz\n\" transform=\"scale(0.015625)\"/>\n       </defs>\n       <use xlink:href=\"#DejaVuSans-36\"/>\n       <use xlink:href=\"#DejaVuSans-30\" x=\"63.623047\"/>\n      </g>\n     </g>\n    </g>\n    <g id=\"xtick_5\">\n     <g id=\"line2d_5\">\n      <g>\n       <use xlink:href=\"#m27578d8185\" x=\"345.386625\" y=\"288.430125\" style=\"stroke: #000000; stroke-width: 0.8\"/>\n      </g>\n     </g>\n     <g id=\"text_5\">\n      <!-- 80 -->\n      <g transform=\"translate(339.024125 303.028562) scale(0.1 -0.1)\">\n       <defs>\n        <path id=\"DejaVuSans-38\" d=\"M 2034 2216 \nQ 1584 2216 1326 1975 \nQ 1069 1734 1069 1313 \nQ 1069 891 1326 650 \nQ 1584 409 2034 409 \nQ 2484 409 2743 651 \nQ 3003 894 3003 1313 \nQ 3003 1734 2745 1975 \nQ 2488 2216 2034 2216 \nz\nM 1403 2484 \nQ 997 2584 770 2862 \nQ 544 3141 544 3541 \nQ 544 4100 942 4425 \nQ 1341 4750 2034 4750 \nQ 2731 4750 3128 4425 \nQ 3525 4100 3525 3541 \nQ 3525 3141 3298 2862 \nQ 3072 2584 2669 2484 \nQ 3125 2378 3379 2068 \nQ 3634 1759 3634 1313 \nQ 3634 634 3220 271 \nQ 2806 -91 2034 -91 \nQ 1263 -91 848 271 \nQ 434 634 434 1313 \nQ 434 1759 690 2068 \nQ 947 2378 1403 2484 \nz\nM 1172 3481 \nQ 1172 3119 1398 2916 \nQ 1625 2713 2034 2713 \nQ 2441 2713 2670 2916 \nQ 2900 3119 2900 3481 \nQ 2900 3844 2670 4047 \nQ 2441 4250 2034 4250 \nQ 1625 4250 1398 4047 \nQ 1172 3844 1172 3481 \nz\n\" transform=\"scale(0.015625)\"/>\n       </defs>\n       <use xlink:href=\"#DejaVuSans-38\"/>\n       <use xlink:href=\"#DejaVuSans-30\" x=\"63.623047\"/>\n      </g>\n     </g>\n    </g>\n    <g id=\"xtick_6\">\n     <g id=\"line2d_6\">\n      <g>\n       <use xlink:href=\"#m27578d8185\" x=\"416.810625\" y=\"288.430125\" style=\"stroke: #000000; stroke-width: 0.8\"/>\n      </g>\n     </g>\n     <g id=\"text_6\">\n      <!-- 100 -->\n      <g transform=\"translate(407.266875 303.028562) scale(0.1 -0.1)\">\n       <defs>\n        <path id=\"DejaVuSans-31\" d=\"M 794 531 \nL 1825 531 \nL 1825 4091 \nL 703 3866 \nL 703 4441 \nL 1819 4666 \nL 2450 4666 \nL 2450 531 \nL 3481 531 \nL 3481 0 \nL 794 0 \nL 794 531 \nz\n\" transform=\"scale(0.015625)\"/>\n       </defs>\n       <use xlink:href=\"#DejaVuSans-31\"/>\n       <use xlink:href=\"#DejaVuSans-30\" x=\"63.623047\"/>\n       <use xlink:href=\"#DejaVuSans-30\" x=\"127.246094\"/>\n      </g>\n     </g>\n    </g>\n    <g id=\"text_7\">\n     <!-- Sampels -->\n     <g transform=\"translate(216.8975 316.706687) scale(0.1 -0.1)\">\n      <defs>\n       <path id=\"DejaVuSans-53\" d=\"M 3425 4513 \nL 3425 3897 \nQ 3066 4069 2747 4153 \nQ 2428 4238 2131 4238 \nQ 1616 4238 1336 4038 \nQ 1056 3838 1056 3469 \nQ 1056 3159 1242 3001 \nQ 1428 2844 1947 2747 \nL 2328 2669 \nQ 3034 2534 3370 2195 \nQ 3706 1856 3706 1288 \nQ 3706 609 3251 259 \nQ 2797 -91 1919 -91 \nQ 1588 -91 1214 -16 \nQ 841 59 441 206 \nL 441 856 \nQ 825 641 1194 531 \nQ 1563 422 1919 422 \nQ 2459 422 2753 634 \nQ 3047 847 3047 1241 \nQ 3047 1584 2836 1778 \nQ 2625 1972 2144 2069 \nL 1759 2144 \nQ 1053 2284 737 2584 \nQ 422 2884 422 3419 \nQ 422 4038 858 4394 \nQ 1294 4750 2059 4750 \nQ 2388 4750 2728 4690 \nQ 3069 4631 3425 4513 \nz\n\" transform=\"scale(0.015625)\"/>\n       <path id=\"DejaVuSans-61\" d=\"M 2194 1759 \nQ 1497 1759 1228 1600 \nQ 959 1441 959 1056 \nQ 959 750 1161 570 \nQ 1363 391 1709 391 \nQ 2188 391 2477 730 \nQ 2766 1069 2766 1631 \nL 2766 1759 \nL 2194 1759 \nz\nM 3341 1997 \nL 3341 0 \nL 2766 0 \nL 2766 531 \nQ 2569 213 2275 61 \nQ 1981 -91 1556 -91 \nQ 1019 -91 701 211 \nQ 384 513 384 1019 \nQ 384 1609 779 1909 \nQ 1175 2209 1959 2209 \nL 2766 2209 \nL 2766 2266 \nQ 2766 2663 2505 2880 \nQ 2244 3097 1772 3097 \nQ 1472 3097 1187 3025 \nQ 903 2953 641 2809 \nL 641 3341 \nQ 956 3463 1253 3523 \nQ 1550 3584 1831 3584 \nQ 2591 3584 2966 3190 \nQ 3341 2797 3341 1997 \nz\n\" transform=\"scale(0.015625)\"/>\n       <path id=\"DejaVuSans-6d\" d=\"M 3328 2828 \nQ 3544 3216 3844 3400 \nQ 4144 3584 4550 3584 \nQ 5097 3584 5394 3201 \nQ 5691 2819 5691 2113 \nL 5691 0 \nL 5113 0 \nL 5113 2094 \nQ 5113 2597 4934 2840 \nQ 4756 3084 4391 3084 \nQ 3944 3084 3684 2787 \nQ 3425 2491 3425 1978 \nL 3425 0 \nL 2847 0 \nL 2847 2094 \nQ 2847 2600 2669 2842 \nQ 2491 3084 2119 3084 \nQ 1678 3084 1418 2786 \nQ 1159 2488 1159 1978 \nL 1159 0 \nL 581 0 \nL 581 3500 \nL 1159 3500 \nL 1159 2956 \nQ 1356 3278 1631 3431 \nQ 1906 3584 2284 3584 \nQ 2666 3584 2933 3390 \nQ 3200 3197 3328 2828 \nz\n\" transform=\"scale(0.015625)\"/>\n       <path id=\"DejaVuSans-70\" d=\"M 1159 525 \nL 1159 -1331 \nL 581 -1331 \nL 581 3500 \nL 1159 3500 \nL 1159 2969 \nQ 1341 3281 1617 3432 \nQ 1894 3584 2278 3584 \nQ 2916 3584 3314 3078 \nQ 3713 2572 3713 1747 \nQ 3713 922 3314 415 \nQ 2916 -91 2278 -91 \nQ 1894 -91 1617 61 \nQ 1341 213 1159 525 \nz\nM 3116 1747 \nQ 3116 2381 2855 2742 \nQ 2594 3103 2138 3103 \nQ 1681 3103 1420 2742 \nQ 1159 2381 1159 1747 \nQ 1159 1113 1420 752 \nQ 1681 391 2138 391 \nQ 2594 391 2855 752 \nQ 3116 1113 3116 1747 \nz\n\" transform=\"scale(0.015625)\"/>\n       <path id=\"DejaVuSans-65\" d=\"M 3597 1894 \nL 3597 1613 \nL 953 1613 \nQ 991 1019 1311 708 \nQ 1631 397 2203 397 \nQ 2534 397 2845 478 \nQ 3156 559 3463 722 \nL 3463 178 \nQ 3153 47 2828 -22 \nQ 2503 -91 2169 -91 \nQ 1331 -91 842 396 \nQ 353 884 353 1716 \nQ 353 2575 817 3079 \nQ 1281 3584 2069 3584 \nQ 2775 3584 3186 3129 \nQ 3597 2675 3597 1894 \nz\nM 3022 2063 \nQ 3016 2534 2758 2815 \nQ 2500 3097 2075 3097 \nQ 1594 3097 1305 2825 \nQ 1016 2553 972 2059 \nL 3022 2063 \nz\n\" transform=\"scale(0.015625)\"/>\n       <path id=\"DejaVuSans-6c\" d=\"M 603 4863 \nL 1178 4863 \nL 1178 0 \nL 603 0 \nL 603 4863 \nz\n\" transform=\"scale(0.015625)\"/>\n       <path id=\"DejaVuSans-73\" d=\"M 2834 3397 \nL 2834 2853 \nQ 2591 2978 2328 3040 \nQ 2066 3103 1784 3103 \nQ 1356 3103 1142 2972 \nQ 928 2841 928 2578 \nQ 928 2378 1081 2264 \nQ 1234 2150 1697 2047 \nL 1894 2003 \nQ 2506 1872 2764 1633 \nQ 3022 1394 3022 966 \nQ 3022 478 2636 193 \nQ 2250 -91 1575 -91 \nQ 1294 -91 989 -36 \nQ 684 19 347 128 \nL 347 722 \nQ 666 556 975 473 \nQ 1284 391 1588 391 \nQ 1994 391 2212 530 \nQ 2431 669 2431 922 \nQ 2431 1156 2273 1281 \nQ 2116 1406 1581 1522 \nL 1381 1569 \nQ 847 1681 609 1914 \nQ 372 2147 372 2553 \nQ 372 3047 722 3315 \nQ 1072 3584 1716 3584 \nQ 2034 3584 2315 3537 \nQ 2597 3491 2834 3397 \nz\n\" transform=\"scale(0.015625)\"/>\n      </defs>\n      <use xlink:href=\"#DejaVuSans-53\"/>\n      <use xlink:href=\"#DejaVuSans-61\" x=\"63.476562\"/>\n      <use xlink:href=\"#DejaVuSans-6d\" x=\"124.755859\"/>\n      <use xlink:href=\"#DejaVuSans-70\" x=\"222.167969\"/>\n      <use xlink:href=\"#DejaVuSans-65\" x=\"285.644531\"/>\n      <use xlink:href=\"#DejaVuSans-6c\" x=\"347.167969\"/>\n      <use xlink:href=\"#DejaVuSans-73\" x=\"374.951172\"/>\n     </g>\n    </g>\n   </g>\n   <g id=\"matplotlib.axis_2\">\n    <g id=\"ytick_1\">\n     <g id=\"line2d_7\">\n      <defs>\n       <path id=\"m8a88febf1d\" d=\"M 0 0 \nL -3.5 0 \n\" style=\"stroke: #000000; stroke-width: 0.8\"/>\n      </defs>\n      <g>\n       <use xlink:href=\"#m8a88febf1d\" x=\"59.690625\" y=\"284.49536\" style=\"stroke: #000000; stroke-width: 0.8\"/>\n      </g>\n     </g>\n     <g id=\"text_8\">\n      <!-- 15000 -->\n      <g transform=\"translate(20.878125 288.294578) scale(0.1 -0.1)\">\n       <defs>\n        <path id=\"DejaVuSans-35\" d=\"M 691 4666 \nL 3169 4666 \nL 3169 4134 \nL 1269 4134 \nL 1269 2991 \nQ 1406 3038 1543 3061 \nQ 1681 3084 1819 3084 \nQ 2600 3084 3056 2656 \nQ 3513 2228 3513 1497 \nQ 3513 744 3044 326 \nQ 2575 -91 1722 -91 \nQ 1428 -91 1123 -41 \nQ 819 9 494 109 \nL 494 744 \nQ 775 591 1075 516 \nQ 1375 441 1709 441 \nQ 2250 441 2565 725 \nQ 2881 1009 2881 1497 \nQ 2881 1984 2565 2268 \nQ 2250 2553 1709 2553 \nQ 1456 2553 1204 2497 \nQ 953 2441 691 2322 \nL 691 4666 \nz\n\" transform=\"scale(0.015625)\"/>\n       </defs>\n       <use xlink:href=\"#DejaVuSans-31\"/>\n       <use xlink:href=\"#DejaVuSans-35\" x=\"63.623047\"/>\n       <use xlink:href=\"#DejaVuSans-30\" x=\"127.246094\"/>\n       <use xlink:href=\"#DejaVuSans-30\" x=\"190.869141\"/>\n       <use xlink:href=\"#DejaVuSans-30\" x=\"254.492188\"/>\n      </g>\n     </g>\n    </g>\n    <g id=\"ytick_2\">\n     <g id=\"line2d_8\">\n      <g>\n       <use xlink:href=\"#m8a88febf1d\" x=\"59.690625\" y=\"253.937636\" style=\"stroke: #000000; stroke-width: 0.8\"/>\n      </g>\n     </g>\n     <g id=\"text_9\">\n      <!-- 17500 -->\n      <g transform=\"translate(20.878125 257.736854) scale(0.1 -0.1)\">\n       <defs>\n        <path id=\"DejaVuSans-37\" d=\"M 525 4666 \nL 3525 4666 \nL 3525 4397 \nL 1831 0 \nL 1172 0 \nL 2766 4134 \nL 525 4134 \nL 525 4666 \nz\n\" transform=\"scale(0.015625)\"/>\n       </defs>\n       <use xlink:href=\"#DejaVuSans-31\"/>\n       <use xlink:href=\"#DejaVuSans-37\" x=\"63.623047\"/>\n       <use xlink:href=\"#DejaVuSans-35\" x=\"127.246094\"/>\n       <use xlink:href=\"#DejaVuSans-30\" x=\"190.869141\"/>\n       <use xlink:href=\"#DejaVuSans-30\" x=\"254.492188\"/>\n      </g>\n     </g>\n    </g>\n    <g id=\"ytick_3\">\n     <g id=\"line2d_9\">\n      <g>\n       <use xlink:href=\"#m8a88febf1d\" x=\"59.690625\" y=\"223.379912\" style=\"stroke: #000000; stroke-width: 0.8\"/>\n      </g>\n     </g>\n     <g id=\"text_10\">\n      <!-- 20000 -->\n      <g transform=\"translate(20.878125 227.179131) scale(0.1 -0.1)\">\n       <use xlink:href=\"#DejaVuSans-32\"/>\n       <use xlink:href=\"#DejaVuSans-30\" x=\"63.623047\"/>\n       <use xlink:href=\"#DejaVuSans-30\" x=\"127.246094\"/>\n       <use xlink:href=\"#DejaVuSans-30\" x=\"190.869141\"/>\n       <use xlink:href=\"#DejaVuSans-30\" x=\"254.492188\"/>\n      </g>\n     </g>\n    </g>\n    <g id=\"ytick_4\">\n     <g id=\"line2d_10\">\n      <g>\n       <use xlink:href=\"#m8a88febf1d\" x=\"59.690625\" y=\"192.822188\" style=\"stroke: #000000; stroke-width: 0.8\"/>\n      </g>\n     </g>\n     <g id=\"text_11\">\n      <!-- 22500 -->\n      <g transform=\"translate(20.878125 196.621407) scale(0.1 -0.1)\">\n       <use xlink:href=\"#DejaVuSans-32\"/>\n       <use xlink:href=\"#DejaVuSans-32\" x=\"63.623047\"/>\n       <use xlink:href=\"#DejaVuSans-35\" x=\"127.246094\"/>\n       <use xlink:href=\"#DejaVuSans-30\" x=\"190.869141\"/>\n       <use xlink:href=\"#DejaVuSans-30\" x=\"254.492188\"/>\n      </g>\n     </g>\n    </g>\n    <g id=\"ytick_5\">\n     <g id=\"line2d_11\">\n      <g>\n       <use xlink:href=\"#m8a88febf1d\" x=\"59.690625\" y=\"162.264464\" style=\"stroke: #000000; stroke-width: 0.8\"/>\n      </g>\n     </g>\n     <g id=\"text_12\">\n      <!-- 25000 -->\n      <g transform=\"translate(20.878125 166.063683) scale(0.1 -0.1)\">\n       <use xlink:href=\"#DejaVuSans-32\"/>\n       <use xlink:href=\"#DejaVuSans-35\" x=\"63.623047\"/>\n       <use xlink:href=\"#DejaVuSans-30\" x=\"127.246094\"/>\n       <use xlink:href=\"#DejaVuSans-30\" x=\"190.869141\"/>\n       <use xlink:href=\"#DejaVuSans-30\" x=\"254.492188\"/>\n      </g>\n     </g>\n    </g>\n    <g id=\"ytick_6\">\n     <g id=\"line2d_12\">\n      <g>\n       <use xlink:href=\"#m8a88febf1d\" x=\"59.690625\" y=\"131.70674\" style=\"stroke: #000000; stroke-width: 0.8\"/>\n      </g>\n     </g>\n     <g id=\"text_13\">\n      <!-- 27500 -->\n      <g transform=\"translate(20.878125 135.505959) scale(0.1 -0.1)\">\n       <use xlink:href=\"#DejaVuSans-32\"/>\n       <use xlink:href=\"#DejaVuSans-37\" x=\"63.623047\"/>\n       <use xlink:href=\"#DejaVuSans-35\" x=\"127.246094\"/>\n       <use xlink:href=\"#DejaVuSans-30\" x=\"190.869141\"/>\n       <use xlink:href=\"#DejaVuSans-30\" x=\"254.492188\"/>\n      </g>\n     </g>\n    </g>\n    <g id=\"ytick_7\">\n     <g id=\"line2d_13\">\n      <g>\n       <use xlink:href=\"#m8a88febf1d\" x=\"59.690625\" y=\"101.149016\" style=\"stroke: #000000; stroke-width: 0.8\"/>\n      </g>\n     </g>\n     <g id=\"text_14\">\n      <!-- 30000 -->\n      <g transform=\"translate(20.878125 104.948235) scale(0.1 -0.1)\">\n       <defs>\n        <path id=\"DejaVuSans-33\" d=\"M 2597 2516 \nQ 3050 2419 3304 2112 \nQ 3559 1806 3559 1356 \nQ 3559 666 3084 287 \nQ 2609 -91 1734 -91 \nQ 1441 -91 1130 -33 \nQ 819 25 488 141 \nL 488 750 \nQ 750 597 1062 519 \nQ 1375 441 1716 441 \nQ 2309 441 2620 675 \nQ 2931 909 2931 1356 \nQ 2931 1769 2642 2001 \nQ 2353 2234 1838 2234 \nL 1294 2234 \nL 1294 2753 \nL 1863 2753 \nQ 2328 2753 2575 2939 \nQ 2822 3125 2822 3475 \nQ 2822 3834 2567 4026 \nQ 2313 4219 1838 4219 \nQ 1578 4219 1281 4162 \nQ 984 4106 628 3988 \nL 628 4550 \nQ 988 4650 1302 4700 \nQ 1616 4750 1894 4750 \nQ 2613 4750 3031 4423 \nQ 3450 4097 3450 3541 \nQ 3450 3153 3228 2886 \nQ 3006 2619 2597 2516 \nz\n\" transform=\"scale(0.015625)\"/>\n       </defs>\n       <use xlink:href=\"#DejaVuSans-33\"/>\n       <use xlink:href=\"#DejaVuSans-30\" x=\"63.623047\"/>\n       <use xlink:href=\"#DejaVuSans-30\" x=\"127.246094\"/>\n       <use xlink:href=\"#DejaVuSans-30\" x=\"190.869141\"/>\n       <use xlink:href=\"#DejaVuSans-30\" x=\"254.492188\"/>\n      </g>\n     </g>\n    </g>\n    <g id=\"ytick_8\">\n     <g id=\"line2d_14\">\n      <g>\n       <use xlink:href=\"#m8a88febf1d\" x=\"59.690625\" y=\"70.591292\" style=\"stroke: #000000; stroke-width: 0.8\"/>\n      </g>\n     </g>\n     <g id=\"text_15\">\n      <!-- 32500 -->\n      <g transform=\"translate(20.878125 74.390511) scale(0.1 -0.1)\">\n       <use xlink:href=\"#DejaVuSans-33\"/>\n       <use xlink:href=\"#DejaVuSans-32\" x=\"63.623047\"/>\n       <use xlink:href=\"#DejaVuSans-35\" x=\"127.246094\"/>\n       <use xlink:href=\"#DejaVuSans-30\" x=\"190.869141\"/>\n       <use xlink:href=\"#DejaVuSans-30\" x=\"254.492188\"/>\n      </g>\n     </g>\n    </g>\n    <g id=\"ytick_9\">\n     <g id=\"line2d_15\">\n      <g>\n       <use xlink:href=\"#m8a88febf1d\" x=\"59.690625\" y=\"40.033568\" style=\"stroke: #000000; stroke-width: 0.8\"/>\n      </g>\n     </g>\n     <g id=\"text_16\">\n      <!-- 35000 -->\n      <g transform=\"translate(20.878125 43.832787) scale(0.1 -0.1)\">\n       <use xlink:href=\"#DejaVuSans-33\"/>\n       <use xlink:href=\"#DejaVuSans-35\" x=\"63.623047\"/>\n       <use xlink:href=\"#DejaVuSans-30\" x=\"127.246094\"/>\n       <use xlink:href=\"#DejaVuSans-30\" x=\"190.869141\"/>\n       <use xlink:href=\"#DejaVuSans-30\" x=\"254.492188\"/>\n      </g>\n     </g>\n    </g>\n    <g id=\"text_17\">\n     <!-- RV -->\n     <g transform=\"translate(14.798438 161.993656) rotate(-90) scale(0.1 -0.1)\">\n      <defs>\n       <path id=\"DejaVuSans-52\" d=\"M 2841 2188 \nQ 3044 2119 3236 1894 \nQ 3428 1669 3622 1275 \nL 4263 0 \nL 3584 0 \nL 2988 1197 \nQ 2756 1666 2539 1819 \nQ 2322 1972 1947 1972 \nL 1259 1972 \nL 1259 0 \nL 628 0 \nL 628 4666 \nL 2053 4666 \nQ 2853 4666 3247 4331 \nQ 3641 3997 3641 3322 \nQ 3641 2881 3436 2590 \nQ 3231 2300 2841 2188 \nz\nM 1259 4147 \nL 1259 2491 \nL 2053 2491 \nQ 2509 2491 2742 2702 \nQ 2975 2913 2975 3322 \nQ 2975 3731 2742 3939 \nQ 2509 4147 2053 4147 \nL 1259 4147 \nz\n\" transform=\"scale(0.015625)\"/>\n       <path id=\"DejaVuSans-56\" d=\"M 1831 0 \nL 50 4666 \nL 709 4666 \nL 2188 738 \nL 3669 4666 \nL 4325 4666 \nL 2547 0 \nL 1831 0 \nz\n\" transform=\"scale(0.015625)\"/>\n      </defs>\n      <use xlink:href=\"#DejaVuSans-52\"/>\n      <use xlink:href=\"#DejaVuSans-56\" x=\"63.982422\"/>\n     </g>\n    </g>\n   </g>\n   <g id=\"line2d_16\">\n    <path d=\"M 59.690625 194.786072 \nL 63.261825 90.366173 \nL 66.833025 136.817214 \nL 70.404225 207.579124 \nL 73.975425 197.200865 \nL 77.546625 213.571249 \nL 81.117825 200.37948 \nL 84.689025 210.637708 \nL 91.831425 215.77055 \nL 95.402625 166.884792 \nL 98.973825 177.16221 \nL 102.545025 198.17859 \nL 106.116225 194.031174 \nL 109.687425 177.779843 \nL 113.258625 207.579124 \nL 116.829825 203.491723 \nL 120.401025 242.954579 \nL 123.972225 172.635267 \nL 127.543425 192.150407 \nL 131.114625 216.443675 \nL 134.685825 179.961297 \nL 138.257025 178.390997 \nL 141.828225 201.50486 \nL 145.399425 189.951962 \nL 148.970625 142.784771 \nL 152.541825 201.319558 \nL 156.113025 208.437551 \nL 159.684225 219.088263 \nL 163.255425 190.815645 \nL 166.826625 222.212973 \nL 170.397825 179.739693 \nL 173.969025 208.376436 \nL 177.540225 216.455043 \nL 181.111425 225.602558 \nL 184.682625 185.456065 \nL 188.253825 169.171976 \nL 191.825025 270.831657 \nL 195.396225 179.045177 \nL 198.967425 179.020731 \nL 202.538625 183.806926 \nL 206.109825 169.234314 \nL 209.681025 229.424596 \nL 213.252225 163.454382 \nL 216.823425 197.95613 \nL 220.394625 220.526065 \nL 223.965825 177.733884 \nL 227.537025 201.331414 \nL 231.108225 212.127458 \nL 234.679425 205.567448 \nL 238.250625 215.77055 \nL 241.821825 165.405798 \nL 245.393025 187.845435 \nL 248.964225 219.75601 \nL 252.535425 194.462526 \nL 256.106625 183.438889 \nL 259.677825 171.109947 \nL 263.249025 180.756043 \nL 266.820225 220.501741 \nL 270.391425 210.049533 \nL 273.962625 213.698247 \nL 277.533825 191.511506 \nL 284.676225 181.415967 \nL 288.247425 228.826154 \nL 291.818625 215.77055 \nL 295.389825 218.839278 \nL 298.961025 153.960341 \nL 302.532225 193.966269 \nL 306.103425 228.915749 \nL 309.674625 189.329196 \nL 313.245825 221.90923 \nL 316.817025 194.707844 \nL 320.388225 197.507054 \nL 323.959425 175.889053 \nL 327.530625 175.889297 \nL 331.101825 163.073999 \nL 334.673025 216.963156 \nL 338.244225 215.77055 \nL 341.815425 273.466588 \nL 345.386625 244.622419 \nL 348.957825 182.264739 \nL 352.529025 200.588128 \nL 356.100225 187.238558 \nL 359.671425 168.740379 \nL 363.242625 208.43474 \nL 366.813825 200.83259 \nL 370.385025 244.561548 \nL 373.956225 34.414125 \nL 377.527425 155.68453 \nL 381.098625 193.235817 \nL 384.669825 210.348754 \nL 388.241025 174.915973 \nL 391.812225 177.779843 \nL 395.383425 214.651526 \nL 398.954625 210.383712 \nL 402.525825 224.773466 \nL 406.097025 193.081073 \nL 409.668225 194.786072 \nL 413.239425 199.092877 \nL 416.810625 195.173299 \nL 420.381825 173.774825 \nL 423.953025 274.526452 \nL 427.524225 236.937274 \nL 431.095425 221.129763 \nL 434.554375 118.031235 \nL 434.554375 118.031235 \n\" clip-path=\"url(#pc3b3a70c1f)\" style=\"fill: none; stroke: #1f77b4; stroke-width: 1.5; stroke-linecap: square\"/>\n   </g>\n   <g id=\"line2d_17\">\n    <path d=\"M 59.690625 200.394916 \nL 63.261825 176.236157 \nL 66.833025 176.385926 \nL 70.404225 210.74146 \nL 73.975425 197.758922 \nL 77.546625 207.904738 \nL 81.117825 195.902509 \nL 84.689025 210.899519 \nL 88.260225 209.9431 \nL 91.831425 212.658761 \nL 95.402625 180.123352 \nL 98.973825 205.178628 \nL 102.545025 196.614731 \nL 106.116225 191.259014 \nL 109.687425 181.98101 \nL 113.258625 215.191126 \nL 116.829825 205.171433 \nL 120.401025 216.324273 \nL 123.972225 180.023364 \nL 127.543425 182.491516 \nL 131.114625 209.481256 \nL 134.685825 184.022769 \nL 138.257025 181.991476 \nL 141.828225 208.12334 \nL 145.399425 201.861687 \nL 148.970625 172.58664 \nL 152.541825 211.954516 \nL 156.113025 207.210163 \nL 159.684225 207.883356 \nL 163.255425 212.133634 \nL 166.826625 204.036878 \nL 170.397825 202.143798 \nL 173.969025 207.640374 \nL 177.540225 204.534787 \nL 181.111425 215.581017 \nL 184.682625 223.962069 \nL 188.253825 178.592657 \nL 191.825025 272.346773 \nL 195.396225 202.626644 \nL 198.967425 186.199323 \nL 202.538625 207.575858 \nL 206.109825 196.532037 \nL 209.681025 214.921732 \nL 213.252225 201.501092 \nL 216.823425 208.884962 \nL 220.394625 213.167202 \nL 223.965825 204.202345 \nL 227.537025 202.31684 \nL 231.108225 206.552691 \nL 234.679425 214.28505 \nL 238.250625 210.762541 \nL 241.821825 200.238913 \nL 245.393025 209.096405 \nL 248.964225 211.16562 \nL 252.535425 216.608129 \nL 256.106625 204.938613 \nL 259.677825 203.160767 \nL 263.249025 200.40158 \nL 266.820225 207.22195 \nL 270.391425 203.290015 \nL 273.962625 200.073051 \nL 277.533825 199.361521 \nL 281.105025 202.274558 \nL 284.676225 209.055845 \nL 288.247425 207.779995 \nL 291.818625 211.887589 \nL 295.389825 212.953889 \nL 298.961025 200.790511 \nL 302.532225 204.683076 \nL 306.103425 209.528134 \nL 309.674625 182.845171 \nL 313.245825 204.237413 \nL 316.817025 203.386137 \nL 320.388225 197.617485 \nL 323.959425 182.392641 \nL 327.530625 180.52527 \nL 331.101825 183.332497 \nL 334.673025 213.493749 \nL 338.244225 210.724853 \nL 341.815425 225.164159 \nL 345.386625 211.157867 \nL 348.957825 199.239223 \nL 352.529025 214.269769 \nL 356.100225 190.720639 \nL 359.671425 179.069542 \nL 363.242625 212.715272 \nL 366.813825 204.227395 \nL 370.385025 219.110772 \nL 373.956225 152.942868 \nL 377.527425 172.286984 \nL 381.098625 209.564999 \nL 384.669825 207.407499 \nL 388.241025 200.461234 \nL 391.812225 182.993716 \nL 395.383425 204.838862 \nL 398.954625 209.997933 \nL 402.525825 212.453382 \nL 406.097025 182.924916 \nL 409.668225 199.792411 \nL 413.239425 209.511727 \nL 416.810625 209.71882 \nL 420.381825 197.494211 \nL 423.953025 257.109509 \nL 427.524225 211.204588 \nL 431.095425 218.136611 \nL 434.554375 173.554899 \nL 434.554375 173.554899 \n\" clip-path=\"url(#pc3b3a70c1f)\" style=\"fill: none; stroke: #ff7f0e; stroke-width: 1.5; stroke-linecap: square\"/>\n   </g>\n   <g id=\"patch_3\">\n    <path d=\"M 59.690625 288.430125 \nL 59.690625 22.318125 \n\" style=\"fill: none; stroke: #000000; stroke-width: 0.8; stroke-linejoin: miter; stroke-linecap: square\"/>\n   </g>\n   <g id=\"patch_4\">\n    <path d=\"M 416.810625 288.430125 \nL 416.810625 22.318125 \n\" style=\"fill: none; stroke: #000000; stroke-width: 0.8; stroke-linejoin: miter; stroke-linecap: square\"/>\n   </g>\n   <g id=\"patch_5\">\n    <path d=\"M 59.690625 288.430125 \nL 416.810625 288.430125 \n\" style=\"fill: none; stroke: #000000; stroke-width: 0.8; stroke-linejoin: miter; stroke-linecap: square\"/>\n   </g>\n   <g id=\"patch_6\">\n    <path d=\"M 59.690625 22.318125 \nL 416.810625 22.318125 \n\" style=\"fill: none; stroke: #000000; stroke-width: 0.8; stroke-linejoin: miter; stroke-linecap: square\"/>\n   </g>\n   <g id=\"text_18\">\n    <!-- KMM with RMSE: df_be2175.5148854553086 -->\n    <g transform=\"translate(103.319063 16.318125) scale(0.12 -0.12)\">\n     <defs>\n      <path id=\"DejaVuSans-4b\" d=\"M 628 4666 \nL 1259 4666 \nL 1259 2694 \nL 3353 4666 \nL 4166 4666 \nL 1850 2491 \nL 4331 0 \nL 3500 0 \nL 1259 2247 \nL 1259 0 \nL 628 0 \nL 628 4666 \nz\n\" transform=\"scale(0.015625)\"/>\n      <path id=\"DejaVuSans-4d\" d=\"M 628 4666 \nL 1569 4666 \nL 2759 1491 \nL 3956 4666 \nL 4897 4666 \nL 4897 0 \nL 4281 0 \nL 4281 4097 \nL 3078 897 \nL 2444 897 \nL 1241 4097 \nL 1241 0 \nL 628 0 \nL 628 4666 \nz\n\" transform=\"scale(0.015625)\"/>\n      <path id=\"DejaVuSans-20\" transform=\"scale(0.015625)\"/>\n      <path id=\"DejaVuSans-77\" d=\"M 269 3500 \nL 844 3500 \nL 1563 769 \nL 2278 3500 \nL 2956 3500 \nL 3675 769 \nL 4391 3500 \nL 4966 3500 \nL 4050 0 \nL 3372 0 \nL 2619 2869 \nL 1863 0 \nL 1184 0 \nL 269 3500 \nz\n\" transform=\"scale(0.015625)\"/>\n      <path id=\"DejaVuSans-69\" d=\"M 603 3500 \nL 1178 3500 \nL 1178 0 \nL 603 0 \nL 603 3500 \nz\nM 603 4863 \nL 1178 4863 \nL 1178 4134 \nL 603 4134 \nL 603 4863 \nz\n\" transform=\"scale(0.015625)\"/>\n      <path id=\"DejaVuSans-74\" d=\"M 1172 4494 \nL 1172 3500 \nL 2356 3500 \nL 2356 3053 \nL 1172 3053 \nL 1172 1153 \nQ 1172 725 1289 603 \nQ 1406 481 1766 481 \nL 2356 481 \nL 2356 0 \nL 1766 0 \nQ 1100 0 847 248 \nQ 594 497 594 1153 \nL 594 3053 \nL 172 3053 \nL 172 3500 \nL 594 3500 \nL 594 4494 \nL 1172 4494 \nz\n\" transform=\"scale(0.015625)\"/>\n      <path id=\"DejaVuSans-68\" d=\"M 3513 2113 \nL 3513 0 \nL 2938 0 \nL 2938 2094 \nQ 2938 2591 2744 2837 \nQ 2550 3084 2163 3084 \nQ 1697 3084 1428 2787 \nQ 1159 2491 1159 1978 \nL 1159 0 \nL 581 0 \nL 581 4863 \nL 1159 4863 \nL 1159 2956 \nQ 1366 3272 1645 3428 \nQ 1925 3584 2291 3584 \nQ 2894 3584 3203 3211 \nQ 3513 2838 3513 2113 \nz\n\" transform=\"scale(0.015625)\"/>\n      <path id=\"DejaVuSans-45\" d=\"M 628 4666 \nL 3578 4666 \nL 3578 4134 \nL 1259 4134 \nL 1259 2753 \nL 3481 2753 \nL 3481 2222 \nL 1259 2222 \nL 1259 531 \nL 3634 531 \nL 3634 0 \nL 628 0 \nL 628 4666 \nz\n\" transform=\"scale(0.015625)\"/>\n      <path id=\"DejaVuSans-3a\" d=\"M 750 794 \nL 1409 794 \nL 1409 0 \nL 750 0 \nL 750 794 \nz\nM 750 3309 \nL 1409 3309 \nL 1409 2516 \nL 750 2516 \nL 750 3309 \nz\n\" transform=\"scale(0.015625)\"/>\n      <path id=\"DejaVuSans-64\" d=\"M 2906 2969 \nL 2906 4863 \nL 3481 4863 \nL 3481 0 \nL 2906 0 \nL 2906 525 \nQ 2725 213 2448 61 \nQ 2172 -91 1784 -91 \nQ 1150 -91 751 415 \nQ 353 922 353 1747 \nQ 353 2572 751 3078 \nQ 1150 3584 1784 3584 \nQ 2172 3584 2448 3432 \nQ 2725 3281 2906 2969 \nz\nM 947 1747 \nQ 947 1113 1208 752 \nQ 1469 391 1925 391 \nQ 2381 391 2643 752 \nQ 2906 1113 2906 1747 \nQ 2906 2381 2643 2742 \nQ 2381 3103 1925 3103 \nQ 1469 3103 1208 2742 \nQ 947 2381 947 1747 \nz\n\" transform=\"scale(0.015625)\"/>\n      <path id=\"DejaVuSans-66\" d=\"M 2375 4863 \nL 2375 4384 \nL 1825 4384 \nQ 1516 4384 1395 4259 \nQ 1275 4134 1275 3809 \nL 1275 3500 \nL 2222 3500 \nL 2222 3053 \nL 1275 3053 \nL 1275 0 \nL 697 0 \nL 697 3053 \nL 147 3053 \nL 147 3500 \nL 697 3500 \nL 697 3744 \nQ 697 4328 969 4595 \nQ 1241 4863 1831 4863 \nL 2375 4863 \nz\n\" transform=\"scale(0.015625)\"/>\n      <path id=\"DejaVuSans-5f\" d=\"M 3263 -1063 \nL 3263 -1509 \nL -63 -1509 \nL -63 -1063 \nL 3263 -1063 \nz\n\" transform=\"scale(0.015625)\"/>\n      <path id=\"DejaVuSans-62\" d=\"M 3116 1747 \nQ 3116 2381 2855 2742 \nQ 2594 3103 2138 3103 \nQ 1681 3103 1420 2742 \nQ 1159 2381 1159 1747 \nQ 1159 1113 1420 752 \nQ 1681 391 2138 391 \nQ 2594 391 2855 752 \nQ 3116 1113 3116 1747 \nz\nM 1159 2969 \nQ 1341 3281 1617 3432 \nQ 1894 3584 2278 3584 \nQ 2916 3584 3314 3078 \nQ 3713 2572 3713 1747 \nQ 3713 922 3314 415 \nQ 2916 -91 2278 -91 \nQ 1894 -91 1617 61 \nQ 1341 213 1159 525 \nL 1159 0 \nL 581 0 \nL 581 4863 \nL 1159 4863 \nL 1159 2969 \nz\n\" transform=\"scale(0.015625)\"/>\n      <path id=\"DejaVuSans-2e\" d=\"M 684 794 \nL 1344 794 \nL 1344 0 \nL 684 0 \nL 684 794 \nz\n\" transform=\"scale(0.015625)\"/>\n     </defs>\n     <use xlink:href=\"#DejaVuSans-4b\"/>\n     <use xlink:href=\"#DejaVuSans-4d\" x=\"65.576172\"/>\n     <use xlink:href=\"#DejaVuSans-4d\" x=\"151.855469\"/>\n     <use xlink:href=\"#DejaVuSans-20\" x=\"238.134766\"/>\n     <use xlink:href=\"#DejaVuSans-77\" x=\"269.921875\"/>\n     <use xlink:href=\"#DejaVuSans-69\" x=\"351.708984\"/>\n     <use xlink:href=\"#DejaVuSans-74\" x=\"379.492188\"/>\n     <use xlink:href=\"#DejaVuSans-68\" x=\"418.701172\"/>\n     <use xlink:href=\"#DejaVuSans-20\" x=\"482.080078\"/>\n     <use xlink:href=\"#DejaVuSans-52\" x=\"513.867188\"/>\n     <use xlink:href=\"#DejaVuSans-4d\" x=\"583.349609\"/>\n     <use xlink:href=\"#DejaVuSans-53\" x=\"669.628906\"/>\n     <use xlink:href=\"#DejaVuSans-45\" x=\"733.105469\"/>\n     <use xlink:href=\"#DejaVuSans-3a\" x=\"796.289062\"/>\n     <use xlink:href=\"#DejaVuSans-20\" x=\"829.980469\"/>\n     <use xlink:href=\"#DejaVuSans-64\" x=\"861.767578\"/>\n     <use xlink:href=\"#DejaVuSans-66\" x=\"925.244141\"/>\n     <use xlink:href=\"#DejaVuSans-5f\" x=\"960.449219\"/>\n     <use xlink:href=\"#DejaVuSans-62\" x=\"1010.449219\"/>\n     <use xlink:href=\"#DejaVuSans-65\" x=\"1073.925781\"/>\n     <use xlink:href=\"#DejaVuSans-32\" x=\"1135.449219\"/>\n     <use xlink:href=\"#DejaVuSans-31\" x=\"1199.072266\"/>\n     <use xlink:href=\"#DejaVuSans-37\" x=\"1262.695312\"/>\n     <use xlink:href=\"#DejaVuSans-35\" x=\"1326.318359\"/>\n     <use xlink:href=\"#DejaVuSans-2e\" x=\"1389.941406\"/>\n     <use xlink:href=\"#DejaVuSans-35\" x=\"1421.728516\"/>\n     <use xlink:href=\"#DejaVuSans-31\" x=\"1485.351562\"/>\n     <use xlink:href=\"#DejaVuSans-34\" x=\"1548.974609\"/>\n     <use xlink:href=\"#DejaVuSans-38\" x=\"1612.597656\"/>\n     <use xlink:href=\"#DejaVuSans-38\" x=\"1676.220703\"/>\n     <use xlink:href=\"#DejaVuSans-35\" x=\"1739.84375\"/>\n     <use xlink:href=\"#DejaVuSans-34\" x=\"1803.466797\"/>\n     <use xlink:href=\"#DejaVuSans-35\" x=\"1867.089844\"/>\n     <use xlink:href=\"#DejaVuSans-35\" x=\"1930.712891\"/>\n     <use xlink:href=\"#DejaVuSans-33\" x=\"1994.335938\"/>\n     <use xlink:href=\"#DejaVuSans-30\" x=\"2057.958984\"/>\n     <use xlink:href=\"#DejaVuSans-38\" x=\"2121.582031\"/>\n     <use xlink:href=\"#DejaVuSans-36\" x=\"2185.205078\"/>\n    </g>\n   </g>\n  </g>\n </g>\n <defs>\n  <clipPath id=\"pc3b3a70c1f\">\n   <rect x=\"59.690625\" y=\"22.318125\" width=\"357.12\" height=\"266.112\"/>\n  </clipPath>\n </defs>\n</svg>\n",
      "text/plain": "<Figure size 640x480 with 1 Axes>"
     },
     "metadata": {},
     "output_type": "display_data"
    }
   ],
   "source": [
    "### Imports ###\n",
    "\n",
    "import numpy as np\n",
    "import plotly.express as px\n",
    "import sklearn\n",
    "\n",
    "from sklearn.tree import DecisionTreeRegressor\n",
    "from sklearn.linear_model import Lasso\n",
    "from sklearn.svm import SVR\n",
    "\n",
    "\n",
    "from sklearn.pipeline import make_pipeline\n",
    "from sklearn.preprocessing import StandardScaler\n",
    "from sklearn.metrics import mean_squared_error\n",
    "from sklearn.model_selection import train_test_split\n",
    "\n",
    "### Prepare Target Data ###\n",
    "\n",
    "df_tar = df_pt # define Target Domain\n",
    "X_train, X_test, y_train, y_test= train_test_split(df_tar.iloc[:,:-1], df_tar.iloc[:,-1], random_state=0) # train Test Split\n",
    "\n",
    "### Decision Tree Regressor Baseline ###\n",
    "\n",
    "tree = DecisionTreeRegressor(max_depth=5)\n",
    "tree.fit(X_train, y_train)\n",
    "y_pre_tree = regr.predict(X_test)\n",
    "rmse_tree = np.sqrt( mean_squared_error(y_test, y_pre_tree) )\n",
    "\n",
    "plt.plot(y_test.reset_index(drop=True))\n",
    "plt.plot(y_pre_tree)\n",
    "plt.xlim(0, 100)\n",
    "plt.title('DecisionTreeRegressor with RMSE: '+ sub_src_df_1[i] + str(rmse_tree))\n",
    "plt.xlabel('Sampels')\n",
    "plt.ylabel('RV')\n",
    "plt.show()\n",
    "\n",
    "### Lasso Regression Baseline ###\n",
    "\n",
    "reg = Lasso(alpha=15)\n",
    "reg.fit(X_train, y_train)\n",
    "y_pre_reg = regr.predict(X_test)\n",
    "rmse_reg = np.sqrt( mean_squared_error(y_test, y_pre_reg) )\n",
    "\n",
    "plt.plot(y_test.reset_index(drop=True))\n",
    "plt.plot(y_pre_reg)\n",
    "plt.xlim(0, 100)\n",
    "plt.title('Lasso regression with RMSE: '+ sub_src_df_1[i] + str(rmse_reg))\n",
    "plt.xlabel('Sampels')\n",
    "plt.ylabel('RV')\n",
    "plt.show()\n",
    "\n",
    "### Support Vektor Machine Baseline ###\n",
    "\n",
    "svm = make_pipeline(StandardScaler(), SVR(C=200.0, epsilon=1))\n",
    "svm.fit(X_train, y_train)\n",
    "y_pre_svm = regr.predict(X_test)\n",
    "rmse_kmm = np.sqrt( mean_squared_error(y_test, y_pre_svm) )\n",
    "\n",
    "plt.plot(y_test.reset_index(drop=True))\n",
    "plt.plot(y_pre_svm)\n",
    "plt.xlim(0, 100)\n",
    "plt.title('KMM with RMSE: '+ sub_src_df_1[i] + str(rmse_svm))\n",
    "plt.xlabel('Sampels')\n",
    "plt.ylabel('RV')\n",
    "plt.show()"
   ]
  },
  {
   "cell_type": "markdown",
   "metadata": {},
   "source": [
    "# Visulize KMM Results in PCA"
   ]
  },
  {
   "cell_type": "code",
   "execution_count": 593,
   "metadata": {},
   "outputs": [
    {
     "data": {
      "application/vnd.plotly.v1+json": {
       "config": {
        "plotlyServerURL": "https://plot.ly"
       },
       "data": [
        {
         "hovertemplate": "symbol=1<br>PC 1=%{x}<br>PC 2=%{y}<br>PC 3=%{z}<br>color=%{marker.color}<extra></extra>",
         "legendgroup": "1",
         "marker": {
          "color": [
           1.0000004034059344,
           1.0000004004810286,
           1.0000004268113931,
           1.0000004256587578,
           0.9999998122444687,
           1.0000004566330782,
           1.0000003924085221,
           1.0000002536929782,
           0.9999997938450691,
           1.0000003409112008,
           1.0000000418825348,
           1.0000001731316424,
           0.9999998886088436,
           1.000000156988801,
           1.0000001705251165,
           1.0000002478711032,
           1.0000002271683666,
           1.0000002111850552,
           1.0000003029882825,
           1.0000003785673757,
           0.9999742961873523,
           0.000003955832554351729,
           0.9999991397126999,
           0.9999988094679513,
           0.9999997818163786,
           1.0000000771014042,
           0.9999992384033374,
           0.9999994475471866,
           0.99999968816302,
           0.9999994943957579,
           1.0000001329399026,
           1.0000001944929948,
           1.0000005832602672,
           1.000000424451827,
           1.0000003798213828,
           4.7309184577079266e-7,
           1.0000002258755423,
           1.0000003767959476,
           -2.408929766123172e-8,
           1.0000000068057358,
           1.0000001294554521,
           1.000000212750915,
           1.0000001140451815,
           0.9999999171325368,
           1.0000003381736566,
           0.999868230075963,
           0.9999997718333724,
           1.0000001206850127,
           0.000008203450926232276,
           1.0000003007767533,
           1.000000298826973,
           1.0000002959236816,
           1.0000001073943643,
           1.0000001078059455,
           1.0000002684974088,
           0.9999999882383901,
           0.9999999783238583,
           0.9999999940972211,
           0.9999999080918581,
           1.0000001266763938,
           1.0000001285805102,
           1.0000001359689452,
           0.9999998343292955,
           1.0000001586401857,
           1.000000200060746,
           1.0000001478386236,
           1.0000000864980232,
           1.000000132395668,
           1.0000000946268064,
           1.0000001529773348,
           1.0000000794542465,
           1.0000001352753436,
           1.000000101813459,
           1.0000001206221925,
           1.0000001150375297,
           1.000000175365063,
           1.000000168781779,
           1.0000001292155303,
           1.0000000542319432,
           0.9999995047490644,
           0.9999981352627055,
           0.9999996827630317,
           0.9999952122421845,
           0.9999972775035731,
           0.9999996600728133,
           1.0000000513611045,
           0.000017226461854207488,
           0.0000029337320495743913,
           1.0000001484717336,
           0.9999999795494061,
           0.9999997343512882,
           0.7108192417794666,
           1.000000206781895,
           1.0000002416044433,
           1.0000000469270602,
           1.0000001648463837,
           1.0000001872498026,
           1.0000001437578083,
           1.0000001232438076,
           1.0000001579981734,
           1.0000003645149682,
           1.000000488196379,
           1.0000003960401416,
           1.0000003305286447,
           1.0000002164733561,
           1.0000004403498275,
           0.000003626898720375661,
           1.000000110830398,
           0.0004773015486993553,
           1.0000004005060077,
           1.0000002401029184,
           1.0000003453681663,
           1.0000001666781606,
           0.999970429657675,
           1.0000003671436863,
           1.0000004070142445,
           0.999999638169017,
           1.0000004377705085,
           1.0000003348225261,
           1.0000002531210204,
           1.0000004723200446,
           1.000000487667355,
           0.9999999399379346,
           1.0000004454141806,
           1.000000426434005,
           0.9999999180887689,
           0.999998858046034,
           1.0000004761522485,
           0.999999995130117,
           1.000000314307219,
           6.587345554490914e-7,
           1.0000004045162192,
           1.0000003602386867,
           1.000000419858477,
           0.999999520674074,
           1.0000002751951718,
           1.0000003490262594,
           1.0000004170736596,
           1.0000004062845322,
           1.0000004886957923,
           1.0000004219860872,
           1.0000002512510588,
           1.0000003581196069,
           1.0000004394835134,
           1.000000379198021,
           1.0000003760329343,
           1.000000382043353,
           1.0000003563439093,
           1.000000375405129,
           1.0000004547211672,
           1.0000003690080568,
           1.0000004860236975,
           1.000000402135971,
           1.000000464092264,
           1.000000374732741,
           1.0000004297921858,
           0.9999982034360355,
           1.0000003802481705,
           1.0000004563190836,
           1.0000004208976758,
           1.0000003614802018,
           0.9999999291455275,
           1.0000002347810981,
           1.0000003627668352,
           1.0000004047408237,
           1.0000003695265691,
           0.9999986367259027,
           1.0000004114343943,
           1.0000001403556453,
           1.0000004287815545,
           1.0000006008548803,
           1.0000004404789669,
           1.0000004733949592,
           1.0000004729836884,
           1.000000376818429,
           0.9999989289585367,
           1.0000003577213687,
           1.0000003810690739,
           1.0000004588898488,
           1.0000004376587857,
           1.0000003472156762,
           1.0000004362722936,
           1.000000406151312,
           1.0000002524288842,
           1.000000419903438,
           0.000004445509839871434,
           1.0000004178514026,
           1.0000003670560633,
           0.9999994915831852,
           0.9999997678748361,
           1.0000003945018163,
           1.0000004787156995,
           0.9999998573382637,
           1.0000004452943998,
           1.000000178815947,
           1.0000004095816823,
           1.0000003320346358,
           1.0000004184120286,
           1.0000004199186412,
           1.0000004678018242,
           1.0000004762738275,
           1.000000434050515,
           1.0000003740731354,
           1.0000001603615287,
           1.0000003752313658
          ],
          "coloraxis": "coloraxis",
          "size": 3.5,
          "symbol": "circle"
         },
         "mode": "markers",
         "name": "1",
         "scene": "scene",
         "showlegend": true,
         "type": "scatter3d",
         "x": [
          -32537.791291311838,
          -27589.877741257864,
          -38831.58835766881,
          -36924.87526542802,
          4526.48139282362,
          -25050.143077918485,
          12823.224200382629,
          -11872.953526483003,
          29909.36359450777,
          -13630.867286754788,
          -7706.47182198376,
          -11410.386769162042,
          999.2902838694173,
          21255.086163955675,
          19311.13623198623,
          -37294.5285445411,
          -35915.26398498637,
          -30331.408951749603,
          -36500.54862545263,
          -9520.87241268256,
          106302.15289457426,
          108841.66958206783,
          72726.388337953,
          90965.99512867731,
          48850.54108585196,
          2217.8081314072774,
          89200.6824551926,
          53805.95647156577,
          32484.457961323416,
          45432.896129621804,
          -2460.51117117326,
          5014.53361789265,
          28924.058514628658,
          -7294.0315607414705,
          -6859.62327831493,
          143184.01688473576,
          10767.778503974116,
          -31157.73685073412,
          154903.2720738209,
          1025.2293144231292,
          -7337.023715579537,
          35483.57441132358,
          -2952.2037052631886,
          51291.32023458867,
          2215.0655761326284,
          105886.73085241482,
          50404.37062658081,
          -28317.44350422868,
          88468.54475674519,
          -14474.613671415522,
          -5773.839953819795,
          -13127.648694697074,
          -15086.410611618221,
          -24529.167082405143,
          -28339.72149674775,
          -20584.577047029656,
          -13428.762851942434,
          -4483.649814385719,
          -14321.739633023546,
          -22724.522844292886,
          -32077.280193471735,
          -43333.64043323303,
          -21496.208107674036,
          -33399.899568792294,
          -35762.9751707705,
          -36248.86370993048,
          -29462.348419998212,
          -25790.094371644773,
          -43924.971520783045,
          -30861.31124487475,
          -16619.678835136994,
          -34566.21593093603,
          -30775.967178600593,
          -29492.001058335703,
          -30279.979473089963,
          -35764.83828133068,
          -36495.81923251612,
          -35313.84962987461,
          -24056.277967573606,
          59712.49733158561,
          99041.99506279004,
          54032.79981153718,
          71878.84754908709,
          62376.1724458135,
          84883.43540123123,
          25789.776018757144,
          102312.5784037182,
          123844.41152413156,
          40476.56762328512,
          35155.55975234644,
          19771.33996321297,
          109780.49257165649,
          25892.835576016565,
          -36271.39578969498,
          -17458.536995719212,
          -29123.582620665613,
          -28197.606539787674,
          -23819.373244339153,
          -30740.193365296884,
          -33392.123922786916,
          -4693.77210342937,
          -34830.14881887237,
          -9198.241911511519,
          -367.94263156034646,
          -24530.755786537145,
          -42010.725998813694,
          135708.31120215557,
          17967.69921144251,
          103033.07116707388,
          -20362.993756499873,
          -15541.377641214953,
          -13304.754957648265,
          22377.31537812103,
          125506.18442328028,
          -17669.013212384405,
          -14968.71127835483,
          -12083.10630559073,
          -16617.878875723498,
          -3021.7897795720155,
          12614.94572775817,
          -23428.434859824873,
          -35443.56911965246,
          20230.138120517364,
          -8176.276352988204,
          -25282.830316793068,
          55856.43344870478,
          104070.8140371504,
          -22525.183038161176,
          2038.7750389397756,
          -12091.292680946832,
          48091.50037588506,
          -24652.211946425803,
          -27303.07248299165,
          -32088.204357339055,
          61626.248329540875,
          21812.59965135123,
          -25190.2424206344,
          -27279.95694788988,
          -30726.84606950591,
          -35050.57879227758,
          -22586.88215653719,
          24006.74726871972,
          -22945.774917077877,
          -9571.282758124104,
          -24092.54102325601,
          -31649.101209325174,
          -27904.724115860612,
          -22173.797214727092,
          -27289.536724492125,
          -9960.27263574713,
          -23738.006151273785,
          -28958.340955457505,
          -39952.192147692156,
          -15221.053227071965,
          -24074.782720044845,
          -27872.08926904587,
          100322.42906516891,
          -27949.681948292662,
          24246.858128326254,
          -27106.10942609429,
          -26823.532783940565,
          50052.140943160106,
          40694.926684103695,
          -32067.095464803646,
          -23910.843065406272,
          -36231.901854798816,
          92925.6128541751,
          -29058.110196150836,
          34656.06748319987,
          -27402.101616239095,
          -29033.19875587541,
          -31370.793011964128,
          -24507.456446208736,
          -24565.455178045795,
          -30354.817002977714,
          79883.12439339624,
          -24374.973784842015,
          -27176.858278677588,
          -16023.627636951975,
          -29806.694304579272,
          -20666.06964024661,
          -32227.97624185934,
          -25391.266992920864,
          22372.432827773795,
          3850.8073631330994,
          116554.06810598656,
          722.2127800608076,
          -30169.508469167376,
          67587.88620731034,
          70210.5730853296,
          -25137.751596046503,
          -33189.906501595186,
          25989.98237917929,
          -32896.63210469808,
          42122.56290635503,
          -26300.755959947543,
          -25440.562723053412,
          -27915.901114280983,
          -34168.849524989404,
          -25493.431056268175,
          -26561.40328187291,
          -28430.747905493048,
          -36647.08464187371,
          40685.49057216407,
          -21521.768498689304
         ],
         "y": [
          320.82405357444003,
          -1169.7429999745596,
          -1178.2540859735839,
          -1266.2145627645978,
          15089.981895637931,
          17641.138744446005,
          13965.854262491368,
          -9601.886662974395,
          -5176.599148326994,
          -13269.910957203194,
          501.94428666785467,
          -2147.1983147563965,
          -2137.805760404417,
          -12193.119803385018,
          -12194.591539961513,
          -2473.3176828231562,
          -1981.8316882711204,
          -1977.6051220499742,
          -2472.716287939176,
          -15470.786116710893,
          -5933.186984461548,
          -1182.6685012510845,
          -2544.259539558847,
          -9551.581773987224,
          -2359.2625424838875,
          -1620.5776347764286,
          -11316.310771286202,
          -4418.167386759268,
          -2859.8517776605686,
          -5575.57945040062,
          14853.811823173315,
          3973.3003611189924,
          67993.59778776953,
          6147.5242467969,
          7437.81716235416,
          12678.331215040787,
          6416.999447451342,
          -1309.870512498786,
          158.68974538405328,
          406.21386234990763,
          -7702.616028266601,
          -17972.021314008365,
          -9994.397023062093,
          -13373.660392027863,
          -14740.36774650867,
          -10286.113658902817,
          -6128.175538042195,
          5215.744085143197,
          1917.0274510288677,
          -6426.343001521086,
          -6419.757528268409,
          -6425.323497931919,
          1569.6856994196396,
          1562.5369806157482,
          2067.974495825226,
          5978.217613577404,
          5983.6339929252945,
          6498.725461667384,
          5982.958108338725,
          5976.596806731858,
          5969.517264910831,
          6469.319601100871,
          6485.848319654157,
          6476.8376870813745,
          6800.732844066603,
          1553.6653225178677,
          5971.496339660191,
          6482.599919411891,
          5960.550372052759,
          5970.438115434022,
          5981.2196661596345,
          5967.633097801311,
          6478.824206858319,
          6479.7956292620975,
          6479.20009369983,
          6475.047543594025,
          6474.494306000717,
          6475.38919936857,
          6809.594748291012,
          111.46379565834536,
          1470.7856593097704,
          167.18945068503177,
          4025.458104807783,
          12728.706337655718,
          -10711.146116300628,
          869.1198022941941,
          3492.9104569903184,
          -5401.750280636908,
          -7355.095632672443,
          1268.296903393299,
          -7577.988684467588,
          -6473.944760293472,
          -11386.92335524151,
          7850.847678888641,
          8373.409872539994,
          7856.257032461319,
          7856.958022754143,
          8368.594038556561,
          8363.355683255726,
          8361.348875254913,
          9747.995806423489,
          61859.12910098235,
          9054.739881778823,
          7845.998225271667,
          17918.165908820352,
          12083.499346716359,
          -4796.782858759846,
          3165.506542141305,
          3068.9737637140897,
          -924.4428713319562,
          6530.337285575547,
          5389.207927534775,
          5416.213784714748,
          -2603.1148608706008,
          4491.868702701665,
          14545.513795840056,
          39241.76893541655,
          19275.84495371288,
          10766.820398975611,
          -6824.872216169178,
          -4330.815789253148,
          -4039.9187879750352,
          6641.735703445304,
          -4019.279052293681,
          -13178.03487929113,
          3849.4064991459722,
          2819.8638252575342,
          -4226.296378555394,
          12294.7463975353,
          -391.1418338896899,
          -54678.391708816336,
          -8267.102327850997,
          -1141.5297314450277,
          -9261.018823791477,
          3724.034499841598,
          7216.940774486401,
          5267.574758153085,
          6053.569211746301,
          -302.6136188238815,
          -4039.6209068910675,
          -12598.056996927242,
          -2388.2948810184985,
          -3978.651276583254,
          -4007.5113922571836,
          -4679.806150329441,
          -1196.24168186494,
          1004.7904768083981,
          -3977.911252404159,
          -4844.177220122157,
          -4007.8057979152927,
          1319.5792761429434,
          -4320.076845693135,
          106.94903857950824,
          -4036.8322610199325,
          -4903.04922688264,
          -14291.828367615863,
          -812.3354596655283,
          -4905.982064934089,
          48695.86716069534,
          -14291.248811403197,
          116.88657656855491,
          -968.1839553873342,
          -446.9614312664767,
          3681.665262991766,
          -11323.48835562344,
          3047.217053272496,
          -6408.669242195255,
          10747.115890286603,
          -7230.581774517601,
          -14291.472742157042,
          46572.79529684297,
          3807.7256315541945,
          -4316.707807016495,
          -4316.751910210433,
          -404.96465536789793,
          -4541.244043626366,
          -400.4396319631139,
          -3321.9335225488253,
          -4325.21136152057,
          -12603.52150663747,
          -397.6319203675976,
          -14295.125462529115,
          -10761.242312117813,
          3713.971545638235,
          -4295.242861536153,
          10011.820470523902,
          -4208.700505176708,
          -1688.8513765015575,
          -4712.0693701590535,
          -4743.628653012962,
          -6279.640925575774,
          -4234.368991773707,
          16777.933694626943,
          -13183.797478783543,
          16790.14427567331,
          -11332.834991531865,
          -479.7245849203108,
          6821.013683131821,
          -8923.41607061254,
          -4317.454307719898,
          -4318.262625374048,
          -13180.41704685671,
          1749.5220192548618,
          -66.44257226542459,
          5597.118221533803
         ],
         "z": [
          -800.6808083118624,
          -54.70860306763412,
          -135.2483591628111,
          -79.07423714658644,
          -6173.176882098461,
          377.9380150363222,
          2527.1114928401635,
          -1329.7647790685241,
          -2806.351863477816,
          714.2889355597691,
          -5241.354012036816,
          -4009.59595240236,
          -3920.690038920223,
          1012.8709116187164,
          998.9438445746115,
          -4049.292723278716,
          -4272.610514915979,
          -4232.604554129104,
          -4043.6041935190797,
          4453.956061397078,
          790.4442722948986,
          -1449.2513756427882,
          -838.6811633666707,
          2395.5418428002326,
          -1106.2961073563765,
          -1808.4009408683391,
          3456.255839701413,
          -90.02159283188048,
          -2635.6673491118677,
          -1246.9564981241308,
          -5057.16143582381,
          720.881236480096,
          16164.339669173716,
          1081.933588979088,
          471.6887922061625,
          -3396.6922384181403,
          -2064.2724662706746,
          -1189.3781143442766,
          -3463.142023296778,
          -4738.64162064657,
          -945.938090079746,
          4259.206052413903,
          176.77326419186167,
          2191.697208420848,
          2472.283891149063,
          1447.595851183658,
          -398.81804754431994,
          -6933.084422396803,
          -4485.876688708367,
          -745.2053677014005,
          -682.8710134073251,
          -735.5553270611085,
          -4551.80041355399,
          -4619.454529924489,
          -4888.452951560694,
          -6689.362894345645,
          -6638.096338898294,
          -6815.7107101535885,
          -6644.493878997476,
          -6704.694643757068,
          -6771.704599683107,
          -7094.048102550433,
          -6937.594914531315,
          -7022.8801610106675,
          -7194.662535443797,
          -4703.422408972411,
          -6752.9710968288855,
          -6968.361388611147,
          -6856.585297656835,
          -6762.992589143149,
          -6660.957520308732,
          -6789.536951481211,
          -7004.082135766462,
          -6994.882855744059,
          -7000.5281433440905,
          -7039.823956671535,
          -7045.060908823616,
          -7036.59254725729,
          -7110.796055451566,
          -1181.4759796058563,
          -1531.8901768529254,
          -1250.711235763753,
          -2716.076780724997,
          -6925.836203474016,
          4388.807363081259,
          -1562.0712760272884,
          -2233.873403237651,
          2157.414230329125,
          2458.9248882499437,
          -1681.4091230240608,
          764.8560088576614,
          1230.330113541338,
          2935.198495789742,
          -6131.731182411327,
          -6238.64625800206,
          -6080.523380982202,
          -6073.8892161433805,
          -6284.221094859815,
          -6333.803827473998,
          -6352.800329432009,
          955.6220321858627,
          12281.940997011494,
          938.054432214965,
          -1317.8213654348747,
          -5427.513740915266,
          -2784.7361163236237,
          2428.8190049554332,
          -2243.035211251014,
          -1557.0837540029195,
          -38.64267916290783,
          -3547.0036772991416,
          -1689.2817099346162,
          -1433.6471000577362,
          3155.384853504544,
          -1295.4508066941783,
          -854.8003088848467,
          -9678.599179406434,
          -219.22475881868684,
          -1099.9459939789012,
          1132.3235114907789,
          5955.451390774412,
          5760.300635340255,
          -3778.6819188082127,
          5955.651258423478,
          3867.6584911705795,
          -46.80868039529366,
          1998.8043611355351,
          5912.550813645144,
          -3274.064161895773,
          -1418.9483085180511,
          -7998.242278816987,
          612.6247023389196,
          -1704.7336987139759,
          1527.2461170050326,
          -2079.8871394645876,
          708.6879974004077,
          -3467.0522098301044,
          -526.306141675081,
          -860.1692164281342,
          5763.11620609426,
          3962.9471129555704,
          1709.3959187218925,
          -732.7876330957007,
          5950.216042284239,
          2.606088915834761,
          -1710.6342092064842,
          -1842.6732963265702,
          -726.9771564088051,
          -690.254489959649,
          5947.428951461566,
          -1960.99921769255,
          5921.138940973773,
          -1865.411362582616,
          5900.835776179978,
          -638.076990278074,
          3453.846384010348,
          466.23028613319786,
          -665.8379147935603,
          13745.40185756691,
          3459.3343204544103,
          -1771.35393255911,
          64.10934530440547,
          3076.0614456346275,
          -2786.58548780153,
          2422.244253695064,
          -3040.848997015179,
          1705.1300617499828,
          -1286.4741968727694,
          1657.5040076816667,
          3457.213499725468,
          23694.008117690635,
          510.7803587480107,
          5953.0264384816,
          5952.610529592598,
          -1549.7923342753575,
          552.29125027403,
          -1506.9516195724848,
          -666.2492947173972,
          6008.501512929713,
          3911.2223624877724,
          -1480.3790643030031,
          3422.6420359675985,
          2137.5048707046644,
          545.5402571539005,
          6156.18797487096,
          -2520.2428187733817,
          6079.0957806114975,
          -1875.55180252505,
          139.33082055889142,
          2010.9527331283387,
          755.44348078952,
          5836.14580696143,
          -5225.54111484017,
          3813.1108071350595,
          -5109.962715456916,
          2402.445708272178,
          -3095.3030962126504,
          -896.7802948053226,
          1155.3204063602384,
          5945.962797521405,
          5938.310993147643,
          3845.1058358969362,
          -3717.347173366901,
          1700.9711555801746,
          -1460.811487910801
         ]
        },
        {
         "hovertemplate": "symbol=2<br>PC 1=%{x}<br>PC 2=%{y}<br>PC 3=%{z}<br>color=%{marker.color}<extra></extra>",
         "legendgroup": "2",
         "marker": {
          "color": [
           2,
           2,
           2,
           2,
           2,
           2,
           2,
           2,
           2,
           2,
           2,
           2,
           2,
           2,
           2,
           2,
           2,
           2,
           2,
           2,
           2,
           2,
           2,
           2,
           2,
           2,
           2,
           2,
           2,
           2,
           2,
           2,
           2,
           2,
           2,
           2,
           2,
           2,
           2,
           2,
           2,
           2,
           2,
           2,
           2,
           2,
           2,
           2,
           2,
           2,
           2,
           2,
           2,
           2,
           2,
           2,
           2,
           2,
           2,
           2,
           2,
           2,
           2,
           2,
           2,
           2,
           2,
           2,
           2,
           2,
           2,
           2,
           2,
           2,
           2,
           2,
           2,
           2,
           2,
           2,
           2,
           2,
           2,
           2,
           2,
           2,
           2,
           2,
           2,
           2,
           2,
           2,
           2,
           2,
           2,
           2,
           2,
           2,
           2,
           2,
           2,
           2,
           2,
           2,
           2,
           2,
           2,
           2,
           2,
           2,
           2,
           2,
           2,
           2,
           2,
           2,
           2
          ],
          "coloraxis": "coloraxis",
          "size": 3.5,
          "symbol": "diamond"
         },
         "mode": "markers",
         "name": "2",
         "scene": "scene",
         "showlegend": true,
         "type": "scatter3d",
         "x": [
          -15221.05323017119,
          -35050.5787953768,
          -32214.874748869854,
          -35443.56912275168,
          -9571.282761223329,
          -9960.272638846354,
          -8176.276356087429,
          -2261.472945388201,
          -34170.37222915768,
          -34168.84952808863,
          -30003.73545829576,
          -32088.204360438278,
          -25137.75159914573,
          -27933.67871380947,
          92925.61285107586,
          -24092.541026355233,
          -30817.10634625705,
          -31649.101212424397,
          -27303.072486090878,
          34656.06748010064,
          -27176.85828177681,
          -25440.562726152635,
          -25674.61880632338,
          24246.85812522703,
          -34993.9039842705,
          -32227.97624495856,
          -29349.089822691836,
          -24652.211949525026,
          -27872.0892721451,
          -27402.101619338322,
          -26134.13407097952,
          -27106.109429193515,
          -23910.8430685055,
          -27053.76165925222,
          -24074.78272314407,
          -27949.68195139189,
          -26300.755963046773,
          -25391.26699602009,
          -27289.53672759135,
          -30169.508472266607,
          -22173.797217826315,
          -22945.774920177104,
          24006.747265620495,
          27969.017559484062,
          -21521.76850178853,
          55856.433445605544,
          116554.06809978813,
          40685.49056906484,
          32008.9274002362,
          -29033.198758974635,
          60231.986348309954,
          -30726.846072605138,
          -27904.72411895984,
          -23738.006154373015,
          -25190.242423733624,
          100322.42906206968,
          16760.94864272488,
          50052.14094006088,
          70210.57308223037,
          -607.0521095603812,
          61626.248326441644,
          76886.76230784459,
          -32240.826571267844,
          20230.138117418137,
          -36647.084644972936,
          67587.88620421111,
          12614.945724658945,
          -28430.74790859227,
          -25282.83031989229,
          79883.12439029702,
          -32896.63210779731,
          -22586.882159636414,
          -29806.694307678496,
          74778.4858208093,
          -32956.61227503643,
          -39952.19215079138,
          -26823.532787039792,
          -20666.069643345836,
          -12091.292684046057,
          -30354.81700607694,
          -24374.973787941246,
          22372.432824674568,
          -31370.79301506335,
          -27915.90111738021,
          48091.500369686604,
          2038.7750358405488,
          -8592.013923094948,
          42122.5629032558,
          25989.98237608007,
          104070.81403405116,
          40694.92668100447,
          -23024.500413277878,
          -27279.956950989108,
          54615.05023037178,
          -26326.02868299665,
          -10981.258905920282,
          -29058.11019925006,
          -3021.7897826712415,
          21812.599648252006,
          -36231.90185789805,
          -32067.095467902873,
          -19572.760110872376,
          -22525.1830412604,
          -25493.431059367398,
          -33189.90650469441,
          -26752.073079137797,
          722.2127769615821,
          -28958.340958556728,
          -24231.46383957479,
          -23428.4348629241,
          -16023.6276400512,
          3850.807360033874,
          -2920.0176420274265,
          -26561.403284972133,
          -24507.45644930796,
          -24565.455181145022,
          -28031.365051964687
         ],
         "y": [
          -4036.832264439134,
          -4039.6209103102688,
          -4273.03303162731,
          -4039.9187913942365,
          -4007.511395676385,
          -4007.805801334494,
          -4019.2790557128833,
          -4001.9787615233085,
          -9498.153052896767,
          -8923.416074031742,
          -8684.704974605414,
          -9261.018827210677,
          -6279.640928994976,
          -6281.756988048415,
          -6408.669245614463,
          -4679.806153748642,
          -8360.651956631833,
          -1196.2416852841416,
          -1141.5297348642293,
          -7230.581777936804,
          -3321.9335259680265,
          -479.72458833951265,
          -5412.077507598673,
          48695.867157276145,
          -14297.218695201052,
          -14295.125465948317,
          -8270.657347959015,
          -8267.102331270196,
          -14291.828371035062,
          -14291.472745576244,
          -14290.512624179508,
          -14291.248814822395,
          -11323.488359042642,
          -11325.867459943393,
          -4903.049230301842,
          -4905.982068353291,
          -11332.834994951067,
          -10761.242315537014,
          -4844.17722354136,
          -1688.8513799207592,
          -3977.9112558233605,
          -3978.651280002455,
          -2388.2948844377006,
          30593.044739874822,
          5597.118218114601,
          3849.4064957267688,
          10011.820463685513,
          -66.44257568462702,
          -2488.8370515395636,
          46572.79529342376,
          12415.381816157673,
          -302.6136222430831,
          1004.7904733891963,
          1319.5792727237417,
          5267.574754733883,
          -812.3354630847375,
          -3278.2792891208883,
          -968.1839588065372,
          -4743.628656432165,
          1444.3984839549203,
          3724.034496422393,
          1814.6902498940685,
          1576.2645293107144,
          6641.735700026103,
          1749.52201583566,
          -4712.069373578259,
          -6824.87221958838,
          -13180.417050275913,
          -13178.03488271033,
          -4541.244047045572,
          -13183.797482202745,
          -12598.057000346444,
          -12603.521510056671,
          -489.3829788842197,
          -12605.905440644132,
          106.94903516030662,
          116.88657314935318,
          -397.6319237867994,
          -391.1418373088918,
          -404.96465878709967,
          -400.4396353823157,
          3713.971542219033,
          3807.7256281349933,
          6821.01367971262,
          -54678.39171565474,
          12294.746394116097,
          7355.466421743914,
          16790.144272254107,
          16777.93369120774,
          2819.8638218383276,
          -446.9614346856789,
          14197.60256072561,
          6053.5692083271,
          11379.773234325841,
          6345.123530627802,
          8653.923087368448,
          10747.115886867401,
          10766.82039555641,
          7216.940771067199,
          3047.217049853294,
          3681.665259572564,
          256.39454439712483,
          -4226.2963819745955,
          -4317.4543111390985,
          -4234.368995192909,
          -4229.49559863554,
          -4208.700508595911,
          -4320.076849112336,
          -4316.499077721269,
          -4330.81579267235,
          -4325.211364939772,
          -4295.242864955355,
          -4300.368447154682,
          -4318.26262879325,
          -4316.707810435696,
          -4316.751913629635,
          -4319.375203055973
         ],
         "z": [
          5900.835802503287,
          5763.1162324175675,
          5699.6900975294475,
          5760.300661663563,
          5950.216068607549,
          5947.428977784874,
          5955.651284746786,
          6002.585357711332,
          1428.588572493676,
          1155.3204326835478,
          1268.9024047157166,
          1527.2461433283422,
          755.44350711283,
          735.4127118213652,
          1705.1300880733395,
          2.606115239145317,
          1702.1977751403278,
          -1710.634182883174,
          -1704.7336723906649,
          1657.5040340049836,
          -666.2492683940867,
          -3095.303069889339,
          -752.5877437435221,
          13745.40188389022,
          3402.8262104163828,
          3422.6420622909072,
          578.9749572783111,
          612.6247286622296,
          3453.8464103336573,
          3457.213526048777,
          3466.2977907396858,
          3459.3343467777195,
          2422.244280018374,
          2399.727192317307,
          -638.0769639547635,
          -665.8378884702498,
          2402.445734595488,
          2137.504897027974,
          -690.2544636363384,
          -1875.5517762017394,
          -726.9771300854939,
          -732.7876067723897,
          1709.3959450452064,
          -13942.932815879543,
          -1460.8114615874902,
          -46.80865407197096,
          -2520.2427661268575,
          1700.971181903491,
          2980.130069097498,
          23694.008144013937,
          -2269.5525978144965,
          -860.1691901048243,
          -1842.6732700032599,
          -1960.9991913692393,
          -3467.052183506793,
          466.2303124565657,
          912.0356057103572,
          64.10937162772787,
          2010.9527594516655,
          -1464.207809988201,
          -2079.8871131412548,
          -1057.2009815354559,
          -1764.9351054725055,
          -3778.681892484891,
          -3717.34714704359,
          139.33084688222533,
          1132.3235378140928,
          3845.105862220246,
          3867.6585174938887,
          552.2912765973788,
          3813.1108334583682,
          3962.947139278879,
          3911.2223888110816,
          -1061.9391504738219,
          3888.659549865968,
          -1865.411336259306,
          -1771.353906235799,
          -1480.3790379796917,
          -1418.948282194739,
          -1549.7923079520467,
          -1506.9515932491736,
          545.5402834772143,
          510.78038507131976,
          -896.7802684820131,
          -7998.242226170363,
          -3274.0641355724524,
          -1005.4993059558028,
          -5109.962689133599,
          -5225.541088516845,
          1998.8043874588857,
          3076.0614719579416,
          -4366.6520157250025,
          -526.3061153517714,
          -1770.0701813940398,
          14.807091129214308,
          -560.3773981740412,
          -1286.4741705494596,
          -1099.9459676555896,
          708.688023723721,
          -3040.848970691868,
          -2786.5854614782183,
          -1588.5073067368678,
          5912.550839968453,
          5945.962823844712,
          5836.145833284739,
          5882.267902855891,
          6079.095806934807,
          5921.138967297081,
          5955.0033627202865,
          5955.451417097721,
          6008.501539253021,
          6156.188001194269,
          6107.681902636683,
          5938.311019470952,
          5953.026464804909,
          5952.610555915907,
          5927.779410896776
         ]
        }
       ],
       "layout": {
        "coloraxis": {
         "colorbar": {
          "title": {
           "text": "color"
          }
         },
         "colorscale": [
          [
           0,
           "red"
          ],
          [
           0.7,
           "green"
          ],
          [
           1,
           "blue"
          ]
         ]
        },
        "legend": {
         "title": {
          "text": "symbol"
         },
         "tracegroupgap": 0
        },
        "scene": {
         "domain": {
          "x": [
           0,
           1
          ],
          "y": [
           0,
           1
          ]
         },
         "xaxis": {
          "title": {
           "text": "PC 1"
          }
         },
         "yaxis": {
          "title": {
           "text": "PC 2"
          }
         },
         "zaxis": {
          "title": {
           "text": "PC 3"
          }
         }
        },
        "template": {
         "data": {
          "bar": [
           {
            "error_x": {
             "color": "#2a3f5f"
            },
            "error_y": {
             "color": "#2a3f5f"
            },
            "marker": {
             "line": {
              "color": "#E5ECF6",
              "width": 0.5
             },
             "pattern": {
              "fillmode": "overlay",
              "size": 10,
              "solidity": 0.2
             }
            },
            "type": "bar"
           }
          ],
          "barpolar": [
           {
            "marker": {
             "line": {
              "color": "#E5ECF6",
              "width": 0.5
             },
             "pattern": {
              "fillmode": "overlay",
              "size": 10,
              "solidity": 0.2
             }
            },
            "type": "barpolar"
           }
          ],
          "carpet": [
           {
            "aaxis": {
             "endlinecolor": "#2a3f5f",
             "gridcolor": "white",
             "linecolor": "white",
             "minorgridcolor": "white",
             "startlinecolor": "#2a3f5f"
            },
            "baxis": {
             "endlinecolor": "#2a3f5f",
             "gridcolor": "white",
             "linecolor": "white",
             "minorgridcolor": "white",
             "startlinecolor": "#2a3f5f"
            },
            "type": "carpet"
           }
          ],
          "choropleth": [
           {
            "colorbar": {
             "outlinewidth": 0,
             "ticks": ""
            },
            "type": "choropleth"
           }
          ],
          "contour": [
           {
            "colorbar": {
             "outlinewidth": 0,
             "ticks": ""
            },
            "colorscale": [
             [
              0,
              "#0d0887"
             ],
             [
              0.1111111111111111,
              "#46039f"
             ],
             [
              0.2222222222222222,
              "#7201a8"
             ],
             [
              0.3333333333333333,
              "#9c179e"
             ],
             [
              0.4444444444444444,
              "#bd3786"
             ],
             [
              0.5555555555555556,
              "#d8576b"
             ],
             [
              0.6666666666666666,
              "#ed7953"
             ],
             [
              0.7777777777777778,
              "#fb9f3a"
             ],
             [
              0.8888888888888888,
              "#fdca26"
             ],
             [
              1,
              "#f0f921"
             ]
            ],
            "type": "contour"
           }
          ],
          "contourcarpet": [
           {
            "colorbar": {
             "outlinewidth": 0,
             "ticks": ""
            },
            "type": "contourcarpet"
           }
          ],
          "heatmap": [
           {
            "colorbar": {
             "outlinewidth": 0,
             "ticks": ""
            },
            "colorscale": [
             [
              0,
              "#0d0887"
             ],
             [
              0.1111111111111111,
              "#46039f"
             ],
             [
              0.2222222222222222,
              "#7201a8"
             ],
             [
              0.3333333333333333,
              "#9c179e"
             ],
             [
              0.4444444444444444,
              "#bd3786"
             ],
             [
              0.5555555555555556,
              "#d8576b"
             ],
             [
              0.6666666666666666,
              "#ed7953"
             ],
             [
              0.7777777777777778,
              "#fb9f3a"
             ],
             [
              0.8888888888888888,
              "#fdca26"
             ],
             [
              1,
              "#f0f921"
             ]
            ],
            "type": "heatmap"
           }
          ],
          "heatmapgl": [
           {
            "colorbar": {
             "outlinewidth": 0,
             "ticks": ""
            },
            "colorscale": [
             [
              0,
              "#0d0887"
             ],
             [
              0.1111111111111111,
              "#46039f"
             ],
             [
              0.2222222222222222,
              "#7201a8"
             ],
             [
              0.3333333333333333,
              "#9c179e"
             ],
             [
              0.4444444444444444,
              "#bd3786"
             ],
             [
              0.5555555555555556,
              "#d8576b"
             ],
             [
              0.6666666666666666,
              "#ed7953"
             ],
             [
              0.7777777777777778,
              "#fb9f3a"
             ],
             [
              0.8888888888888888,
              "#fdca26"
             ],
             [
              1,
              "#f0f921"
             ]
            ],
            "type": "heatmapgl"
           }
          ],
          "histogram": [
           {
            "marker": {
             "pattern": {
              "fillmode": "overlay",
              "size": 10,
              "solidity": 0.2
             }
            },
            "type": "histogram"
           }
          ],
          "histogram2d": [
           {
            "colorbar": {
             "outlinewidth": 0,
             "ticks": ""
            },
            "colorscale": [
             [
              0,
              "#0d0887"
             ],
             [
              0.1111111111111111,
              "#46039f"
             ],
             [
              0.2222222222222222,
              "#7201a8"
             ],
             [
              0.3333333333333333,
              "#9c179e"
             ],
             [
              0.4444444444444444,
              "#bd3786"
             ],
             [
              0.5555555555555556,
              "#d8576b"
             ],
             [
              0.6666666666666666,
              "#ed7953"
             ],
             [
              0.7777777777777778,
              "#fb9f3a"
             ],
             [
              0.8888888888888888,
              "#fdca26"
             ],
             [
              1,
              "#f0f921"
             ]
            ],
            "type": "histogram2d"
           }
          ],
          "histogram2dcontour": [
           {
            "colorbar": {
             "outlinewidth": 0,
             "ticks": ""
            },
            "colorscale": [
             [
              0,
              "#0d0887"
             ],
             [
              0.1111111111111111,
              "#46039f"
             ],
             [
              0.2222222222222222,
              "#7201a8"
             ],
             [
              0.3333333333333333,
              "#9c179e"
             ],
             [
              0.4444444444444444,
              "#bd3786"
             ],
             [
              0.5555555555555556,
              "#d8576b"
             ],
             [
              0.6666666666666666,
              "#ed7953"
             ],
             [
              0.7777777777777778,
              "#fb9f3a"
             ],
             [
              0.8888888888888888,
              "#fdca26"
             ],
             [
              1,
              "#f0f921"
             ]
            ],
            "type": "histogram2dcontour"
           }
          ],
          "mesh3d": [
           {
            "colorbar": {
             "outlinewidth": 0,
             "ticks": ""
            },
            "type": "mesh3d"
           }
          ],
          "parcoords": [
           {
            "line": {
             "colorbar": {
              "outlinewidth": 0,
              "ticks": ""
             }
            },
            "type": "parcoords"
           }
          ],
          "pie": [
           {
            "automargin": true,
            "type": "pie"
           }
          ],
          "scatter": [
           {
            "fillpattern": {
             "fillmode": "overlay",
             "size": 10,
             "solidity": 0.2
            },
            "type": "scatter"
           }
          ],
          "scatter3d": [
           {
            "line": {
             "colorbar": {
              "outlinewidth": 0,
              "ticks": ""
             }
            },
            "marker": {
             "colorbar": {
              "outlinewidth": 0,
              "ticks": ""
             }
            },
            "type": "scatter3d"
           }
          ],
          "scattercarpet": [
           {
            "marker": {
             "colorbar": {
              "outlinewidth": 0,
              "ticks": ""
             }
            },
            "type": "scattercarpet"
           }
          ],
          "scattergeo": [
           {
            "marker": {
             "colorbar": {
              "outlinewidth": 0,
              "ticks": ""
             }
            },
            "type": "scattergeo"
           }
          ],
          "scattergl": [
           {
            "marker": {
             "colorbar": {
              "outlinewidth": 0,
              "ticks": ""
             }
            },
            "type": "scattergl"
           }
          ],
          "scattermapbox": [
           {
            "marker": {
             "colorbar": {
              "outlinewidth": 0,
              "ticks": ""
             }
            },
            "type": "scattermapbox"
           }
          ],
          "scatterpolar": [
           {
            "marker": {
             "colorbar": {
              "outlinewidth": 0,
              "ticks": ""
             }
            },
            "type": "scatterpolar"
           }
          ],
          "scatterpolargl": [
           {
            "marker": {
             "colorbar": {
              "outlinewidth": 0,
              "ticks": ""
             }
            },
            "type": "scatterpolargl"
           }
          ],
          "scatterternary": [
           {
            "marker": {
             "colorbar": {
              "outlinewidth": 0,
              "ticks": ""
             }
            },
            "type": "scatterternary"
           }
          ],
          "surface": [
           {
            "colorbar": {
             "outlinewidth": 0,
             "ticks": ""
            },
            "colorscale": [
             [
              0,
              "#0d0887"
             ],
             [
              0.1111111111111111,
              "#46039f"
             ],
             [
              0.2222222222222222,
              "#7201a8"
             ],
             [
              0.3333333333333333,
              "#9c179e"
             ],
             [
              0.4444444444444444,
              "#bd3786"
             ],
             [
              0.5555555555555556,
              "#d8576b"
             ],
             [
              0.6666666666666666,
              "#ed7953"
             ],
             [
              0.7777777777777778,
              "#fb9f3a"
             ],
             [
              0.8888888888888888,
              "#fdca26"
             ],
             [
              1,
              "#f0f921"
             ]
            ],
            "type": "surface"
           }
          ],
          "table": [
           {
            "cells": {
             "fill": {
              "color": "#EBF0F8"
             },
             "line": {
              "color": "white"
             }
            },
            "header": {
             "fill": {
              "color": "#C8D4E3"
             },
             "line": {
              "color": "white"
             }
            },
            "type": "table"
           }
          ]
         },
         "layout": {
          "annotationdefaults": {
           "arrowcolor": "#2a3f5f",
           "arrowhead": 0,
           "arrowwidth": 1
          },
          "autotypenumbers": "strict",
          "coloraxis": {
           "colorbar": {
            "outlinewidth": 0,
            "ticks": ""
           }
          },
          "colorscale": {
           "diverging": [
            [
             0,
             "#8e0152"
            ],
            [
             0.1,
             "#c51b7d"
            ],
            [
             0.2,
             "#de77ae"
            ],
            [
             0.3,
             "#f1b6da"
            ],
            [
             0.4,
             "#fde0ef"
            ],
            [
             0.5,
             "#f7f7f7"
            ],
            [
             0.6,
             "#e6f5d0"
            ],
            [
             0.7,
             "#b8e186"
            ],
            [
             0.8,
             "#7fbc41"
            ],
            [
             0.9,
             "#4d9221"
            ],
            [
             1,
             "#276419"
            ]
           ],
           "sequential": [
            [
             0,
             "#0d0887"
            ],
            [
             0.1111111111111111,
             "#46039f"
            ],
            [
             0.2222222222222222,
             "#7201a8"
            ],
            [
             0.3333333333333333,
             "#9c179e"
            ],
            [
             0.4444444444444444,
             "#bd3786"
            ],
            [
             0.5555555555555556,
             "#d8576b"
            ],
            [
             0.6666666666666666,
             "#ed7953"
            ],
            [
             0.7777777777777778,
             "#fb9f3a"
            ],
            [
             0.8888888888888888,
             "#fdca26"
            ],
            [
             1,
             "#f0f921"
            ]
           ],
           "sequentialminus": [
            [
             0,
             "#0d0887"
            ],
            [
             0.1111111111111111,
             "#46039f"
            ],
            [
             0.2222222222222222,
             "#7201a8"
            ],
            [
             0.3333333333333333,
             "#9c179e"
            ],
            [
             0.4444444444444444,
             "#bd3786"
            ],
            [
             0.5555555555555556,
             "#d8576b"
            ],
            [
             0.6666666666666666,
             "#ed7953"
            ],
            [
             0.7777777777777778,
             "#fb9f3a"
            ],
            [
             0.8888888888888888,
             "#fdca26"
            ],
            [
             1,
             "#f0f921"
            ]
           ]
          },
          "colorway": [
           "#636efa",
           "#EF553B",
           "#00cc96",
           "#ab63fa",
           "#FFA15A",
           "#19d3f3",
           "#FF6692",
           "#B6E880",
           "#FF97FF",
           "#FECB52"
          ],
          "font": {
           "color": "#2a3f5f"
          },
          "geo": {
           "bgcolor": "white",
           "lakecolor": "white",
           "landcolor": "#E5ECF6",
           "showlakes": true,
           "showland": true,
           "subunitcolor": "white"
          },
          "hoverlabel": {
           "align": "left"
          },
          "hovermode": "closest",
          "mapbox": {
           "style": "light"
          },
          "paper_bgcolor": "white",
          "plot_bgcolor": "#E5ECF6",
          "polar": {
           "angularaxis": {
            "gridcolor": "white",
            "linecolor": "white",
            "ticks": ""
           },
           "bgcolor": "#E5ECF6",
           "radialaxis": {
            "gridcolor": "white",
            "linecolor": "white",
            "ticks": ""
           }
          },
          "scene": {
           "xaxis": {
            "backgroundcolor": "#E5ECF6",
            "gridcolor": "white",
            "gridwidth": 2,
            "linecolor": "white",
            "showbackground": true,
            "ticks": "",
            "zerolinecolor": "white"
           },
           "yaxis": {
            "backgroundcolor": "#E5ECF6",
            "gridcolor": "white",
            "gridwidth": 2,
            "linecolor": "white",
            "showbackground": true,
            "ticks": "",
            "zerolinecolor": "white"
           },
           "zaxis": {
            "backgroundcolor": "#E5ECF6",
            "gridcolor": "white",
            "gridwidth": 2,
            "linecolor": "white",
            "showbackground": true,
            "ticks": "",
            "zerolinecolor": "white"
           }
          },
          "shapedefaults": {
           "line": {
            "color": "#2a3f5f"
           }
          },
          "ternary": {
           "aaxis": {
            "gridcolor": "white",
            "linecolor": "white",
            "ticks": ""
           },
           "baxis": {
            "gridcolor": "white",
            "linecolor": "white",
            "ticks": ""
           },
           "bgcolor": "#E5ECF6",
           "caxis": {
            "gridcolor": "white",
            "linecolor": "white",
            "ticks": ""
           }
          },
          "title": {
           "x": 0.05
          },
          "xaxis": {
           "automargin": true,
           "gridcolor": "white",
           "linecolor": "white",
           "ticks": "",
           "title": {
            "standoff": 15
           },
           "zerolinecolor": "white",
           "zerolinewidth": 2
          },
          "yaxis": {
           "automargin": true,
           "gridcolor": "white",
           "linecolor": "white",
           "ticks": "",
           "title": {
            "standoff": 15
           },
           "zerolinecolor": "white",
           "zerolinewidth": 2
          }
         }
        },
        "title": {
         "text": "Total Explained Variance: 100.00%"
        }
       }
      }
     },
     "metadata": {},
     "output_type": "display_data"
    }
   ],
   "source": [
    "    Testt_pca = Xs\n",
    "    Testt_pca['beta'] = beta.flatten()\n",
    "    Testt_pca['beta_T_F'] = 1\n",
    "    Testt_2t_pca = Xt\n",
    "    Testt_2t_pca['beta_T_F'] = 2\n",
    "    Testt_2t_pca['beta'] = 2\n",
    "    Testt_pca = Testt_pca.append(Testt_2t_pca)\n",
    "    \n",
    "    pca = PCA(n_components=3)\n",
    "    components = pca.fit_transform(Testt_pca.iloc[:,:-1])\n",
    "\n",
    "    total_var = pca.explained_variance_ratio_.sum() * 100\n",
    "\n",
    "    fig = px.scatter_3d(\n",
    "        components, x=0, y=1, z=2, color=Testt_pca['beta'], symbol=Testt_pca['beta_T_F'], color_continuous_scale= [(0, \"red\"), (0.7, \"green\"), (1, \"blue\")], #\"Bluered_r\",\n",
    "        title=f'Total Explained Variance: {total_var:.2f}%',\n",
    "        labels={'0': 'PC 1', '1': 'PC 2', '2': 'PC 3'}\n",
    "    )\n",
    "    fig.update_traces(marker_size = 3.5)\n",
    "    fig.show()"
   ]
  },
  {
   "cell_type": "code",
   "execution_count": 396,
   "metadata": {},
   "outputs": [
    {
     "data": {
      "application/vnd.plotly.v1+json": {
       "config": {
        "plotlyServerURL": "https://plot.ly"
       },
       "data": [
        {
         "hovertemplate": "color=df_es<br>PC 1=%{x}<br>PC 2=%{y}<br>PC 3=%{z}<extra></extra>",
         "legendgroup": "df_es",
         "marker": {
          "color": "#636efa",
          "size": 3.5,
          "symbol": "circle"
         },
         "mode": "markers",
         "name": "df_es",
         "scene": "scene",
         "showlegend": true,
         "type": "scatter3d",
         "x": [
          -16348.980539914994,
          -16310.841994430499,
          11929.717386247316,
          7987.662574323365,
          -3193.8034342316396,
          4176.062354576461,
          -1557.2344753814452,
          12975.035833734793,
          13054.200341049738,
          6175.167705602396,
          6631.497781739734,
          3350.5707117085944,
          13825.235457824478,
          -6921.956935863763,
          4621.192707303943,
          5361.338649856845,
          7073.843341951217,
          6694.769744551833,
          -17141.18590291856,
          -19312.473237806316,
          362.9087301117767,
          -17447.042997245608,
          10857.353615915295,
          -18233.761592778035,
          10414.447422079607,
          18359.42995014998,
          18339.335403808083,
          14663.43791003528,
          -5156.475496168544,
          -5156.475437460562,
          7506.919457826648,
          -2376.1302148239965,
          -15152.616065551341,
          5086.805839680437,
          17233.238284833602,
          7913.899258940856,
          -12751.476179062169,
          27127.045612300484,
          -7131.3066754170595,
          9123.678672390062,
          -9648.77235783706,
          -1408.4372646341892,
          -904.2619001052503,
          12042.894959830663,
          -8922.237234632163,
          5127.553140131291,
          7559.724036579511,
          9260.364590184849,
          2549.2499569920606,
          6826.528937487216,
          -1695.674899838205,
          13909.252885253487,
          -8642.631234466047,
          -3180.397149264884,
          13079.949023923586,
          -838.1540422454211,
          -4625.978501510117,
          4508.655192976934,
          7116.2636025533775,
          -1443.48279335002,
          -1385.5596148293332,
          16720.670925770977,
          7538.861455536676,
          -12458.962924277565,
          -6039.769806859976,
          -9325.826726523721,
          18744.96863052756,
          7421.83265649962,
          14797.179995952798,
          15256.795804471512,
          -2283.3389581059914,
          25723.05244648259,
          13489.040970418635,
          17289.595144417704,
          20436.571854377322,
          12968.461331029146,
          8842.53714796189,
          6252.552261495176,
          17181.22832921123,
          17796.42365789783,
          29690.41489854008,
          -16820.142046364243,
          14542.393499933127,
          -1526.1785265556734,
          4390.303259947827,
          11147.794543183476,
          11355.907214944746,
          10334.250441505763,
          15721.316296244513,
          -19109.115258080306,
          8720.321046953835,
          7172.792501230765,
          11159.067628741428,
          10322.718764811127,
          10878.04828003578,
          3208.9322294919584,
          18438.967967058044,
          8949.604052722903,
          12147.706837528987,
          8264.385178112952,
          5234.782563519633,
          18015.63943103252,
          15433.53725273691,
          12362.616911186959,
          11567.676818317705,
          -353.3201227384926,
          11858.96538856432,
          3791.7802168216676,
          3734.8199439599252,
          -19181.095233937584,
          6397.471994569764,
          -17377.488240729323,
          3919.7422647303133,
          16949.182097541885,
          9778.702431049887,
          12195.973696305058,
          8846.749884353098,
          10460.696037188649,
          3768.899702446159,
          3181.13728774638,
          15465.002160404465,
          9243.211089211421,
          13385.923215216857,
          20253.57804012879,
          16601.36359837357,
          6196.969514283474,
          -14060.595895531153,
          1983.1846108110135,
          3502.4218129245296,
          -19073.278968489994,
          3270.30007941951,
          -20172.39883543981,
          -19724.037673135463,
          -16827.15620500625,
          -18809.396637667753,
          -20418.855199811376,
          -20143.43422469664,
          -19924.10630153301,
          -9710.533874558978,
          -20172.39883543981,
          -19511.87746748539,
          -1678.0172043816476,
          -6611.73701005182,
          -19568.77509243267,
          -20021.343955730525,
          -6298.446511016369,
          -3100.0746214209116,
          -6323.523950521013,
          -6887.775993417593,
          -5844.051268671889,
          -17584.1197272179,
          -10849.0861963171,
          1807.1542341355669,
          -2607.091243336075,
          4227.6789692628345,
          -6207.888089615513,
          -2453.060231907165,
          -510.68053085593243,
          -2349.33061023472,
          -19579.896732752408,
          -21844.477594704484,
          -18278.298740149927,
          -17419.027691314594,
          19039.93774972174,
          5633.744471927639,
          8950.113925616562,
          17318.811301355494,
          -18360.87560673957,
          -19026.67753741501,
          -17746.266025551296,
          -18585.380016565607,
          11090.108246381727,
          -6442.5790090378305,
          13511.202185124834,
          5349.122467431384,
          8591.82119154549,
          3949.267987039011,
          8394.758468439919,
          12525.920836665468,
          16349.575091470633,
          15495.688492756604,
          7569.214256221134,
          14512.525309133596,
          14316.45415077097,
          11119.485401183167,
          6604.499417796487,
          3538.463500490803,
          11482.952836911063,
          11331.685512850307,
          -18527.323517950004,
          13230.231764018967,
          13499.28037367264,
          20270.67153943765,
          -16469.799322977135,
          -19808.014330745547,
          -10734.540780623265,
          -21083.53301009407,
          -19785.70013018755,
          -20816.883762733913,
          -20816.883762733913,
          -20678.77663892146
         ],
         "y": [
          -8176.695310813832,
          -8397.906139437153,
          -4617.114684733741,
          -4293.397302139293,
          -5209.809686457155,
          -5050.7658229453145,
          -4486.612159530441,
          -4820.270574518616,
          -3858.7010142449176,
          -2925.1341144208895,
          -3430.1223249137483,
          -3153.9532218950885,
          -3553.1786916762267,
          -5557.855015894151,
          -3651.518928327705,
          -4439.023472980874,
          -5679.6440673272455,
          -6006.5418338591135,
          -13988.48303607559,
          -392.20253080245465,
          -2920.9759304269915,
          -12171.173459112117,
          -5197.010722189509,
          -5761.62185318333,
          -4169.775855157937,
          -1535.1805577377286,
          -3001.9993381689483,
          -4683.940446363333,
          -4952.611870934763,
          -4952.611847803426,
          -6840.5205710696855,
          -103.533410960058,
          -3305.38580982675,
          -83.01584366814298,
          1531.0978001683827,
          -3932.8782879346936,
          -4621.0402648797435,
          -644.6099393728905,
          -1558.53869182964,
          -1405.8097724008505,
          -1462.2467258001902,
          397.57969520972705,
          -633.156522433758,
          -973.4278521170044,
          -3005.6055900201764,
          199.56761094128817,
          -2783.8363642762356,
          -2468.8945191853463,
          -692.7400654052335,
          -1619.8945107686407,
          -2695.4258959281296,
          -632.4278104193456,
          -1464.9118368354943,
          -2661.4866932754644,
          1381.3532113842712,
          -432.39900506048696,
          -740.7164813909283,
          -491.83998671488735,
          940.6192457499313,
          -562.2059603623926,
          -3684.460226386761,
          904.0758590645814,
          -396.7747977177644,
          -1459.2411145160966,
          2289.6263942483483,
          1801.2939760611002,
          2861.5098659784917,
          1727.8228953055043,
          1741.8976776466632,
          2446.6321731326143,
          985.6543733383204,
          3174.6228487310987,
          2183.9424132946565,
          2175.931744389996,
          2389.0152120165462,
          2042.9319959791446,
          1938.9493793678864,
          1617.708312862382,
          2478.0477353097012,
          2505.8213441656912,
          617.7971837521892,
          -4824.447740609134,
          -2375.0320467581178,
          7749.933942307398,
          -3528.4805626205903,
          -4444.718177934294,
          -4095.5710208544892,
          -3393.1931894598556,
          -2094.31475919603,
          -2250.508655761957,
          1885.154655314201,
          -2399.167707021866,
          -1371.1908147775955,
          -489.85868981576766,
          -1540.2417936769561,
          -1231.8103967499296,
          -496.0021981268652,
          -1659.6811672240872,
          -2115.2994206536996,
          -1928.6503363609381,
          393.0883154333265,
          -3.6647255642943897,
          -191.58991051504617,
          179.44142934145123,
          -1084.3037569888065,
          -182.77103026431305,
          677.3956234255625,
          -683.964786867642,
          -3228.3016587748193,
          -2240.599368891981,
          1608.478293005435,
          -12587.3287441857,
          -1253.4680408599509,
          -971.9739524451231,
          -1894.550537764716,
          -168.43177699536113,
          -724.9147711830042,
          -660.284872614097,
          -1275.8868882457766,
          151.54332132067432,
          -505.1341665467304,
          -156.83312700507824,
          -182.5275704697496,
          142.84051041611366,
          -3623.179898046023,
          -3462.0299887357637,
          -911.16758465898,
          2626.4009928647006,
          4331.393948311175,
          -1174.739863842088,
          4858.360040075976,
          3991.3474903042334,
          2701.440581310821,
          5522.907086165612,
          5112.140664707018,
          6341.245106977491,
          11726.606004854206,
          3749.4834545158255,
          9790.849619986207,
          3991.3474903042334,
          471.0044184005392,
          8417.637985497155,
          6920.716154022566,
          2726.610184824054,
          2532.065701508373,
          9661.461455103792,
          6806.128604454694,
          6085.216824246521,
          6943.335797819548,
          10977.578262729618,
          4464.355086760056,
          6540.719991801209,
          6657.047094511766,
          6628.896193944935,
          7398.621716221649,
          7184.361023090021,
          7661.13814034298,
          6503.528240233909,
          6548.519941868444,
          5069.8959911482025,
          15527.856106730842,
          -6222.994557590767,
          -12296.908592659507,
          -2103.961787528579,
          -2412.3498303120423,
          -2882.8483977951605,
          -1038.8150180842003,
          -5340.563721512187,
          -2724.909210214739,
          -10337.071807301838,
          -3246.443112468323,
          -5328.117230344536,
          -1643.9285437560982,
          -4193.495960763517,
          -3713.242163883025,
          -3627.5095740206443,
          -4718.219211137828,
          -4317.057457319169,
          -1829.2624241243473,
          -2163.1543403914616,
          -2086.2676761350294,
          -3412.9676341410236,
          -1597.6878432920425,
          -4348.756826767922,
          -3619.463106691301,
          -2709.2130374016933,
          -2592.061520799195,
          -1307.9497104195514,
          -1196.9287313047685,
          -4223.807055583654,
          -3491.8465011595185,
          -4093.2016339475936,
          -818.3120418820206,
          -7051.090677399618,
          2013.2094007017276,
          7925.703788137506,
          11923.466353026824,
          1858.0761621259828,
          10526.631548236765,
          10526.631548236765,
          9803.155207655183
         ],
         "z": [
          3145.8668731552466,
          3166.136373186852,
          2044.3143399873388,
          1866.6822252705258,
          2792.4973895095704,
          2205.7272324378773,
          2722.6506297051483,
          1666.8787422664384,
          1557.5861412695428,
          2678.4935396569394,
          2785.3308000309003,
          2847.4691581725906,
          1451.3032821499964,
          3111.678884256924,
          2180.760562100523,
          3504.655780358554,
          1516.2210715528488,
          1183.6831814459517,
          -172.47917713562498,
          2851.2306345046145,
          2096.512855373696,
          -728.5404810546704,
          817.766664079772,
          4770.435027958508,
          1141.5196332620349,
          1670.9411329126583,
          2034.786853321029,
          1099.779629465606,
          1733.2364881718302,
          1733.236411910372,
          1357.7986697982788,
          2856.1394592756556,
          5216.280564943806,
          3682.5720912696106,
          2799.9867870826256,
          1393.3027073688208,
          3718.1897199989867,
          1348.608421942599,
          3940.360681441046,
          2121.179500744411,
          2881.771334576047,
          1886.5375649301934,
          3463.66459403531,
          1690.8629122907914,
          3234.859412854276,
          3017.664216346827,
          2524.4518958230033,
          2171.6675883126536,
          3341.0572135703114,
          2265.5289899603877,
          2870.672534030066,
          1532.2387437968844,
          3977.297003344548,
          2921.323548582753,
          2408.8859632186054,
          3411.348742941616,
          3638.3054439703983,
          3351.814893907711,
          2755.1596504648523,
          3561.729628660132,
          2360.9432985793273,
          2382.2152162025586,
          3069.3637609356765,
          4127.675891105329,
          3632.0453557744595,
          3883.602168621462,
          2504.7600169088014,
          3141.514427782525,
          2844.692836442889,
          2652.0003250937057,
          3711.1976986671593,
          2055.548831609028,
          2787.3177209391542,
          2638.1432995651794,
          2460.2427255200346,
          2842.922435188445,
          3032.7560952752833,
          3215.2730973320627,
          2567.6802675440135,
          2536.3386941855106,
          750.5264674312219,
          3094.9708329109885,
          883.5086178408919,
          1663.1318001470318,
          1064.1743448665954,
          461.8136982821604,
          367.1226572016634,
          161.1183357084977,
          126.70352866049032,
          1682.5127545502576,
          -447.9170672030566,
          40.826203734025675,
          1125.3441922059487,
          1406.6734388179075,
          1178.3612593260427,
          2040.2101914673967,
          1252.3720671866665,
          1190.4403783451644,
          1270.1905294771386,
          1378.4437417559325,
          2023.6722200188995,
          1745.3952322345726,
          1762.758457734753,
          1793.057100082866,
          2137.459556247142,
          2388.4494022880367,
          1689.8450641760646,
          1248.2631791248589,
          382.77221228231946,
          917.8851937996884,
          -418.90655999133077,
          -599.7884651320062,
          2017.2981991701847,
          1429.4273165653767,
          1309.776083151574,
          2017.6455853846426,
          2156.7283998354646,
          1443.3662256351433,
          2028.8483796657747,
          2165.1329104797283,
          1839.1092426665298,
          2000.3498287484524,
          1973.807216006283,
          1488.2825972251817,
          601.9582499541059,
          415.497477424006,
          3324.8545635542873,
          -523.3219853123761,
          124.08822164220268,
          2752.3962441533304,
          -1244.5662440369806,
          -980.3729939167447,
          950.3778895282173,
          -423.53012711990976,
          317.3505050690015,
          77.1590360676823,
          1141.0080124025903,
          698.9368980907639,
          1765.5435876780748,
          -980.3729939167447,
          -72.780769942381,
          -224.82517666697973,
          341.89299005539107,
          -68.40561842768214,
          -2.2561350568997223,
          1661.8603982911254,
          230.58431188845248,
          71.02070928311105,
          347.2733498956021,
          -692.7158047659664,
          359.66804956659865,
          736.3246416064133,
          -393.8854998052565,
          -702.4503074248425,
          -673.6944305022372,
          -205.61782029104307,
          125.09144759503442,
          -263.7018342944805,
          -201.70983182388946,
          849.5497692446154,
          -1972.5359529829152,
          3817.445145775464,
          -710.1029106260934,
          -2227.4519956604304,
          2389.4747101465327,
          1747.7203175544503,
          1810.8163947694495,
          4294.557388663337,
          2331.5857587030077,
          -1317.3878510980846,
          5197.899352721432,
          1142.3500519963673,
          4549.06907057111,
          1325.614985916914,
          1229.9897182295826,
          519.4234588883185,
          1034.8934069706825,
          890.6619927307996,
          1975.751544039764,
          1345.9290408778,
          1459.415965928548,
          2564.850865178943,
          1839.42494682556,
          898.7833649163667,
          977.2769379222639,
          2429.0394668453964,
          2521.996885529735,
          1794.0175641928085,
          2464.795435841941,
          4401.503751784727,
          729.8907966740397,
          999.8874556586505,
          1883.7010812249393,
          3630.2412060906986,
          -5145.491716058344,
          2969.5309031407046,
          2109.15460051633,
          -5086.93475517226,
          2444.268150749794,
          2444.268150749794,
          2617.835674961311
         ]
        },
        {
         "hovertemplate": "color=df_be<br>PC 1=%{x}<br>PC 2=%{y}<br>PC 3=%{z}<extra></extra>",
         "legendgroup": "df_be",
         "marker": {
          "color": "#EF553B",
          "size": 3.5,
          "symbol": "circle"
         },
         "mode": "markers",
         "name": "df_be",
         "scene": "scene",
         "showlegend": true,
         "type": "scatter3d",
         "x": [
          18427.443845165577,
          -5435.510497610626,
          3992.4624722479552,
          11490.196730308882,
          2979.0632939618736,
          -1939.825423839132,
          789.1655741194242,
          -4111.471717174274,
          6320.152580591222,
          -7828.170596022369,
          2193.8343310927858,
          30555.830189738255,
          -10524.47899425435,
          -11994.336776392312,
          -8596.964015622201,
          -10802.144188406428,
          6015.0453979622625,
          315.2720000126613,
          -13997.817713200588,
          -450.13168147819465
         ],
         "y": [
          -4619.953554103976,
          -6780.7474733124145,
          -5341.92673061763,
          3605.3117122245094,
          7845.6383142878985,
          -1489.579427480225,
          -4164.427453932485,
          -4814.915425432881,
          -3496.504050775038,
          1049.6397710623542,
          -616.2769214332739,
          2098.8304805672765,
          -5349.971952257273,
          -3046.330001218726,
          -3125.191567400964,
          -4288.4537977082855,
          -884.6512965847618,
          9058.494234322769,
          -5140.0304323943565,
          8017.8608771439
         ],
         "z": [
          1567.819741454867,
          3051.701566911382,
          565.5122889351105,
          3892.4975348544262,
          3318.94779444297,
          1491.8699879544286,
          2045.3568568716669,
          2401.2618991321087,
          1660.0651597557712,
          4034.3275643672164,
          2446.9694250016164,
          4838.004272015089,
          992.2186688798083,
          480.52681257105047,
          364.9240738794451,
          740.5363829250186,
          -445.84111391849524,
          5752.624065861036,
          4147.646601201701,
          4357.780350947593
         ]
        },
        {
         "hovertemplate": "color=df_fr<br>PC 1=%{x}<br>PC 2=%{y}<br>PC 3=%{z}<extra></extra>",
         "legendgroup": "df_fr",
         "marker": {
          "color": "#00cc96",
          "size": 3.5,
          "symbol": "circle"
         },
         "mode": "markers",
         "name": "df_fr",
         "scene": "scene",
         "showlegend": true,
         "type": "scatter3d",
         "x": [
          -6589.901056528201,
          78227.8468988329,
          10098.470656659823,
          4499.579090813202,
          -3457.8621992006847,
          -3.9143184527087715,
          -717.3073159040023,
          -10007.25565033112,
          1150.6758248311955,
          2843.3709922077524,
          -16547.737816708603,
          -2631.8610855576117,
          3347.827096617524,
          -13406.77847669552,
          -1496.9943106652113,
          -367.84424251905426,
          -1738.595514163098,
          -12553.464881116988,
          832.097010256296,
          3219.9831153662017,
          1078.7011927667972,
          3266.279627919551,
          -5008.29665492324,
          -14028.84617371195,
          -12437.125530580026,
          -9357.46194794998,
          -16579.325172319303,
          -12852.731220442285,
          -6476.280667698151,
          -8191.980334880832,
          1555.4737398521547,
          969.5559085410188,
          1645.894233745693,
          1924.6997619769531,
          -12287.06016127488,
          1014.0430631551029,
          -3849.8846194202024,
          -9270.570107661755,
          -10769.655795256827,
          -11852.807495077539,
          -346.18954659512144,
          -14580.713243033537,
          -4274.859770006603,
          -9007.084377419767,
          -11028.328979654983,
          -358.58870717282434,
          -6412.475919812639,
          -2520.332368601472,
          -9616.29369510949,
          -8687.643655548249,
          -1922.9062913978364,
          2655.7643274094667,
          -5139.209671622396,
          -2207.3861198945065,
          -6644.537296662622,
          -1903.8040160921373,
          -2151.0664010187966,
          -9194.772828157702,
          1229.1857938510404,
          518.1108755800109,
          75.76318182304762,
          -8505.311817265858,
          109.4828198316841,
          882.232389575684,
          711.7559886820763,
          1603.1907386875675,
          234.57201593764802,
          1578.4174315801824,
          1181.6709093752602,
          2318.756604460804,
          -2698.18807915936,
          -11069.114236668096,
          1526.7010963494008,
          1539.186594412563,
          11857.521973270104,
          141.98162598137708,
          894.5667025341717,
          9908.175097278474,
          9986.698833539918,
          250.21580477374093,
          403.7236104405182,
          -9946.942862492142,
          1738.0838223716773,
          18716.69283937103,
          17102.416210546606,
          2845.8392014247315,
          6590.760070726517,
          -3425.645510141124,
          -16007.076737839283,
          -2304.5410373450113,
          1228.0937887863026,
          2221.680696322197,
          -10157.519117015185,
          -8001.489953521049,
          6390.234573890899,
          1843.5049759979893,
          6419.870834365286,
          16559.02817675839,
          338.2998632696705,
          4084.806628221014,
          -11285.77524964538,
          124.10939538144379,
          -1713.7680678871598,
          -2871.559851709967,
          551.100435977085,
          191.85312407594927,
          2678.124632565278,
          138.54291688420676,
          2930.1469248988947,
          771.3533302182011,
          271.22049888145335,
          499.7448647567278,
          -1436.5015700603544,
          1290.8980085190512,
          264.63998662609805,
          2155.8791749077195,
          227.6342445887311,
          -2037.4271293164722,
          975.9018822824534,
          5771.793847214686,
          -4918.196299302338,
          -2660.531592459656,
          -3020.0068263533367,
          -4735.335430949646,
          -3061.0932609588217,
          -1427.9248409130967,
          4438.563053907738,
          3081.240721074832,
          670.4739747131321,
          -275.26737660864006,
          4296.133936462579,
          10735.815024905054,
          -9088.335718587361,
          3027.3066664466623,
          -7696.177079613074,
          5357.470639389538,
          10355.688131001694,
          -9206.278158628122,
          -11108.303724328705,
          49.021937575644984,
          2081.934851359555,
          -11007.0397424665,
          178.44705266342143,
          990.9765278287758,
          -840.7254697170997,
          -1120.0717296067628,
          1152.2558731789527,
          600.3489801095736,
          -374.20680961314935,
          1554.1413433166256,
          -916.6463162408402,
          -3680.944443514804,
          -6207.882663631114,
          -9346.84113167096,
          -5132.9506043003985,
          3939.108242817814,
          -7743.50802431553,
          -11434.397651146859,
          -9443.02385715535,
          972.6010308021528,
          1463.1293506217053,
          259.9462316650361,
          -9434.68557249419,
          -9649.113159215485,
          -9790.874058571975,
          -1261.6050171235129,
          -9520.456503772608,
          782.2010583149388,
          4033.045824663439,
          -9320.324133880235,
          834.7858379313222,
          -4407.533874039669,
          -3290.2450296301904,
          -2256.611177035927,
          3167.3354417778196,
          7119.5161562901,
          -9180.171587985815,
          3281.778713422322,
          3386.036918882737,
          -1343.5355754432383,
          -15202.74495553963,
          -10476.178532422255,
          4602.089072917989,
          -13663.075801051877,
          13872.756669737731,
          -7214.081935045819,
          -15380.176560677068
         ],
         "y": [
          -3396.8090152020163,
          8440.488300752295,
          -3220.678852397064,
          -3840.9359895918524,
          -4311.128993039465,
          -3868.4399185861166,
          -4295.327791820808,
          -3930.3185508103124,
          -3144.9490721096217,
          -2797.140494709428,
          -5428.519466810539,
          -3103.8264280323506,
          -3697.63988971056,
          -5141.434731108948,
          -3461.4088415118335,
          -4750.381908787303,
          -4389.3376182387765,
          -4937.619925378513,
          -4174.172166345597,
          -4127.355052656059,
          -3925.7478268838568,
          -4088.385150316718,
          -4554.371858890196,
          -5111.952020744757,
          -4766.311332340881,
          -5130.089754778316,
          -4168.957453586998,
          -4718.97769513337,
          -4188.5278608574745,
          -4591.097552462905,
          -4150.101404680956,
          -3858.546211492894,
          -3758.0376188293017,
          -4018.2220094680442,
          -4750.43324724956,
          -3794.1743029506174,
          -4042.0943974666743,
          -4443.344089446091,
          -3973.0222925365883,
          -4884.839908977514,
          -3174.869034037602,
          -4924.42535316755,
          -4227.1749771351015,
          -4442.693206998923,
          -836.4540898922882,
          -303.3300158003865,
          -452.13350552121955,
          -605.3276925491397,
          -1095.0925629429348,
          -1046.9362414490056,
          -176.4165647930717,
          -22.225903856237434,
          -615.8765302876984,
          -417.6318284060668,
          -659.8916641231847,
          -154.32537166815493,
          -505.5246506736458,
          -987.5318089579441,
          -266.31524668213683,
          254.67383815254374,
          240.28036432483395,
          1181.464615276527,
          -69.15875619497412,
          -409.96706107558094,
          116.60417207515309,
          428.7640203877579,
          -108.32911440923608,
          213.3061026857572,
          475.22308591639313,
          79.45848417459747,
          431.29464205861075,
          1656.8663920723661,
          404.5602591892989,
          201.0611101429059,
          2625.2712935443346,
          275.7912069527776,
          438.97007306182087,
          1335.649238876553,
          -946.4858482414744,
          -933.8581280864194,
          5896.7163153340225,
          -2047.6919504433022,
          -1049.229910194083,
          -194.6337952706724,
          -793.9067546483964,
          -1487.8535022672315,
          -636.127243672001,
          -1431.5489608434596,
          -2556.8057191583057,
          -1669.2440064466161,
          417.9395865515591,
          2656.5109475806926,
          -2245.842390172301,
          -2413.1668143665506,
          5830.150097739794,
          194.94253544544455,
          -626.6717661616212,
          2468.2142266999144,
          -99.33643420398073,
          -1355.07557650923,
          -2278.7417403871814,
          61.35959412739146,
          -1279.8292993548866,
          -1195.1870207634706,
          676.7168952026592,
          296.03992008425337,
          363.892656903859,
          4901.104271253291,
          -233.98819372258242,
          2011.0129625801937,
          230.8230288042923,
          271.20148690396854,
          4468.1031759279795,
          35.8130136715796,
          2519.6998997962414,
          369.712857500913,
          76.73971443592646,
          -401.04641566958384,
          66.00776633859067,
          2542.3360897065604,
          1807.2517346358582,
          2206.936409967563,
          2674.5080813439195,
          3369.4002921745787,
          2411.7104823643567,
          1961.31677644971,
          2916.5423482093593,
          2798.271345848005,
          2292.4058770045044,
          2498.411604685363,
          2786.2882132087275,
          4153.982293802852,
          -383.5639369236484,
          2719.6575282844724,
          1177.4226780714428,
          2250.917480695667,
          2204.336179362022,
          234.24923793035728,
          1344.1931608841423,
          2610.77047337912,
          2944.9705149735896,
          813.7431954242088,
          862.0375079871554,
          2583.905873392524,
          2677.4951071331243,
          2122.580681084264,
          2466.6832503487826,
          2532.270828253777,
          5491.74011642307,
          2815.194274512036,
          2512.19812696247,
          2557.040810394764,
          2367.624908823936,
          970.6205705895571,
          1994.7131063909449,
          2675.475475472646,
          1705.9057312159189,
          3332.9513943969273,
          1754.969501083569,
          3135.9523415390877,
          1867.5854120329118,
          2747.6747344194378,
          1711.2887413364572,
          2834.571322728622,
          3577.188434497916,
          2592.1515827925205,
          2160.6018301945946,
          3203.914856467938,
          3154.3627721729504,
          1112.2047278099983,
          3417.083837996936,
          2798.481083802727,
          2926.0130310593204,
          6179.265314949637,
          3243.900308690692,
          8018.640058345969,
          3129.9354452126977,
          8019.6780125927435,
          10716.178836858335,
          9346.235247060971,
          7065.5912409524835,
          -5058.629360148732,
          -4294.82626788048,
          -6289.485539943178,
          -1487.8008542912992,
          -415.5132001637,
          16233.474783080152
         ],
         "z": [
          -4070.4774645350462,
          -4393.314212500139,
          -4777.807949553028,
          -4401.613457542284,
          -3968.7519483667397,
          -4215.691291030787,
          -4081.6610743235146,
          -3802.522827860197,
          -4440.677957550617,
          -4594.083980415288,
          -3171.582158332821,
          -4300.411261886435,
          -4391.271337316704,
          -3367.5618555495444,
          -4257.045918110329,
          -3982.9342554925393,
          -4017.7772776536517,
          -3451.9420045845527,
          -4173.273302958482,
          -4279.831879262401,
          -4244.56603334347,
          -4291.318681530865,
          -3846.884930585917,
          -3350.1156071612304,
          -3498.967895303959,
          -3531.4208851879303,
          -3482.0728167703724,
          -3494.1558942523734,
          -3879.0461329870514,
          -3711.172721963221,
          -4207.998550659551,
          -4256.855166697717,
          -4308.630468565706,
          -4255.3236626965845,
          -3508.86628220821,
          -4274.558808107087,
          -4019.7467760729496,
          -3704.843626468704,
          -3761.630275344116,
          -3492.8716487724887,
          -4373.73890645392,
          -3374.5813485587573,
          -3957.038594286533,
          -3715.484149806929,
          -4680.966501693735,
          -5237.273406759726,
          -4959.667294724555,
          -5076.551501184781,
          -4673.1112464018925,
          -4721.964843897474,
          -5206.467984009755,
          -5426.7348713345855,
          -4969.781398386642,
          -5135.45280174578,
          -4899.017604069681,
          -5212.695387555266,
          -5115.939329916371,
          -4716.497570587654,
          -5309.584062632847,
          -5438.769402278631,
          -5417.613844482473,
          980.2102896191686,
          -5342.372055214304,
          -5288.7559376746985,
          -5412.301356805662,
          -5525.014900653042,
          -5337.651274901113,
          -5470.70418300877,
          -5519.748783271084,
          -5467.021979262429,
          -5354.563190136692,
          1396.1762550813162,
          -5515.981598575672,
          -5466.112344879345,
          244.65282499022206,
          -5429.038374027538,
          -5499.354967399045,
          -6079.775941054896,
          -5400.408400405495,
          -5133.9553196952775,
          -109.48515216216423,
          -4335.050535417133,
          -5046.91281883342,
          -5933.702940848611,
          -5721.180435117129,
          -4982.40956376898,
          -5342.157195252039,
          -4746.913196796177,
          -3968.018830458692,
          -4732.673965226496,
          -5507.415020708034,
          620.1577995041476,
          -4277.63318268775,
          -4321.970803641178,
          -331.1110797583242,
          -5476.701917357094,
          -5455.362854597985,
          -1198.4534800551746,
          -5344.001368253328,
          -5064.548844317493,
          -4224.6172529442465,
          -5375.256360443016,
          -4852.549307881302,
          -4827.450193099778,
          -5544.536750300517,
          -5436.032499105229,
          -5551.7118838032175,
          147.47285066028226,
          -5413.757708108346,
          837.6012193532906,
          -5423.04648336088,
          -5442.131832472864,
          317.2832093280822,
          -5415.3392278075935,
          731.8555209063834,
          -5532.379220728561,
          -5383.177349492269,
          -5174.838732186333,
          -5410.281544228407,
          507.21977547110134,
          1114.319848052541,
          925.6052603382701,
          920.1614662760778,
          816.3936687747977,
          986.8346224965157,
          1033.3554938983314,
          563.6130450548684,
          646.8661942802711,
          867.9526858721977,
          854.5771916686815,
          601.5127451534171,
          6.890258484897683,
          1918.3859807441245,
          668.4713387450258,
          1476.6681618342463,
          691.8081620404149,
          504.5461616651942,
          1770.162263550026,
          1571.1004579663547,
          813.8740138540961,
          650.302265334282,
          1698.3637989944505,
          -5564.885219113484,
          783.056271034881,
          832.7469880301675,
          981.1986661465205,
          805.6545034375492,
          811.3721218679381,
          117.66168720019719,
          703.4135165402008,
          876.6741905516881,
          975.5182924471565,
          1122.9044587906349,
          1593.5067642013146,
          1172.4474546664464,
          643.1383460280499,
          1779.4147543232607,
          1523.5103005611843,
          1834.8606445610803,
          1078.814466514075,
          1373.2291292908262,
          1203.256832555614,
          1845.3399231550627,
          1575.8557883173285,
          1397.6963143145701,
          1302.2681140168434,
          1737.5464031465917,
          1069.5699185252145,
          952.5372386226444,
          1989.064819416398,
          1014.7191395125269,
          1376.3227101416637,
          1300.3213472119542,
          454.0314663362153,
          964.8110624807877,
          -7961.590138489587,
          -6153.304153456927,
          -7809.238505376646,
          -2273.2307631647695,
          -2677.8247485027628,
          -1993.811368033163,
          -3440.4275198976334,
          -4189.946635725245,
          -3009.0402421276194,
          -455.34546240245476,
          -4762.133264609967,
          -1786.50934021371
         ]
        },
        {
         "hovertemplate": "color=df_nl<br>PC 1=%{x}<br>PC 2=%{y}<br>PC 3=%{z}<extra></extra>",
         "legendgroup": "df_nl",
         "marker": {
          "color": "#ab63fa",
          "size": 3.5,
          "symbol": "circle"
         },
         "mode": "markers",
         "name": "df_nl",
         "scene": "scene",
         "showlegend": true,
         "type": "scatter3d",
         "x": [
          -11825.327953477576,
          -21529.584981518172,
          -11382.503921807549,
          -20579.06974051022,
          -10541.605220207588,
          -10539.151114488368,
          23391.720473669902,
          -9216.251870240525,
          -8065.141006978918,
          -6522.404462289311,
          4346.761474557034,
          14333.256131820213,
          16440.28312821624,
          30131.31087981487,
          7380.379680399583,
          -14827.710518769478,
          -12379.925836716387,
          -12412.66737531438,
          -7962.089698435223,
          10944.334328639901,
          -13098.979875245972,
          3623.53272342661,
          11954.829809872705,
          26114.139770903108,
          -10148.322496493007,
          3252.3674332781006,
          -1864.4509879694901,
          -8649.977025456723,
          -4654.889909207709,
          -18900.553869499952,
          -20398.802831619363,
          20024.757544223936,
          5927.561793556892,
          -4437.719221706951,
          -2747.067132064434,
          26792.863919342166,
          -6962.901582160704,
          -7526.593605574194,
          26521.39126648799,
          883.1738771625082,
          -10036.595455205326,
          -22860.765583482895
         ],
         "y": [
          -4606.802523231167,
          -1183.2120596679042,
          33243.8052951908,
          21950.091445530175,
          -2419.9578343168446,
          2262.3444467441504,
          5096.375075720507,
          8978.360624404388,
          7631.604544324457,
          6028.698566972194,
          10075.151487024757,
          5580.203417131373,
          2748.675104036168,
          4992.4762053863615,
          9852.18960572727,
          -5942.188817785198,
          -2268.208769308406,
          -3987.297791972776,
          -9660.431520938935,
          2920.201491308364,
          -4146.058662822371,
          3478.199441901539,
          1272.9532263253361,
          2986.308585316486,
          -3527.2240120352694,
          74.12197273988902,
          1751.13495362974,
          10340.447658708645,
          9074.365049178628,
          4430.09637084594,
          -4557.254230605233,
          9823.075988302131,
          11624.353516368721,
          11082.64275222014,
          10601.975922689238,
          9973.114806604439,
          9752.714911737175,
          10623.614571093744,
          7055.944437396737,
          3455.5480078449027,
          -2938.557403620747,
          7219.737555958749
         ],
         "z": [
          2010.554600028374,
          3479.882853493441,
          -1283.4121550468822,
          1877.5482723664477,
          895.7864629945649,
          2147.8511925801126,
          -100.8613871928862,
          1129.9647118590794,
          148.8863442833955,
          -1258.0991770351432,
          -949.5419508174016,
          -339.03397395056294,
          -1511.4691374160186,
          -2611.3337882674623,
          3098.9977747043613,
          4199.4767072423065,
          3192.8113764685972,
          2663.6514865276117,
          1263.0961422392008,
          4672.9109819495825,
          1836.6036165409005,
          -715.4903901291889,
          -501.04603603572167,
          -1488.2514235086999,
          395.4232764607113,
          141.78117739394796,
          -69.77133813296729,
          7825.599955440843,
          7980.060918639084,
          9696.101092674362,
          1302.909263156733,
          -1007.4565578374409,
          -892.5943538757509,
          -522.6532334133979,
          -470.92942727266757,
          -1490.157572850687,
          -93.06368386272044,
          -286.1919600720818,
          -757.361061442706,
          1153.4300444047713,
          5953.066846758174,
          5446.639066139295
         ]
        },
        {
         "hovertemplate": "color=df_pt<br>PC 1=%{x}<br>PC 2=%{y}<br>PC 3=%{z}<extra></extra>",
         "legendgroup": "df_pt",
         "marker": {
          "color": "#FFA15A",
          "size": 3.5,
          "symbol": "circle"
         },
         "mode": "markers",
         "name": "df_pt",
         "scene": "scene",
         "showlegend": true,
         "type": "scatter3d",
         "x": [
          20728.882305214014,
          -6582.193850175491,
          -4092.645341159567,
          -2246.4152536635324,
          -2977.6909042333687,
          1649.6930902908082,
          3602.964324127049,
          -2493.4431819479023,
          37.825135992697156,
          -3376.1881448627005,
          4967.978003745463,
          2027.9651756013366,
          -595.4431265896582,
          1211.1586533064801,
          5356.195611252043,
          1945.231862367433,
          8703.988642357186
         ],
         "y": [
          783.056176567077,
          -8952.115757513555,
          -8896.113086246087,
          -8433.753985262849,
          -8368.630741440265,
          -7789.784163577637,
          -7691.646465616126,
          -4712.451712940123,
          -7966.147809108826,
          -5043.574470889972,
          -7273.761303377209,
          -7774.3393810547,
          -8074.518098244602,
          -7850.710244719888,
          -7092.653407023336,
          -4260.413903270307,
          -3247.028669384185
         ],
         "z": [
          699.6698210944963,
          4490.6655451227125,
          4377.789674440956,
          4189.926904800012,
          4202.893506687757,
          3875.5886077694163,
          3773.6131826996025,
          3278.731314478786,
          3983.346205186593,
          3395.793001504982,
          3615.8968116089945,
          3856.7211080528114,
          4035.3544177016797,
          3908.108987122955,
          3555.632428400985,
          2990.3153275778436,
          2470.690817622767
         ]
        }
       ],
       "layout": {
        "legend": {
         "title": {
          "text": "color"
         },
         "tracegroupgap": 0
        },
        "scene": {
         "domain": {
          "x": [
           0,
           1
          ],
          "y": [
           0,
           1
          ]
         },
         "xaxis": {
          "title": {
           "text": "PC 1"
          }
         },
         "yaxis": {
          "title": {
           "text": "PC 2"
          }
         },
         "zaxis": {
          "title": {
           "text": "PC 3"
          }
         }
        },
        "template": {
         "data": {
          "bar": [
           {
            "error_x": {
             "color": "#2a3f5f"
            },
            "error_y": {
             "color": "#2a3f5f"
            },
            "marker": {
             "line": {
              "color": "#E5ECF6",
              "width": 0.5
             },
             "pattern": {
              "fillmode": "overlay",
              "size": 10,
              "solidity": 0.2
             }
            },
            "type": "bar"
           }
          ],
          "barpolar": [
           {
            "marker": {
             "line": {
              "color": "#E5ECF6",
              "width": 0.5
             },
             "pattern": {
              "fillmode": "overlay",
              "size": 10,
              "solidity": 0.2
             }
            },
            "type": "barpolar"
           }
          ],
          "carpet": [
           {
            "aaxis": {
             "endlinecolor": "#2a3f5f",
             "gridcolor": "white",
             "linecolor": "white",
             "minorgridcolor": "white",
             "startlinecolor": "#2a3f5f"
            },
            "baxis": {
             "endlinecolor": "#2a3f5f",
             "gridcolor": "white",
             "linecolor": "white",
             "minorgridcolor": "white",
             "startlinecolor": "#2a3f5f"
            },
            "type": "carpet"
           }
          ],
          "choropleth": [
           {
            "colorbar": {
             "outlinewidth": 0,
             "ticks": ""
            },
            "type": "choropleth"
           }
          ],
          "contour": [
           {
            "colorbar": {
             "outlinewidth": 0,
             "ticks": ""
            },
            "colorscale": [
             [
              0,
              "#0d0887"
             ],
             [
              0.1111111111111111,
              "#46039f"
             ],
             [
              0.2222222222222222,
              "#7201a8"
             ],
             [
              0.3333333333333333,
              "#9c179e"
             ],
             [
              0.4444444444444444,
              "#bd3786"
             ],
             [
              0.5555555555555556,
              "#d8576b"
             ],
             [
              0.6666666666666666,
              "#ed7953"
             ],
             [
              0.7777777777777778,
              "#fb9f3a"
             ],
             [
              0.8888888888888888,
              "#fdca26"
             ],
             [
              1,
              "#f0f921"
             ]
            ],
            "type": "contour"
           }
          ],
          "contourcarpet": [
           {
            "colorbar": {
             "outlinewidth": 0,
             "ticks": ""
            },
            "type": "contourcarpet"
           }
          ],
          "heatmap": [
           {
            "colorbar": {
             "outlinewidth": 0,
             "ticks": ""
            },
            "colorscale": [
             [
              0,
              "#0d0887"
             ],
             [
              0.1111111111111111,
              "#46039f"
             ],
             [
              0.2222222222222222,
              "#7201a8"
             ],
             [
              0.3333333333333333,
              "#9c179e"
             ],
             [
              0.4444444444444444,
              "#bd3786"
             ],
             [
              0.5555555555555556,
              "#d8576b"
             ],
             [
              0.6666666666666666,
              "#ed7953"
             ],
             [
              0.7777777777777778,
              "#fb9f3a"
             ],
             [
              0.8888888888888888,
              "#fdca26"
             ],
             [
              1,
              "#f0f921"
             ]
            ],
            "type": "heatmap"
           }
          ],
          "heatmapgl": [
           {
            "colorbar": {
             "outlinewidth": 0,
             "ticks": ""
            },
            "colorscale": [
             [
              0,
              "#0d0887"
             ],
             [
              0.1111111111111111,
              "#46039f"
             ],
             [
              0.2222222222222222,
              "#7201a8"
             ],
             [
              0.3333333333333333,
              "#9c179e"
             ],
             [
              0.4444444444444444,
              "#bd3786"
             ],
             [
              0.5555555555555556,
              "#d8576b"
             ],
             [
              0.6666666666666666,
              "#ed7953"
             ],
             [
              0.7777777777777778,
              "#fb9f3a"
             ],
             [
              0.8888888888888888,
              "#fdca26"
             ],
             [
              1,
              "#f0f921"
             ]
            ],
            "type": "heatmapgl"
           }
          ],
          "histogram": [
           {
            "marker": {
             "pattern": {
              "fillmode": "overlay",
              "size": 10,
              "solidity": 0.2
             }
            },
            "type": "histogram"
           }
          ],
          "histogram2d": [
           {
            "colorbar": {
             "outlinewidth": 0,
             "ticks": ""
            },
            "colorscale": [
             [
              0,
              "#0d0887"
             ],
             [
              0.1111111111111111,
              "#46039f"
             ],
             [
              0.2222222222222222,
              "#7201a8"
             ],
             [
              0.3333333333333333,
              "#9c179e"
             ],
             [
              0.4444444444444444,
              "#bd3786"
             ],
             [
              0.5555555555555556,
              "#d8576b"
             ],
             [
              0.6666666666666666,
              "#ed7953"
             ],
             [
              0.7777777777777778,
              "#fb9f3a"
             ],
             [
              0.8888888888888888,
              "#fdca26"
             ],
             [
              1,
              "#f0f921"
             ]
            ],
            "type": "histogram2d"
           }
          ],
          "histogram2dcontour": [
           {
            "colorbar": {
             "outlinewidth": 0,
             "ticks": ""
            },
            "colorscale": [
             [
              0,
              "#0d0887"
             ],
             [
              0.1111111111111111,
              "#46039f"
             ],
             [
              0.2222222222222222,
              "#7201a8"
             ],
             [
              0.3333333333333333,
              "#9c179e"
             ],
             [
              0.4444444444444444,
              "#bd3786"
             ],
             [
              0.5555555555555556,
              "#d8576b"
             ],
             [
              0.6666666666666666,
              "#ed7953"
             ],
             [
              0.7777777777777778,
              "#fb9f3a"
             ],
             [
              0.8888888888888888,
              "#fdca26"
             ],
             [
              1,
              "#f0f921"
             ]
            ],
            "type": "histogram2dcontour"
           }
          ],
          "mesh3d": [
           {
            "colorbar": {
             "outlinewidth": 0,
             "ticks": ""
            },
            "type": "mesh3d"
           }
          ],
          "parcoords": [
           {
            "line": {
             "colorbar": {
              "outlinewidth": 0,
              "ticks": ""
             }
            },
            "type": "parcoords"
           }
          ],
          "pie": [
           {
            "automargin": true,
            "type": "pie"
           }
          ],
          "scatter": [
           {
            "fillpattern": {
             "fillmode": "overlay",
             "size": 10,
             "solidity": 0.2
            },
            "type": "scatter"
           }
          ],
          "scatter3d": [
           {
            "line": {
             "colorbar": {
              "outlinewidth": 0,
              "ticks": ""
             }
            },
            "marker": {
             "colorbar": {
              "outlinewidth": 0,
              "ticks": ""
             }
            },
            "type": "scatter3d"
           }
          ],
          "scattercarpet": [
           {
            "marker": {
             "colorbar": {
              "outlinewidth": 0,
              "ticks": ""
             }
            },
            "type": "scattercarpet"
           }
          ],
          "scattergeo": [
           {
            "marker": {
             "colorbar": {
              "outlinewidth": 0,
              "ticks": ""
             }
            },
            "type": "scattergeo"
           }
          ],
          "scattergl": [
           {
            "marker": {
             "colorbar": {
              "outlinewidth": 0,
              "ticks": ""
             }
            },
            "type": "scattergl"
           }
          ],
          "scattermapbox": [
           {
            "marker": {
             "colorbar": {
              "outlinewidth": 0,
              "ticks": ""
             }
            },
            "type": "scattermapbox"
           }
          ],
          "scatterpolar": [
           {
            "marker": {
             "colorbar": {
              "outlinewidth": 0,
              "ticks": ""
             }
            },
            "type": "scatterpolar"
           }
          ],
          "scatterpolargl": [
           {
            "marker": {
             "colorbar": {
              "outlinewidth": 0,
              "ticks": ""
             }
            },
            "type": "scatterpolargl"
           }
          ],
          "scatterternary": [
           {
            "marker": {
             "colorbar": {
              "outlinewidth": 0,
              "ticks": ""
             }
            },
            "type": "scatterternary"
           }
          ],
          "surface": [
           {
            "colorbar": {
             "outlinewidth": 0,
             "ticks": ""
            },
            "colorscale": [
             [
              0,
              "#0d0887"
             ],
             [
              0.1111111111111111,
              "#46039f"
             ],
             [
              0.2222222222222222,
              "#7201a8"
             ],
             [
              0.3333333333333333,
              "#9c179e"
             ],
             [
              0.4444444444444444,
              "#bd3786"
             ],
             [
              0.5555555555555556,
              "#d8576b"
             ],
             [
              0.6666666666666666,
              "#ed7953"
             ],
             [
              0.7777777777777778,
              "#fb9f3a"
             ],
             [
              0.8888888888888888,
              "#fdca26"
             ],
             [
              1,
              "#f0f921"
             ]
            ],
            "type": "surface"
           }
          ],
          "table": [
           {
            "cells": {
             "fill": {
              "color": "#EBF0F8"
             },
             "line": {
              "color": "white"
             }
            },
            "header": {
             "fill": {
              "color": "#C8D4E3"
             },
             "line": {
              "color": "white"
             }
            },
            "type": "table"
           }
          ]
         },
         "layout": {
          "annotationdefaults": {
           "arrowcolor": "#2a3f5f",
           "arrowhead": 0,
           "arrowwidth": 1
          },
          "autotypenumbers": "strict",
          "coloraxis": {
           "colorbar": {
            "outlinewidth": 0,
            "ticks": ""
           }
          },
          "colorscale": {
           "diverging": [
            [
             0,
             "#8e0152"
            ],
            [
             0.1,
             "#c51b7d"
            ],
            [
             0.2,
             "#de77ae"
            ],
            [
             0.3,
             "#f1b6da"
            ],
            [
             0.4,
             "#fde0ef"
            ],
            [
             0.5,
             "#f7f7f7"
            ],
            [
             0.6,
             "#e6f5d0"
            ],
            [
             0.7,
             "#b8e186"
            ],
            [
             0.8,
             "#7fbc41"
            ],
            [
             0.9,
             "#4d9221"
            ],
            [
             1,
             "#276419"
            ]
           ],
           "sequential": [
            [
             0,
             "#0d0887"
            ],
            [
             0.1111111111111111,
             "#46039f"
            ],
            [
             0.2222222222222222,
             "#7201a8"
            ],
            [
             0.3333333333333333,
             "#9c179e"
            ],
            [
             0.4444444444444444,
             "#bd3786"
            ],
            [
             0.5555555555555556,
             "#d8576b"
            ],
            [
             0.6666666666666666,
             "#ed7953"
            ],
            [
             0.7777777777777778,
             "#fb9f3a"
            ],
            [
             0.8888888888888888,
             "#fdca26"
            ],
            [
             1,
             "#f0f921"
            ]
           ],
           "sequentialminus": [
            [
             0,
             "#0d0887"
            ],
            [
             0.1111111111111111,
             "#46039f"
            ],
            [
             0.2222222222222222,
             "#7201a8"
            ],
            [
             0.3333333333333333,
             "#9c179e"
            ],
            [
             0.4444444444444444,
             "#bd3786"
            ],
            [
             0.5555555555555556,
             "#d8576b"
            ],
            [
             0.6666666666666666,
             "#ed7953"
            ],
            [
             0.7777777777777778,
             "#fb9f3a"
            ],
            [
             0.8888888888888888,
             "#fdca26"
            ],
            [
             1,
             "#f0f921"
            ]
           ]
          },
          "colorway": [
           "#636efa",
           "#EF553B",
           "#00cc96",
           "#ab63fa",
           "#FFA15A",
           "#19d3f3",
           "#FF6692",
           "#B6E880",
           "#FF97FF",
           "#FECB52"
          ],
          "font": {
           "color": "#2a3f5f"
          },
          "geo": {
           "bgcolor": "white",
           "lakecolor": "white",
           "landcolor": "#E5ECF6",
           "showlakes": true,
           "showland": true,
           "subunitcolor": "white"
          },
          "hoverlabel": {
           "align": "left"
          },
          "hovermode": "closest",
          "mapbox": {
           "style": "light"
          },
          "paper_bgcolor": "white",
          "plot_bgcolor": "#E5ECF6",
          "polar": {
           "angularaxis": {
            "gridcolor": "white",
            "linecolor": "white",
            "ticks": ""
           },
           "bgcolor": "#E5ECF6",
           "radialaxis": {
            "gridcolor": "white",
            "linecolor": "white",
            "ticks": ""
           }
          },
          "scene": {
           "xaxis": {
            "backgroundcolor": "#E5ECF6",
            "gridcolor": "white",
            "gridwidth": 2,
            "linecolor": "white",
            "showbackground": true,
            "ticks": "",
            "zerolinecolor": "white"
           },
           "yaxis": {
            "backgroundcolor": "#E5ECF6",
            "gridcolor": "white",
            "gridwidth": 2,
            "linecolor": "white",
            "showbackground": true,
            "ticks": "",
            "zerolinecolor": "white"
           },
           "zaxis": {
            "backgroundcolor": "#E5ECF6",
            "gridcolor": "white",
            "gridwidth": 2,
            "linecolor": "white",
            "showbackground": true,
            "ticks": "",
            "zerolinecolor": "white"
           }
          },
          "shapedefaults": {
           "line": {
            "color": "#2a3f5f"
           }
          },
          "ternary": {
           "aaxis": {
            "gridcolor": "white",
            "linecolor": "white",
            "ticks": ""
           },
           "baxis": {
            "gridcolor": "white",
            "linecolor": "white",
            "ticks": ""
           },
           "bgcolor": "#E5ECF6",
           "caxis": {
            "gridcolor": "white",
            "linecolor": "white",
            "ticks": ""
           }
          },
          "title": {
           "x": 0.05
          },
          "xaxis": {
           "automargin": true,
           "gridcolor": "white",
           "linecolor": "white",
           "ticks": "",
           "title": {
            "standoff": 15
           },
           "zerolinecolor": "white",
           "zerolinewidth": 2
          },
          "yaxis": {
           "automargin": true,
           "gridcolor": "white",
           "linecolor": "white",
           "ticks": "",
           "title": {
            "standoff": 15
           },
           "zerolinecolor": "white",
           "zerolinewidth": 2
          }
         }
        },
        "title": {
         "text": "Total Explained Variance: 96.55%"
        }
       }
      }
     },
     "metadata": {},
     "output_type": "display_data"
    }
   ],
   "source": [
    "    sub_src_df_1 = ['df_es', 'df_fr', 'df_nl', 'df_pt', 'df_ca']\n",
    "    \n",
    "    Test_1 = df_es\n",
    "    Test_2 = df_be\n",
    "    Test_3 = df_fr\n",
    "    Test_4 = df_nl\n",
    "    Test_5 = df_ca\n",
    "    Test_6 = df_pt\n",
    "\n",
    "    Test_1['land'] = \"df_es\"\n",
    "    Test_2['land'] = \"df_be\"\n",
    "    Test_3['land'] = \"df_fr\"\n",
    "    Test_4['land'] = \"df_nl\"\n",
    "    Test_5['land'] = \"df_ca\"\n",
    "    Test_6['land'] = \"df_pt\"\n",
    "\n",
    "    Test = Test_1.append(Test_2).append(Test_3).append(Test_4).append(Test_5).append(Test_6)\n",
    "    \n",
    "    pca = PCA(n_components=3)\n",
    "    components = pca.fit_transform(Test.iloc[:,:-1])\n",
    "\n",
    "    total_var = pca.explained_variance_ratio_.sum() * 100\n",
    "\n",
    "    fig = px.scatter_3d(\n",
    "        components, x=0, y=1, z=2, color=Test['land'],\n",
    "        title=f'Total Explained Variance: {total_var:.2f}%',\n",
    "        labels={'0': 'PC 1', '1': 'PC 2', '2': 'PC 3'}\n",
    "    )\n",
    "    fig.update_traces(marker_size = 3.5)\n",
    "    fig.show()"
   ]
  },
  {
   "cell_type": "code",
   "execution_count": 376,
   "metadata": {},
   "outputs": [
    {
     "data": {
      "application/vnd.plotly.v1+json": {
       "config": {
        "plotlyServerURL": "https://plot.ly"
       },
       "data": [
        {
         "hovertemplate": "symbol=1<br>index=%{x}<br>value=%{y}<br>color=%{marker.color}<extra></extra>",
         "legendgroup": "1",
         "marker": {
          "color": [
           0.9999496063520408,
           0.000006925877835003523,
           0.9999816166558518,
           0.000008517163590194996,
           0.9999790333234343,
           0.9999816023754725,
           0.999998215842671,
           0.99998892375625,
           0.9999907412348097,
           0.9999924540027085,
           0.9999966249509603,
           0.9999976827346406,
           0.9999978326235712,
           0.999998506340553,
           0.9999969154844455,
           0.000029790595715156503,
           0.9999457249629344,
           0.9999306807150704,
           0.9999854285348525,
           0.9999971920814301,
           0.2594606518621588,
           0.9999962447149583,
           0.9999973939519649,
           0.9999983282397717,
           0.9999804087150629,
           0.9999960287622387,
           0.9999944261696087,
           0.9999868797419672,
           0.9999923548100181,
           0.000007480058948629945,
           0.000009348696295940494,
           0.9999980755798098,
           0.999996839102449,
           0.9999938179170427,
           0.9999946673678202,
           0.9999983895520275,
           0.9999917235095623,
           0.9999910531357696,
           0.9999983616869891,
           0.9999954673208191,
           0.9999758277460156,
           0.000006502097434030846,
           0.9999937808191478,
           0.999993008147856,
           0.9999965080246509,
           0.9999964307797138,
           0.9999943844868764,
           0.9999971118521453,
           0.9999957572968798,
           0.9999941624463198,
           0.9999981419022126,
           0.9999956543592191,
           0.9999959068514664,
           0.9999949098635671,
           0.9999496063520408,
           0.000006925877835003523,
           0.9999816166558518,
           0.000008517163590194996,
           0.9999790333234343,
           0.9999816023754725,
           0.999998215842671,
           0.99998892375625,
           0.9999907412348097,
           0.9999924540027085,
           0.9999966249509603,
           0.9999976827346406,
           0.9999978326235712,
           0.999998506340553,
           0.9999969154844455,
           0.000029790595715156503,
           0.9999457249629344,
           0.9999306807150704,
           0.9999854285348525,
           0.9999971920814301,
           0.2594606518621588,
           0.9999962447149583,
           0.9999973939519649,
           0.9999983282397717,
           0.9999804087150629,
           0.9999960287622387,
           0.9999944261696087,
           0.9999868797419672,
           0.9999923548100181,
           0.000007480058948629945,
           0.000009348696295940494,
           0.9999980755798098,
           0.999996839102449,
           0.9999938179170427,
           0.9999946673678202,
           0.9999983895520275,
           0.9999917235095623,
           0.9999910531357696,
           0.9999983616869891,
           0.9999954673208191,
           0.9999758277460156,
           0.000006502097434030846,
           0.9999937808191478,
           0.999993008147856,
           0.9999965080246509,
           0.9999964307797138,
           0.9999943844868764,
           0.9999971118521453,
           0.9999957572968798,
           0.9999941624463198,
           0.9999981419022126,
           0.9999956543592191,
           0.9999959068514664,
           0.9999949098635671
          ],
          "coloraxis": "coloraxis",
          "size": 3.5,
          "symbol": "circle"
         },
         "mode": "markers",
         "name": "1",
         "orientation": "v",
         "showlegend": true,
         "type": "scatter",
         "x": [
          0,
          1,
          2,
          3,
          4,
          5,
          6,
          7,
          8,
          9,
          10,
          11,
          12,
          13,
          14,
          15,
          16,
          17,
          18,
          19,
          20,
          21,
          22,
          23,
          24,
          25,
          26,
          27,
          28,
          29,
          30,
          31,
          32,
          33,
          34,
          35,
          36,
          37,
          38,
          39,
          40,
          41,
          42,
          43,
          44,
          45,
          46,
          47,
          48,
          49,
          50,
          51,
          52,
          53,
          0,
          1,
          2,
          3,
          4,
          5,
          6,
          7,
          8,
          9,
          10,
          11,
          12,
          13,
          14,
          15,
          16,
          17,
          18,
          19,
          20,
          21,
          22,
          23,
          24,
          25,
          26,
          27,
          28,
          29,
          30,
          31,
          32,
          33,
          34,
          35,
          36,
          37,
          38,
          39,
          40,
          41,
          42,
          43,
          44,
          45,
          46,
          47,
          48,
          49,
          50,
          51,
          52,
          53
         ],
         "xaxis": "x",
         "y": [
          -12563.931994042023,
          -22020.061093921715,
          -9189.789190390526,
          -20269.23440323353,
          -10338.671001330398,
          -10242.037254087252,
          23464.63448189069,
          -7924.655067995033,
          -6642.72586298761,
          -4873.427411271794,
          5925.91822258564,
          14905.558854303483,
          17011.87805605524,
          30791.671487994347,
          7494.837035896894,
          -15930.254047519393,
          -12856.864068971854,
          -12900.589969863788,
          -8765.973310196137,
          9681.632104641702,
          -13523.778827520913,
          4216.9893179659775,
          11937.079736474525,
          26075.071234764167,
          -10150.994183289156,
          3220.5612190166166,
          -1460.7690107384724,
          -9417.648918609952,
          -5754.5157454485,
          -20522.82154860629,
          -20425.879024883798,
          20782.766610358223,
          7360.181268967315,
          -2762.9085862318216,
          -1202.4652128203545,
          27509.891809364683,
          -5475.131342427666,
          -5863.015808107633,
          26701.470034626756,
          1009.0710213575369,
          -11429.590748650631,
          -23369.082613847764,
          -3672.5921246475427,
          -4859.004112581068,
          4698.588079021411,
          4285.9659305824825,
          -2518.8334889932107,
          8682.319862658238,
          1323.3993738330207,
          -2971.035831473056,
          21373.09328838315,
          951.3470802204074,
          1897.3102305436364,
          -1292.8418116429127,
          -453.88682829374784,
          808.5224301300314,
          20493.952500988755,
          18879.736838750625,
          -3086.2311552984984,
          224.77858935477892,
          4865.20834364769,
          1515.4271953557827,
          -32.55498761658956,
          -2157.3248701740868,
          1798.628523973036,
          2754.809286427168,
          614.7484200178624,
          2622.3895508898127,
          7780.340773369879,
          -680.9960040251101,
          -233.220906429392,
          -1546.7721140108997,
          -4537.518986055622,
          8098.941461568726,
          -1659.2880664771947,
          925.4477245111416,
          2050.2251218531615,
          4110.052886663771,
          -2768.7036986023068,
          780.2734564816226,
          98.22871462709634,
          11073.029036881877,
          11606.727528860265,
          9455.064832266866,
          -3930.856185075407,
          5979.111893488915,
          4023.5114808353774,
          2098.648298806508,
          2325.9964614720484,
          6509.233399500634,
          1703.4921073885673,
          1646.979437911852,
          6391.451024935438,
          2648.2069821721425,
          2900.2335212849075,
          7920.071499684716,
          -5312.26155797053,
          -5485.11544111864,
          -4092.6253511025016,
          -4152.742341908972,
          -5144.164539812967,
          -3512.217169424854,
          -4584.372271535388,
          -5210.048654581761,
          -2683.3162060821446,
          -4638.578104440924,
          -4500.756372388423,
          -4965.544513542856
         ],
         "yaxis": "y"
        },
        {
         "hovertemplate": "symbol=2<br>index=%{x}<br>value=%{y}<br>color=%{marker.color}<extra></extra>",
         "legendgroup": "2",
         "marker": {
          "color": [
           5,
           5,
           5,
           5,
           5,
           5,
           5,
           5,
           5,
           5,
           5,
           5,
           5,
           5,
           5,
           5,
           5,
           5,
           5,
           5,
           5,
           5,
           5,
           5,
           5,
           5,
           5,
           5,
           5,
           5,
           5,
           5,
           5,
           5
          ],
          "coloraxis": "coloraxis",
          "size": 3.5,
          "symbol": "diamond"
         },
         "mode": "markers",
         "name": "2",
         "orientation": "v",
         "showlegend": true,
         "type": "scatter",
         "x": [
          54,
          55,
          56,
          57,
          58,
          59,
          60,
          61,
          62,
          63,
          64,
          65,
          66,
          67,
          68,
          69,
          70,
          54,
          55,
          56,
          57,
          58,
          59,
          60,
          61,
          62,
          63,
          64,
          65,
          66,
          67,
          68,
          69,
          70
         ],
         "xaxis": "x",
         "y": [
          21373.093369313305,
          -7299.113961157869,
          -4859.004031650805,
          -2971.0357505428165,
          -3672.592043717296,
          951.3471611506168,
          2875.926816386987,
          -2518.8334080629756,
          -654.613463413215,
          -3442.038050730659,
          4285.966011512676,
          1323.399454763228,
          -1292.8417307126883,
          512.0084866733652,
          4698.588159951603,
          1897.310311473841,
          8682.319943588418,
          -2683.316828032607,
          -5840.626886870501,
          -5485.1160630699005,
          -5210.049276532842,
          -5312.26217992167,
          -4638.578726391773,
          -4358.178049993555,
          -5144.165161764013,
          -4872.55872809446,
          -5278.671126620542,
          -4152.7429638597,
          -4584.372893486221,
          -4965.545135493821,
          -4702.588219233679,
          -4092.625973053218,
          -4500.756994339234,
          -3512.2177913754767
         ],
         "yaxis": "y"
        }
       ],
       "layout": {
        "coloraxis": {
         "colorbar": {
          "title": {
           "text": "color"
          }
         },
         "colorscale": [
          [
           0,
           "red"
          ],
          [
           0.7,
           "green"
          ],
          [
           1,
           "blue"
          ]
         ]
        },
        "legend": {
         "title": {
          "text": "symbol"
         },
         "tracegroupgap": 0
        },
        "template": {
         "data": {
          "bar": [
           {
            "error_x": {
             "color": "#2a3f5f"
            },
            "error_y": {
             "color": "#2a3f5f"
            },
            "marker": {
             "line": {
              "color": "#E5ECF6",
              "width": 0.5
             },
             "pattern": {
              "fillmode": "overlay",
              "size": 10,
              "solidity": 0.2
             }
            },
            "type": "bar"
           }
          ],
          "barpolar": [
           {
            "marker": {
             "line": {
              "color": "#E5ECF6",
              "width": 0.5
             },
             "pattern": {
              "fillmode": "overlay",
              "size": 10,
              "solidity": 0.2
             }
            },
            "type": "barpolar"
           }
          ],
          "carpet": [
           {
            "aaxis": {
             "endlinecolor": "#2a3f5f",
             "gridcolor": "white",
             "linecolor": "white",
             "minorgridcolor": "white",
             "startlinecolor": "#2a3f5f"
            },
            "baxis": {
             "endlinecolor": "#2a3f5f",
             "gridcolor": "white",
             "linecolor": "white",
             "minorgridcolor": "white",
             "startlinecolor": "#2a3f5f"
            },
            "type": "carpet"
           }
          ],
          "choropleth": [
           {
            "colorbar": {
             "outlinewidth": 0,
             "ticks": ""
            },
            "type": "choropleth"
           }
          ],
          "contour": [
           {
            "colorbar": {
             "outlinewidth": 0,
             "ticks": ""
            },
            "colorscale": [
             [
              0,
              "#0d0887"
             ],
             [
              0.1111111111111111,
              "#46039f"
             ],
             [
              0.2222222222222222,
              "#7201a8"
             ],
             [
              0.3333333333333333,
              "#9c179e"
             ],
             [
              0.4444444444444444,
              "#bd3786"
             ],
             [
              0.5555555555555556,
              "#d8576b"
             ],
             [
              0.6666666666666666,
              "#ed7953"
             ],
             [
              0.7777777777777778,
              "#fb9f3a"
             ],
             [
              0.8888888888888888,
              "#fdca26"
             ],
             [
              1,
              "#f0f921"
             ]
            ],
            "type": "contour"
           }
          ],
          "contourcarpet": [
           {
            "colorbar": {
             "outlinewidth": 0,
             "ticks": ""
            },
            "type": "contourcarpet"
           }
          ],
          "heatmap": [
           {
            "colorbar": {
             "outlinewidth": 0,
             "ticks": ""
            },
            "colorscale": [
             [
              0,
              "#0d0887"
             ],
             [
              0.1111111111111111,
              "#46039f"
             ],
             [
              0.2222222222222222,
              "#7201a8"
             ],
             [
              0.3333333333333333,
              "#9c179e"
             ],
             [
              0.4444444444444444,
              "#bd3786"
             ],
             [
              0.5555555555555556,
              "#d8576b"
             ],
             [
              0.6666666666666666,
              "#ed7953"
             ],
             [
              0.7777777777777778,
              "#fb9f3a"
             ],
             [
              0.8888888888888888,
              "#fdca26"
             ],
             [
              1,
              "#f0f921"
             ]
            ],
            "type": "heatmap"
           }
          ],
          "heatmapgl": [
           {
            "colorbar": {
             "outlinewidth": 0,
             "ticks": ""
            },
            "colorscale": [
             [
              0,
              "#0d0887"
             ],
             [
              0.1111111111111111,
              "#46039f"
             ],
             [
              0.2222222222222222,
              "#7201a8"
             ],
             [
              0.3333333333333333,
              "#9c179e"
             ],
             [
              0.4444444444444444,
              "#bd3786"
             ],
             [
              0.5555555555555556,
              "#d8576b"
             ],
             [
              0.6666666666666666,
              "#ed7953"
             ],
             [
              0.7777777777777778,
              "#fb9f3a"
             ],
             [
              0.8888888888888888,
              "#fdca26"
             ],
             [
              1,
              "#f0f921"
             ]
            ],
            "type": "heatmapgl"
           }
          ],
          "histogram": [
           {
            "marker": {
             "pattern": {
              "fillmode": "overlay",
              "size": 10,
              "solidity": 0.2
             }
            },
            "type": "histogram"
           }
          ],
          "histogram2d": [
           {
            "colorbar": {
             "outlinewidth": 0,
             "ticks": ""
            },
            "colorscale": [
             [
              0,
              "#0d0887"
             ],
             [
              0.1111111111111111,
              "#46039f"
             ],
             [
              0.2222222222222222,
              "#7201a8"
             ],
             [
              0.3333333333333333,
              "#9c179e"
             ],
             [
              0.4444444444444444,
              "#bd3786"
             ],
             [
              0.5555555555555556,
              "#d8576b"
             ],
             [
              0.6666666666666666,
              "#ed7953"
             ],
             [
              0.7777777777777778,
              "#fb9f3a"
             ],
             [
              0.8888888888888888,
              "#fdca26"
             ],
             [
              1,
              "#f0f921"
             ]
            ],
            "type": "histogram2d"
           }
          ],
          "histogram2dcontour": [
           {
            "colorbar": {
             "outlinewidth": 0,
             "ticks": ""
            },
            "colorscale": [
             [
              0,
              "#0d0887"
             ],
             [
              0.1111111111111111,
              "#46039f"
             ],
             [
              0.2222222222222222,
              "#7201a8"
             ],
             [
              0.3333333333333333,
              "#9c179e"
             ],
             [
              0.4444444444444444,
              "#bd3786"
             ],
             [
              0.5555555555555556,
              "#d8576b"
             ],
             [
              0.6666666666666666,
              "#ed7953"
             ],
             [
              0.7777777777777778,
              "#fb9f3a"
             ],
             [
              0.8888888888888888,
              "#fdca26"
             ],
             [
              1,
              "#f0f921"
             ]
            ],
            "type": "histogram2dcontour"
           }
          ],
          "mesh3d": [
           {
            "colorbar": {
             "outlinewidth": 0,
             "ticks": ""
            },
            "type": "mesh3d"
           }
          ],
          "parcoords": [
           {
            "line": {
             "colorbar": {
              "outlinewidth": 0,
              "ticks": ""
             }
            },
            "type": "parcoords"
           }
          ],
          "pie": [
           {
            "automargin": true,
            "type": "pie"
           }
          ],
          "scatter": [
           {
            "fillpattern": {
             "fillmode": "overlay",
             "size": 10,
             "solidity": 0.2
            },
            "type": "scatter"
           }
          ],
          "scatter3d": [
           {
            "line": {
             "colorbar": {
              "outlinewidth": 0,
              "ticks": ""
             }
            },
            "marker": {
             "colorbar": {
              "outlinewidth": 0,
              "ticks": ""
             }
            },
            "type": "scatter3d"
           }
          ],
          "scattercarpet": [
           {
            "marker": {
             "colorbar": {
              "outlinewidth": 0,
              "ticks": ""
             }
            },
            "type": "scattercarpet"
           }
          ],
          "scattergeo": [
           {
            "marker": {
             "colorbar": {
              "outlinewidth": 0,
              "ticks": ""
             }
            },
            "type": "scattergeo"
           }
          ],
          "scattergl": [
           {
            "marker": {
             "colorbar": {
              "outlinewidth": 0,
              "ticks": ""
             }
            },
            "type": "scattergl"
           }
          ],
          "scattermapbox": [
           {
            "marker": {
             "colorbar": {
              "outlinewidth": 0,
              "ticks": ""
             }
            },
            "type": "scattermapbox"
           }
          ],
          "scatterpolar": [
           {
            "marker": {
             "colorbar": {
              "outlinewidth": 0,
              "ticks": ""
             }
            },
            "type": "scatterpolar"
           }
          ],
          "scatterpolargl": [
           {
            "marker": {
             "colorbar": {
              "outlinewidth": 0,
              "ticks": ""
             }
            },
            "type": "scatterpolargl"
           }
          ],
          "scatterternary": [
           {
            "marker": {
             "colorbar": {
              "outlinewidth": 0,
              "ticks": ""
             }
            },
            "type": "scatterternary"
           }
          ],
          "surface": [
           {
            "colorbar": {
             "outlinewidth": 0,
             "ticks": ""
            },
            "colorscale": [
             [
              0,
              "#0d0887"
             ],
             [
              0.1111111111111111,
              "#46039f"
             ],
             [
              0.2222222222222222,
              "#7201a8"
             ],
             [
              0.3333333333333333,
              "#9c179e"
             ],
             [
              0.4444444444444444,
              "#bd3786"
             ],
             [
              0.5555555555555556,
              "#d8576b"
             ],
             [
              0.6666666666666666,
              "#ed7953"
             ],
             [
              0.7777777777777778,
              "#fb9f3a"
             ],
             [
              0.8888888888888888,
              "#fdca26"
             ],
             [
              1,
              "#f0f921"
             ]
            ],
            "type": "surface"
           }
          ],
          "table": [
           {
            "cells": {
             "fill": {
              "color": "#EBF0F8"
             },
             "line": {
              "color": "white"
             }
            },
            "header": {
             "fill": {
              "color": "#C8D4E3"
             },
             "line": {
              "color": "white"
             }
            },
            "type": "table"
           }
          ]
         },
         "layout": {
          "annotationdefaults": {
           "arrowcolor": "#2a3f5f",
           "arrowhead": 0,
           "arrowwidth": 1
          },
          "autotypenumbers": "strict",
          "coloraxis": {
           "colorbar": {
            "outlinewidth": 0,
            "ticks": ""
           }
          },
          "colorscale": {
           "diverging": [
            [
             0,
             "#8e0152"
            ],
            [
             0.1,
             "#c51b7d"
            ],
            [
             0.2,
             "#de77ae"
            ],
            [
             0.3,
             "#f1b6da"
            ],
            [
             0.4,
             "#fde0ef"
            ],
            [
             0.5,
             "#f7f7f7"
            ],
            [
             0.6,
             "#e6f5d0"
            ],
            [
             0.7,
             "#b8e186"
            ],
            [
             0.8,
             "#7fbc41"
            ],
            [
             0.9,
             "#4d9221"
            ],
            [
             1,
             "#276419"
            ]
           ],
           "sequential": [
            [
             0,
             "#0d0887"
            ],
            [
             0.1111111111111111,
             "#46039f"
            ],
            [
             0.2222222222222222,
             "#7201a8"
            ],
            [
             0.3333333333333333,
             "#9c179e"
            ],
            [
             0.4444444444444444,
             "#bd3786"
            ],
            [
             0.5555555555555556,
             "#d8576b"
            ],
            [
             0.6666666666666666,
             "#ed7953"
            ],
            [
             0.7777777777777778,
             "#fb9f3a"
            ],
            [
             0.8888888888888888,
             "#fdca26"
            ],
            [
             1,
             "#f0f921"
            ]
           ],
           "sequentialminus": [
            [
             0,
             "#0d0887"
            ],
            [
             0.1111111111111111,
             "#46039f"
            ],
            [
             0.2222222222222222,
             "#7201a8"
            ],
            [
             0.3333333333333333,
             "#9c179e"
            ],
            [
             0.4444444444444444,
             "#bd3786"
            ],
            [
             0.5555555555555556,
             "#d8576b"
            ],
            [
             0.6666666666666666,
             "#ed7953"
            ],
            [
             0.7777777777777778,
             "#fb9f3a"
            ],
            [
             0.8888888888888888,
             "#fdca26"
            ],
            [
             1,
             "#f0f921"
            ]
           ]
          },
          "colorway": [
           "#636efa",
           "#EF553B",
           "#00cc96",
           "#ab63fa",
           "#FFA15A",
           "#19d3f3",
           "#FF6692",
           "#B6E880",
           "#FF97FF",
           "#FECB52"
          ],
          "font": {
           "color": "#2a3f5f"
          },
          "geo": {
           "bgcolor": "white",
           "lakecolor": "white",
           "landcolor": "#E5ECF6",
           "showlakes": true,
           "showland": true,
           "subunitcolor": "white"
          },
          "hoverlabel": {
           "align": "left"
          },
          "hovermode": "closest",
          "mapbox": {
           "style": "light"
          },
          "paper_bgcolor": "white",
          "plot_bgcolor": "#E5ECF6",
          "polar": {
           "angularaxis": {
            "gridcolor": "white",
            "linecolor": "white",
            "ticks": ""
           },
           "bgcolor": "#E5ECF6",
           "radialaxis": {
            "gridcolor": "white",
            "linecolor": "white",
            "ticks": ""
           }
          },
          "scene": {
           "xaxis": {
            "backgroundcolor": "#E5ECF6",
            "gridcolor": "white",
            "gridwidth": 2,
            "linecolor": "white",
            "showbackground": true,
            "ticks": "",
            "zerolinecolor": "white"
           },
           "yaxis": {
            "backgroundcolor": "#E5ECF6",
            "gridcolor": "white",
            "gridwidth": 2,
            "linecolor": "white",
            "showbackground": true,
            "ticks": "",
            "zerolinecolor": "white"
           },
           "zaxis": {
            "backgroundcolor": "#E5ECF6",
            "gridcolor": "white",
            "gridwidth": 2,
            "linecolor": "white",
            "showbackground": true,
            "ticks": "",
            "zerolinecolor": "white"
           }
          },
          "shapedefaults": {
           "line": {
            "color": "#2a3f5f"
           }
          },
          "ternary": {
           "aaxis": {
            "gridcolor": "white",
            "linecolor": "white",
            "ticks": ""
           },
           "baxis": {
            "gridcolor": "white",
            "linecolor": "white",
            "ticks": ""
           },
           "bgcolor": "#E5ECF6",
           "caxis": {
            "gridcolor": "white",
            "linecolor": "white",
            "ticks": ""
           }
          },
          "title": {
           "x": 0.05
          },
          "xaxis": {
           "automargin": true,
           "gridcolor": "white",
           "linecolor": "white",
           "ticks": "",
           "title": {
            "standoff": 15
           },
           "zerolinecolor": "white",
           "zerolinewidth": 2
          },
          "yaxis": {
           "automargin": true,
           "gridcolor": "white",
           "linecolor": "white",
           "ticks": "",
           "title": {
            "standoff": 15
           },
           "zerolinecolor": "white",
           "zerolinewidth": 2
          }
         }
        },
        "title": {
         "text": "Total Explained Variance: 98.57%"
        },
        "xaxis": {
         "anchor": "y",
         "domain": [
          0,
          1
         ],
         "title": {
          "text": "index"
         }
        },
        "yaxis": {
         "anchor": "x",
         "domain": [
          0,
          1
         ],
         "title": {
          "text": "value"
         }
        }
       }
      }
     },
     "metadata": {},
     "output_type": "display_data"
    }
   ],
   "source": [
    "    Test = Xs\n",
    "    Test_2 = Xt\n",
    "    Test['beta'] = beta.flatten()\n",
    "    Test['beta_T_F'] = 1\n",
    "    Test_2['beta_T_F'] = 2\n",
    "    Test_2['beta'] = 5\n",
    "    Test = Test.append(Xt)\n",
    "    \n",
    "    pca = PCA(n_components=2)\n",
    "    components = pca.fit_transform(Test.iloc[:,:-1])\n",
    "\n",
    "    total_var = pca.explained_variance_ratio_.sum() * 100\n",
    "\n",
    "    fig = px.scatter(\n",
    "        components, color=Test['beta'], symbol=Test['beta_T_F'], color_continuous_scale= [(0, \"red\"), (0.7, \"green\"), (1, \"blue\")], #\"Bluered_r\",\n",
    "        title=f'Total Explained Variance: {total_var:.2f}%'\n",
    "    )\n",
    "    fig.update_traces(marker_size = 3.5)\n",
    "    fig.show()"
   ]
  },
  {
   "cell_type": "markdown",
   "metadata": {},
   "source": [
    "# AdaBoost"
   ]
  },
  {
   "cell_type": "code",
   "execution_count": 16,
   "metadata": {},
   "outputs": [
    {
     "name": "stdout",
     "output_type": "stream",
     "text": "3.52408165e-04 4.48610127e-10 1.34438271e-03\n 1.91113044e-08 3.45492872e-06 7.94967561e-07 9.53039393e-04\n 2.90659712e-05 4.12604955e-04 2.75637972e-03 2.88956553e-03\n 1.86513974e-03 1.12125575e-03 1.60497380e-05 1.16277903e-03\n 1.28282399e-07 2.58654489e-03 1.50941351e-05 7.80433267e-06\n 3.69323578e-05 3.98256154e-06 1.10625850e-04 1.55630380e-03\n 3.04604862e-03 5.05761820e-03 3.77517567e-04 5.83332913e-04\n 4.75157399e-06 1.43486957e-05 1.52555413e-03 3.23402196e-05\n 1.10982923e-03 9.01550656e-04 3.18918248e-05 7.37893948e-05\n 3.78736535e-04 5.13001841e-04 1.51133046e-06 2.38581598e-03\n 7.38465428e-07 2.38088440e-03 5.90086764e-03 2.27827056e-06\n 3.44000083e-05 2.99186108e-04 7.78446224e-06 3.17228727e-04\n 5.75910651e-03 4.08364562e-13 4.60426892e-04 9.25159647e-04\n 1.29788602e-03 8.60857726e-04 1.38614842e-06 3.64630101e-21\n 3.06429595e-13 2.79369288e-05 1.44158476e-08 3.13543892e-07\n 3.37431443e-08] 201\n[3.75507900e-06 1.12327502e-07 8.48099258e-09 6.69719844e-14\n 8.29030926e-12 1.36021197e-09 1.27952613e-05 1.24310708e-07\n 1.37237771e-05 1.59140768e-05 2.43431171e-05 8.61769243e-04\n 1.15854664e-06 7.10549921e-08 5.43161054e-30 3.49050010e-09\n 2.16032158e-10 2.44494142e-07 3.55673711e-09 7.44159145e-08\n 2.58486031e-04 3.74397139e-10 4.42432732e-33 3.95082651e-11\n 9.23107545e-35 3.41277925e-13 2.41491762e-05 1.31301559e-29\n 1.92174100e-29 2.22286571e-06 5.76799341e-12 1.97239451e-08\n 1.30362859e-07 3.51942895e-05 5.29242873e-07 6.59440228e-04\n 1.85504073e-04 2.21277377e-13 1.15905045e-08 3.71826963e-06\n 6.16613714e-15 7.42925160e-04 2.60389056e-04 1.50160285e-08\n 4.36391800e-06 8.90532206e-09 2.27580653e-13 1.57486882e-13\n 6.59661891e-18 1.90455860e-12 7.21067613e-33 1.42201209e-06\n 8.64009573e-08 5.00204944e-08 7.85104503e-11 9.18617959e-04\n 2.98393385e-08 3.65453176e-03 1.66502690e-05 1.43580556e-04\n 2.06147619e-05 2.29388539e-04 5.34508905e-08 4.14211990e-09\n 1.33815735e-03 1.38668837e-05 1.55895464e-05 1.19056428e-05\n 6.41039600e-05 1.04646958e-04 3.00546812e-04 3.23613603e-05\n 1.15095782e-10 2.94277198e-04 2.17768168e-03 2.36099500e-10\n 2.48198106e-04 2.52128763e-06 6.21925960e-05 3.55435999e-04\n 2.23031732e-05 7.71266621e-05 9.98106323e-05 2.91278788e-04\n 2.50773822e-04 2.23164940e-06 4.65093040e-05 3.62104764e-06\n 5.47414974e-07 1.62106644e-05 6.73026649e-05 7.17268303e-04\n 2.06587013e-10 1.86731161e-06 1.64601409e-05 2.34350486e-05\n 1.41080037e-04 3.45465396e-04 3.48618837e-04 6.78713481e-04\n 1.55541172e-06 1.06835409e-06 3.53303536e-06 4.60093065e-05\n 8.16519674e-04 1.51931792e-04 2.92827078e-05 7.94377415e-13\n 1.53399382e-13 5.41274598e-10 2.16298869e-08 1.34884311e-05\n 7.54571544e-06 1.43733627e-05 2.16089112e-07 3.49535102e-06\n 1.83514112e-03 7.66427689e-04 4.30511840e-05 5.72474381e-04\n 4.46048480e-05 1.94975832e-04 1.20918798e-03 8.32600878e-05\n 3.14087275e-04 3.70787613e-05 6.97606276e-12 1.46809831e-06\n 5.67105803e-08 1.91895192e-05 4.98768139e-06 5.12767997e-05\n 3.73381585e-05 1.74075621e-04 9.91660843e-05 6.34819394e-04\n 5.36661148e-03 5.36661148e-03 1.65250316e-11 5.21852439e-09\n 2.09614623e-11 8.40317438e-05 7.93844935e-14 7.10992608e-04\n 2.76209479e-11 1.32979888e-08 1.32073845e-08 5.45034083e-04\n 1.85324043e-06 1.76997390e-04 2.98950040e-03 2.00379203e-03\n 1.82364968e-03 3.75451600e-04 4.83987334e-06 4.73603441e-04\n 2.32524518e-08 1.42257727e-03 2.82644488e-07 4.46322296e-06\n 6.14891221e-07 4.12028609e-09 4.34763877e-06 7.51169536e-04\n 1.54904960e-03 5.48536602e-03 1.28340895e-04 1.48209503e-04\n 2.83972518e-08 1.37219351e-07 8.06298875e-05 1.26176387e-06\n 1.28036394e-04 3.13944650e-04 1.49311970e-07 4.64497173e-06\n 4.24226222e-05 2.00552894e-04 3.67355343e-08 6.05963957e-04\n 2.87224321e-08 1.90807563e-03 6.31690314e-03 1.51857248e-07\n 1.08371731e-06 1.34204003e-04 6.01224021e-06 1.30794634e-04\n 6.08516319e-03 6.22810975e-17 2.96190573e-04 1.39675812e-04\n 1.17246252e-03 7.19062171e-04 6.13223884e-08 2.04120935e-26\n 5.52761262e-18 3.02472985e-07 2.86212271e-11 1.00781845e-09\n 1.59074060e-11 6.54230293e-03 6.54230293e-03 6.54230293e-03\n 6.54230293e-03 6.54230293e-03 6.54230293e-03 6.54230293e-03\n 6.54230293e-03 6.54230293e-03 6.54230293e-03 6.54230293e-03\n 6.54230293e-03 6.54230293e-03 6.54230293e-03 6.54230293e-03\n 6.54230293e-03 6.54230293e-03 6.54230293e-03 6.54230293e-03\n 6.54230293e-03 6.54230293e-03 6.54230293e-03 6.54230293e-03\n 6.54230293e-03 6.54230293e-03 6.54230293e-03 6.54230293e-03\n 6.54230293e-03 6.54230293e-03 6.54230293e-03 6.54230293e-03\n 6.54230293e-03 6.54230293e-03 6.54230293e-03 6.54230293e-03\n 6.54230293e-03 6.54230293e-03 6.54230293e-03 6.54230293e-03\n 6.54230293e-03 6.54230293e-03 6.54230293e-03 6.54230293e-03\n 6.54230293e-03 6.54230293e-03 6.54230293e-03 6.54230293e-03\n 6.54230293e-03 6.54230293e-03 6.54230293e-03 6.54230293e-03\n 6.54230293e-03 6.54230293e-03 6.54230293e-03 6.54230293e-03\n 6.54230293e-03 6.54230293e-03 6.54230293e-03 6.54230293e-03\n 6.54230293e-03 6.54230293e-03 6.54230293e-03 6.54230293e-03\n 6.54230293e-03 6.54230293e-03 6.54230293e-03 6.54230293e-03\n 6.54230293e-03 6.54230293e-03 6.54230293e-03 6.54230293e-03\n 6.54230293e-03 6.54230293e-03 6.54230293e-03 6.54230293e-03\n 6.54230293e-03 6.54230293e-03 6.54230293e-03 6.54230293e-03\n 6.54230293e-03 6.54230293e-03 6.54230293e-03 6.54230293e-03\n 6.54230293e-03 6.54230293e-03 6.54230293e-03 6.54230293e-03\n 6.54230293e-03 6.54230293e-03 6.54230293e-03 6.54230293e-03\n 6.54230293e-03 6.54230293e-03 6.54230293e-03 6.54230293e-03\n 6.54230293e-03 6.54230293e-03 6.54230293e-03 6.54230293e-03\n 6.54230293e-03 6.54230293e-03 6.54230293e-03 6.54230293e-03\n 6.54230293e-03 6.54230293e-03 6.54230293e-03 6.54230293e-03\n 6.54230293e-03 6.54230293e-03 6.54230293e-03 6.54230293e-03\n 6.54230293e-03 6.54230293e-03 6.54230293e-03 6.54230293e-03\n 6.54230293e-03 6.54230293e-03 6.54230293e-03 6.54230293e-03\n 6.54230293e-03 6.54230293e-03 6.54230293e-03 6.54230293e-03\n 6.54230293e-03 6.54230293e-03 6.54230293e-03 6.54230293e-03\n 6.54230293e-03 6.54230293e-03 6.54230293e-03 6.54230293e-03] 332\n[0.0065423 0.0065423 0.0065423 0.0065423 0.0065423 0.0065423 0.0065423\n 0.0065423 0.0065423 0.0065423 0.0065423 0.0065423 0.0065423 0.0065423\n 0.0065423 0.0065423 0.0065423 0.0065423 0.0065423 0.0065423 0.0065423\n 0.0065423 0.0065423 0.0065423 0.0065423 0.0065423 0.0065423 0.0065423\n 0.0065423 0.0065423 0.0065423 0.0065423 0.0065423 0.0065423 0.0065423\n 0.0065423 0.0065423 0.0065423 0.0065423 0.0065423 0.0065423 0.0065423\n 0.0065423 0.0065423 0.0065423 0.0065423 0.0065423 0.0065423 0.0065423\n 0.0065423 0.0065423 0.0065423 0.0065423 0.0065423 0.0065423 0.0065423\n 0.0065423 0.0065423 0.0065423 0.0065423 0.0065423 0.0065423 0.0065423\n 0.0065423 0.0065423 0.0065423 0.0065423 0.0065423 0.0065423 0.0065423\n 0.0065423 0.0065423 0.0065423 0.0065423 0.0065423 0.0065423 0.0065423\n 0.0065423 0.0065423 0.0065423 0.0065423 0.0065423 0.0065423 0.0065423\n 0.0065423 0.0065423 0.0065423 0.0065423 0.0065423 0.0065423 0.0065423\n 0.0065423 0.0065423 0.0065423 0.0065423 0.0065423 0.0065423 0.0065423\n 0.0065423 0.0065423 0.0065423 0.0065423 0.0065423 0.0065423 0.0065423\n 0.0065423 0.0065423 0.0065423 0.0065423 0.0065423 0.0065423 0.0065423\n 0.0065423 0.0065423 0.0065423 0.0065423 0.0065423 0.0065423 0.0065423\n 0.0065423 0.0065423 0.0065423 0.0065423 0.0065423 0.0065423 0.0065423\n 0.0065423 0.0065423 0.0065423 0.0065423 0.0065423] 131\n[3.75507900e-06 1.12327502e-07 8.48099258e-09 6.69719844e-14\n 8.29030926e-12 1.36021197e-09 1.27952613e-05 1.24310708e-07\n 1.37237771e-05 1.59140768e-05 2.43431171e-05 8.61769243e-04\n 1.15854664e-06 7.10549921e-08 5.43161054e-30 3.49050010e-09\n 2.16032158e-10 2.44494142e-07 3.55673711e-09 7.44159145e-08\n 2.58486031e-04 3.74397139e-10 4.42432732e-33 3.95082651e-11\n 9.23107545e-35 3.41277925e-13 2.41491762e-05 1.31301559e-29\n 1.92174100e-29 2.22286571e-06 5.76799341e-12 1.97239451e-08\n 1.30362859e-07 3.51942895e-05 5.29242873e-07 6.59440228e-04\n 1.85504073e-04 2.21277377e-13 1.15905045e-08 3.71826963e-06\n 6.16613714e-15 7.42925160e-04 2.60389056e-04 1.50160285e-08\n 4.36391800e-06 8.90532206e-09 2.27580653e-13 1.57486882e-13\n 6.59661891e-18 1.90455860e-12 7.21067613e-33 1.42201209e-06\n 8.64009573e-08 5.00204944e-08 7.85104503e-11 9.18617959e-04\n 2.98393385e-08 3.65453176e-03 1.66502690e-05 1.43580556e-04\n 2.06147619e-05 2.29388539e-04 5.34508905e-08 4.14211990e-09\n 1.33815735e-03 1.38668837e-05 1.55895464e-05 1.19056428e-05\n 6.41039600e-05 1.04646958e-04 3.00546812e-04 3.23613603e-05\n 1.15095782e-10 2.94277198e-04 2.17768168e-03 2.36099500e-10\n 2.48198106e-04 2.52128763e-06 6.21925960e-05 3.55435999e-04\n 2.23031732e-05 7.71266621e-05 9.98106323e-05 2.91278788e-04\n 2.50773822e-04 2.23164940e-06 4.65093040e-05 3.62104764e-06\n 5.47414974e-07 1.62106644e-05 6.73026649e-05 7.17268303e-04\n 2.06587013e-10 1.86731161e-06 1.64601409e-05 2.34350486e-05\n 1.41080037e-04 3.45465396e-04 3.48618837e-04 6.78713481e-04\n 1.55541172e-06 1.06835409e-06 3.53303536e-06 4.60093065e-05\n 8.16519674e-04 1.51931792e-04 2.92827078e-05 7.94377415e-13\n 1.53399382e-13 5.41274598e-10 2.16298869e-08 1.34884311e-05\n 7.54571544e-06 1.43733627e-05 2.16089112e-07 3.49535102e-06\n 1.83514112e-03 7.66427689e-04 4.30511840e-05 5.72474381e-04\n 4.46048480e-05 1.94975832e-04 1.20918798e-03 8.32600878e-05\n 3.14087275e-04 3.70787613e-05 6.97606276e-12 1.46809831e-06\n 5.67105803e-08 1.91895192e-05 4.98768139e-06 5.12767997e-05\n 3.73381585e-05 1.74075621e-04 9.91660843e-05 6.34819394e-04\n 5.36661148e-03 5.36661148e-03 1.65250316e-11 5.21852439e-09\n 2.09614623e-11 8.40317438e-05 7.93844935e-14 7.10992608e-04\n 2.76209479e-11 1.32979888e-08 1.32073845e-08 5.45034083e-04\n 1.85324043e-06 1.76997390e-04 2.98950040e-03 2.00379203e-03\n 1.82364968e-03 3.75451600e-04 4.83987334e-06 4.73603441e-04\n 2.32524518e-08 1.42257727e-03 2.82644488e-07 4.46322296e-06\n 6.14891221e-07 4.12028609e-09 4.34763877e-06 7.51169536e-04\n 1.54904960e-03 5.48536602e-03 1.28340895e-04 1.48209503e-04\n 2.83972518e-08 1.37219351e-07 8.06298875e-05 1.26176387e-06\n 1.28036394e-04 3.13944650e-04 1.49311970e-07 4.64497173e-06\n 4.24226222e-05 2.00552894e-04 3.67355343e-08 6.05963957e-04\n 2.87224321e-08 1.90807563e-03 6.31690314e-03 1.51857248e-07\n 1.08371731e-06 1.34204003e-04 6.01224021e-06 1.30794634e-04\n 6.08516319e-03 6.22810975e-17 2.96190573e-04 1.39675812e-04\n 1.17246252e-03 7.19062171e-04 6.13223884e-08 2.04120935e-26\n 5.52761262e-18 3.02472985e-07 2.86212271e-11 1.00781845e-09\n 1.59074060e-11] 201\n[4.04543101e-06 1.21012942e-07 9.13676394e-09 7.21504242e-14\n 8.93133651e-12 1.46538693e-09 1.37846226e-05 1.33922719e-07\n 1.47849336e-05 1.71445926e-05 2.62253872e-05 9.28403376e-04\n 1.24812834e-06 7.65491401e-08 5.85159612e-30 3.76039422e-09\n 2.32736299e-10 2.63399035e-07 3.83175284e-09 8.01699374e-08\n 2.78472811e-04 4.03346453e-10 4.76642726e-33 4.25631420e-11\n 9.94484507e-35 3.67666379e-13 2.60164503e-05 1.41454121e-29\n 2.07033478e-29 2.39474320e-06 6.21398895e-12 2.12490494e-08\n 1.40442839e-07 3.79155992e-05 5.70165243e-07 7.10429780e-04\n 1.99847707e-04 2.38387092e-13 1.24867111e-08 4.00577545e-06\n 6.64291814e-15 8.00369973e-04 2.80522983e-04 1.61771051e-08\n 4.70134696e-06 9.59390362e-09 2.45177753e-13 1.69664157e-13\n 7.10668582e-18 2.05182379e-12 7.76822347e-33 1.53196559e-06\n 9.30816933e-08 5.38882029e-08 8.45810728e-11 9.89647775e-04\n 3.21465901e-08 3.93710921e-03 1.79377091e-05 1.54682560e-04\n 2.22087464e-05 2.47125429e-04 5.75838458e-08 4.46239887e-09\n 1.44162699e-03 1.49391055e-05 1.67949687e-05 1.28262166e-05\n 6.90606369e-05 1.12738520e-04 3.23785836e-04 3.48636209e-05\n 1.23995273e-10 3.17031440e-04 2.34606542e-03 2.54355298e-10\n 2.67389399e-04 2.71623983e-06 6.70014816e-05 3.82919191e-04\n 2.40277098e-05 8.30902867e-05 1.07528238e-04 3.13801185e-04\n 2.70164275e-04 2.40420607e-06 5.01055186e-05 3.90103601e-06\n 5.89742456e-07 1.74641131e-05 7.25066737e-05 7.72729265e-04\n 2.22560832e-10 2.01169676e-06 1.77328798e-05 2.52471046e-05\n 1.51988695e-04 3.72177636e-04 3.75574909e-04 7.31193289e-04\n 1.67568001e-06 1.15096188e-06 3.80621840e-06 4.95668601e-05\n 8.79654998e-04 1.63679535e-04 3.15469194e-05 8.55800644e-13\n 1.65260603e-13 5.83127290e-10 2.33023634e-08 1.45313900e-05\n 8.12916885e-06 1.54847467e-05 2.32797657e-07 3.76562022e-06\n 1.97703878e-03 8.25689777e-04 4.63800082e-05 6.16739518e-04\n 4.80538053e-05 2.10051846e-04 1.30268539e-03 8.96979641e-05\n 3.38373281e-04 3.99457829e-05 7.51546921e-12 1.58161531e-06\n 6.10955829e-08 2.06733004e-05 5.37334127e-06 5.52416489e-05\n 4.02252374e-05 1.87535579e-04 1.06833852e-04 6.83905202e-04\n 5.78157117e-03 5.78157117e-03 1.78027880e-11 5.62203362e-09\n 2.25822545e-11 9.05292864e-05 8.55226992e-14 7.65968318e-04\n 2.97566680e-11 1.43262223e-08 1.42286122e-08 5.87177469e-04\n 1.99653757e-06 1.90683267e-04 3.22065598e-03 2.15873020e-03\n 1.96465879e-03 4.04482448e-04 5.21410433e-06 5.10223633e-04\n 2.50503889e-08 1.53257447e-03 3.04499260e-07 4.80833041e-06\n 6.62436133e-07 4.43887682e-09 4.68380897e-06 8.09251825e-04\n 1.66882595e-03 5.90950811e-03 1.38264531e-04 1.59669429e-04\n 3.05929977e-08 1.47829491e-07 8.68643901e-05 1.35932658e-06\n 1.37936485e-04 3.38219628e-04 1.60857141e-07 5.00413245e-06\n 4.57028444e-05 2.16060141e-04 3.95760168e-08 6.52818591e-04\n 3.09433217e-08 2.05561276e-03 6.80534174e-03 1.63599227e-07\n 1.16751302e-06 1.44580989e-04 6.47712152e-06 1.40907999e-04\n 6.55568308e-03 6.70968263e-17 3.19092762e-04 1.50475891e-04\n 1.26312023e-03 7.74661840e-04 6.60639873e-08 2.19904071e-26\n 5.95502132e-18 3.25860945e-07 3.08342913e-11 1.08574547e-09\n 1.71374060e-11 7.04817000e-03 7.04817000e-03 7.04817000e-03\n 7.04817000e-03 7.04817000e-03 7.04817000e-03 7.04817000e-03\n 7.04817000e-03 7.04817000e-03 7.04817000e-03 7.04817000e-03\n 7.04817000e-03 7.04817000e-03 7.04817000e-03 7.04817000e-03\n 7.04817000e-03 7.04817000e-03 7.04817000e-03 7.04817000e-03\n 7.04817000e-03 7.04817000e-03 7.04817000e-03 7.04817000e-03\n 7.04817000e-03 7.04817000e-03 7.04817000e-03 7.04817000e-03\n 7.04817000e-03 7.04817000e-03 7.04817000e-03 7.04817000e-03\n 7.04817000e-03 7.04817000e-03 7.04817000e-03 7.04817000e-03\n 7.04817000e-03 7.04817000e-03 7.04817000e-03 7.04817000e-03\n 7.04817000e-03 7.04817000e-03 7.04817000e-03 7.04817000e-03\n 7.04817000e-03 7.04817000e-03 7.04817000e-03 7.04817000e-03\n 7.04817000e-03 7.04817000e-03 7.04817000e-03 7.04817000e-03\n 7.04817000e-03 7.04817000e-03 7.04817000e-03 7.04817000e-03\n 7.04817000e-03 7.04817000e-03 7.04817000e-03 7.04817000e-03\n 7.04817000e-03 7.04817000e-03 7.04817000e-03 7.04817000e-03\n 7.04817000e-03 7.04817000e-03 7.04817000e-03 7.04817000e-03\n 7.04817000e-03 7.04817000e-03 7.04817000e-03 7.04817000e-03\n 7.04817000e-03 7.04817000e-03 7.04817000e-03 7.04817000e-03\n 7.04817000e-03 7.04817000e-03 7.04817000e-03 7.04817000e-03\n 7.04817000e-03 7.04817000e-03 7.04817000e-03 7.04817000e-03\n 7.04817000e-03 7.04817000e-03 7.04817000e-03 7.04817000e-03\n 7.04817000e-03 7.04817000e-03 7.04817000e-03 7.04817000e-03\n 7.04817000e-03 7.04817000e-03 7.04817000e-03 7.04817000e-03\n 7.04817000e-03 7.04817000e-03 7.04817000e-03 7.04817000e-03\n 7.04817000e-03 7.04817000e-03 7.04817000e-03 7.04817000e-03\n 7.04817000e-03 7.04817000e-03 7.04817000e-03 7.04817000e-03\n 7.04817000e-03 7.04817000e-03 7.04817000e-03 7.04817000e-03\n 7.04817000e-03 7.04817000e-03 7.04817000e-03 7.04817000e-03\n 7.04817000e-03 7.04817000e-03 7.04817000e-03 7.04817000e-03\n 7.04817000e-03 7.04817000e-03 7.04817000e-03 7.04817000e-03\n 7.04817000e-03 7.04817000e-03 7.04817000e-03 7.04817000e-03\n 7.04817000e-03 7.04817000e-03 7.04817000e-03 7.04817000e-03] 332\n[0.00704817 0.00704817 0.00704817 0.00704817 0.00704817 0.00704817\n 0.00704817 0.00704817 0.00704817 0.00704817 0.00704817 0.00704817\n 0.00704817 0.00704817 0.00704817 0.00704817 0.00704817 0.00704817\n 0.00704817 0.00704817 0.00704817 0.00704817 0.00704817 0.00704817\n 0.00704817 0.00704817 0.00704817 0.00704817 0.00704817 0.00704817\n 0.00704817 0.00704817 0.00704817 0.00704817 0.00704817 0.00704817\n 0.00704817 0.00704817 0.00704817 0.00704817 0.00704817 0.00704817\n 0.00704817 0.00704817 0.00704817 0.00704817 0.00704817 0.00704817\n 0.00704817 0.00704817 0.00704817 0.00704817 0.00704817 0.00704817\n 0.00704817 0.00704817 0.00704817 0.00704817 0.00704817 0.00704817\n 0.00704817 0.00704817 0.00704817 0.00704817 0.00704817 0.00704817\n 0.00704817 0.00704817 0.00704817 0.00704817 0.00704817 0.00704817\n 0.00704817 0.00704817 0.00704817 0.00704817 0.00704817 0.00704817\n 0.00704817 0.00704817 0.00704817 0.00704817 0.00704817 0.00704817\n 0.00704817 0.00704817 0.00704817 0.00704817 0.00704817 0.00704817\n 0.00704817 0.00704817 0.00704817 0.00704817 0.00704817 0.00704817\n 0.00704817 0.00704817 0.00704817 0.00704817 0.00704817 0.00704817\n 0.00704817 0.00704817 0.00704817 0.00704817 0.00704817 0.00704817\n 0.00704817 0.00704817 0.00704817 0.00704817 0.00704817 0.00704817\n 0.00704817 0.00704817 0.00704817 0.00704817 0.00704817 0.00704817\n 0.00704817 0.00704817 0.00704817 0.00704817 0.00704817 0.00704817\n 0.00704817 0.00704817 0.00704817 0.00704817 0.00704817] 131\n[4.04543101e-06 1.21012942e-07 9.13676394e-09 7.21504242e-14\n 8.93133651e-12 1.46538693e-09 1.37846226e-05 1.33922719e-07\n 1.47849336e-05 1.71445926e-05 2.62253872e-05 9.28403376e-04\n 1.24812834e-06 7.65491401e-08 5.85159612e-30 3.76039422e-09\n 2.32736299e-10 2.63399035e-07 3.83175284e-09 8.01699374e-08\n 2.78472811e-04 4.03346453e-10 4.76642726e-33 4.25631420e-11\n 9.94484507e-35 3.67666379e-13 2.60164503e-05 1.41454121e-29\n 2.07033478e-29 2.39474320e-06 6.21398895e-12 2.12490494e-08\n 1.40442839e-07 3.79155992e-05 5.70165243e-07 7.10429780e-04\n 1.99847707e-04 2.38387092e-13 1.24867111e-08 4.00577545e-06\n 6.64291814e-15 8.00369973e-04 2.80522983e-04 1.61771051e-08\n 4.70134696e-06 9.59390362e-09 2.45177753e-13 1.69664157e-13\n 7.10668582e-18 2.05182379e-12 7.76822347e-33 1.53196559e-06\n 9.30816933e-08 5.38882029e-08 8.45810728e-11 9.89647775e-04\n 3.21465901e-08 3.93710921e-03 1.79377091e-05 1.54682560e-04\n 2.22087464e-05 2.47125429e-04 5.75838458e-08 4.46239887e-09\n 1.44162699e-03 1.49391055e-05 1.67949687e-05 1.28262166e-05\n 6.90606369e-05 1.12738520e-04 3.23785836e-04 3.48636209e-05\n 1.23995273e-10 3.17031440e-04 2.34606542e-03 2.54355298e-10\n 2.67389399e-04 2.71623983e-06 6.70014816e-05 3.82919191e-04\n 2.40277098e-05 8.30902867e-05 1.07528238e-04 3.13801185e-04\n 2.70164275e-04 2.40420607e-06 5.01055186e-05 3.90103601e-06\n 5.89742456e-07 1.74641131e-05 7.25066737e-05 7.72729265e-04\n 2.22560832e-10 2.01169676e-06 1.77328798e-05 2.52471046e-05\n 1.51988695e-04 3.72177636e-04 3.75574909e-04 7.31193289e-04\n 1.67568001e-06 1.15096188e-06 3.80621840e-06 4.95668601e-05\n 8.79654998e-04 1.63679535e-04 3.15469194e-05 8.55800644e-13\n 1.65260603e-13 5.83127290e-10 2.33023634e-08 1.45313900e-05\n 8.12916885e-06 1.54847467e-05 2.32797657e-07 3.76562022e-06\n 1.97703878e-03 8.25689777e-04 4.63800082e-05 6.16739518e-04\n 4.80538053e-05 2.10051846e-04 1.30268539e-03 8.96979641e-05\n 3.38373281e-04 3.99457829e-05 7.51546921e-12 1.58161531e-06\n 6.10955829e-08 2.06733004e-05 5.37334127e-06 5.52416489e-05\n 4.02252374e-05 1.87535579e-04 1.06833852e-04 6.83905202e-04\n 5.78157117e-03 5.78157117e-03 1.78027880e-11 5.62203362e-09\n 2.25822545e-11 9.05292864e-05 8.55226992e-14 7.65968318e-04\n 2.97566680e-11 1.43262223e-08 1.42286122e-08 5.87177469e-04\n 1.99653757e-06 1.90683267e-04 3.22065598e-03 2.15873020e-03\n 1.96465879e-03 4.04482448e-04 5.21410433e-06 5.10223633e-04\n 2.50503889e-08 1.53257447e-03 3.04499260e-07 4.80833041e-06\n 6.62436133e-07 4.43887682e-09 4.68380897e-06 8.09251825e-04\n 1.66882595e-03 5.90950811e-03 1.38264531e-04 1.59669429e-04\n 3.05929977e-08 1.47829491e-07 8.68643901e-05 1.35932658e-06\n 1.37936485e-04 3.38219628e-04 1.60857141e-07 5.00413245e-06\n 4.57028444e-05 2.16060141e-04 3.95760168e-08 6.52818591e-04\n 3.09433217e-08 2.05561276e-03 6.80534174e-03 1.63599227e-07\n 1.16751302e-06 1.44580989e-04 6.47712152e-06 1.40907999e-04\n 6.55568308e-03 6.70968263e-17 3.19092762e-04 1.50475891e-04\n 1.26312023e-03 7.74661840e-04 6.60639873e-08 2.19904071e-26\n 5.95502132e-18 3.25860945e-07 3.08342913e-11 1.08574547e-09\n 1.71374060e-11] 201\n"
    },
    {
     "data": {
      "image/png": "[encoded data removed]",
      "image/svg+xml": "<?xml version=\"1.0\" encoding=\"utf-8\" standalone=\"no\"?>\n<!DOCTYPE svg PUBLIC \"-//W3C//DTD SVG 1.1//EN\"\n  \"http://www.w3.org/Graphics/SVG/1.1/DTD/svg11.dtd\">\n<svg xmlns:xlink=\"http://www.w3.org/1999/xlink\" width=\"524.240625pt\" height=\"325.986375pt\" viewBox=\"0 0 524.240625 325.986375\" xmlns=\"http://www.w3.org/2000/svg\" version=\"1.1\">\n <metadata>\n  <rdf:RDF xmlns:dc=\"http://purl.org/dc/elements/1.1/\" xmlns:cc=\"http://creativecommons.org/ns#\" xmlns:rdf=\"http://www.w3.org/1999/02/22-rdf-syntax-ns#\">\n   <cc:Work>\n    <dc:type rdf:resource=\"http://purl.org/dc/dcmitype/StillImage\"/>\n    <dc:date>2023-04-24T16:00:44.444299</dc:date>\n    <dc:format>image/svg+xml</dc:format>\n    <dc:creator>\n     <cc:Agent>\n      <dc:title>Matplotlib v3.7.0, https://matplotlib.org/</dc:title>\n     </cc:Agent>\n    </dc:creator>\n   </cc:Work>\n  </rdf:RDF>\n </metadata>\n <defs>\n  <style type=\"text/css\">*{stroke-linejoin: round; stroke-linecap: butt}</style>\n </defs>\n <g id=\"figure_1\">\n  <g id=\"patch_1\">\n   <path d=\"M 0 325.986375 \nL 524.240625 325.986375 \nL 524.240625 0 \nL 0 0 \nz\n\" style=\"fill: #ffffff\"/>\n  </g>\n  <g id=\"axes_1\">\n   <g id=\"patch_2\">\n    <path d=\"M 83.560312 288.430125 \nL 440.680313 288.430125 \nL 440.680313 22.318125 \nL 83.560312 22.318125 \nz\n\" style=\"fill: #ffffff\"/>\n   </g>\n   <g id=\"matplotlib.axis_1\">\n    <g id=\"xtick_1\">\n     <g id=\"line2d_1\">\n      <defs>\n       <path id=\"md7ec38510b\" d=\"M 0 0 \nL 0 3.5 \n\" style=\"stroke: #000000; stroke-width: 0.8\"/>\n      </defs>\n      <g>\n       <use xlink:href=\"#md7ec38510b\" x=\"83.560312\" y=\"288.430125\" style=\"stroke: #000000; stroke-width: 0.8\"/>\n      </g>\n     </g>\n     <g id=\"text_1\">\n      <!-- 0 -->\n      <g transform=\"translate(80.379062 303.028562) scale(0.1 -0.1)\">\n       <defs>\n        <path id=\"DejaVuSans-30\" d=\"M 2034 4250 \nQ 1547 4250 1301 3770 \nQ 1056 3291 1056 2328 \nQ 1056 1369 1301 889 \nQ 1547 409 2034 409 \nQ 2525 409 2770 889 \nQ 3016 1369 3016 2328 \nQ 3016 3291 2770 3770 \nQ 2525 4250 2034 4250 \nz\nM 2034 4750 \nQ 2819 4750 3233 4129 \nQ 3647 3509 3647 2328 \nQ 3647 1150 3233 529 \nQ 2819 -91 2034 -91 \nQ 1250 -91 836 529 \nQ 422 1150 422 2328 \nQ 422 3509 836 4129 \nQ 1250 4750 2034 4750 \nz\n\" transform=\"scale(0.015625)\"/>\n       </defs>\n       <use xlink:href=\"#DejaVuSans-30\"/>\n      </g>\n     </g>\n    </g>\n    <g id=\"xtick_2\">\n     <g id=\"line2d_2\">\n      <g>\n       <use xlink:href=\"#md7ec38510b\" x=\"154.984312\" y=\"288.430125\" style=\"stroke: #000000; stroke-width: 0.8\"/>\n      </g>\n     </g>\n     <g id=\"text_2\">\n      <!-- 20 -->\n      <g transform=\"translate(148.621812 303.028562) scale(0.1 -0.1)\">\n       <defs>\n        <path id=\"DejaVuSans-32\" d=\"M 1228 531 \nL 3431 531 \nL 3431 0 \nL 469 0 \nL 469 531 \nQ 828 903 1448 1529 \nQ 2069 2156 2228 2338 \nQ 2531 2678 2651 2914 \nQ 2772 3150 2772 3378 \nQ 2772 3750 2511 3984 \nQ 2250 4219 1831 4219 \nQ 1534 4219 1204 4116 \nQ 875 4013 500 3803 \nL 500 4441 \nQ 881 4594 1212 4672 \nQ 1544 4750 1819 4750 \nQ 2544 4750 2975 4387 \nQ 3406 4025 3406 3419 \nQ 3406 3131 3298 2873 \nQ 3191 2616 2906 2266 \nQ 2828 2175 2409 1742 \nQ 1991 1309 1228 531 \nz\n\" transform=\"scale(0.015625)\"/>\n       </defs>\n       <use xlink:href=\"#DejaVuSans-32\"/>\n       <use xlink:href=\"#DejaVuSans-30\" x=\"63.623047\"/>\n      </g>\n     </g>\n    </g>\n    <g id=\"xtick_3\">\n     <g id=\"line2d_3\">\n      <g>\n       <use xlink:href=\"#md7ec38510b\" x=\"226.408313\" y=\"288.430125\" style=\"stroke: #000000; stroke-width: 0.8\"/>\n      </g>\n     </g>\n     <g id=\"text_3\">\n      <!-- 40 -->\n      <g transform=\"translate(220.045813 303.028562) scale(0.1 -0.1)\">\n       <defs>\n        <path id=\"DejaVuSans-34\" d=\"M 2419 4116 \nL 825 1625 \nL 2419 1625 \nL 2419 4116 \nz\nM 2253 4666 \nL 3047 4666 \nL 3047 1625 \nL 3713 1625 \nL 3713 1100 \nL 3047 1100 \nL 3047 0 \nL 2419 0 \nL 2419 1100 \nL 313 1100 \nL 313 1709 \nL 2253 4666 \nz\n\" transform=\"scale(0.015625)\"/>\n       </defs>\n       <use xlink:href=\"#DejaVuSans-34\"/>\n       <use xlink:href=\"#DejaVuSans-30\" x=\"63.623047\"/>\n      </g>\n     </g>\n    </g>\n    <g id=\"xtick_4\">\n     <g id=\"line2d_4\">\n      <g>\n       <use xlink:href=\"#md7ec38510b\" x=\"297.832313\" y=\"288.430125\" style=\"stroke: #000000; stroke-width: 0.8\"/>\n      </g>\n     </g>\n     <g id=\"text_4\">\n      <!-- 60 -->\n      <g transform=\"translate(291.469812 303.028562) scale(0.1 -0.1)\">\n       <defs>\n        <path id=\"DejaVuSans-36\" d=\"M 2113 2584 \nQ 1688 2584 1439 2293 \nQ 1191 2003 1191 1497 \nQ 1191 994 1439 701 \nQ 1688 409 2113 409 \nQ 2538 409 2786 701 \nQ 3034 994 3034 1497 \nQ 3034 2003 2786 2293 \nQ 2538 2584 2113 2584 \nz\nM 3366 4563 \nL 3366 3988 \nQ 3128 4100 2886 4159 \nQ 2644 4219 2406 4219 \nQ 1781 4219 1451 3797 \nQ 1122 3375 1075 2522 \nQ 1259 2794 1537 2939 \nQ 1816 3084 2150 3084 \nQ 2853 3084 3261 2657 \nQ 3669 2231 3669 1497 \nQ 3669 778 3244 343 \nQ 2819 -91 2113 -91 \nQ 1303 -91 875 529 \nQ 447 1150 447 2328 \nQ 447 3434 972 4092 \nQ 1497 4750 2381 4750 \nQ 2619 4750 2861 4703 \nQ 3103 4656 3366 4563 \nz\n\" transform=\"scale(0.015625)\"/>\n       </defs>\n       <use xlink:href=\"#DejaVuSans-36\"/>\n       <use xlink:href=\"#DejaVuSans-30\" x=\"63.623047\"/>\n      </g>\n     </g>\n    </g>\n    <g id=\"xtick_5\">\n     <g id=\"line2d_5\">\n      <g>\n       <use xlink:href=\"#md7ec38510b\" x=\"369.256313\" y=\"288.430125\" style=\"stroke: #000000; stroke-width: 0.8\"/>\n      </g>\n     </g>\n     <g id=\"text_5\">\n      <!-- 80 -->\n      <g transform=\"translate(362.893813 303.028562) scale(0.1 -0.1)\">\n       <defs>\n        <path id=\"DejaVuSans-38\" d=\"M 2034 2216 \nQ 1584 2216 1326 1975 \nQ 1069 1734 1069 1313 \nQ 1069 891 1326 650 \nQ 1584 409 2034 409 \nQ 2484 409 2743 651 \nQ 3003 894 3003 1313 \nQ 3003 1734 2745 1975 \nQ 2488 2216 2034 2216 \nz\nM 1403 2484 \nQ 997 2584 770 2862 \nQ 544 3141 544 3541 \nQ 544 4100 942 4425 \nQ 1341 4750 2034 4750 \nQ 2731 4750 3128 4425 \nQ 3525 4100 3525 3541 \nQ 3525 3141 3298 2862 \nQ 3072 2584 2669 2484 \nQ 3125 2378 3379 2068 \nQ 3634 1759 3634 1313 \nQ 3634 634 3220 271 \nQ 2806 -91 2034 -91 \nQ 1263 -91 848 271 \nQ 434 634 434 1313 \nQ 434 1759 690 2068 \nQ 947 2378 1403 2484 \nz\nM 1172 3481 \nQ 1172 3119 1398 2916 \nQ 1625 2713 2034 2713 \nQ 2441 2713 2670 2916 \nQ 2900 3119 2900 3481 \nQ 2900 3844 2670 4047 \nQ 2441 4250 2034 4250 \nQ 1625 4250 1398 4047 \nQ 1172 3844 1172 3481 \nz\n\" transform=\"scale(0.015625)\"/>\n       </defs>\n       <use xlink:href=\"#DejaVuSans-38\"/>\n       <use xlink:href=\"#DejaVuSans-30\" x=\"63.623047\"/>\n      </g>\n     </g>\n    </g>\n    <g id=\"xtick_6\">\n     <g id=\"line2d_6\">\n      <g>\n       <use xlink:href=\"#md7ec38510b\" x=\"440.680313\" y=\"288.430125\" style=\"stroke: #000000; stroke-width: 0.8\"/>\n      </g>\n     </g>\n     <g id=\"text_6\">\n      <!-- 100 -->\n      <g transform=\"translate(431.136563 303.028562) scale(0.1 -0.1)\">\n       <defs>\n        <path id=\"DejaVuSans-31\" d=\"M 794 531 \nL 1825 531 \nL 1825 4091 \nL 703 3866 \nL 703 4441 \nL 1819 4666 \nL 2450 4666 \nL 2450 531 \nL 3481 531 \nL 3481 0 \nL 794 0 \nL 794 531 \nz\n\" transform=\"scale(0.015625)\"/>\n       </defs>\n       <use xlink:href=\"#DejaVuSans-31\"/>\n       <use xlink:href=\"#DejaVuSans-30\" x=\"63.623047\"/>\n       <use xlink:href=\"#DejaVuSans-30\" x=\"127.246094\"/>\n      </g>\n     </g>\n    </g>\n    <g id=\"text_7\">\n     <!-- Sampels -->\n     <g transform=\"translate(240.767188 316.706687) scale(0.1 -0.1)\">\n      <defs>\n       <path id=\"DejaVuSans-53\" d=\"M 3425 4513 \nL 3425 3897 \nQ 3066 4069 2747 4153 \nQ 2428 4238 2131 4238 \nQ 1616 4238 1336 4038 \nQ 1056 3838 1056 3469 \nQ 1056 3159 1242 3001 \nQ 1428 2844 1947 2747 \nL 2328 2669 \nQ 3034 2534 3370 2195 \nQ 3706 1856 3706 1288 \nQ 3706 609 3251 259 \nQ 2797 -91 1919 -91 \nQ 1588 -91 1214 -16 \nQ 841 59 441 206 \nL 441 856 \nQ 825 641 1194 531 \nQ 1563 422 1919 422 \nQ 2459 422 2753 634 \nQ 3047 847 3047 1241 \nQ 3047 1584 2836 1778 \nQ 2625 1972 2144 2069 \nL 1759 2144 \nQ 1053 2284 737 2584 \nQ 422 2884 422 3419 \nQ 422 4038 858 4394 \nQ 1294 4750 2059 4750 \nQ 2388 4750 2728 4690 \nQ 3069 4631 3425 4513 \nz\n\" transform=\"scale(0.015625)\"/>\n       <path id=\"DejaVuSans-61\" d=\"M 2194 1759 \nQ 1497 1759 1228 1600 \nQ 959 1441 959 1056 \nQ 959 750 1161 570 \nQ 1363 391 1709 391 \nQ 2188 391 2477 730 \nQ 2766 1069 2766 1631 \nL 2766 1759 \nL 2194 1759 \nz\nM 3341 1997 \nL 3341 0 \nL 2766 0 \nL 2766 531 \nQ 2569 213 2275 61 \nQ 1981 -91 1556 -91 \nQ 1019 -91 701 211 \nQ 384 513 384 1019 \nQ 384 1609 779 1909 \nQ 1175 2209 1959 2209 \nL 2766 2209 \nL 2766 2266 \nQ 2766 2663 2505 2880 \nQ 2244 3097 1772 3097 \nQ 1472 3097 1187 3025 \nQ 903 2953 641 2809 \nL 641 3341 \nQ 956 3463 1253 3523 \nQ 1550 3584 1831 3584 \nQ 2591 3584 2966 3190 \nQ 3341 2797 3341 1997 \nz\n\" transform=\"scale(0.015625)\"/>\n       <path id=\"DejaVuSans-6d\" d=\"M 3328 2828 \nQ 3544 3216 3844 3400 \nQ 4144 3584 4550 3584 \nQ 5097 3584 5394 3201 \nQ 5691 2819 5691 2113 \nL 5691 0 \nL 5113 0 \nL 5113 2094 \nQ 5113 2597 4934 2840 \nQ 4756 3084 4391 3084 \nQ 3944 3084 3684 2787 \nQ 3425 2491 3425 1978 \nL 3425 0 \nL 2847 0 \nL 2847 2094 \nQ 2847 2600 2669 2842 \nQ 2491 3084 2119 3084 \nQ 1678 3084 1418 2786 \nQ 1159 2488 1159 1978 \nL 1159 0 \nL 581 0 \nL 581 3500 \nL 1159 3500 \nL 1159 2956 \nQ 1356 3278 1631 3431 \nQ 1906 3584 2284 3584 \nQ 2666 3584 2933 3390 \nQ 3200 3197 3328 2828 \nz\n\" transform=\"scale(0.015625)\"/>\n       <path id=\"DejaVuSans-70\" d=\"M 1159 525 \nL 1159 -1331 \nL 581 -1331 \nL 581 3500 \nL 1159 3500 \nL 1159 2969 \nQ 1341 3281 1617 3432 \nQ 1894 3584 2278 3584 \nQ 2916 3584 3314 3078 \nQ 3713 2572 3713 1747 \nQ 3713 922 3314 415 \nQ 2916 -91 2278 -91 \nQ 1894 -91 1617 61 \nQ 1341 213 1159 525 \nz\nM 3116 1747 \nQ 3116 2381 2855 2742 \nQ 2594 3103 2138 3103 \nQ 1681 3103 1420 2742 \nQ 1159 2381 1159 1747 \nQ 1159 1113 1420 752 \nQ 1681 391 2138 391 \nQ 2594 391 2855 752 \nQ 3116 1113 3116 1747 \nz\n\" transform=\"scale(0.015625)\"/>\n       <path id=\"DejaVuSans-65\" d=\"M 3597 1894 \nL 3597 1613 \nL 953 1613 \nQ 991 1019 1311 708 \nQ 1631 397 2203 397 \nQ 2534 397 2845 478 \nQ 3156 559 3463 722 \nL 3463 178 \nQ 3153 47 2828 -22 \nQ 2503 -91 2169 -91 \nQ 1331 -91 842 396 \nQ 353 884 353 1716 \nQ 353 2575 817 3079 \nQ 1281 3584 2069 3584 \nQ 2775 3584 3186 3129 \nQ 3597 2675 3597 1894 \nz\nM 3022 2063 \nQ 3016 2534 2758 2815 \nQ 2500 3097 2075 3097 \nQ 1594 3097 1305 2825 \nQ 1016 2553 972 2059 \nL 3022 2063 \nz\n\" transform=\"scale(0.015625)\"/>\n       <path id=\"DejaVuSans-6c\" d=\"M 603 4863 \nL 1178 4863 \nL 1178 0 \nL 603 0 \nL 603 4863 \nz\n\" transform=\"scale(0.015625)\"/>\n       <path id=\"DejaVuSans-73\" d=\"M 2834 3397 \nL 2834 2853 \nQ 2591 2978 2328 3040 \nQ 2066 3103 1784 3103 \nQ 1356 3103 1142 2972 \nQ 928 2841 928 2578 \nQ 928 2378 1081 2264 \nQ 1234 2150 1697 2047 \nL 1894 2003 \nQ 2506 1872 2764 1633 \nQ 3022 1394 3022 966 \nQ 3022 478 2636 193 \nQ 2250 -91 1575 -91 \nQ 1294 -91 989 -36 \nQ 684 19 347 128 \nL 347 722 \nQ 666 556 975 473 \nQ 1284 391 1588 391 \nQ 1994 391 2212 530 \nQ 2431 669 2431 922 \nQ 2431 1156 2273 1281 \nQ 2116 1406 1581 1522 \nL 1381 1569 \nQ 847 1681 609 1914 \nQ 372 2147 372 2553 \nQ 372 3047 722 3315 \nQ 1072 3584 1716 3584 \nQ 2034 3584 2315 3537 \nQ 2597 3491 2834 3397 \nz\n\" transform=\"scale(0.015625)\"/>\n      </defs>\n      <use xlink:href=\"#DejaVuSans-53\"/>\n      <use xlink:href=\"#DejaVuSans-61\" x=\"63.476562\"/>\n      <use xlink:href=\"#DejaVuSans-6d\" x=\"124.755859\"/>\n      <use xlink:href=\"#DejaVuSans-70\" x=\"222.167969\"/>\n      <use xlink:href=\"#DejaVuSans-65\" x=\"285.644531\"/>\n      <use xlink:href=\"#DejaVuSans-6c\" x=\"347.167969\"/>\n      <use xlink:href=\"#DejaVuSans-73\" x=\"374.951172\"/>\n     </g>\n    </g>\n   </g>\n   <g id=\"matplotlib.axis_2\">\n    <g id=\"ytick_1\">\n     <g id=\"line2d_7\">\n      <defs>\n       <path id=\"m1fb5ed015f\" d=\"M 0 0 \nL -3.5 0 \n\" style=\"stroke: #000000; stroke-width: 0.8\"/>\n      </defs>\n      <g>\n       <use xlink:href=\"#m1fb5ed015f\" x=\"83.560312\" y=\"255.879959\" style=\"stroke: #000000; stroke-width: 0.8\"/>\n      </g>\n     </g>\n     <g id=\"text_8\">\n      <!-- 40000 -->\n      <g transform=\"translate(44.747812 259.679178) scale(0.1 -0.1)\">\n       <use xlink:href=\"#DejaVuSans-34\"/>\n       <use xlink:href=\"#DejaVuSans-30\" x=\"63.623047\"/>\n       <use xlink:href=\"#DejaVuSans-30\" x=\"127.246094\"/>\n       <use xlink:href=\"#DejaVuSans-30\" x=\"190.869141\"/>\n       <use xlink:href=\"#DejaVuSans-30\" x=\"254.492188\"/>\n      </g>\n     </g>\n    </g>\n    <g id=\"ytick_2\">\n     <g id=\"line2d_8\">\n      <g>\n       <use xlink:href=\"#m1fb5ed015f\" x=\"83.560312\" y=\"220.463576\" style=\"stroke: #000000; stroke-width: 0.8\"/>\n      </g>\n     </g>\n     <g id=\"text_9\">\n      <!-- 50000 -->\n      <g transform=\"translate(44.747812 224.262795) scale(0.1 -0.1)\">\n       <defs>\n        <path id=\"DejaVuSans-35\" d=\"M 691 4666 \nL 3169 4666 \nL 3169 4134 \nL 1269 4134 \nL 1269 2991 \nQ 1406 3038 1543 3061 \nQ 1681 3084 1819 3084 \nQ 2600 3084 3056 2656 \nQ 3513 2228 3513 1497 \nQ 3513 744 3044 326 \nQ 2575 -91 1722 -91 \nQ 1428 -91 1123 -41 \nQ 819 9 494 109 \nL 494 744 \nQ 775 591 1075 516 \nQ 1375 441 1709 441 \nQ 2250 441 2565 725 \nQ 2881 1009 2881 1497 \nQ 2881 1984 2565 2268 \nQ 2250 2553 1709 2553 \nQ 1456 2553 1204 2497 \nQ 953 2441 691 2322 \nL 691 4666 \nz\n\" transform=\"scale(0.015625)\"/>\n       </defs>\n       <use xlink:href=\"#DejaVuSans-35\"/>\n       <use xlink:href=\"#DejaVuSans-30\" x=\"63.623047\"/>\n       <use xlink:href=\"#DejaVuSans-30\" x=\"127.246094\"/>\n       <use xlink:href=\"#DejaVuSans-30\" x=\"190.869141\"/>\n       <use xlink:href=\"#DejaVuSans-30\" x=\"254.492188\"/>\n      </g>\n     </g>\n    </g>\n    <g id=\"ytick_3\">\n     <g id=\"line2d_9\">\n      <g>\n       <use xlink:href=\"#m1fb5ed015f\" x=\"83.560312\" y=\"185.047193\" style=\"stroke: #000000; stroke-width: 0.8\"/>\n      </g>\n     </g>\n     <g id=\"text_10\">\n      <!-- 60000 -->\n      <g transform=\"translate(44.747812 188.846412) scale(0.1 -0.1)\">\n       <use xlink:href=\"#DejaVuSans-36\"/>\n       <use xlink:href=\"#DejaVuSans-30\" x=\"63.623047\"/>\n       <use xlink:href=\"#DejaVuSans-30\" x=\"127.246094\"/>\n       <use xlink:href=\"#DejaVuSans-30\" x=\"190.869141\"/>\n       <use xlink:href=\"#DejaVuSans-30\" x=\"254.492188\"/>\n      </g>\n     </g>\n    </g>\n    <g id=\"ytick_4\">\n     <g id=\"line2d_10\">\n      <g>\n       <use xlink:href=\"#m1fb5ed015f\" x=\"83.560312\" y=\"149.630809\" style=\"stroke: #000000; stroke-width: 0.8\"/>\n      </g>\n     </g>\n     <g id=\"text_11\">\n      <!-- 70000 -->\n      <g transform=\"translate(44.747812 153.430028) scale(0.1 -0.1)\">\n       <defs>\n        <path id=\"DejaVuSans-37\" d=\"M 525 4666 \nL 3525 4666 \nL 3525 4397 \nL 1831 0 \nL 1172 0 \nL 2766 4134 \nL 525 4134 \nL 525 4666 \nz\n\" transform=\"scale(0.015625)\"/>\n       </defs>\n       <use xlink:href=\"#DejaVuSans-37\"/>\n       <use xlink:href=\"#DejaVuSans-30\" x=\"63.623047\"/>\n       <use xlink:href=\"#DejaVuSans-30\" x=\"127.246094\"/>\n       <use xlink:href=\"#DejaVuSans-30\" x=\"190.869141\"/>\n       <use xlink:href=\"#DejaVuSans-30\" x=\"254.492188\"/>\n      </g>\n     </g>\n    </g>\n    <g id=\"ytick_5\">\n     <g id=\"line2d_11\">\n      <g>\n       <use xlink:href=\"#m1fb5ed015f\" x=\"83.560312\" y=\"114.214426\" style=\"stroke: #000000; stroke-width: 0.8\"/>\n      </g>\n     </g>\n     <g id=\"text_12\">\n      <!-- 80000 -->\n      <g transform=\"translate(44.747812 118.013645) scale(0.1 -0.1)\">\n       <use xlink:href=\"#DejaVuSans-38\"/>\n       <use xlink:href=\"#DejaVuSans-30\" x=\"63.623047\"/>\n       <use xlink:href=\"#DejaVuSans-30\" x=\"127.246094\"/>\n       <use xlink:href=\"#DejaVuSans-30\" x=\"190.869141\"/>\n       <use xlink:href=\"#DejaVuSans-30\" x=\"254.492188\"/>\n      </g>\n     </g>\n    </g>\n    <g id=\"ytick_6\">\n     <g id=\"line2d_12\">\n      <g>\n       <use xlink:href=\"#m1fb5ed015f\" x=\"83.560312\" y=\"78.798043\" style=\"stroke: #000000; stroke-width: 0.8\"/>\n      </g>\n     </g>\n     <g id=\"text_13\">\n      <!-- 90000 -->\n      <g transform=\"translate(44.747812 82.597262) scale(0.1 -0.1)\">\n       <defs>\n        <path id=\"DejaVuSans-39\" d=\"M 703 97 \nL 703 672 \nQ 941 559 1184 500 \nQ 1428 441 1663 441 \nQ 2288 441 2617 861 \nQ 2947 1281 2994 2138 \nQ 2813 1869 2534 1725 \nQ 2256 1581 1919 1581 \nQ 1219 1581 811 2004 \nQ 403 2428 403 3163 \nQ 403 3881 828 4315 \nQ 1253 4750 1959 4750 \nQ 2769 4750 3195 4129 \nQ 3622 3509 3622 2328 \nQ 3622 1225 3098 567 \nQ 2575 -91 1691 -91 \nQ 1453 -91 1209 -44 \nQ 966 3 703 97 \nz\nM 1959 2075 \nQ 2384 2075 2632 2365 \nQ 2881 2656 2881 3163 \nQ 2881 3666 2632 3958 \nQ 2384 4250 1959 4250 \nQ 1534 4250 1286 3958 \nQ 1038 3666 1038 3163 \nQ 1038 2656 1286 2365 \nQ 1534 2075 1959 2075 \nz\n\" transform=\"scale(0.015625)\"/>\n       </defs>\n       <use xlink:href=\"#DejaVuSans-39\"/>\n       <use xlink:href=\"#DejaVuSans-30\" x=\"63.623047\"/>\n       <use xlink:href=\"#DejaVuSans-30\" x=\"127.246094\"/>\n       <use xlink:href=\"#DejaVuSans-30\" x=\"190.869141\"/>\n       <use xlink:href=\"#DejaVuSans-30\" x=\"254.492188\"/>\n      </g>\n     </g>\n    </g>\n    <g id=\"ytick_7\">\n     <g id=\"line2d_13\">\n      <g>\n       <use xlink:href=\"#m1fb5ed015f\" x=\"83.560312\" y=\"43.38166\" style=\"stroke: #000000; stroke-width: 0.8\"/>\n      </g>\n     </g>\n     <g id=\"text_14\">\n      <!-- 100000 -->\n      <g transform=\"translate(38.385312 47.180878) scale(0.1 -0.1)\">\n       <use xlink:href=\"#DejaVuSans-31\"/>\n       <use xlink:href=\"#DejaVuSans-30\" x=\"63.623047\"/>\n       <use xlink:href=\"#DejaVuSans-30\" x=\"127.246094\"/>\n       <use xlink:href=\"#DejaVuSans-30\" x=\"190.869141\"/>\n       <use xlink:href=\"#DejaVuSans-30\" x=\"254.492188\"/>\n       <use xlink:href=\"#DejaVuSans-30\" x=\"318.115234\"/>\n      </g>\n     </g>\n    </g>\n    <g id=\"text_15\">\n     <!-- RV -->\n     <g transform=\"translate(32.305625 161.993656) rotate(-90) scale(0.1 -0.1)\">\n      <defs>\n       <path id=\"DejaVuSans-52\" d=\"M 2841 2188 \nQ 3044 2119 3236 1894 \nQ 3428 1669 3622 1275 \nL 4263 0 \nL 3584 0 \nL 2988 1197 \nQ 2756 1666 2539 1819 \nQ 2322 1972 1947 1972 \nL 1259 1972 \nL 1259 0 \nL 628 0 \nL 628 4666 \nL 2053 4666 \nQ 2853 4666 3247 4331 \nQ 3641 3997 3641 3322 \nQ 3641 2881 3436 2590 \nQ 3231 2300 2841 2188 \nz\nM 1259 4147 \nL 1259 2491 \nL 2053 2491 \nQ 2509 2491 2742 2702 \nQ 2975 2913 2975 3322 \nQ 2975 3731 2742 3939 \nQ 2509 4147 2053 4147 \nL 1259 4147 \nz\n\" transform=\"scale(0.015625)\"/>\n       <path id=\"DejaVuSans-56\" d=\"M 1831 0 \nL 50 4666 \nL 709 4666 \nL 2188 738 \nL 3669 4666 \nL 4325 4666 \nL 2547 0 \nL 1831 0 \nz\n\" transform=\"scale(0.015625)\"/>\n      </defs>\n      <use xlink:href=\"#DejaVuSans-52\"/>\n      <use xlink:href=\"#DejaVuSans-56\" x=\"63.982422\"/>\n     </g>\n    </g>\n   </g>\n   <g id=\"line2d_14\">\n    <path d=\"M 83.560312 185.575393 \nL 87.131512 152.480872 \nL 90.702712 250.369241 \nL 94.273912 196.38929 \nL 97.845112 196.089986 \nL 101.416313 257.42808 \nL 104.987512 175.641628 \nL 108.558712 183.093944 \nL 112.129912 190.673404 \nL 115.701112 276.334125 \nL 119.272312 211.69579 \nL 122.843513 204.114134 \nL 126.414712 128.633286 \nL 129.985912 178.278378 \nL 133.557112 171.823672 \nL 137.128312 267.626724 \nL 140.699512 194.713847 \nL 144.270713 34.414125 \nL 147.841912 232.955891 \nL 151.413113 160.022791 \nL 154.984312 231.604472 \nL 158.555512 212.282569 \nL 162.126712 156.291427 \nL 165.697913 204.280662 \nL 169.269113 250.298408 \nL 172.840312 233.871829 \nL 176.411513 199.819933 \nL 179.982712 105.340958 \nL 183.553912 228.474231 \nL 187.125113 143.840125 \nL 190.696313 220.024838 \nL 194.267513 226.961597 \nL 197.838712 209.085921 \nL 201.409913 222.134875 \nL 204.981112 143.410595 \nL 208.552312 228.383104 \nL 212.123513 172.111925 \nL 215.694712 275.843502 \nL 219.265913 257.622871 \nL 222.837112 191.320036 \nL 226.408313 229.396119 \nL 229.979512 167.637809 \nL 233.550712 216.485431 \nL 237.121913 185.798764 \n\" clip-path=\"url(#p7339c9aacf)\" style=\"fill: none; stroke: #1f77b4; stroke-width: 1.5; stroke-linecap: square\"/>\n   </g>\n   <g id=\"line2d_15\">\n    <path d=\"M 83.560312 210.589524 \nL 87.131512 125.942656 \nL 90.702712 233.193346 \nL 94.273912 230.614514 \nL 97.845112 177.373643 \nL 101.416313 239.299532 \nL 104.987512 163.472311 \nL 108.558712 232.390893 \nL 112.129912 201.081736 \nL 115.701112 260.435628 \nL 119.272312 201.081736 \nL 122.843513 189.814864 \nL 126.414712 169.025848 \nL 129.985912 203.65679 \nL 133.557112 185.703813 \nL 137.128312 205.650036 \nL 140.699512 214.942717 \nL 144.270713 45.412317 \nL 147.841912 234.598432 \nL 151.413113 189.555273 \nL 154.984312 215.661374 \nL 158.555512 233.479616 \nL 162.126712 169.645151 \nL 165.697913 205.54008 \nL 169.269113 225.636351 \nL 172.840312 224.217713 \nL 176.411513 188.252281 \nL 179.982712 106.838221 \nL 183.553912 157.724398 \nL 187.125113 232.390893 \nL 190.696313 210.493085 \nL 194.267513 227.89064 \nL 197.838712 211.957553 \nL 201.409913 218.90568 \nL 204.981112 178.383648 \nL 208.552312 218.90568 \nL 212.123513 135.486356 \nL 215.694712 272.715728 \nL 219.265913 230.365643 \nL 222.837112 213.641141 \nL 226.408313 222.777671 \nL 229.979512 189.533268 \nL 233.550712 221.354759 \nL 237.121913 133.24163 \n\" clip-path=\"url(#p7339c9aacf)\" style=\"fill: none; stroke: #ff7f0e; stroke-width: 1.5; stroke-linecap: square\"/>\n   </g>\n   <g id=\"patch_3\">\n    <path d=\"M 83.560312 288.430125 \nL 83.560312 22.318125 \n\" style=\"fill: none; stroke: #000000; stroke-width: 0.8; stroke-linejoin: miter; stroke-linecap: square\"/>\n   </g>\n   <g id=\"patch_4\">\n    <path d=\"M 440.680313 288.430125 \nL 440.680313 22.318125 \n\" style=\"fill: none; stroke: #000000; stroke-width: 0.8; stroke-linejoin: miter; stroke-linecap: square\"/>\n   </g>\n   <g id=\"patch_5\">\n    <path d=\"M 83.560312 288.430125 \nL 440.680313 288.430125 \n\" style=\"fill: none; stroke: #000000; stroke-width: 0.8; stroke-linejoin: miter; stroke-linecap: square\"/>\n   </g>\n   <g id=\"patch_6\">\n    <path d=\"M 83.560312 22.318125 \nL 440.680313 22.318125 \n\" style=\"fill: none; stroke: #000000; stroke-width: 0.8; stroke-linejoin: miter; stroke-linecap: square\"/>\n   </g>\n   <g id=\"text_16\">\n    <!-- TwoStageTrAdaBoostR2 with DecisionTreeRegressor; RMSE df_be 8114.36855582591 -->\n    <g transform=\"translate(7.2 16.318125) scale(0.12 -0.12)\">\n     <defs>\n      <path id=\"DejaVuSans-54\" d=\"M -19 4666 \nL 3928 4666 \nL 3928 4134 \nL 2272 4134 \nL 2272 0 \nL 1638 0 \nL 1638 4134 \nL -19 4134 \nL -19 4666 \nz\n\" transform=\"scale(0.015625)\"/>\n      <path id=\"DejaVuSans-77\" d=\"M 269 3500 \nL 844 3500 \nL 1563 769 \nL 2278 3500 \nL 2956 3500 \nL 3675 769 \nL 4391 3500 \nL 4966 3500 \nL 4050 0 \nL 3372 0 \nL 2619 2869 \nL 1863 0 \nL 1184 0 \nL 269 3500 \nz\n\" transform=\"scale(0.015625)\"/>\n      <path id=\"DejaVuSans-6f\" d=\"M 1959 3097 \nQ 1497 3097 1228 2736 \nQ 959 2375 959 1747 \nQ 959 1119 1226 758 \nQ 1494 397 1959 397 \nQ 2419 397 2687 759 \nQ 2956 1122 2956 1747 \nQ 2956 2369 2687 2733 \nQ 2419 3097 1959 3097 \nz\nM 1959 3584 \nQ 2709 3584 3137 3096 \nQ 3566 2609 3566 1747 \nQ 3566 888 3137 398 \nQ 2709 -91 1959 -91 \nQ 1206 -91 779 398 \nQ 353 888 353 1747 \nQ 353 2609 779 3096 \nQ 1206 3584 1959 3584 \nz\n\" transform=\"scale(0.015625)\"/>\n      <path id=\"DejaVuSans-74\" d=\"M 1172 4494 \nL 1172 3500 \nL 2356 3500 \nL 2356 3053 \nL 1172 3053 \nL 1172 1153 \nQ 1172 725 1289 603 \nQ 1406 481 1766 481 \nL 2356 481 \nL 2356 0 \nL 1766 0 \nQ 1100 0 847 248 \nQ 594 497 594 1153 \nL 594 3053 \nL 172 3053 \nL 172 3500 \nL 594 3500 \nL 594 4494 \nL 1172 4494 \nz\n\" transform=\"scale(0.015625)\"/>\n      <path id=\"DejaVuSans-67\" d=\"M 2906 1791 \nQ 2906 2416 2648 2759 \nQ 2391 3103 1925 3103 \nQ 1463 3103 1205 2759 \nQ 947 2416 947 1791 \nQ 947 1169 1205 825 \nQ 1463 481 1925 481 \nQ 2391 481 2648 825 \nQ 2906 1169 2906 1791 \nz\nM 3481 434 \nQ 3481 -459 3084 -895 \nQ 2688 -1331 1869 -1331 \nQ 1566 -1331 1297 -1286 \nQ 1028 -1241 775 -1147 \nL 775 -588 \nQ 1028 -725 1275 -790 \nQ 1522 -856 1778 -856 \nQ 2344 -856 2625 -561 \nQ 2906 -266 2906 331 \nL 2906 616 \nQ 2728 306 2450 153 \nQ 2172 0 1784 0 \nQ 1141 0 747 490 \nQ 353 981 353 1791 \nQ 353 2603 747 3093 \nQ 1141 3584 1784 3584 \nQ 2172 3584 2450 3431 \nQ 2728 3278 2906 2969 \nL 2906 3500 \nL 3481 3500 \nL 3481 434 \nz\n\" transform=\"scale(0.015625)\"/>\n      <path id=\"DejaVuSans-72\" d=\"M 2631 2963 \nQ 2534 3019 2420 3045 \nQ 2306 3072 2169 3072 \nQ 1681 3072 1420 2755 \nQ 1159 2438 1159 1844 \nL 1159 0 \nL 581 0 \nL 581 3500 \nL 1159 3500 \nL 1159 2956 \nQ 1341 3275 1631 3429 \nQ 1922 3584 2338 3584 \nQ 2397 3584 2469 3576 \nQ 2541 3569 2628 3553 \nL 2631 2963 \nz\n\" transform=\"scale(0.015625)\"/>\n      <path id=\"DejaVuSans-41\" d=\"M 2188 4044 \nL 1331 1722 \nL 3047 1722 \nL 2188 4044 \nz\nM 1831 4666 \nL 2547 4666 \nL 4325 0 \nL 3669 0 \nL 3244 1197 \nL 1141 1197 \nL 716 0 \nL 50 0 \nL 1831 4666 \nz\n\" transform=\"scale(0.015625)\"/>\n      <path id=\"DejaVuSans-64\" d=\"M 2906 2969 \nL 2906 4863 \nL 3481 4863 \nL 3481 0 \nL 2906 0 \nL 2906 525 \nQ 2725 213 2448 61 \nQ 2172 -91 1784 -91 \nQ 1150 -91 751 415 \nQ 353 922 353 1747 \nQ 353 2572 751 3078 \nQ 1150 3584 1784 3584 \nQ 2172 3584 2448 3432 \nQ 2725 3281 2906 2969 \nz\nM 947 1747 \nQ 947 1113 1208 752 \nQ 1469 391 1925 391 \nQ 2381 391 2643 752 \nQ 2906 1113 2906 1747 \nQ 2906 2381 2643 2742 \nQ 2381 3103 1925 3103 \nQ 1469 3103 1208 2742 \nQ 947 2381 947 1747 \nz\n\" transform=\"scale(0.015625)\"/>\n      <path id=\"DejaVuSans-42\" d=\"M 1259 2228 \nL 1259 519 \nL 2272 519 \nQ 2781 519 3026 730 \nQ 3272 941 3272 1375 \nQ 3272 1813 3026 2020 \nQ 2781 2228 2272 2228 \nL 1259 2228 \nz\nM 1259 4147 \nL 1259 2741 \nL 2194 2741 \nQ 2656 2741 2882 2914 \nQ 3109 3088 3109 3444 \nQ 3109 3797 2882 3972 \nQ 2656 4147 2194 4147 \nL 1259 4147 \nz\nM 628 4666 \nL 2241 4666 \nQ 2963 4666 3353 4366 \nQ 3744 4066 3744 3513 \nQ 3744 3084 3544 2831 \nQ 3344 2578 2956 2516 \nQ 3422 2416 3680 2098 \nQ 3938 1781 3938 1306 \nQ 3938 681 3513 340 \nQ 3088 0 2303 0 \nL 628 0 \nL 628 4666 \nz\n\" transform=\"scale(0.015625)\"/>\n      <path id=\"DejaVuSans-20\" transform=\"scale(0.015625)\"/>\n      <path id=\"DejaVuSans-69\" d=\"M 603 3500 \nL 1178 3500 \nL 1178 0 \nL 603 0 \nL 603 3500 \nz\nM 603 4863 \nL 1178 4863 \nL 1178 4134 \nL 603 4134 \nL 603 4863 \nz\n\" transform=\"scale(0.015625)\"/>\n      <path id=\"DejaVuSans-68\" d=\"M 3513 2113 \nL 3513 0 \nL 2938 0 \nL 2938 2094 \nQ 2938 2591 2744 2837 \nQ 2550 3084 2163 3084 \nQ 1697 3084 1428 2787 \nQ 1159 2491 1159 1978 \nL 1159 0 \nL 581 0 \nL 581 4863 \nL 1159 4863 \nL 1159 2956 \nQ 1366 3272 1645 3428 \nQ 1925 3584 2291 3584 \nQ 2894 3584 3203 3211 \nQ 3513 2838 3513 2113 \nz\n\" transform=\"scale(0.015625)\"/>\n      <path id=\"DejaVuSans-44\" d=\"M 1259 4147 \nL 1259 519 \nL 2022 519 \nQ 2988 519 3436 956 \nQ 3884 1394 3884 2338 \nQ 3884 3275 3436 3711 \nQ 2988 4147 2022 4147 \nL 1259 4147 \nz\nM 628 4666 \nL 1925 4666 \nQ 3281 4666 3915 4102 \nQ 4550 3538 4550 2338 \nQ 4550 1131 3912 565 \nQ 3275 0 1925 0 \nL 628 0 \nL 628 4666 \nz\n\" transform=\"scale(0.015625)\"/>\n      <path id=\"DejaVuSans-63\" d=\"M 3122 3366 \nL 3122 2828 \nQ 2878 2963 2633 3030 \nQ 2388 3097 2138 3097 \nQ 1578 3097 1268 2742 \nQ 959 2388 959 1747 \nQ 959 1106 1268 751 \nQ 1578 397 2138 397 \nQ 2388 397 2633 464 \nQ 2878 531 3122 666 \nL 3122 134 \nQ 2881 22 2623 -34 \nQ 2366 -91 2075 -91 \nQ 1284 -91 818 406 \nQ 353 903 353 1747 \nQ 353 2603 823 3093 \nQ 1294 3584 2113 3584 \nQ 2378 3584 2631 3529 \nQ 2884 3475 3122 3366 \nz\n\" transform=\"scale(0.015625)\"/>\n      <path id=\"DejaVuSans-6e\" d=\"M 3513 2113 \nL 3513 0 \nL 2938 0 \nL 2938 2094 \nQ 2938 2591 2744 2837 \nQ 2550 3084 2163 3084 \nQ 1697 3084 1428 2787 \nQ 1159 2491 1159 1978 \nL 1159 0 \nL 581 0 \nL 581 3500 \nL 1159 3500 \nL 1159 2956 \nQ 1366 3272 1645 3428 \nQ 1925 3584 2291 3584 \nQ 2894 3584 3203 3211 \nQ 3513 2838 3513 2113 \nz\n\" transform=\"scale(0.015625)\"/>\n      <path id=\"DejaVuSans-3b\" d=\"M 750 3309 \nL 1409 3309 \nL 1409 2516 \nL 750 2516 \nL 750 3309 \nz\nM 750 794 \nL 1409 794 \nL 1409 256 \nL 897 -744 \nL 494 -744 \nL 750 256 \nL 750 794 \nz\n\" transform=\"scale(0.015625)\"/>\n      <path id=\"DejaVuSans-4d\" d=\"M 628 4666 \nL 1569 4666 \nL 2759 1491 \nL 3956 4666 \nL 4897 4666 \nL 4897 0 \nL 4281 0 \nL 4281 4097 \nL 3078 897 \nL 2444 897 \nL 1241 4097 \nL 1241 0 \nL 628 0 \nL 628 4666 \nz\n\" transform=\"scale(0.015625)\"/>\n      <path id=\"DejaVuSans-45\" d=\"M 628 4666 \nL 3578 4666 \nL 3578 4134 \nL 1259 4134 \nL 1259 2753 \nL 3481 2753 \nL 3481 2222 \nL 1259 2222 \nL 1259 531 \nL 3634 531 \nL 3634 0 \nL 628 0 \nL 628 4666 \nz\n\" transform=\"scale(0.015625)\"/>\n      <path id=\"DejaVuSans-66\" d=\"M 2375 4863 \nL 2375 4384 \nL 1825 4384 \nQ 1516 4384 1395 4259 \nQ 1275 4134 1275 3809 \nL 1275 3500 \nL 2222 3500 \nL 2222 3053 \nL 1275 3053 \nL 1275 0 \nL 697 0 \nL 697 3053 \nL 147 3053 \nL 147 3500 \nL 697 3500 \nL 697 3744 \nQ 697 4328 969 4595 \nQ 1241 4863 1831 4863 \nL 2375 4863 \nz\n\" transform=\"scale(0.015625)\"/>\n      <path id=\"DejaVuSans-5f\" d=\"M 3263 -1063 \nL 3263 -1509 \nL -63 -1509 \nL -63 -1063 \nL 3263 -1063 \nz\n\" transform=\"scale(0.015625)\"/>\n      <path id=\"DejaVuSans-62\" d=\"M 3116 1747 \nQ 3116 2381 2855 2742 \nQ 2594 3103 2138 3103 \nQ 1681 3103 1420 2742 \nQ 1159 2381 1159 1747 \nQ 1159 1113 1420 752 \nQ 1681 391 2138 391 \nQ 2594 391 2855 752 \nQ 3116 1113 3116 1747 \nz\nM 1159 2969 \nQ 1341 3281 1617 3432 \nQ 1894 3584 2278 3584 \nQ 2916 3584 3314 3078 \nQ 3713 2572 3713 1747 \nQ 3713 922 3314 415 \nQ 2916 -91 2278 -91 \nQ 1894 -91 1617 61 \nQ 1341 213 1159 525 \nL 1159 0 \nL 581 0 \nL 581 4863 \nL 1159 4863 \nL 1159 2969 \nz\n\" transform=\"scale(0.015625)\"/>\n      <path id=\"DejaVuSans-2e\" d=\"M 684 794 \nL 1344 794 \nL 1344 0 \nL 684 0 \nL 684 794 \nz\n\" transform=\"scale(0.015625)\"/>\n      <path id=\"DejaVuSans-33\" d=\"M 2597 2516 \nQ 3050 2419 3304 2112 \nQ 3559 1806 3559 1356 \nQ 3559 666 3084 287 \nQ 2609 -91 1734 -91 \nQ 1441 -91 1130 -33 \nQ 819 25 488 141 \nL 488 750 \nQ 750 597 1062 519 \nQ 1375 441 1716 441 \nQ 2309 441 2620 675 \nQ 2931 909 2931 1356 \nQ 2931 1769 2642 2001 \nQ 2353 2234 1838 2234 \nL 1294 2234 \nL 1294 2753 \nL 1863 2753 \nQ 2328 2753 2575 2939 \nQ 2822 3125 2822 3475 \nQ 2822 3834 2567 4026 \nQ 2313 4219 1838 4219 \nQ 1578 4219 1281 4162 \nQ 984 4106 628 3988 \nL 628 4550 \nQ 988 4650 1302 4700 \nQ 1616 4750 1894 4750 \nQ 2613 4750 3031 4423 \nQ 3450 4097 3450 3541 \nQ 3450 3153 3228 2886 \nQ 3006 2619 2597 2516 \nz\n\" transform=\"scale(0.015625)\"/>\n     </defs>\n     <use xlink:href=\"#DejaVuSans-54\"/>\n     <use xlink:href=\"#DejaVuSans-77\" x=\"44.583984\"/>\n     <use xlink:href=\"#DejaVuSans-6f\" x=\"126.371094\"/>\n     <use xlink:href=\"#DejaVuSans-53\" x=\"187.552734\"/>\n     <use xlink:href=\"#DejaVuSans-74\" x=\"251.029297\"/>\n     <use xlink:href=\"#DejaVuSans-61\" x=\"290.238281\"/>\n     <use xlink:href=\"#DejaVuSans-67\" x=\"351.517578\"/>\n     <use xlink:href=\"#DejaVuSans-65\" x=\"414.994141\"/>\n     <use xlink:href=\"#DejaVuSans-54\" x=\"476.517578\"/>\n     <use xlink:href=\"#DejaVuSans-72\" x=\"522.851562\"/>\n     <use xlink:href=\"#DejaVuSans-41\" x=\"563.964844\"/>\n     <use xlink:href=\"#DejaVuSans-64\" x=\"630.623047\"/>\n     <use xlink:href=\"#DejaVuSans-61\" x=\"694.099609\"/>\n     <use xlink:href=\"#DejaVuSans-42\" x=\"755.378906\"/>\n     <use xlink:href=\"#DejaVuSans-6f\" x=\"823.982422\"/>\n     <use xlink:href=\"#DejaVuSans-6f\" x=\"885.164062\"/>\n     <use xlink:href=\"#DejaVuSans-73\" x=\"946.345703\"/>\n     <use xlink:href=\"#DejaVuSans-74\" x=\"998.445312\"/>\n     <use xlink:href=\"#DejaVuSans-52\" x=\"1037.654297\"/>\n     <use xlink:href=\"#DejaVuSans-32\" x=\"1107.136719\"/>\n     <use xlink:href=\"#DejaVuSans-20\" x=\"1170.759766\"/>\n     <use xlink:href=\"#DejaVuSans-77\" x=\"1202.546875\"/>\n     <use xlink:href=\"#DejaVuSans-69\" x=\"1284.333984\"/>\n     <use xlink:href=\"#DejaVuSans-74\" x=\"1312.117188\"/>\n     <use xlink:href=\"#DejaVuSans-68\" x=\"1351.326172\"/>\n     <use xlink:href=\"#DejaVuSans-20\" x=\"1414.705078\"/>\n     <use xlink:href=\"#DejaVuSans-44\" x=\"1446.492188\"/>\n     <use xlink:href=\"#DejaVuSans-65\" x=\"1523.494141\"/>\n     <use xlink:href=\"#DejaVuSans-63\" x=\"1585.017578\"/>\n     <use xlink:href=\"#DejaVuSans-69\" x=\"1639.998047\"/>\n     <use xlink:href=\"#DejaVuSans-73\" x=\"1667.78125\"/>\n     <use xlink:href=\"#DejaVuSans-69\" x=\"1719.880859\"/>\n     <use xlink:href=\"#DejaVuSans-6f\" x=\"1747.664062\"/>\n     <use xlink:href=\"#DejaVuSans-6e\" x=\"1808.845703\"/>\n     <use xlink:href=\"#DejaVuSans-54\" x=\"1872.224609\"/>\n     <use xlink:href=\"#DejaVuSans-72\" x=\"1918.558594\"/>\n     <use xlink:href=\"#DejaVuSans-65\" x=\"1957.421875\"/>\n     <use xlink:href=\"#DejaVuSans-65\" x=\"2018.945312\"/>\n     <use xlink:href=\"#DejaVuSans-52\" x=\"2080.46875\"/>\n     <use xlink:href=\"#DejaVuSans-65\" x=\"2145.451172\"/>\n     <use xlink:href=\"#DejaVuSans-67\" x=\"2206.974609\"/>\n     <use xlink:href=\"#DejaVuSans-72\" x=\"2270.451172\"/>\n     <use xlink:href=\"#DejaVuSans-65\" x=\"2309.314453\"/>\n     <use xlink:href=\"#DejaVuSans-73\" x=\"2370.837891\"/>\n     <use xlink:href=\"#DejaVuSans-73\" x=\"2422.9375\"/>\n     <use xlink:href=\"#DejaVuSans-6f\" x=\"2475.037109\"/>\n     <use xlink:href=\"#DejaVuSans-72\" x=\"2536.21875\"/>\n     <use xlink:href=\"#DejaVuSans-3b\" x=\"2577.332031\"/>\n     <use xlink:href=\"#DejaVuSans-20\" x=\"2611.023438\"/>\n     <use xlink:href=\"#DejaVuSans-52\" x=\"2642.810547\"/>\n     <use xlink:href=\"#DejaVuSans-4d\" x=\"2712.292969\"/>\n     <use xlink:href=\"#DejaVuSans-53\" x=\"2798.572266\"/>\n     <use xlink:href=\"#DejaVuSans-45\" x=\"2862.048828\"/>\n     <use xlink:href=\"#DejaVuSans-20\" x=\"2925.232422\"/>\n     <use xlink:href=\"#DejaVuSans-64\" x=\"2957.019531\"/>\n     <use xlink:href=\"#DejaVuSans-66\" x=\"3020.496094\"/>\n     <use xlink:href=\"#DejaVuSans-5f\" x=\"3055.701172\"/>\n     <use xlink:href=\"#DejaVuSans-62\" x=\"3105.701172\"/>\n     <use xlink:href=\"#DejaVuSans-65\" x=\"3169.177734\"/>\n     <use xlink:href=\"#DejaVuSans-20\" x=\"3230.701172\"/>\n     <use xlink:href=\"#DejaVuSans-38\" x=\"3262.488281\"/>\n     <use xlink:href=\"#DejaVuSans-31\" x=\"3326.111328\"/>\n     <use xlink:href=\"#DejaVuSans-31\" x=\"3389.734375\"/>\n     <use xlink:href=\"#DejaVuSans-34\" x=\"3453.357422\"/>\n     <use xlink:href=\"#DejaVuSans-2e\" x=\"3516.980469\"/>\n     <use xlink:href=\"#DejaVuSans-33\" x=\"3548.767578\"/>\n     <use xlink:href=\"#DejaVuSans-36\" x=\"3612.390625\"/>\n     <use xlink:href=\"#DejaVuSans-38\" x=\"3676.013672\"/>\n     <use xlink:href=\"#DejaVuSans-35\" x=\"3739.636719\"/>\n     <use xlink:href=\"#DejaVuSans-35\" x=\"3803.259766\"/>\n     <use xlink:href=\"#DejaVuSans-35\" x=\"3866.882812\"/>\n     <use xlink:href=\"#DejaVuSans-38\" x=\"3930.505859\"/>\n     <use xlink:href=\"#DejaVuSans-32\" x=\"3994.128906\"/>\n     <use xlink:href=\"#DejaVuSans-35\" x=\"4057.751953\"/>\n     <use xlink:href=\"#DejaVuSans-39\" x=\"4121.375\"/>\n     <use xlink:href=\"#DejaVuSans-31\" x=\"4184.998047\"/>\n    </g>\n   </g>\n  </g>\n </g>\n <defs>\n  <clipPath id=\"p7339c9aacf\">\n   <rect x=\"83.560312\" y=\"22.318125\" width=\"357.12\" height=\"266.112\"/>\n  </clipPath>\n </defs>\n</svg>\n",
      "text/plain": "<Figure size 640x480 with 1 Axes>"
     },
     "metadata": {},
     "output_type": "display_data"
    }
   ],
   "source": [
    "from TL_Regression_Methods.TwoStageTrAdaBoostR2 import TwoStageTrAdaBoostR2\n",
    "from sklearn.tree import DecisionTreeRegressor\n",
    "from sklearn.ensemble import AdaBoostRegressor\n",
    "from sklearn.metrics import mean_squared_error\n",
    "from sklearn import linear_model\n",
    "\n",
    "from sklearn.model_selection import train_test_split\n",
    "import plotly.express as px\n",
    "from sklearn.decomposition import PCA\n",
    "import sklearn\n",
    "from sklearn.neighbors import KNeighborsRegressor\n",
    "from sklearn.metrics import mean_squared_error\n",
    "from sklearn.tree import DecisionTreeRegressor\n",
    "from TL_Regression_Methods.KMM import KMM\n",
    "from sklearn.linear_model import Ridge\n",
    "\n",
    "import sys\n",
    "modname = globals()['__name__']\n",
    "modobj  = sys.modules[modname]\n",
    "\n",
    "sub_src_df_1 = ['df_be', 'df_es', 'df_fr', 'df_nl', 'df_ca']\n",
    "sub_tar_df_2 = ['df_pt', 'df_pt', 'df_pt', 'df_pt', 'df_pt']\n",
    "\n",
    "results = []\n",
    "\n",
    "for i in range (0,1):\n",
    "\n",
    "    df_src = getattr(modobj, sub_src_df_1[i])\n",
    "\n",
    "    df_tar = getattr(modobj, sub_tar_df_2[i])\n",
    "\n",
    "    x_target_train, x_target_test, y_target_train, y_target_test= train_test_split(df_tar.iloc[:,:-1], df_tar.iloc[:,-1], random_state=0)\n",
    "\n",
    "    # source\n",
    "    n_source1 = len(df_src)\n",
    "    x_source1 = df_src.iloc[:,:-1]\n",
    "    y_source1 = df_src.iloc[:,-1]\n",
    "\n",
    "    # target_train\n",
    "    n_target_train = len(x_target_train)\n",
    "\n",
    "    # target_test\n",
    "    n_target_test = len(x_target_test)\n",
    "\n",
    "    print(n_source1,n_target_train,n_target_test)\n",
    "\n",
    "    # 4. transfer learning regressiong for the target_train data\n",
    "    # 4.1 data combination and initial setting specification\n",
    "    X = np.concatenate((x_source1, x_target_train))\n",
    "    y = np.concatenate((y_source1, y_target_train))\n",
    "    sample_size = [n_source1, n_target_train]\n",
    "\n",
    "    n_estimators = 80\n",
    "    steps = 10\n",
    "    fold = 5\n",
    "    random_state = np.random.RandomState(1)\n",
    "\n",
    "    regr_1 = XXTwoStageTrAdaBoostR2( KNeighborsRegressor(n_neighbors=3), #DecisionTreeRegressor(max_depth=8), # linear_model.Lasso(alpha=15), #KNeighborsRegressor(n_neighbors=3), #\n",
    "                        n_estimators = n_estimators, sample_size = sample_size, \n",
    "                        steps = steps, fold = fold, \n",
    "                        random_state = random_state)\n",
    "    regr_1.fit(X, y)\n",
    "    y_pre_twostageboost = regr_1.predict(x_target_test)\n",
    "    rmse_twostageboost = np.sqrt( mean_squared_error(y_target_test, y_pre_twostageboost) )\n",
    "\n",
    "    results.append(sub_src_df_1[i])\n",
    "    results.append(rmse_twostageboost)\n",
    "\n",
    "    plt.plot(y_target_test.reset_index(drop=True))\n",
    "    plt.plot(y_pre_twostageboost)\n",
    "    plt.xlim(0, 100)\n",
    "    plt.title('TwoStageTrAdaBoostR2 with DecisionTreeRegressor; RMSE '+ sub_src_df_1[i] +\" \"+str(rmse_twostageboost))\n",
    "    plt.xlabel('Sampels')\n",
    "    plt.ylabel('RV')\n",
    "    plt.show()"
   ]
  },
  {
   "cell_type": "markdown",
   "metadata": {},
   "source": [
    "# Visulize TrAdaBoost Results in PCA"
   ]
  },
  {
   "cell_type": "code",
   "execution_count": 32,
   "metadata": {},
   "outputs": [
    {
     "data": {
      "application/vnd.plotly.v1+json": {
       "config": {
        "plotlyServerURL": "https://plot.ly"
       },
       "data": [
        {
         "hovertemplate": "symbol=1<br>PC 1=%{x}<br>PC 2=%{y}<br>PC 3=%{z}<br>color=%{marker.color}<extra></extra>",
         "legendgroup": "1",
         "marker": {
          "color": [
           1.8283236666990143e-7,
           7.521936690082377e-8,
           2.062188375793017e-9,
           7.533871580731143e-13,
           9.833009964023857e-19,
           6.121556134176174e-11,
           8.424075397614704e-7,
           4.981089916786065e-8,
           0.00015770496434779166,
           0.000007936890224292067,
           1.0493830297222546e-7,
           0.0006106872593108907,
           1.5486420095714176e-8,
           0.000009166451039762708,
           7.944535815441866e-40,
           2.602635702960828e-13,
           5.660721341666355e-13,
           7.894460842725369e-7,
           3.6916796914299566e-8,
           7.126504966243946e-10,
           0.000010346875234500984,
           1.3378980949787122e-8,
           1.7129606532681172e-38,
           6.117700256988014e-8,
           2.0267250138237924e-40,
           1.731828153856746e-23,
           0.003497534768822583,
           1.0409138451558512e-34,
           2.1762161842971676e-32,
           0.000038738185026345354,
           8.464061511960056e-21,
           1.3958639838595132e-9,
           8.454810096146482e-10,
           0.000002277416936961605,
           1.5185134877425148e-8,
           0.0000424054005678026,
           0.00005018958422561357,
           1.0941452770729112e-14,
           5.686453541950426e-8,
           0.000001064613071795922,
           5.645602082116361e-18,
           0.00033401884560598806,
           0.00002941257135445425,
           1.1786616475616514e-8,
           0.000016275160050894846,
           6.332347266339501e-8,
           0.0017710562167641318,
           0.000021288725534717263,
           0.000004476968598563887,
           4.0467878109295846e-14,
           1.2935462905570857e-36,
           0.0000011850578594507935,
           1.6284726930040686e-8,
           5.793600760513076e-9,
           7.441479231011625e-12,
           0.0006703805079700631,
           6.493704315777946e-9,
           0.004620851703028587,
           0.000005413196407730633,
           0.000022788153615733004,
           0.0000874994666975923,
           0.000006804292295016772,
           6.030864919216247e-9,
           1.5663802297856123e-10,
           0.0006774078476154525,
           9.870509496798865e-7,
           0.000020713494604999108,
           0.000006358636352906884,
           0.00008060801896666937,
           2.7892512252059186e-7,
           0.00289313900598247,
           3.607009034614858e-8,
           4.589560984387773e-12,
           0.0002974035303822882,
           0.0034320884852203325,
           7.69482172362572e-11,
           0.0018950347740411709,
           0.0000017659932510618386,
           6.151553503232093e-9,
           0.000009140635008388643,
           0.0000587759709627297,
           0.00003209176686977157,
           0.0029922678510409684,
           0.0024521751150840417,
           0.0004902272101791409,
           7.032035148717889e-8,
           0.00002817889136469795,
           6.87612682198433e-9,
           1.4590624230030053e-10,
           4.6477395807906095e-7,
           0.000009534865824864128,
           0.0008475145852646108,
           5.9964204871758405e-9,
           4.592654274179935e-8,
           1.0795544905833438e-7,
           4.8984634873676727e-8,
           0.0012260615780031816,
           0.0008943341241579977,
           0.00005877838774589256,
           0.0010724317701486597,
           8.104565444310936e-8,
           0.000006595499994481317,
           4.049084220409156e-7,
           0.001114740215505495,
           0.0007224518725310596,
           1.245827868244934e-9,
           2.4598828679140223e-9,
           5.137917890403862e-18,
           2.380354306262646e-18,
           2.222621925862772e-20,
           2.9193384885164943e-10,
           0.00017404498802585386,
           0.00003565196520167376,
           0.000006752403352116675,
           2.0363843867554318e-8,
           0.000014435754544861974,
           0.0012682056288319547,
           0.0005988541974517497,
           0.000017233159439383482,
           0.00026289255271496394,
           0.000009618879310312671,
           0.00017803799288331103,
           0.0005047963757859174,
           0.0009147182851481955,
           0.0008980205663660734,
           0.0002284661312106996,
           9.945568993747454e-14,
           2.626320435543915e-7,
           7.418716165080929e-11,
           0.000041258577361773486,
           0.0000011260249942310354,
           0.000025583678738556613,
           1.8409224571477494e-7,
           0.0015018274981470597,
           0.0000024202711587397276,
           0.0012779193077000993,
           0.0044728703448574285,
           0.0044728703448574285,
           3.4799394526276478e-12,
           3.864921451186448e-12,
           8.862832244091527e-15,
           6.8872139267781e-8,
           4.653124861016999e-16,
           3.1710990656337345e-8,
           1.438131853831193e-12,
           1.4057929535224396e-10,
           8.450485650229051e-10,
           0.00016613291064407852,
           0.00008070608475592866,
           0.0003458540894497289,
           0.0032338575211755716,
           0.00009838769926142039,
           0.0030902361403656784,
           0.00004478383762261886,
           1.3124049027911302e-8,
           0.00003458953571148834,
           2.6339502447908517e-8,
           0.0002741071732177354,
           0.00407705706131132,
           0.00010865252264597667,
           0.004559825393383643,
           1.3678220593649244e-12,
           2.312452914249194e-7,
           0.0002914506655714531,
           3.2140938214773366e-7,
           0.0027500439760568918,
           0.0010962016584348765,
           0.00038998863984266786,
           2.3606020801369535e-13,
           2.3340530336913538e-12,
           0.0000010890938188406024,
           0.0000027623259249480037,
           0.002097666133985088,
           0.00010005956552133394,
           3.0958164593605037e-10,
           0.000028467725161797205,
           0.000942271774946651,
           0.00003774314684543639,
           1.3656753321073341e-8,
           0.0011331773440146993,
           1.7043468969443137e-7,
           0.0005628114816464509,
           6.968956179121707e-11,
           7.715380773903383e-20,
           0.0000018860009951792495,
           0.00006195916053333627,
           0.00002797183143946049,
           0.00020895093104388523,
           0.00002860885373134662,
           1.4575312847703505e-16,
           0.00037957463927522275,
           0.000251455776074647,
           5.074757365409255e-7,
           0.000019279380525371568,
           1.4791559225063778e-12,
           2.1134700604965723e-22,
           1.2662331481943504e-24,
           2.4678334046687612e-9,
           5.528086498206069e-13,
           3.8707823301859615e-12,
           1.64995095046297e-14
          ],
          "coloraxis": "coloraxis",
          "size": 3.5,
          "symbol": "circle"
         },
         "mode": "markers",
         "name": "1",
         "scene": "scene",
         "showlegend": true,
         "type": "scatter3d",
         "x": [
          -2445.3344904795476,
          26729.16390420298,
          14987.938140141456,
          -5762.26804251421,
          -28719.578352310113,
          -5646.61533736726,
          -11280.540919429828,
          -11622.263144442397,
          -5828.546946146436,
          -11196.455731825174,
          -20499.75181995213,
          -18242.11236880332,
          -22256.27798678151,
          -50904.3042171208,
          -28861.423817632418,
          -35974.48995313612,
          -30652.23538141251,
          -25572.50003762268,
          -29324.82100923691,
          -26597.40565392888,
          -29012.02273470015,
          -55191.45622293933,
          -61590.15980291977,
          -54381.59043345429,
          -72094.05499352828,
          -50940.99110147107,
          -54244.02351509998,
          -57005.1313075845,
          -66229.13167991556,
          -53832.421457037206,
          -47418.614166281484,
          -33586.21269004003,
          -30119.101454699416,
          -36047.1536781679,
          -31473.09867572695,
          -32835.79327179134,
          -36397.92588130454,
          -32235.528876677276,
          -30439.974871561517,
          -28862.391999319145,
          54483.76160411609,
          -28056.594526161443,
          -33578.14843554109,
          -35631.34371262678,
          -34459.25134702925,
          -49061.65146573768,
          -57307.18477731459,
          -55060.87284287156,
          -64867.71574094791,
          -55160.483878090905,
          14651.673666144377,
          69660.93756083302,
          163615.65745137032,
          5011.690447440279,
          8091.2037601584225,
          25267.140936190106,
          23433.987497286318,
          13543.98422826095,
          35136.68200386508,
          28932.929431956705,
          -6327.367239799345,
          -4472.721536139185,
          6038.978455372738,
          4210.644978548064,
          16325.830134274122,
          -2366.2567468474995,
          29708.315365426162,
          16089.749603557608,
          26371.18989987528,
          -4052.8410679518574,
          65121.117195753555,
          -3564.246606936235,
          2477.760160779372,
          23548.29797609439,
          14507.655979016248,
          5756.213902196912,
          -3900.012861145805,
          10291.822822825021,
          14437.909765134165,
          22350.473072304925,
          42838.95762824146,
          59266.733888914205,
          73605.02010071916,
          65780.15826604908,
          21635.59196346989,
          80475.90986814798,
          33246.185437357206,
          47922.78539367236,
          31392.72156215031,
          6208.366151680286,
          66326.78893459532,
          65514.87797667929,
          28220.544938490013,
          126516.8372698019,
          92673.01542259347,
          13774.471532184822,
          -7752.531080443696,
          -7828.85040120673,
          -12711.098951278327,
          -11942.220583238737,
          52201.372656808606,
          99211.89361622611,
          127091.76521389809,
          83509.0941606374,
          22162.998311822368,
          4956.151450847387,
          14397.296285440994,
          -267.20052622495854,
          -2407.212199604802,
          21658.277965326346,
          -14945.724446028902,
          42798.8841589532,
          -7990.980073675453,
          -13943.706542121065,
          -3073.76956675527,
          48856.00683935722,
          -16801.836102175137,
          -10421.973970892275,
          -15307.378709056355,
          -12442.802110793982,
          -15966.118079962514,
          -15651.611098569116,
          -18384.04717193767,
          -8522.787785723936,
          -13368.668323256179,
          -7353.4942046760425,
          -376.8701613639541,
          513.8135812753193,
          -3678.77295918778,
          -7329.569510041744,
          -11942.314485666893,
          59600.70056151127,
          85647.31325921415,
          -7764.776563623276,
          157122.21859379564,
          -10831.145984745495,
          -18771.81649218507,
          -18735.753206177997,
          -2108.821676868916,
          -2436.4073010215347,
          -4278.159229881016,
          -22054.928434017605,
          -16418.12615686441,
          -23666.881080636453,
          -12499.17526608923,
          -33864.35352644491,
          -25321.184096402332,
          -23545.110899374726,
          -21594.20933084066,
          -14071.138949788745,
          -16613.454541856816,
          -20584.368035731826,
          -17055.180927284233,
          -26596.867505280712,
          -21051.25977633438,
          -25953.888763336803,
          -43309.33619899882,
          -18177.8601098078,
          -5654.217282254337,
          -28114.3490539329,
          -5514.3278459078365,
          42380.84497625206,
          103280.93521985796,
          -21182.198097680168,
          -23607.544578041285,
          -15960.55779649185,
          -19822.935466785777,
          -18996.340723523484,
          26065.02340352335,
          21684.36620437293,
          155030.74753168112,
          62262.775398442696,
          61567.359921344425,
          -15354.23259785486,
          -29062.94950300179,
          -22680.63069722909,
          -25245.15667332123,
          -28013.01144029959,
          -28545.18059010727,
          -3795.5813390145213,
          -25003.09540895784,
          -22424.45636469602,
          17106.40965024778,
          -21409.625014765592,
          -27259.769788603833,
          38616.99710637681,
          -30697.973654041525,
          82951.67932513489,
          35150.56180032747,
          -41879.47976779156,
          -30358.117952491808,
          -27127.461754423985,
          -32854.53295293334,
          -33263.97095071273,
          -26383.14940767652,
          -9013.689265341087,
          -60822.13429181412,
          -42211.02621181614,
          -52268.43628984656,
          -35055.020962256465,
          -40914.52974715621
         ],
         "y": [
          -28116.075530214934,
          -9198.93767220388,
          -24070.457991921638,
          2052.278896370801,
          33050.11855798135,
          -19334.820434571102,
          -16513.466268757475,
          -27052.690598001453,
          -11086.270936469205,
          -3914.1966161598903,
          5189.283501824395,
          -5696.307104635549,
          -6959.00490574094,
          45498.61400457118,
          45843.958070068365,
          12539.299626051508,
          2127.0001338229786,
          10764.441407946717,
          4178.389002937939,
          13693.763320293587,
          14309.48515496081,
          51471.66084500341,
          59110.134795009515,
          43264.25476022522,
          63566.74345448429,
          39742.866668367154,
          49006.74751259465,
          68118.28968956595,
          67369.63863193686,
          48701.553785262186,
          40131.89221738424,
          23779.0850412885,
          14121.564030145155,
          9881.456615308072,
          26567.212517675885,
          17343.04448620397,
          23440.174647290012,
          26139.128900421274,
          17779.908371098845,
          4575.5535720705175,
          77090.54803595545,
          17956.40524226563,
          16436.802821645684,
          13750.931836391568,
          28921.054095165902,
          54274.70606982513,
          46478.47045104442,
          47949.41949277437,
          55049.58412791288,
          48086.57206617627,
          9895.992414766495,
          25568.962721550997,
          63858.604541491375,
          -27257.76875273125,
          -26694.7778505317,
          -20526.27880055751,
          -24506.160675485662,
          -26701.1295279034,
          -15276.152809636907,
          -19298.749688005755,
          -38788.59165860258,
          -36830.92382625408,
          -25434.018167718576,
          -26619.53423838654,
          -23344.86270552332,
          -36220.1540890978,
          -10196.018164606638,
          -19026.479675955972,
          -12359.855265859094,
          -19849.465647132278,
          17879.38701473881,
          -30080.863647875485,
          -24707.29004678155,
          -18530.029244055942,
          -25596.24693438257,
          -27393.852862228978,
          -21060.633968438873,
          -24452.902913391557,
          -4578.483576787703,
          6820.532026359525,
          13879.72970781975,
          15505.000855140903,
          19965.180407885084,
          11121.746608702342,
          -7566.406307509097,
          14939.938853173535,
          -11310.477820865663,
          -10685.01765451104,
          16023.286213105957,
          -37430.08658256991,
          4007.03889788301,
          30836.760089514246,
          2510.2611882335914,
          46520.88583533517,
          24597.711093683065,
          -6766.923628174341,
          -19263.302322644195,
          -19312.78873091086,
          -18169.878021296234,
          -17979.517567003353,
          3265.4035926791794,
          47375.310939712785,
          70397.10809081196,
          41308.93487162728,
          -4856.2060082983435,
          -15501.287741543396,
          -9160.488262141518,
          -28456.500350177746,
          -29089.022461861303,
          91675.01712453243,
          -1714.87479209656,
          37168.51983054971,
          -16284.326152015059,
          -17045.97799621262,
          -13095.9406219857,
          12565.329739598012,
          -19287.244178418823,
          -5121.010925969924,
          -22295.411583371046,
          -14861.264225300312,
          -17145.82977813683,
          -16941.89919820013,
          -18713.64758633184,
          -12319.474195083969,
          -27032.93633096037,
          -27475.936992560968,
          -22787.81464775544,
          -22210.283250655775,
          -24928.81278426741,
          -27296.03857688339,
          -8412.439670197013,
          23844.715494473396,
          24241.305622781394,
          -11739.215039422696,
          99516.59319501255,
          -15446.617525676555,
          -20595.45542717815,
          -20572.07142011605,
          -9790.945067973766,
          3738.1361067324483,
          2543.919355597712,
          -8982.777382758602,
          -5327.798763597042,
          -10027.989220812506,
          17.360596096244645,
          28761.268050550283,
          984.5726634025536,
          4593.128229854193,
          7522.488030079854,
          3646.3992558411505,
          751.4519653972908,
          -576.8661442688893,
          1711.5061663344181,
          -3625.2546249413044,
          6577.633009848032,
          -5305.011241897699,
          22341.60661375925,
          -313.3650445286513,
          22996.733316107002,
          13662.824228513284,
          20391.84808344417,
          31052.008294887724,
          61330.016809984125,
          -15990.059770184682,
          -9012.206241185486,
          -2100.1686099061217,
          -641.8028927685327,
          -2166.4750270553495,
          27134.991761060348,
          23382.353895781518,
          107267.5846103263,
          39794.18705630996,
          36478.0820165912,
          5361.622389649612,
          22919.12785108881,
          13536.492034365192,
          2592.0591946395275,
          -600.4368135469463,
          -1312.9606996747282,
          14735.013229097854,
          3019.925318004967,
          2655.7994907280636,
          56182.34800140637,
          -12510.060713780094,
          3395.2631200849255,
          20570.036729147927,
          15496.751595201675,
          83782.69730651169,
          57096.434958297665,
          32570.049778870092,
          8455.163858217094,
          10459.174835824575,
          9267.435994925838,
          4750.964928578455,
          8722.638207580694,
          74078.44127281148,
          51386.40472209173,
          27185.349324906525,
          42446.839738354334,
          14187.494477329969,
          26801.238654489953
         ],
         "z": [
          2164.0853898909872,
          1136.3730740313886,
          -2774.559475343873,
          5147.302012209544,
          17167.446343579526,
          -560.1467449922878,
          2831.546058694211,
          -2245.115568434167,
          3572.657290837751,
          3413.1571415885146,
          11099.199067197273,
          4928.865771640139,
          5731.2327466982615,
          -5555.170992885331,
          -13210.641286994287,
          6482.670619570351,
          -4844.92493113171,
          -733.4614932154045,
          -2649.553064498316,
          1075.1597517757,
          -2149.3257640483343,
          -5058.912053887052,
          980.1180873544421,
          -9394.357726527334,
          205.1369556989567,
          -19054.776774279075,
          -13313.134432107234,
          -2906.98823790298,
          -1.4639828448739636,
          -13609.786911970343,
          -20113.444214691575,
          504.3934258728569,
          -5489.645771894385,
          -5476.2671887321985,
          1129.2967688786919,
          -2936.302049211408,
          1335.4732077813405,
          1188.8483275754625,
          -2465.3490443047663,
          -10643.937054334936,
          -4351.853359849431,
          -9543.378682155468,
          -8332.555329746672,
          -8928.298409982473,
          -1862.4636533689584,
          -17436.732324599154,
          -18354.483064609496,
          -18426.505382686315,
          -11442.992563074651,
          -18323.496673379548,
          -1541.5170916283457,
          477.13166901006565,
          -7209.680419863371,
          3580.7592163090744,
          2765.1213492280503,
          -290.4618414906849,
          -1602.5333636050643,
          826.1077330983051,
          -2032.4596778014293,
          -1813.9238130294905,
          1091.9460356988457,
          1399.0273110446685,
          3288.093203306032,
          3352.498751791427,
          666.3697014977831,
          952.4112062081268,
          2400.293612107203,
          2880.027582260186,
          2517.8495945708155,
          6811.912819652317,
          978.8477972333163,
          1592.2870289973444,
          2220.7701932101045,
          -2218.9682352808845,
          -2488.5948133621646,
          -3039.2597536853928,
          3512.519414411674,
          -3199.0328024161395,
          5237.872671135872,
          8050.739814194186,
          4269.171079838501,
          7064.367858329255,
          3098.0152625211426,
          1514.4332596311485,
          7969.846420693786,
          -1819.7959845563016,
          1421.989789845267,
          -3480.1054550900226,
          15875.83652735803,
          -2688.593176643618,
          -4836.418542102199,
          8684.346560721135,
          7954.0843133087665,
          -5237.480939556699,
          -4034.621866032059,
          7928.072206747329,
          3118.8394597177553,
          3121.5285290155875,
          5418.542251170043,
          1267.7363498014033,
          -2504.0660580419394,
          2561.1287594195883,
          4017.475851692262,
          5144.0759136887,
          3575.532813383686,
          3606.788994996167,
          3382.240952140955,
          -928.3400756803721,
          -480.5423657842492,
          -11934.295350411116,
          15651.542331058674,
          14328.124157743165,
          5996.720339957311,
          7734.44495449894,
          5823.504714903528,
          160.80126543366282,
          4995.9724574394495,
          9717.791071333038,
          2981.7623895101337,
          5631.310256665805,
          5755.423932520272,
          5744.345056987651,
          5840.598804598946,
          5493.2222594726645,
          -43.0955337190273,
          -2279.632935428414,
          -2561.8150397680984,
          -2593.190352257059,
          -2445.500445723615,
          -2316.896585468584,
          8634.207071289786,
          6094.388475373983,
          -2957.24262066333,
          7330.690268913924,
          3769.9921400094813,
          6590.828151787129,
          6870.5487802448715,
          6869.278547569976,
          6283.5716818217825,
          13072.464842767473,
          13137.343360951792,
          13763.554305234778,
          13564.99029734127,
          13820.337535166176,
          9183.235286792806,
          28297.247894977398,
          11564.633890616018,
          12713.833813722553,
          13465.982981885587,
          8883.395330053823,
          8358.185402609995,
          9112.832731411081,
          8988.511985136658,
          9743.95223593301,
          12807.216091409933,
          8687.216193594533,
          28484.26530188171,
          8388.418919011898,
          15556.316699154364,
          18809.239367478993,
          14227.705527934235,
          6412.4416116076645,
          -1351.1296550395994,
          4702.003615893149,
          10576.631176527779,
          8623.008720395701,
          10713.525089745064,
          9668.08871903484,
          -897.4307299820676,
          -1192.9968517606508,
          -7161.963284177045,
          -7505.026799111246,
          -9555.596150552212,
          2406.835648085817,
          15767.727219990815,
          8874.287133786103,
          4386.927670607594,
          3795.039180388898,
          3632.55251122313,
          2760.7156590562163,
          4512.013844071231,
          3416.942144002454,
          15888.67643977373,
          1037.7775070435407,
          10959.294410595267,
          -3840.52767687947,
          18148.44480992347,
          5190.287495077053,
          8999.177909669646,
          23257.44018298761,
          5784.126752567229,
          6370.21027975932,
          7815.700849502943,
          5733.523387512437,
          5249.493818831785,
          -2773.8528536925273,
          4427.710666805066,
          3343.315729108192,
          13613.5493252395,
          -7345.47252835962,
          955.9502341416085
         ]
        },
        {
         "hovertemplate": "symbol=2<br>PC 1=%{x}<br>PC 2=%{y}<br>PC 3=%{z}<br>color=%{marker.color}<extra></extra>",
         "legendgroup": "2",
         "marker": {
          "color": [
           0.007047470980794356,
           0.007047470980794356,
           0.007047470980794356,
           0.007047470980794356,
           0.007047470980794356,
           0.007047470980794356,
           0.007047470980794356,
           0.007047470980794356,
           0.007047470980794356,
           0.007047470980794356,
           0.007047470980794356,
           0.007047470980794356,
           0.007047470980794356,
           0.007047470980794356,
           0.007047470980794356,
           0.007047470980794356,
           0.007047470980794356,
           0.007047470980794356,
           0.007047470980794356,
           0.007047470980794356,
           0.007047470980794356,
           0.007047470980794356,
           0.007047470980794356,
           0.007047470980794356,
           0.007047470980794356,
           0.007047470980794356,
           0.007047470980794356,
           0.007047470980794356,
           0.007047470980794356,
           0.007047470980794356,
           0.007047470980794356,
           0.007047470980794356,
           0.007047470980794356,
           0.007047470980794356,
           0.007047470980794356,
           0.007047470980794356,
           0.007047470980794356,
           0.007047470980794356,
           0.007047470980794356,
           0.007047470980794356,
           0.007047470980794356,
           0.007047470980794356,
           0.007047470980794356,
           0.007047470980794356,
           0.007047470980794356,
           0.007047470980794356,
           0.007047470980794356,
           0.007047470980794356,
           0.007047470980794356,
           0.007047470980794356,
           0.007047470980794356,
           0.007047470980794356,
           0.007047470980794356,
           0.007047470980794356,
           0.007047470980794356,
           0.007047470980794356,
           0.007047470980794356,
           0.007047470980794356,
           0.007047470980794356,
           0.007047470980794356,
           0.007047470980794356,
           0.007047470980794356,
           0.007047470980794356,
           0.007047470980794356,
           0.007047470980794356,
           0.007047470980794356,
           0.007047470980794356,
           0.007047470980794356,
           0.007047470980794356,
           0.007047470980794356,
           0.007047470980794356,
           0.007047470980794356,
           0.007047470980794356,
           0.007047470980794356,
           0.007047470980794356,
           0.007047470980794356,
           0.007047470980794356,
           0.007047470980794356,
           0.007047470980794356,
           0.007047470980794356,
           0.007047470980794356,
           0.007047470980794356,
           0.007047470980794356,
           0.007047470980794356,
           0.007047470980794356,
           0.007047470980794356,
           0.007047470980794356,
           0.007047470980794356,
           0.007047470980794356,
           0.007047470980794356,
           0.007047470980794356,
           0.007047470980794356,
           0.007047470980794356,
           0.007047470980794356,
           0.007047470980794356,
           0.007047470980794356,
           0.007047470980794356,
           0.007047470980794356,
           0.007047470980794356,
           0.007047470980794356,
           0.007047470980794356,
           0.007047470980794356,
           0.007047470980794356,
           0.007047470980794356,
           0.007047470980794356,
           0.007047470980794356,
           0.007047470980794356,
           0.007047470980794356,
           0.007047470980794356,
           0.007047470980794356,
           0.007047470980794356,
           0.007047470980794356,
           0.007047470980794356,
           0.007047470980794356,
           0.007047470980794356,
           0.007047470980794356,
           0.007047470980794356,
           0.007047470980794356,
           0.007047470980794356,
           0.007047470980794356,
           0.007047470980794356,
           0.007047470980794356,
           0.007047470980794356,
           0.007047470980794356,
           0.007047470980794356,
           0.007047470980794356,
           0.007047470980794356,
           0.007047470980794356,
           0.007047470980794356,
           0.007047470980794356,
           0.007047470980794356
          ],
          "coloraxis": "coloraxis",
          "size": 3.5,
          "symbol": "diamond"
         },
         "mode": "markers",
         "name": "2",
         "scene": "scene",
         "showlegend": true,
         "type": "scatter3d",
         "x": [
          5074.717754606413,
          -3162.38555171671,
          -3224.657316161172,
          32254.842003086316,
          1276.385322560747,
          -13644.273915877342,
          4642.573156776479,
          -58668.54023133119,
          7760.579782781906,
          5565.347285792627,
          6731.198054486948,
          2846.94800728483,
          -57698.153470421836,
          3626.5608780167295,
          4376.663083332811,
          -7524.034231056155,
          -54217.822596619866,
          15986.880638133565,
          -57094.63735866101,
          -634.1393325276412,
          1874.7951054848904,
          -52702.17854008749,
          5475.824806412046,
          4090.8219508728407,
          3928.189601464883,
          5188.6607551303605,
          7122.564504497183,
          7530.048496290242,
          7760.579675873327,
          13626.561065180824,
          2714.4854495624663,
          84838.35769125247,
          -7225.818916606123,
          12799.364633762685,
          6057.728922844089,
          13223.880866612384,
          32068.048266057125,
          8296.05400632947,
          13248.140350054953,
          -6157.697833031689,
          4028.038682521277,
          8163.476258265167,
          -4246.255355797404,
          3513.338992262889,
          -2834.3309760627803,
          10310.611699952762,
          10310.611666122264,
          5410.8579236177475,
          1932.8891606841783,
          -1336.9574318199461,
          23888.7784731462,
          -10691.162694277438,
          -50079.99554489676,
          -6891.823816360614,
          64.13642116432875,
          10884.193278987028,
          4587.219949732268,
          113220.77376769466,
          28690.18074692177,
          -54491.964012999524,
          3917.9494272887387,
          17002.271243876727,
          8259.553633422049,
          4300.185771099717,
          802.6328481255131,
          7953.337686790155,
          7374.060674856632,
          -9692.595853024444,
          -13416.86075048829,
          -1821.133882512804,
          11621.262427936537,
          5236.244505357788,
          -17077.79645557111,
          7760.579762276951,
          -5132.41089818741,
          -3787.494829963102,
          5346.229904968561,
          7541.8391261408615,
          6240.371762769917,
          4646.063736523891,
          -31579.84765026404,
          12440.770410853396,
          17955.01350936101,
          -4396.379937899064,
          -4315.786444808467,
          7267.582737739112,
          9019.670120364046,
          -19566.175445078796,
          -15615.184006133035,
          7760.579901011678,
          162.6114332969871,
          5223.51914092171,
          -123.20006714712355,
          5893.526835832657,
          13251.362522330965,
          10834.031632199194,
          10476.78841923836,
          9756.561267382855,
          -4598.6033355820255,
          3012.643367869523,
          -3699.979419147422,
          8009.580050295013,
          -6893.904048162796,
          -6004.240977029769,
          20556.071030618812,
          -1495.0414873903808,
          480.22850359044133,
          3425.585151399515,
          8082.548951387958,
          -11952.24611278899,
          -6084.368350419248,
          -1284.0996463279519,
          3340.039250471796,
          14603.91668512669,
          5939.696639465408,
          2640.8007659057225,
          8939.326512294487,
          7760.579783677304,
          8084.640200204655,
          22887.801416549617,
          4446.758251470521,
          5830.069929204086,
          252.4943277646561,
          8047.957230808488,
          6415.611532111124,
          -1055.4611414243032,
          6492.712584580388,
          1441.0440823062913,
          -58273.4324554643,
          15552.393888994768,
          -59491.27748535022
         ],
         "y": [
          -8476.698185914278,
          -1805.3913615298907,
          -16758.687897254968,
          -4462.608874411492,
          -13622.393844304583,
          -8484.834719291242,
          -28102.730118669966,
          76189.05522493129,
          -40899.80560564672,
          -8158.5673073746675,
          -39049.90036210307,
          -29267.037616660993,
          69356.822126771,
          -12316.265744713613,
          -27914.17172244938,
          -15884.381455506738,
          65005.8665990567,
          -38155.62134424057,
          84054.37473215867,
          -14861.203768837653,
          -29897.14253368069,
          41685.408318638765,
          -33361.65237943188,
          -35133.85265277788,
          -9310.059387024581,
          -34421.99916483565,
          -26494.670297939094,
          -26230.200018501804,
          -40899.80564474069,
          -2999.3010420504197,
          -35270.30509160441,
          53781.73329931209,
          482.4551647423213,
          -9295.765411140295,
          -10522.106056580307,
          -22538.242434643198,
          6125.577716431238,
          -5870.754087809799,
          -27610.52972924637,
          -14962.346755519458,
          -9155.37886307782,
          -32493.08876778135,
          -15458.479024323193,
          -12389.680272823414,
          -11911.352742612584,
          -37130.728913886145,
          -37130.728937548716,
          -33521.94084598495,
          -2294.902137680949,
          -15316.92046979618,
          -35076.674608019464,
          -4104.8213408124575,
          59927.42411087305,
          -6652.254184318866,
          -26413.318211149428,
          -27486.831394193414,
          -28138.621781296995,
          58874.64497900565,
          6768.152761913013,
          78090.19150825532,
          -28572.585887793844,
          -810.4448487942506,
          -25255.65699766056,
          -31887.92011418921,
          -36995.66967550265,
          -9510.725300923988,
          3053.376046669526,
          -20952.58638344478,
          612.9634943396202,
          -3364.350500558973,
          -4299.56390778243,
          -27717.533480181366,
          -928.4912359511208,
          -40899.80554449861,
          -5055.988597240477,
          -15161.012521671435,
          -27646.469509966963,
          -44352.53495809764,
          -33740.05560134136,
          -20170.411599872612,
          87287.1436555626,
          -29719.63355750938,
          -192.67423178133822,
          -15555.821802160503,
          -17466.19072643604,
          -28312.413078869653,
          -25264.561492873618,
          -2541.9897260361204,
          -9762.799389464799,
          -40899.8055176584,
          -14344.579812210202,
          -29478.339894970013,
          -14747.661068804491,
          -10846.334440564437,
          -37768.37862548207,
          -38452.81433438881,
          -7412.397316131194,
          -40034.454804257424,
          -17431.815649288164,
          -12714.338106173574,
          -31502.232964967905,
          -41167.221003627674,
          -19137.876742835873,
          -18343.249960827237,
          -32148.912290491568,
          -32082.189979114395,
          -36719.027474285,
          -24233.709551387048,
          -16697.10969285508,
          -7438.086844570175,
          1222.5871011060904,
          -14655.6753423222,
          -24289.17866300336,
          -35936.60218521873,
          -33196.399298705626,
          -9537.696539461485,
          -5453.647406592857,
          -40899.80560568286,
          -32544.207075055485,
          172.98194374424978,
          -34028.91306190157,
          -26795.959603552583,
          -36748.53031251827,
          -41228.79751452395,
          -46406.51164640606,
          -12519.322094042654,
          -26903.074673399315,
          -29676.870471121863,
          73164.8994599989,
          -33731.88670025868,
          77604.49866410077
         ],
         "z": [
          -3585.293536559504,
          -890.3671904527287,
          -2482.827008901614,
          -2249.214516649244,
          -3108.3210831257197,
          -463.34711863804864,
          -5899.174081645783,
          -7818.120679585251,
          -6854.0427802888435,
          -3602.577092097669,
          -2024.774780370631,
          -5835.92077344781,
          -15996.501905622825,
          -2724.1707962506703,
          -3918.130619103049,
          -2765.9027705587937,
          -13566.564110464646,
          -4870.549800768833,
          -4491.380232246617,
          -3041.0202950542202,
          -5801.782312476682,
          -24731.785612937674,
          -8202.301554462832,
          -8044.28572718011,
          -2561.9983098099165,
          -8082.958567983083,
          -5986.53540922907,
          -6000.996435472269,
          -6854.042777625156,
          -2908.555284292713,
          -8163.308041607828,
          7808.5750581456105,
          -4978.0988171933395,
          480.61328886935166,
          -3276.7500748316697,
          -6201.56986988211,
          -3726.0622594761785,
          -4064.5645102090166,
          -2479.6323871379145,
          -2822.028035261004,
          -3548.4226367312513,
          -8187.750898661818,
          -1458.129841270935,
          -2720.18198815224,
          6534.608553907143,
          -6131.302100841147,
          -6131.302118673176,
          -8258.291501318301,
          -1359.884664269022,
          -3016.2624169305527,
          -5967.900848587982,
          4161.918701918258,
          -13207.102134063118,
          -1351.3765976465036,
          -2248.386016000298,
          -6112.817179639675,
          -5897.223943720286,
          243.91613133497236,
          -3439.1937856390855,
          -7016.000600204669,
          -5873.6480856796115,
          -3027.4675773552435,
          -7226.359905726601,
          -5851.6729338093355,
          -8323.09486713528,
          -2876.5871457215903,
          -280.06096643796957,
          -2254.984589138448,
          15047.193763800473,
          -1529.998653924046,
          -2837.917493889308,
          -5920.194216611776,
          14991.746984669804,
          -6854.042620977673,
          160.49699896797955,
          -1474.2904256510803,
          -5923.961156390249,
          -6112.787610395024,
          -8120.006641218737,
          4242.995016101375,
          -9098.129466002576,
          -8338.424250890228,
          -3061.0317086686905,
          -1452.8414097782772,
          -2444.3904064519875,
          -702.5496976325157,
          -6053.363625999076,
          15079.403347637011,
          -393.9191868300653,
          -6854.042707915911,
          -3069.0868240460595,
          -5657.103563624217,
          -2592.079774566051,
          -2804.0276268690827,
          -4892.488221936873,
          -3186.0764880193396,
          -2691.0404010118746,
          -4769.379186364718,
          -2901.3663531526404,
          -2702.5447021925374,
          -6050.649948477218,
          -4707.839545038898,
          -2353.572052586605,
          -2851.851247682845,
          -3528.546639710119,
          -5683.075144006589,
          -8084.603398196461,
          -2366.798136866707,
          -6420.275960945769,
          3507.609297378786,
          -5018.3078871639445,
          4630.726836137635,
          -2363.7846679693985,
          -3284.305850096755,
          -8273.073245570637,
          -3865.350410148875,
          -4087.2239366866993,
          -6854.042780397749,
          -8184.973503072339,
          -3402.675434787073,
          -8166.051426675645,
          -3882.621191430963,
          -8018.302631106616,
          -4751.834274083117,
          -5352.385723076308,
          -2391.361400582502,
          -5964.347508939222,
          -6986.168451118048,
          -9449.918609919852,
          -6315.95089456129,
          -6202.850025394752
         ]
        }
       ],
       "layout": {
        "coloraxis": {
         "colorbar": {
          "title": {
           "text": "color"
          }
         },
         "colorscale": [
          [
           0,
           "red"
          ],
          [
           0.7,
           "green"
          ],
          [
           1,
           "blue"
          ]
         ]
        },
        "legend": {
         "title": {
          "text": "symbol"
         },
         "tracegroupgap": 0
        },
        "scene": {
         "domain": {
          "x": [
           0,
           1
          ],
          "y": [
           0,
           1
          ]
         },
         "xaxis": {
          "title": {
           "text": "PC 1"
          }
         },
         "yaxis": {
          "title": {
           "text": "PC 2"
          }
         },
         "zaxis": {
          "title": {
           "text": "PC 3"
          }
         }
        },
        "template": {
         "data": {
          "bar": [
           {
            "error_x": {
             "color": "#2a3f5f"
            },
            "error_y": {
             "color": "#2a3f5f"
            },
            "marker": {
             "line": {
              "color": "#E5ECF6",
              "width": 0.5
             },
             "pattern": {
              "fillmode": "overlay",
              "size": 10,
              "solidity": 0.2
             }
            },
            "type": "bar"
           }
          ],
          "barpolar": [
           {
            "marker": {
             "line": {
              "color": "#E5ECF6",
              "width": 0.5
             },
             "pattern": {
              "fillmode": "overlay",
              "size": 10,
              "solidity": 0.2
             }
            },
            "type": "barpolar"
           }
          ],
          "carpet": [
           {
            "aaxis": {
             "endlinecolor": "#2a3f5f",
             "gridcolor": "white",
             "linecolor": "white",
             "minorgridcolor": "white",
             "startlinecolor": "#2a3f5f"
            },
            "baxis": {
             "endlinecolor": "#2a3f5f",
             "gridcolor": "white",
             "linecolor": "white",
             "minorgridcolor": "white",
             "startlinecolor": "#2a3f5f"
            },
            "type": "carpet"
           }
          ],
          "choropleth": [
           {
            "colorbar": {
             "outlinewidth": 0,
             "ticks": ""
            },
            "type": "choropleth"
           }
          ],
          "contour": [
           {
            "colorbar": {
             "outlinewidth": 0,
             "ticks": ""
            },
            "colorscale": [
             [
              0,
              "#0d0887"
             ],
             [
              0.1111111111111111,
              "#46039f"
             ],
             [
              0.2222222222222222,
              "#7201a8"
             ],
             [
              0.3333333333333333,
              "#9c179e"
             ],
             [
              0.4444444444444444,
              "#bd3786"
             ],
             [
              0.5555555555555556,
              "#d8576b"
             ],
             [
              0.6666666666666666,
              "#ed7953"
             ],
             [
              0.7777777777777778,
              "#fb9f3a"
             ],
             [
              0.8888888888888888,
              "#fdca26"
             ],
             [
              1,
              "#f0f921"
             ]
            ],
            "type": "contour"
           }
          ],
          "contourcarpet": [
           {
            "colorbar": {
             "outlinewidth": 0,
             "ticks": ""
            },
            "type": "contourcarpet"
           }
          ],
          "heatmap": [
           {
            "colorbar": {
             "outlinewidth": 0,
             "ticks": ""
            },
            "colorscale": [
             [
              0,
              "#0d0887"
             ],
             [
              0.1111111111111111,
              "#46039f"
             ],
             [
              0.2222222222222222,
              "#7201a8"
             ],
             [
              0.3333333333333333,
              "#9c179e"
             ],
             [
              0.4444444444444444,
              "#bd3786"
             ],
             [
              0.5555555555555556,
              "#d8576b"
             ],
             [
              0.6666666666666666,
              "#ed7953"
             ],
             [
              0.7777777777777778,
              "#fb9f3a"
             ],
             [
              0.8888888888888888,
              "#fdca26"
             ],
             [
              1,
              "#f0f921"
             ]
            ],
            "type": "heatmap"
           }
          ],
          "heatmapgl": [
           {
            "colorbar": {
             "outlinewidth": 0,
             "ticks": ""
            },
            "colorscale": [
             [
              0,
              "#0d0887"
             ],
             [
              0.1111111111111111,
              "#46039f"
             ],
             [
              0.2222222222222222,
              "#7201a8"
             ],
             [
              0.3333333333333333,
              "#9c179e"
             ],
             [
              0.4444444444444444,
              "#bd3786"
             ],
             [
              0.5555555555555556,
              "#d8576b"
             ],
             [
              0.6666666666666666,
              "#ed7953"
             ],
             [
              0.7777777777777778,
              "#fb9f3a"
             ],
             [
              0.8888888888888888,
              "#fdca26"
             ],
             [
              1,
              "#f0f921"
             ]
            ],
            "type": "heatmapgl"
           }
          ],
          "histogram": [
           {
            "marker": {
             "pattern": {
              "fillmode": "overlay",
              "size": 10,
              "solidity": 0.2
             }
            },
            "type": "histogram"
           }
          ],
          "histogram2d": [
           {
            "colorbar": {
             "outlinewidth": 0,
             "ticks": ""
            },
            "colorscale": [
             [
              0,
              "#0d0887"
             ],
             [
              0.1111111111111111,
              "#46039f"
             ],
             [
              0.2222222222222222,
              "#7201a8"
             ],
             [
              0.3333333333333333,
              "#9c179e"
             ],
             [
              0.4444444444444444,
              "#bd3786"
             ],
             [
              0.5555555555555556,
              "#d8576b"
             ],
             [
              0.6666666666666666,
              "#ed7953"
             ],
             [
              0.7777777777777778,
              "#fb9f3a"
             ],
             [
              0.8888888888888888,
              "#fdca26"
             ],
             [
              1,
              "#f0f921"
             ]
            ],
            "type": "histogram2d"
           }
          ],
          "histogram2dcontour": [
           {
            "colorbar": {
             "outlinewidth": 0,
             "ticks": ""
            },
            "colorscale": [
             [
              0,
              "#0d0887"
             ],
             [
              0.1111111111111111,
              "#46039f"
             ],
             [
              0.2222222222222222,
              "#7201a8"
             ],
             [
              0.3333333333333333,
              "#9c179e"
             ],
             [
              0.4444444444444444,
              "#bd3786"
             ],
             [
              0.5555555555555556,
              "#d8576b"
             ],
             [
              0.6666666666666666,
              "#ed7953"
             ],
             [
              0.7777777777777778,
              "#fb9f3a"
             ],
             [
              0.8888888888888888,
              "#fdca26"
             ],
             [
              1,
              "#f0f921"
             ]
            ],
            "type": "histogram2dcontour"
           }
          ],
          "mesh3d": [
           {
            "colorbar": {
             "outlinewidth": 0,
             "ticks": ""
            },
            "type": "mesh3d"
           }
          ],
          "parcoords": [
           {
            "line": {
             "colorbar": {
              "outlinewidth": 0,
              "ticks": ""
             }
            },
            "type": "parcoords"
           }
          ],
          "pie": [
           {
            "automargin": true,
            "type": "pie"
           }
          ],
          "scatter": [
           {
            "fillpattern": {
             "fillmode": "overlay",
             "size": 10,
             "solidity": 0.2
            },
            "type": "scatter"
           }
          ],
          "scatter3d": [
           {
            "line": {
             "colorbar": {
              "outlinewidth": 0,
              "ticks": ""
             }
            },
            "marker": {
             "colorbar": {
              "outlinewidth": 0,
              "ticks": ""
             }
            },
            "type": "scatter3d"
           }
          ],
          "scattercarpet": [
           {
            "marker": {
             "colorbar": {
              "outlinewidth": 0,
              "ticks": ""
             }
            },
            "type": "scattercarpet"
           }
          ],
          "scattergeo": [
           {
            "marker": {
             "colorbar": {
              "outlinewidth": 0,
              "ticks": ""
             }
            },
            "type": "scattergeo"
           }
          ],
          "scattergl": [
           {
            "marker": {
             "colorbar": {
              "outlinewidth": 0,
              "ticks": ""
             }
            },
            "type": "scattergl"
           }
          ],
          "scattermapbox": [
           {
            "marker": {
             "colorbar": {
              "outlinewidth": 0,
              "ticks": ""
             }
            },
            "type": "scattermapbox"
           }
          ],
          "scatterpolar": [
           {
            "marker": {
             "colorbar": {
              "outlinewidth": 0,
              "ticks": ""
             }
            },
            "type": "scatterpolar"
           }
          ],
          "scatterpolargl": [
           {
            "marker": {
             "colorbar": {
              "outlinewidth": 0,
              "ticks": ""
             }
            },
            "type": "scatterpolargl"
           }
          ],
          "scatterternary": [
           {
            "marker": {
             "colorbar": {
              "outlinewidth": 0,
              "ticks": ""
             }
            },
            "type": "scatterternary"
           }
          ],
          "surface": [
           {
            "colorbar": {
             "outlinewidth": 0,
             "ticks": ""
            },
            "colorscale": [
             [
              0,
              "#0d0887"
             ],
             [
              0.1111111111111111,
              "#46039f"
             ],
             [
              0.2222222222222222,
              "#7201a8"
             ],
             [
              0.3333333333333333,
              "#9c179e"
             ],
             [
              0.4444444444444444,
              "#bd3786"
             ],
             [
              0.5555555555555556,
              "#d8576b"
             ],
             [
              0.6666666666666666,
              "#ed7953"
             ],
             [
              0.7777777777777778,
              "#fb9f3a"
             ],
             [
              0.8888888888888888,
              "#fdca26"
             ],
             [
              1,
              "#f0f921"
             ]
            ],
            "type": "surface"
           }
          ],
          "table": [
           {
            "cells": {
             "fill": {
              "color": "#EBF0F8"
             },
             "line": {
              "color": "white"
             }
            },
            "header": {
             "fill": {
              "color": "#C8D4E3"
             },
             "line": {
              "color": "white"
             }
            },
            "type": "table"
           }
          ]
         },
         "layout": {
          "annotationdefaults": {
           "arrowcolor": "#2a3f5f",
           "arrowhead": 0,
           "arrowwidth": 1
          },
          "autotypenumbers": "strict",
          "coloraxis": {
           "colorbar": {
            "outlinewidth": 0,
            "ticks": ""
           }
          },
          "colorscale": {
           "diverging": [
            [
             0,
             "#8e0152"
            ],
            [
             0.1,
             "#c51b7d"
            ],
            [
             0.2,
             "#de77ae"
            ],
            [
             0.3,
             "#f1b6da"
            ],
            [
             0.4,
             "#fde0ef"
            ],
            [
             0.5,
             "#f7f7f7"
            ],
            [
             0.6,
             "#e6f5d0"
            ],
            [
             0.7,
             "#b8e186"
            ],
            [
             0.8,
             "#7fbc41"
            ],
            [
             0.9,
             "#4d9221"
            ],
            [
             1,
             "#276419"
            ]
           ],
           "sequential": [
            [
             0,
             "#0d0887"
            ],
            [
             0.1111111111111111,
             "#46039f"
            ],
            [
             0.2222222222222222,
             "#7201a8"
            ],
            [
             0.3333333333333333,
             "#9c179e"
            ],
            [
             0.4444444444444444,
             "#bd3786"
            ],
            [
             0.5555555555555556,
             "#d8576b"
            ],
            [
             0.6666666666666666,
             "#ed7953"
            ],
            [
             0.7777777777777778,
             "#fb9f3a"
            ],
            [
             0.8888888888888888,
             "#fdca26"
            ],
            [
             1,
             "#f0f921"
            ]
           ],
           "sequentialminus": [
            [
             0,
             "#0d0887"
            ],
            [
             0.1111111111111111,
             "#46039f"
            ],
            [
             0.2222222222222222,
             "#7201a8"
            ],
            [
             0.3333333333333333,
             "#9c179e"
            ],
            [
             0.4444444444444444,
             "#bd3786"
            ],
            [
             0.5555555555555556,
             "#d8576b"
            ],
            [
             0.6666666666666666,
             "#ed7953"
            ],
            [
             0.7777777777777778,
             "#fb9f3a"
            ],
            [
             0.8888888888888888,
             "#fdca26"
            ],
            [
             1,
             "#f0f921"
            ]
           ]
          },
          "colorway": [
           "#636efa",
           "#EF553B",
           "#00cc96",
           "#ab63fa",
           "#FFA15A",
           "#19d3f3",
           "#FF6692",
           "#B6E880",
           "#FF97FF",
           "#FECB52"
          ],
          "font": {
           "color": "#2a3f5f"
          },
          "geo": {
           "bgcolor": "white",
           "lakecolor": "white",
           "landcolor": "#E5ECF6",
           "showlakes": true,
           "showland": true,
           "subunitcolor": "white"
          },
          "hoverlabel": {
           "align": "left"
          },
          "hovermode": "closest",
          "mapbox": {
           "style": "light"
          },
          "paper_bgcolor": "white",
          "plot_bgcolor": "#E5ECF6",
          "polar": {
           "angularaxis": {
            "gridcolor": "white",
            "linecolor": "white",
            "ticks": ""
           },
           "bgcolor": "#E5ECF6",
           "radialaxis": {
            "gridcolor": "white",
            "linecolor": "white",
            "ticks": ""
           }
          },
          "scene": {
           "xaxis": {
            "backgroundcolor": "#E5ECF6",
            "gridcolor": "white",
            "gridwidth": 2,
            "linecolor": "white",
            "showbackground": true,
            "ticks": "",
            "zerolinecolor": "white"
           },
           "yaxis": {
            "backgroundcolor": "#E5ECF6",
            "gridcolor": "white",
            "gridwidth": 2,
            "linecolor": "white",
            "showbackground": true,
            "ticks": "",
            "zerolinecolor": "white"
           },
           "zaxis": {
            "backgroundcolor": "#E5ECF6",
            "gridcolor": "white",
            "gridwidth": 2,
            "linecolor": "white",
            "showbackground": true,
            "ticks": "",
            "zerolinecolor": "white"
           }
          },
          "shapedefaults": {
           "line": {
            "color": "#2a3f5f"
           }
          },
          "ternary": {
           "aaxis": {
            "gridcolor": "white",
            "linecolor": "white",
            "ticks": ""
           },
           "baxis": {
            "gridcolor": "white",
            "linecolor": "white",
            "ticks": ""
           },
           "bgcolor": "#E5ECF6",
           "caxis": {
            "gridcolor": "white",
            "linecolor": "white",
            "ticks": ""
           }
          },
          "title": {
           "x": 0.05
          },
          "xaxis": {
           "automargin": true,
           "gridcolor": "white",
           "linecolor": "white",
           "ticks": "",
           "title": {
            "standoff": 15
           },
           "zerolinecolor": "white",
           "zerolinewidth": 2
          },
          "yaxis": {
           "automargin": true,
           "gridcolor": "white",
           "linecolor": "white",
           "ticks": "",
           "title": {
            "standoff": 15
           },
           "zerolinecolor": "white",
           "zerolinewidth": 2
          }
         }
        },
        "title": {
         "text": "Total Explained Variance: 100.00%"
        }
       }
      }
     },
     "metadata": {},
     "output_type": "display_data"
    }
   ],
   "source": [
    "    Testt_pca = x_source1\n",
    "    Testt_pca['beta'] = sample_weight[3].flatten()\n",
    "    Testt_pca['beta_T_F'] = 1\n",
    "    Testt_2t_pca = x_target_train\n",
    "    Testt_2t_pca['beta_T_F'] = 2\n",
    "    Testt_2t_pca['beta'] = sample_weight[2].flatten()\n",
    "    Testt_pca = Testt_pca.append(Testt_2t_pca)\n",
    "    \n",
    "    pca = PCA(n_components=3)\n",
    "    components = pca.fit_transform(Testt_pca.iloc[:,:-1])\n",
    "\n",
    "    total_var = pca.explained_variance_ratio_.sum() * 100\n",
    "\n",
    "    fig = px.scatter_3d(\n",
    "        components, x=0, y=1, z=2, color=Testt_pca['beta'], symbol=Testt_pca['beta_T_F'], color_continuous_scale= [(0, \"red\"), (0.7, \"green\"), (1, \"blue\")], #\"Bluered_r\",\n",
    "        title=f'Total Explained Variance: {total_var:.2f}%',\n",
    "        labels={'0': 'PC 1', '1': 'PC 2', '2': 'PC 3'}\n",
    "    )\n",
    "    fig.update_traces(marker_size = 3.5)\n",
    "    fig.show()"
   ]
  }
 ]
}