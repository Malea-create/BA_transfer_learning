{
 "nbformat": 4,
 "nbformat_minor": 2,
 "metadata": {
  "language_info": {
   "name": "python",
   "codemirror_mode": {
    "name": "ipython",
    "version": 3
   },
   "version": "3.10.9-final"
  },
  "orig_nbformat": 2,
  "file_extension": ".py",
  "mimetype": "text/x-python",
  "name": "python",
  "npconvert_exporter": "python",
  "pygments_lexer": "ipython3",
  "version": 3,
  "kernelspec": {
   "name": "python310964bittransferlearningconda9726b93461e0487db588c58d1bc36ff2",
   "display_name": "Python 3.10.9 64-bit ('transfer-learning': conda)"
  }
 },
 "cells": [
  {
   "cell_type": "code",
   "execution_count": 1,
   "metadata": {},
   "outputs": [],
   "source": [
    "import pandas as pd\n",
    "import numpy as np\n",
    "import matplotlib.pyplot as plt"
   ]
  },
  {
   "cell_type": "markdown",
   "execution_count": null,
   "metadata": {},
   "outputs": [],
   "source": [
    "## Load data"
   ]
  },
  {
   "cell_type": "code",
   "execution_count": 2,
   "metadata": {},
   "outputs": [
    {
     "data": {
      "text/plain": "1.00    float64\n2.00    float64\n3.00    float64\n4.00    float64\n5.00    float64\n6.00    float64\n7.00    float64\n8.00    float64\n9.00    float64\ndtype: object"
     },
     "execution_count": 2,
     "metadata": {},
     "output_type": "execute_result"
    }
   ],
   "source": [
    "df = pd.read_csv(\"data\\ICS\\Concrete_Data_2.csv\", \";\")\n",
    "df.dtypes"
   ]
  },
  {
   "cell_type": "code",
   "execution_count": 3,
   "metadata": {},
   "outputs": [
    {
     "name": "stdout",
     "output_type": "stream",
     "text": "Column: 1.00 has the highest correlation with the target: 0.49783558206163886\nDf has been split into 3 equal parts:  (334, 9) (334, 9) (334, 9)\n"
    }
   ],
   "source": [
    "# Split according to distribution\n",
    "\n",
    "df = pd.read_csv(\"data\\ICS\\Concrete_Data_2.csv\", \";\")\n",
    "df= df.fillna(0)\n",
    "\n",
    "# Calculate Correlation between coloumns \n",
    "corr_values = []\n",
    "highest_corr = 0\n",
    "highest_col = 0\n",
    "\n",
    "for col in df:\n",
    "    corr = df[\"9.00\"].corr(df[col])\n",
    "    corr_values.append(corr)\n",
    "    if corr >= max(corr_values) and corr < 1.0:\n",
    "        highest_corr = corr\n",
    "        highest_col = col\n",
    "    #print(\"Correlation between the target and \"+ str(col) + \" : \" + str(corr))\n",
    "    #print(highest_corr)\n",
    "\n",
    "# Selecto Corr >= 0,4 and sort data accordingly \n",
    "print (\"Column: \"+str(highest_col)+ \" has the highest correlation with the target: \" + str(highest_corr))\n",
    "df = df.sort_values(by=[highest_col])\n",
    "df = df.reset_index(drop=True)\n",
    "\n",
    "# Split df in 3 equal parts\n",
    "split = int(len(df[:1000])/3)\n",
    "df_1 = df.loc[0:split,:]\n",
    "df_2 = df.loc[split:split*2,:]\n",
    "df_3 = df.loc[split*2:split*3,:]\n",
    "print(\"Df has been split into 3 equal parts: \",df_1.shape,df_2.shape,df_3.shape)"
   ]
  },
  {
   "cell_type": "markdown",
   "metadata": {},
   "source": [
    "# Metrics"
   ]
  },
  {
   "cell_type": "code",
   "execution_count": null,
   "metadata": {},
   "outputs": [],
   "source": [
    "from get_metrics import get_transferability_metrics\n",
    "\n",
    "import sys\n",
    "modname = globals()['__name__']\n",
    "modobj  = sys.modules[modname]\n",
    "\n",
    "\n",
    "sub_src_df_1 = ['df_1', 'df_2', 'df_1', 'df_3', 'df_1', 'df_2']\n",
    "sub_tar_df_2 = ['df_1', 'df_1', 'df_2', 'df_2', 'df_3', 'df_3']\n",
    "\n",
    "Values = []\n",
    "\n",
    "for i in range (0,6):\n",
    "\n",
    "        # get current src and tar\n",
    "\n",
    "        df_src = getattr(modobj, sub_src_df_1[i])\n",
    "        df_tar = getattr(modobj, sub_tar_df_2[i])\n",
    "        \n",
    "        save_values = get_transferability_metrics(df_src, df_tar)\n",
    "\n",
    "        Values.append(save_values)"
   ]
  },
  {
   "cell_type": "markdown",
   "execution_count": null,
   "metadata": {},
   "outputs": [],
   "source": [
    "# Models\n"
   ]
  },
  {
   "cell_type": "markdown",
   "metadata": {},
   "source": [
    "## KMM"
   ]
  },
  {
   "cell_type": "code",
   "execution_count": 8,
   "metadata": {},
   "outputs": [
    {
     "name": "stdout",
     "output_type": "stream",
     "text": "e-16\n42: -9.0327e+10 -8.9935e+10  3e+08  5e-02  1e-16\n43: -9.0194e+10 -8.9893e+10  3e+08  3e-02  1e-16\n44: -9.0093e+10 -8.9864e+10  2e+08  2e-02  1e-16\n45: -9.0021e+10 -8.9844e+10  2e+08  2e-02  1e-16\n46: -8.9964e+10 -8.9825e+10  2e+08  1e-02  1e-16\n47: -8.9912e+10 -8.9811e+10  1e+08  1e-02  1e-16\n48: -8.9878e+10 -8.9803e+10  1e+08  8e-03  1e-16\n49: -8.9852e+10 -8.9795e+10  1e+08  6e-03  1e-16\n50: -8.9818e+10 -8.9786e+10  8e+07  4e-03  1e-16\n51: -8.9791e+10 -8.9777e+10  5e+07  2e-03  1e-16\n52: -8.9781e+10 -8.9773e+10  3e+07  1e-03  1e-16\n53: -8.9773e+10 -8.9771e+10  3e+07  1e-03  1e-16\n54: -8.9762e+10 -8.9765e+10  7e+06  1e-04  1e-16\n55: -8.9762e+10 -8.9763e+10  1e+06  7e-06  1e-16\n56: -8.9762e+10 -8.9762e+10  4e+04  2e-07  1e-16\n57: -8.9762e+10 -8.9762e+10  7e+02  3e-09  1e-16\nOptimal solution found.\ndf_src df_2 df_tar df_1\nMSE Transfer Testdata:  [13.603440420664542, 16.596460680250807, 8.02597656343192]\nMSE Transfer Validationdata:  [15.381709947150302, 13.220444889293168, 10.383114204420389]\n     pcost       dcost       gap    pres   dres\n 0: -9.2116e+10 -9.2116e+10  2e+05  8e-01  4e-16\n 1: -9.2116e+10 -9.2116e+10  1e+05  4e-01  3e-16\n 2: -9.2116e+10 -9.2116e+10  1e+05  4e-01  4e-16\n 3: -9.2116e+10 -9.2115e+10  2e+05  4e-01  4e-16\n 4: -9.2116e+10 -9.2113e+10  3e+05  4e-01  4e-16\n 5: -9.2116e+10 -9.2110e+10  6e+05  4e-01  4e-16\n 6: -9.2116e+10 -9.2107e+10  8e+05  4e-01  4e-16\n 7: -9.2116e+10 -9.2103e+10  1e+06  4e-01  4e-16\n 8: -9.2116e+10 -9.2103e+10  1e+06  4e-01  4e-16\n 9: -9.2116e+10 -9.2099e+10  1e+06  4e-01  4e-16\n10: -9.2116e+10 -9.2091e+10  2e+06  3e-01  4e-16\n11: -9.2116e+10 -9.2087e+10  2e+06  3e-01  4e-16\n12: -9.2116e+10 -9.2085e+10  3e+06  3e-01  4e-16\n13: -9.2116e+10 -9.2077e+10  3e+06  3e-01  4e-16\n14: -9.2116e+10 -9.2057e+10  5e+06  3e-01  4e-16\n15: -9.2115e+10 -9.2031e+10  7e+06  3e-01  4e-16\n16: -9.2114e+10 -9.2001e+10  1e+07  3e-01  4e-16\n17: -9.2113e+10 -9.1967e+10  1e+07  3e-01  4e-16\n18: -9.2112e+10 -9.1929e+10  2e+07  3e-01  4e-16\n19: -9.2110e+10 -9.1897e+10  2e+07  3e-01  3e-16\n20: -9.2107e+10 -9.1830e+10  3e+07  3e-01  3e-16\n21: -9.2104e+10 -9.1796e+10  4e+07  3e-01  3e-16\n22: -9.2102e+10 -9.1756e+10  4e+07  3e-01  3e-16\n23: -9.2095e+10 -9.1677e+10  5e+07  3e-01  3e-16\n24: -9.2092e+10 -9.1644e+10  6e+07  3e-01  4e-16\n25: -9.2089e+10 -9.1603e+10  7e+07  3e-01  3e-16\n26: -9.2083e+10 -9.1537e+10  8e+07  3e-01  3e-16\n27: -9.2076e+10 -9.1476e+10  9e+07  3e-01  3e-16\n28: -9.2062e+10 -9.1365e+10  1e+08  3e-01  3e-16\n29: -9.2047e+10 -9.1242e+10  1e+08  3e-01  3e-16\n30: -9.2040e+10 -9.1212e+10  1e+08  3e-01  3e-16\n31: -9.2037e+10 -9.1175e+10  1e+08  3e-01  3e-16\n32: -9.2021e+10 -9.1075e+10  2e+08  3e-01  3e-16\n33: -9.2015e+10 -9.1049e+10  2e+08  3e-01  3e-16\n34: -9.2002e+10 -9.0983e+10  2e+08  3e-01  3e-16\n35: -9.1980e+10 -9.0879e+10  2e+08  3e-01  3e-16\n36: -9.1976e+10 -9.0873e+10  2e+08  3e-01  3e-16\n37: -9.1957e+10 -9.0776e+10  2e+08  3e-01  3e-16\n38: -9.1934e+10 -9.0681e+10  3e+08  3e-01  3e-16\n39: -9.1895e+10 -9.0537e+10  3e+08  3e-01  3e-16\n40: -9.1868e+10 -9.0449e+10  3e+08  3e-01  3e-16\n41: -9.1793e+10 -9.0229e+10  4e+08  3e-01  3e-16\n42: -9.1759e+10 -9.0137e+10  4e+08  3e-01  3e-16\n43: -9.1734e+10 -9.0083e+10  4e+08  3e-01  3e-16\n44: -9.1332e+10 -8.9362e+10  6e+08  2e-01  2e-16\n45: -9.1104e+10 -8.9094e+10  7e+08  2e-01  2e-16\n46: -9.0471e+10 -8.8591e+10  8e+08  1e-01  2e-16\n47: -9.0216e+10 -8.8448e+10  8e+08  1e-01  1e-16\n48: -8.9986e+10 -8.8336e+10  8e+08  1e-01  1e-16\n49: -8.9533e+10 -8.8131e+10  7e+08  9e-02  1e-16\n50: -8.9273e+10 -8.8026e+10  7e+08  7e-02  1e-16\n51: -8.9144e+10 -8.7977e+10  7e+08  7e-02  1e-16\n52: -8.8823e+10 -8.7874e+10  6e+08  5e-02  1e-16\n53: -8.8653e+10 -8.7813e+10  6e+08  4e-02  1e-16\n54: -8.8491e+10 -8.7753e+10  5e+08  4e-02  1e-16\n55: -8.8346e+10 -8.7707e+10  5e+08  3e-02  1e-16\n56: -8.8193e+10 -8.7622e+10  5e+08  3e-02  1e-16\n57: -8.8095e+10 -8.7600e+10  5e+08  2e-02  1e-16\n58: -8.7986e+10 -8.7556e+10  4e+08  2e-02  1e-16\n59: -8.7930e+10 -8.7525e+10  4e+08  2e-02  1e-16\n60: -8.7831e+10 -8.7490e+10  4e+08  1e-02  1e-16\n61: -8.7699e+10 -8.7466e+10  4e+08  1e-02  9e-17\n62: -8.7623e+10 -8.7426e+10  3e+08  8e-03  1e-16\n63: -8.7583e+10 -8.7424e+10  3e+08  7e-03  1e-16\n64: -8.7547e+10 -8.7411e+10  3e+08  6e-03  1e-16\n65: -8.7479e+10 -8.7390e+10  3e+08  5e-03  1e-16\n66: -8.7428e+10 -8.7376e+10  2e+08  4e-03  1e-16\n67: -8.7395e+10 -8.7364e+10  2e+08  3e-03  1e-16\n68: -8.7350e+10 -8.7343e+10  1e+08  2e-03  1e-16\n69: -8.7328e+10 -8.7329e+10  7e+07  9e-04  1e-16\n70: -8.7311e+10 -8.7317e+10  3e+07  4e-04  1e-16\n71: -8.7305e+10 -8.7306e+10  4e+06  4e-05  1e-16\n72: -8.7304e+10 -8.7305e+10  8e+05  6e-06  1e-16\n73: -8.7304e+10 -8.7304e+10  1e+04  6e-08  1e-16\nOptimal solution found.\ndf_src df_3 df_tar df_1\nMSE Transfer Testdata:  [12.281062091138105, 31.00413751600117, 11.80326793122398]\nMSE Transfer Validationdata:  [16.352841757017647, 19.69012322295265, 11.170329350812942]\n     pcost       dcost       gap    pres   dres\n 0: -1.0166e+11 -1.0166e+11  7e+04  3e-01  2e-16\n 1: -1.0166e+11 -1.0166e+11  4e+04  2e-01  2e-16\n 2: -1.0166e+11 -1.0166e+11  4e+04  1e-01  2e-16\n 3: -1.0166e+11 -1.0166e+11  5e+04  1e-01  2e-16\n 4: -1.0166e+11 -1.0166e+11  1e+05  1e-01  2e-16\n 5: -1.0166e+11 -1.0166e+11  1e+05  1e-01  2e-16\n 6: -1.0166e+11 -1.0166e+11  1e+05  1e-01  2e-16\n 7: -1.0166e+11 -1.0166e+11  2e+05  1e-01  2e-16\n 8: -1.0166e+11 -1.0166e+11  3e+05  1e-01  2e-16\n 9: -1.0166e+11 -1.0166e+11  3e+05  1e-01  2e-16\n10: -1.0166e+11 -1.0166e+11  3e+05  1e-01  2e-16\n11: -1.0166e+11 -1.0166e+11  4e+05  1e-01  2e-16\n12: -1.0166e+11 -1.0166e+11  5e+05  1e-01  2e-16\n13: -1.0166e+11 -1.0166e+11  5e+05  1e-01  2e-16\n14: -1.0166e+11 -1.0165e+11  6e+05  1e-01  2e-16\n15: -1.0166e+11 -1.0165e+11  6e+05  1e-01  2e-16\n16: -1.0166e+11 -1.0165e+11  8e+05  1e-01  2e-16\n17: -1.0166e+11 -1.0165e+11  8e+05  1e-01  2e-16\n18: -1.0166e+11 -1.0165e+11  1e+06  1e-01  2e-16\n19: -1.0166e+11 -1.0165e+11  1e+06  1e-01  2e-16\n20: -1.0166e+11 -1.0165e+11  1e+06  1e-01  2e-16\n21: -1.0166e+11 -1.0165e+11  2e+06  1e-01  2e-16\n22: -1.0166e+11 -1.0165e+11  2e+06  1e-01  2e-16\n23: -1.0166e+11 -1.0165e+11  2e+06  1e-01  2e-16\n24: -1.0166e+11 -1.0164e+11  3e+06  1e-01  2e-16\n25: -1.0166e+11 -1.0164e+11  3e+06  1e-01  2e-16\n26: -1.0166e+11 -1.0164e+11  3e+06  1e-01  2e-16\n27: -1.0166e+11 -1.0164e+11  3e+06  1e-01  2e-16\n28: -1.0166e+11 -1.0164e+11  4e+06  1e-01  2e-16\n29: -1.0166e+11 -1.0164e+11  4e+06  1e-01  2e-16\n30: -1.0166e+11 -1.0163e+11  5e+06  1e-01  2e-16\n31: -1.0166e+11 -1.0163e+11  6e+06  1e-01  2e-16\n32: -1.0165e+11 -1.0162e+11  8e+06  1e-01  2e-16\n33: -1.0165e+11 -1.0162e+11  9e+06  1e-01  2e-16\n34: -1.0165e+11 -1.0161e+11  1e+07  1e-01  2e-16\n35: -1.0165e+11 -1.0161e+11  1e+07  9e-02  2e-16\n36: -1.0165e+11 -1.0160e+11  1e+07  9e-02  2e-16\n37: -1.0165e+11 -1.0160e+11  1e+07  9e-02  2e-16\n38: -1.0165e+11 -1.0159e+11  1e+07  9e-02  2e-16\n39: -1.0165e+11 -1.0159e+11  2e+07  9e-02  2e-16\n40: -1.0165e+11 -1.0159e+11  2e+07  9e-02  2e-16\n41: -1.0164e+11 -1.0158e+11  2e+07  8e-02  2e-16\n42: -1.0164e+11 -1.0158e+11  2e+07  8e-02  2e-16\n43: -1.0164e+11 -1.0158e+11  2e+07  8e-02  2e-16\n44: -1.0164e+11 -1.0157e+11  2e+07  8e-02  1e-16\n45: -1.0163e+11 -1.0155e+11  3e+07  7e-02  1e-16\n46: -1.0163e+11 -1.0155e+11  3e+07  7e-02  2e-16\n47: -1.0163e+11 -1.0155e+11  3e+07  7e-02  1e-16\n48: -1.0163e+11 -1.0154e+11  3e+07  7e-02  1e-16\n49: -1.0163e+11 -1.0153e+11  3e+07  7e-02  1e-16\n50: -1.0162e+11 -1.0151e+11  4e+07  6e-02  1e-16\n51: -1.0162e+11 -1.0151e+11  4e+07  6e-02  1e-16\n52: -1.0161e+11 -1.0150e+11  4e+07  6e-02  1e-16\n53: -1.0161e+11 -1.0149e+11  5e+07  6e-02  1e-16\n54: -1.0160e+11 -1.0147e+11  5e+07  6e-02  1e-16\n55: -1.0160e+11 -1.0146e+11  6e+07  5e-02  1e-16\n56: -1.0160e+11 -1.0145e+11  6e+07  5e-02  1e-16\n57: -1.0159e+11 -1.0143e+11  7e+07  5e-02  1e-16\n58: -1.0158e+11 -1.0142e+11  7e+07  5e-02  1e-16\n59: -1.0158e+11 -1.0142e+11  7e+07  5e-02  1e-16\n60: -1.0158e+11 -1.0141e+11  7e+07  5e-02  1e-16\n61: -1.0157e+11 -1.0140e+11  8e+07  5e-02  1e-16\n62: -1.0156e+11 -1.0137e+11  9e+07  4e-02  1e-16\n63: -1.0155e+11 -1.0136e+11  9e+07  4e-02  1e-16\n64: -1.0153e+11 -1.0134e+11  1e+08  4e-02  1e-16\n65: -1.0152e+11 -1.0132e+11  1e+08  4e-02  1e-16\n66: -1.0149e+11 -1.0127e+11  1e+08  3e-02  1e-16\n67: -1.0147e+11 -1.0126e+11  1e+08  3e-02  1e-16\n68: -1.0144e+11 -1.0123e+11  1e+08  3e-02  1e-16\n69: -1.0142e+11 -1.0121e+11  1e+08  2e-02  1e-16\n70: -1.0139e+11 -1.0120e+11  1e+08  2e-02  1e-16\n71: -1.0136e+11 -1.0118e+11  1e+08  2e-02  1e-16\n72: -1.0133e+11 -1.0115e+11  1e+08  2e-02  1e-16\n73: -1.0131e+11 -1.0114e+11  1e+08  1e-02  1e-16\n74: -1.0130e+11 -1.0114e+11  1e+08  1e-02  1e-16\n75: -1.0126e+11 -1.0112e+11  1e+08  1e-02  1e-16\n76: -1.0124e+11 -1.0111e+11  1e+08  1e-02  1e-16\n77: -1.0121e+11 -1.0110e+11  1e+08  8e-03  1e-16\n78: -1.0119e+11 -1.0109e+11  1e+08  7e-03  1e-16\n79: -1.0118e+11 -1.0109e+11  1e+08  6e-03  1e-16\n80: -1.0117e+11 -1.0108e+11  1e+08  6e-03  1e-16\n81: -1.0116e+11 -1.0107e+11  1e+08  5e-03  1e-16\n82: -1.0115e+11 -1.0107e+11  1e+08  5e-03  1e-16\n83: -1.0114e+11 -1.0106e+11  1e+08  4e-03  1e-16\n84: -1.0113e+11 -1.0105e+11  1e+08  4e-03  1e-16\n85: -1.0112e+11 -1.0105e+11  1e+08  3e-03  1e-16\n86: -1.0108e+11 -1.0101e+11  8e+07  2e-03  1e-16\n87: -1.0096e+11 -1.0094e+11  2e+07  2e-04  1e-16\n88: -1.0094e+11 -1.0094e+11  2e+05  2e-06  1e-16\n89: -1.0094e+11 -1.0094e+11  2e+03  2e-08  1e-16\nOptimal solution found.\ndf_src df_1 df_tar df_2\nMSE Transfer Testdata:  [9.62246709459566, 13.257714299397332, 12.148478117382425]\nMSE Transfer Validationdata:  [11.719244511376212, 14.617893138896884, 11.336867610006768]\n     pcost       dcost       gap    pres   dres\n 0: -1.0166e+11 -1.0166e+11  2e+05  8e-01  2e-16\n 1: -1.0166e+11 -1.0166e+11  9e+04  4e-01  2e-16\n 2: -1.0166e+11 -1.0166e+11  1e+05  4e-01  2e-16\n 3: -1.0166e+11 -1.0166e+11  1e+05  3e-01  2e-16\n 4: -1.0166e+11 -1.0166e+11  3e+05  3e-01  2e-16\n 5: -1.0166e+11 -1.0166e+11  4e+05  3e-01  2e-16\n 6: -1.0166e+11 -1.0165e+11  5e+05  3e-01  2e-16\n 7: -1.0166e+11 -1.0165e+11  6e+05  3e-01  2e-16\n 8: -1.0166e+11 -1.0165e+11  7e+05  3e-01  2e-16\n 9: -1.0166e+11 -1.0165e+11  8e+05  3e-01  2e-16\n10: -1.0166e+11 -1.0165e+11  9e+05  3e-01  2e-16\n11: -1.0166e+11 -1.0165e+11  1e+06  3e-01  3e-16\n12: -1.0166e+11 -1.0165e+11  1e+06  3e-01  3e-16\n13: -1.0166e+11 -1.0165e+11  1e+06  3e-01  2e-16\n14: -1.0166e+11 -1.0165e+11  1e+06  3e-01  3e-16\n15: -1.0166e+11 -1.0164e+11  2e+06  3e-01  3e-16\n16: -1.0166e+11 -1.0164e+11  2e+06  3e-01  3e-16\n17: -1.0166e+11 -1.0164e+11  2e+06  3e-01  3e-16\n18: -1.0166e+11 -1.0163e+11  3e+06  3e-01  3e-16\n19: -1.0166e+11 -1.0163e+11  3e+06  3e-01  3e-16\n20: -1.0166e+11 -1.0163e+11  3e+06  3e-01  3e-16\n21: -1.0166e+11 -1.0163e+11  3e+06  3e-01  3e-16\n22: -1.0166e+11 -1.0162e+11  4e+06  3e-01  3e-16\n23: -1.0166e+11 -1.0161e+11  5e+06  3e-01  3e-16\n24: -1.0166e+11 -1.0161e+11  5e+06  3e-01  3e-16\n25: -1.0166e+11 -1.0161e+11  5e+06  3e-01  3e-16\n26: -1.0166e+11 -1.0159e+11  7e+06  3e-01  3e-16\n27: -1.0166e+11 -1.0159e+11  8e+06  3e-01  3e-16\n28: -1.0166e+11 -1.0156e+11  1e+07  3e-01  3e-16\n29: -1.0166e+11 -1.0151e+11  2e+07  3e-01  3e-16\n30: -1.0165e+11 -1.0147e+11  2e+07  3e-01  3e-16\n31: -1.0165e+11 -1.0142e+11  3e+07  3e-01  3e-16\n32: -1.0165e+11 -1.0140e+11  3e+07  3e-01  3e-16\n33: -1.0165e+11 -1.0138e+11  4e+07  3e-01  3e-16\n34: -1.0164e+11 -1.0135e+11  4e+07  3e-01  3e-16\n35: -1.0164e+11 -1.0130e+11  5e+07  3e-01  3e-16\n36: -1.0163e+11 -1.0126e+11  6e+07  3e-01  3e-16\n37: -1.0162e+11 -1.0119e+11  7e+07  3e-01  3e-16\n38: -1.0161e+11 -1.0112e+11  9e+07  3e-01  3e-16\n39: -1.0161e+11 -1.0109e+11  9e+07  3e-01  3e-16\n40: -1.0159e+11 -1.0103e+11  1e+08  3e-01  3e-16\n41: -1.0157e+11 -1.0093e+11  1e+08  3e-01  3e-16\n42: -1.0154e+11 -1.0083e+11  2e+08  3e-01  2e-16\n43: -1.0151e+11 -1.0073e+11  2e+08  3e-01  2e-16\n44: -1.0148e+11 -1.0065e+11  2e+08  2e-01  2e-16\n45: -1.0146e+11 -1.0060e+11  2e+08  2e-01  2e-16\n46: -1.0141e+11 -1.0049e+11  3e+08  2e-01  2e-16\n47: -1.0138e+11 -1.0044e+11  3e+08  2e-01  2e-16\n48: -1.0132e+11 -1.0034e+11  3e+08  2e-01  2e-16\n49: -1.0125e+11 -1.0023e+11  3e+08  2e-01  2e-16\n50: -1.0118e+11 -1.0014e+11  4e+08  2e-01  2e-16\n51: -1.0108e+11 -1.0002e+11  4e+08  2e-01  1e-16\n52: -1.0096e+11 -9.9904e+10  4e+08  2e-01  1e-16\n53: -1.0086e+11 -9.9817e+10  4e+08  1e-01  1e-16\n54: -1.0057e+11 -9.9610e+10  4e+08  1e-01  1e-16\n55: -1.0042e+11 -9.9531e+10  4e+08  1e-01  1e-16\n56: -1.0028e+11 -9.9472e+10  4e+08  8e-02  1e-16\n57: -1.0024e+11 -9.9457e+10  4e+08  8e-02  1e-16\n58: -1.0003e+11 -9.9378e+10  4e+08  6e-02  1e-16\n59: -9.9860e+10 -9.9312e+10  4e+08  5e-02  1e-16\n60: -9.9790e+10 -9.9270e+10  4e+08  4e-02  1e-16\n61: -9.9673e+10 -9.9216e+10  3e+08  3e-02  1e-16\n62: -9.9614e+10 -9.9190e+10  3e+08  3e-02  1e-16\n63: -9.9553e+10 -9.9153e+10  3e+08  3e-02  1e-16\n64: -9.9484e+10 -9.9103e+10  3e+08  2e-02  1e-16\n65: -9.9418e+10 -9.9086e+10  3e+08  2e-02  1e-16\n66: -9.9313e+10 -9.9067e+10  3e+08  2e-02  1e-16\n67: -9.9245e+10 -9.9032e+10  3e+08  1e-02  1e-16\n68: -9.9185e+10 -9.9016e+10  3e+08  1e-02  1e-16\n69: -9.9133e+10 -9.8997e+10  2e+08  9e-03  1e-16\n70: -9.9089e+10 -9.8981e+10  2e+08  7e-03  1e-16\n71: -9.9055e+10 -9.8970e+10  2e+08  6e-03  1e-16\n72: -9.9029e+10 -9.8961e+10  2e+08  5e-03  1e-16\n73: -9.9000e+10 -9.8949e+10  2e+08  4e-03  1e-16\n74: -9.8982e+10 -9.8944e+10  1e+08  3e-03  1e-16\n75: -9.8954e+10 -9.8932e+10  1e+08  2e-03  1e-16\n76: -9.8907e+10 -9.8896e+10  3e+07  5e-04  1e-16\n77: -9.8876e+10 -9.8876e+10  1e+06  5e-06  1e-16\n78: -9.8876e+10 -9.8876e+10  1e+04  5e-08  1e-16\nOptimal solution found.\ndf_src df_3 df_tar df_2\nMSE Transfer Testdata:  [10.634158712957085, 16.085511507081286, 12.128495680841214]\nMSE Transfer Validationdata:  [11.372534921589702, 13.166440071514325, 10.427240128395724]\n     pcost       dcost       gap    pres   dres\n 0: -8.7582e+10 -8.7582e+10  2e+05  9e-01  4e-16\n 1: -8.7582e+10 -8.7582e+10  2e+05  6e-01  4e-16\n 2: -8.7582e+10 -8.7581e+10  2e+05  5e-01  4e-16\n 3: -8.7582e+10 -8.7580e+10  3e+05  5e-01  4e-16\n 4: -8.7582e+10 -8.7576e+10  6e+05  5e-01  4e-16\n 5: -8.7582e+10 -8.7568e+10  1e+06  5e-01  4e-16\n 6: -8.7582e+10 -8.7556e+10  2e+06  5e-01  4e-16\n 7: -8.7582e+10 -8.7549e+10  3e+06  5e-01  4e-16\n 8: -8.7581e+10 -8.7534e+10  4e+06  5e-01  4e-16\n 9: -8.7581e+10 -8.7529e+10  5e+06  5e-01  4e-16\n10: -8.7581e+10 -8.7517e+10  6e+06  5e-01  5e-16\n11: -8.7580e+10 -8.7505e+10  7e+06  5e-01  4e-16\n12: -8.7580e+10 -8.7490e+10  9e+06  5e-01  4e-16\n13: -8.7579e+10 -8.7470e+10  1e+07  5e-01  4e-16\n14: -8.7578e+10 -8.7452e+10  1e+07  5e-01  4e-16\n15: -8.7578e+10 -8.7448e+10  1e+07  5e-01  4e-16\n16: -8.7576e+10 -8.7425e+10  2e+07  5e-01  4e-16\n17: -8.7574e+10 -8.7403e+10  2e+07  5e-01  4e-16\n18: -8.7572e+10 -8.7375e+10  3e+07  5e-01  4e-16\n19: -8.7566e+10 -8.7324e+10  4e+07  5e-01  4e-16\n20: -8.7559e+10 -8.7272e+10  5e+07  5e-01  4e-16\n21: -8.7543e+10 -8.7187e+10  6e+07  4e-01  3e-16\n22: -8.7526e+10 -8.7114e+10  8e+07  4e-01  3e-16\n23: -8.7515e+10 -8.7077e+10  9e+07  4e-01  3e-16\n24: -8.7473e+10 -8.6956e+10  1e+08  4e-01  3e-16\n25: -8.7440e+10 -8.6882e+10  1e+08  4e-01  3e-16\n26: -8.7393e+10 -8.6799e+10  2e+08  4e-01  3e-16\n27: -8.7332e+10 -8.6710e+10  2e+08  3e-01  2e-16\n28: -8.7278e+10 -8.6645e+10  2e+08  3e-01  2e-16\n29: -8.7256e+10 -8.6623e+10  2e+08  3e-01  2e-16\n30: -8.7142e+10 -8.6521e+10  2e+08  2e-01  2e-16\n31: -8.7021e+10 -8.6435e+10  2e+08  2e-01  2e-16\n32: -8.6877e+10 -8.6357e+10  2e+08  2e-01  2e-16\n33: -8.6791e+10 -8.6322e+10  2e+08  1e-01  2e-16\n34: -8.6721e+10 -8.6298e+10  2e+08  1e-01  2e-16\n35: -8.6613e+10 -8.6265e+10  2e+08  1e-01  1e-16\n36: -8.6535e+10 -8.6247e+10  2e+08  8e-02  1e-16\n37: -8.6457e+10 -8.6232e+10  2e+08  6e-02  1e-16\n38: -8.6405e+10 -8.6220e+10  2e+08  5e-02  1e-16\n39: -8.6307e+10 -8.6193e+10  1e+08  3e-02  1e-16\n40: -8.6268e+10 -8.6185e+10  1e+08  2e-02  1e-16\n41: -8.6233e+10 -8.6175e+10  8e+07  1e-02  1e-16\n42: -8.6208e+10 -8.6166e+10  6e+07  1e-02  1e-16\n43: -8.6191e+10 -8.6162e+10  5e+07  8e-03  1e-16\n44: -8.6179e+10 -8.6156e+10  4e+07  6e-03  1e-16\n45: -8.6168e+10 -8.6153e+10  4e+07  4e-03  1e-16\n46: -8.6161e+10 -8.6151e+10  3e+07  3e-03  1e-16\n47: -8.6153e+10 -8.6148e+10  2e+07  2e-03  1e-16\n48: -8.6144e+10 -8.6143e+10  8e+06  7e-04  1e-16\n49: -8.6141e+10 -8.6141e+10  8e+05  6e-05  1e-16\n50: -8.6141e+10 -8.6141e+10  6e+04  3e-06  1e-16\n51: -8.6141e+10 -8.6141e+10  2e+03  8e-11  1e-16\nOptimal solution found.\ndf_src df_1 df_tar df_3\nMSE Transfer Testdata:  [18.672537092864335, 24.92561495507962, 13.55038100048208]\nMSE Transfer Validationdata:  [19.944823633375865, 25.296825607819535, 14.286061291628027]\n     pcost       dcost       gap    pres   dres\n 0: -8.7582e+10 -8.7582e+10  9e+04  3e-01  2e-16\n 1: -8.7582e+10 -8.7582e+10  5e+04  2e-01  2e-16\n 2: -8.7582e+10 -8.7582e+10  5e+04  1e-01  2e-16\n 3: -8.7582e+10 -8.7582e+10  6e+04  1e-01  2e-16\n 4: -8.7582e+10 -8.7581e+10  1e+05  1e-01  2e-16\n 5: -8.7582e+10 -8.7581e+10  2e+05  1e-01  2e-16\n 6: -8.7582e+10 -8.7580e+10  2e+05  1e-01  2e-16\n 7: -8.7582e+10 -8.7577e+10  5e+05  1e-01  2e-16\n 8: -8.7582e+10 -8.7573e+10  9e+05  1e-01  2e-16\n 9: -8.7582e+10 -8.7566e+10  2e+06  1e-01  2e-16\n10: -8.7581e+10 -8.7562e+10  2e+06  1e-01  2e-16\n11: -8.7581e+10 -8.7557e+10  3e+06  1e-01  2e-16\n12: -8.7581e+10 -8.7552e+10  4e+06  1e-01  2e-16\n13: -8.7581e+10 -8.7551e+10  4e+06  1e-01  2e-16\n14: -8.7580e+10 -8.7547e+10  5e+06  1e-01  2e-16\n15: -8.7580e+10 -8.7541e+10  5e+06  1e-01  2e-16\n16: -8.7579e+10 -8.7535e+10  7e+06  1e-01  2e-16\n17: -8.7579e+10 -8.7533e+10  7e+06  1e-01  2e-16\n18: -8.7578e+10 -8.7525e+10  8e+06  1e-01  2e-16\n19: -8.7577e+10 -8.7518e+10  1e+07  1e-01  2e-16\n20: -8.7576e+10 -8.7511e+10  1e+07  1e-01  2e-16\n21: -8.7574e+10 -8.7504e+10  1e+07  1e-01  2e-16\n22: -8.7572e+10 -8.7495e+10  2e+07  1e-01  2e-16\n23: -8.7571e+10 -8.7488e+10  2e+07  1e-01  2e-16\n24: -8.7569e+10 -8.7480e+10  2e+07  1e-01  2e-16\n25: -8.7567e+10 -8.7472e+10  2e+07  1e-01  2e-16\n26: -8.7564e+10 -8.7462e+10  2e+07  1e-01  2e-16\n27: -8.7562e+10 -8.7456e+10  3e+07  1e-01  2e-16\n28: -8.7558e+10 -8.7445e+10  3e+07  1e-01  1e-16\n29: -8.7555e+10 -8.7433e+10  3e+07  1e-01  2e-16\n30: -8.7552e+10 -8.7427e+10  3e+07  1e-01  2e-16\n31: -8.7548e+10 -8.7414e+10  4e+07  9e-02  2e-16\n32: -8.7542e+10 -8.7395e+10  4e+07  9e-02  1e-16\n33: -8.7537e+10 -8.7382e+10  5e+07  9e-02  2e-16\n34: -8.7534e+10 -8.7374e+10  5e+07  9e-02  1e-16\n35: -8.7533e+10 -8.7370e+10  5e+07  8e-02  1e-16\n36: -8.7530e+10 -8.7366e+10  5e+07  8e-02  1e-16\n37: -8.7524e+10 -8.7354e+10  5e+07  8e-02  1e-16\n38: -8.7508e+10 -8.7321e+10  6e+07  8e-02  1e-16\n39: -8.7492e+10 -8.7293e+10  7e+07  7e-02  1e-16\n40: -8.7479e+10 -8.7275e+10  8e+07  7e-02  1e-16\n41: -8.7468e+10 -8.7262e+10  8e+07  6e-02  1e-16\n42: -8.7455e+10 -8.7247e+10  9e+07  6e-02  1e-16\n43: -8.7436e+10 -8.7228e+10  9e+07  6e-02  1e-16\n44: -8.7400e+10 -8.7197e+10  1e+08  5e-02  1e-16\n45: -8.7391e+10 -8.7189e+10  1e+08  5e-02  1e-16\n46: -8.7386e+10 -8.7188e+10  1e+08  4e-02  1e-16\n47: -8.7345e+10 -8.7162e+10  1e+08  4e-02  1e-16\n48: -8.7327e+10 -8.7152e+10  1e+08  3e-02  1e-16\n49: -8.7302e+10 -8.7139e+10  1e+08  3e-02  1e-16\n50: -8.7276e+10 -8.7128e+10  9e+07  3e-02  1e-16\n51: -8.7250e+10 -8.7119e+10  9e+07  2e-02  1e-16\n52: -8.7225e+10 -8.7110e+10  9e+07  2e-02  1e-16\n53: -8.7201e+10 -8.7101e+10  8e+07  2e-02  1e-16\n54: -8.7180e+10 -8.7095e+10  8e+07  1e-02  1e-16\n55: -8.7161e+10 -8.7091e+10  7e+07  1e-02  1e-16\n56: -8.7134e+10 -8.7086e+10  6e+07  8e-03  1e-16\n57: -8.7113e+10 -8.7083e+10  5e+07  5e-03  1e-16\n58: -8.7098e+10 -8.7079e+10  4e+07  4e-03  1e-16\n59: -8.7084e+10 -8.7075e+10  3e+07  2e-03  1e-16\n60: -8.7072e+10 -8.7071e+10  1e+07  7e-04  1e-16\n61: -8.7067e+10 -8.7067e+10  7e+05  4e-05  1e-16\n62: -8.7067e+10 -8.7067e+10  2e+05  7e-06  1e-16\n63: -8.7067e+10 -8.7067e+10  5e+04  8e-07  1e-16\n64: -8.7067e+10 -8.7067e+10  6e+02  1e-08  2e-16\nOptimal solution found.\ndf_src df_2 df_tar df_3\nMSE Transfer Testdata:  [8.249149392561904, 13.25615340553628, 13.000365952715145]\nMSE Transfer Validationdata:  [12.62704696194221, 16.60155730208371, 12.284203684152892]\n"
    }
   ],
   "source": [
    "import plotly.express as px\n",
    "from sklearn.decomposition import PCA\n",
    "import sklearn\n",
    "from TL_Regression_Methods.KMM import KMM\n",
    "from sklearn.neighbors import KNeighborsRegressor\n",
    "from sklearn.metrics import mean_squared_error\n",
    "from sklearn.tree import DecisionTreeRegressor\n",
    "from sklearn import linear_model\n",
    "\n",
    "import sys\n",
    "modname = globals()['__name__']\n",
    "modobj  = sys.modules[modname]\n",
    "\n",
    "sub_src_df_1 = ['df_2', 'df_3', 'df_1', 'df_3', 'df_1', 'df_2']\n",
    "sub_tar_df_2 = ['df_1', 'df_1', 'df_2', 'df_2', 'df_3', 'df_3']\n",
    "\n",
    "for i in range (0,6):\n",
    "\n",
    "    df_src = getattr(modobj, sub_src_df_1[i])\n",
    "\n",
    "    df_tar = getattr(modobj, sub_tar_df_2[i])\n",
    "\n",
    "    # source split\n",
    "    Xs = df_src.iloc[:,:-1]\n",
    "    Ys = df_src.iloc[:,-1]\n",
    "\n",
    "    # target split\n",
    "    Xt = df_tar.iloc[:,:-1]\n",
    "    Yt = df_tar.iloc[:,-1]\n",
    "\n",
    "\n",
    "    kmm_1 = KMM() #kernel_mean_matching(Xs, Xt[:25], kern='rbf', B=10) # kmm(Xs, Xt[:25], sigma=10) \n",
    "    beta = kmm_1.fit(Xs, Xt[:25])\n",
    "\n",
    "    Xs_new = beta * Xs\n",
    "\n",
    "    ### Apply Models ###\n",
    "\n",
    "    results_transfer = []\n",
    "    results_transfer_val = []\n",
    "\n",
    "    # DecisionTreeRegressor\n",
    "\n",
    "    model =  DecisionTreeRegressor(max_depth=5)\n",
    "    model.fit(Xs_new, Ys )\n",
    "    y_pre_kmm = model.predict(Xt[:25])\n",
    "    mse_kmm = np.sqrt( mean_squared_error(Yt[:25], y_pre_kmm) )\n",
    "    results_transfer.append(mse_kmm)\n",
    "\n",
    "    y_pre_ridge = model.predict(Xt[25:])\n",
    "    mse_kmm_val = np.sqrt( sklearn.metrics.mean_squared_error(Yt[25:], y_pre_ridge) )\n",
    "    results_transfer_val.append(mse_kmm_val)\n",
    "\n",
    "    # KNeighborsRegressor\n",
    "\n",
    "    model =  KNeighborsRegressor(n_neighbors=3)\n",
    "    model.fit(Xs_new, Ys )\n",
    "    y_pre_kmm = model.predict(Xt[:25])\n",
    "    mse_kmm = np.sqrt( mean_squared_error(Yt[:25], y_pre_kmm) )\n",
    "    results_transfer.append(mse_kmm)\n",
    "\n",
    "    y_pre_ridge = model.predict(Xt[25:])\n",
    "    mse_kmm_val = np.sqrt( sklearn.metrics.mean_squared_error(Yt[25:], y_pre_ridge) )\n",
    "    results_transfer_val.append(mse_kmm_val)\n",
    "\n",
    "    # Lasso\n",
    "\n",
    "    model =  linear_model.Lasso(alpha=15)\n",
    "    model.fit(Xs_new, Ys )\n",
    "    y_pre_kmm = model.predict(Xt[:25])\n",
    "    mse_kmm = np.sqrt( mean_squared_error(Yt[:25], y_pre_kmm) )\n",
    "    results_transfer.append(mse_kmm)\n",
    "\n",
    "    y_pre_ridge = model.predict(Xt[25:])\n",
    "    mse_kmm_val = np.sqrt( sklearn.metrics.mean_squared_error(Yt[25:], y_pre_ridge) )\n",
    "    results_transfer_val.append(mse_kmm_val)\n",
    "\n",
    "    print(\"df_src\",sub_src_df_1[i],\"df_tar\", sub_tar_df_2[i])\n",
    "    print(\"MSE Transfer Testdata: \", results_transfer)\n",
    "    print(\"MSE Transfer Validationdata: \", results_transfer_val)"
   ]
  },
  {
   "cell_type": "code",
   "execution_count": 146,
   "metadata": {},
   "outputs": [
    {
     "name": "stdout",
     "output_type": "stream",
     "text": "MSE Transfer Testdata:  961.2565431111111\nMSE Transfer Validationdata:  388.01193160733544\n"
    }
   ],
   "source": [
    "from TL_Regression_Methods.KMM import KMM\n",
    "from sklearn.neighbors import KNeighborsRegressor\n",
    "from sklearn.metrics import mean_squared_error\n",
    "\n",
    "results_transfer = []\n",
    "results_transfer_val = []\n",
    "\n",
    "model = KNeighborsRegressor(n_neighbors=3) #linear_model.Lasso(alpha=15) #DecisionTreeRegressor(max_depth=5)\n",
    "model.fit(Xs, Ys)\n",
    "y_pre_kmm = model.predict(Xt[:25])\n",
    "mse_kmm = mean_squared_error(Yt[:25], y_pre_kmm)\n",
    "\n",
    "results_transfer.append(mse_kmm)\n",
    "y_pre_ridge = model.predict(Xt[25:])\n",
    "mse_kmm_val = sklearn.metrics.mean_squared_error(Yt[25:], y_pre_ridge)\n",
    "results_transfer_val.append(mse_kmm_val)\n",
    "\n",
    "'''plt.plot(Yt.reset_index(drop=True))\n",
    "plt.plot(y_pre_kmm)\n",
    "plt.xlim(0, len(Xt[:25]))\n",
    "plt.title('KMM with MSE: '+ str(mse_kmm))\n",
    "plt.xlabel('Sampels')\n",
    "plt.ylabel('Strength')\n",
    "plt.show()'''\n",
    "\n",
    "print(\"MSE Transfer Testdata: \", np.mean(results_transfer))\n",
    "print(\"MSE Transfer Validationdata: \", np.mean(results_transfer_val))"
   ]
  },
  {
   "cell_type": "markdown",
   "metadata": {},
   "source": [
    "## TwoStageTrAdaBoostR2"
   ]
  },
  {
   "cell_type": "code",
   "execution_count": 135,
   "metadata": {},
   "outputs": [
    {
     "name": "stdout",
     "output_type": "stream",
     "text": "334 18 7\nAt step: 3\nBinary search's goal not meeted! Value is set to be the available best!\nTry reducing the search interval. Current stp interval: 1e-30\nAt step: 4\nBinary search's goal not meeted! Value is set to be the available best!\nTry reducing the search interval. Current stp interval: 1e-30\nAt step: 5\nBinary search's goal not meeted! Value is set to be the available best!\nTry reducing the search interval. Current stp interval: 1e-30\nAt step: 6\nBinary search's goal not meeted! Value is set to be the available best!\nTry reducing the search interval. Current stp interval: 1e-30\nAt step: 7\nBinary search's goal not meeted! Value is set to be the available best!\nTry reducing the search interval. Current stp interval: 1e-30\nAt step: 8\nBinary search's goal not meeted! Value is set to be the available best!\nTry reducing the search interval. Current stp interval: 1e-30\nAt step: 9\nBinary search's goal not meeted! Value is set to be the available best!\nTry reducing the search interval. Current stp interval: 1e-30\n"
    },
    {
     "data": {
      "image/png": "[encoded data removed]",
      "image/svg+xml": "<?xml version=\"1.0\" encoding=\"utf-8\" standalone=\"no\"?>\n<!DOCTYPE svg PUBLIC \"-//W3C//DTD SVG 1.1//EN\"\n  \"http://www.w3.org/Graphics/SVG/1.1/DTD/svg11.dtd\">\n<svg xmlns:xlink=\"http://www.w3.org/1999/xlink\" width=\"414.466875pt\" height=\"325.986375pt\" viewBox=\"0 0 414.466875 325.986375\" xmlns=\"http://www.w3.org/2000/svg\" version=\"1.1\">\n <metadata>\n  <rdf:RDF xmlns:dc=\"http://purl.org/dc/elements/1.1/\" xmlns:cc=\"http://creativecommons.org/ns#\" xmlns:rdf=\"http://www.w3.org/1999/02/22-rdf-syntax-ns#\">\n   <cc:Work>\n    <dc:type rdf:resource=\"http://purl.org/dc/dcmitype/StillImage\"/>\n    <dc:date>2023-03-15T10:10:26.629879</dc:date>\n    <dc:format>image/svg+xml</dc:format>\n    <dc:creator>\n     <cc:Agent>\n      <dc:title>Matplotlib v3.7.0, https://matplotlib.org/</dc:title>\n     </cc:Agent>\n    </dc:creator>\n   </cc:Work>\n  </rdf:RDF>\n </metadata>\n <defs>\n  <style type=\"text/css\">*{stroke-linejoin: round; stroke-linecap: butt}</style>\n </defs>\n <g id=\"figure_1\">\n  <g id=\"patch_1\">\n   <path d=\"M 0 325.986375 \nL 414.466875 325.986375 \nL 414.466875 0 \nL 0 0 \nz\n\" style=\"fill: #ffffff\"/>\n  </g>\n  <g id=\"axes_1\">\n   <g id=\"patch_2\">\n    <path d=\"M 40.603125 288.430125 \nL 397.723125 288.430125 \nL 397.723125 22.318125 \nL 40.603125 22.318125 \nz\n\" style=\"fill: #ffffff\"/>\n   </g>\n   <g id=\"matplotlib.axis_1\">\n    <g id=\"xtick_1\">\n     <g id=\"line2d_1\">\n      <defs>\n       <path id=\"m052132adc8\" d=\"M 0 0 \nL 0 3.5 \n\" style=\"stroke: #000000; stroke-width: 0.8\"/>\n      </defs>\n      <g>\n       <use xlink:href=\"#m052132adc8\" x=\"40.603125\" y=\"288.430125\" style=\"stroke: #000000; stroke-width: 0.8\"/>\n      </g>\n     </g>\n     <g id=\"text_1\">\n      <!-- 0 -->\n      <g transform=\"translate(37.421875 303.028562) scale(0.1 -0.1)\">\n       <defs>\n        <path id=\"DejaVuSans-30\" d=\"M 2034 4250 \nQ 1547 4250 1301 3770 \nQ 1056 3291 1056 2328 \nQ 1056 1369 1301 889 \nQ 1547 409 2034 409 \nQ 2525 409 2770 889 \nQ 3016 1369 3016 2328 \nQ 3016 3291 2770 3770 \nQ 2525 4250 2034 4250 \nz\nM 2034 4750 \nQ 2819 4750 3233 4129 \nQ 3647 3509 3647 2328 \nQ 3647 1150 3233 529 \nQ 2819 -91 2034 -91 \nQ 1250 -91 836 529 \nQ 422 1150 422 2328 \nQ 422 3509 836 4129 \nQ 1250 4750 2034 4750 \nz\n\" transform=\"scale(0.015625)\"/>\n       </defs>\n       <use xlink:href=\"#DejaVuSans-30\"/>\n      </g>\n     </g>\n    </g>\n    <g id=\"xtick_2\">\n     <g id=\"line2d_2\">\n      <g>\n       <use xlink:href=\"#m052132adc8\" x=\"112.027125\" y=\"288.430125\" style=\"stroke: #000000; stroke-width: 0.8\"/>\n      </g>\n     </g>\n     <g id=\"text_2\">\n      <!-- 20 -->\n      <g transform=\"translate(105.664625 303.028562) scale(0.1 -0.1)\">\n       <defs>\n        <path id=\"DejaVuSans-32\" d=\"M 1228 531 \nL 3431 531 \nL 3431 0 \nL 469 0 \nL 469 531 \nQ 828 903 1448 1529 \nQ 2069 2156 2228 2338 \nQ 2531 2678 2651 2914 \nQ 2772 3150 2772 3378 \nQ 2772 3750 2511 3984 \nQ 2250 4219 1831 4219 \nQ 1534 4219 1204 4116 \nQ 875 4013 500 3803 \nL 500 4441 \nQ 881 4594 1212 4672 \nQ 1544 4750 1819 4750 \nQ 2544 4750 2975 4387 \nQ 3406 4025 3406 3419 \nQ 3406 3131 3298 2873 \nQ 3191 2616 2906 2266 \nQ 2828 2175 2409 1742 \nQ 1991 1309 1228 531 \nz\n\" transform=\"scale(0.015625)\"/>\n       </defs>\n       <use xlink:href=\"#DejaVuSans-32\"/>\n       <use xlink:href=\"#DejaVuSans-30\" x=\"63.623047\"/>\n      </g>\n     </g>\n    </g>\n    <g id=\"xtick_3\">\n     <g id=\"line2d_3\">\n      <g>\n       <use xlink:href=\"#m052132adc8\" x=\"183.451125\" y=\"288.430125\" style=\"stroke: #000000; stroke-width: 0.8\"/>\n      </g>\n     </g>\n     <g id=\"text_3\">\n      <!-- 40 -->\n      <g transform=\"translate(177.088625 303.028562) scale(0.1 -0.1)\">\n       <defs>\n        <path id=\"DejaVuSans-34\" d=\"M 2419 4116 \nL 825 1625 \nL 2419 1625 \nL 2419 4116 \nz\nM 2253 4666 \nL 3047 4666 \nL 3047 1625 \nL 3713 1625 \nL 3713 1100 \nL 3047 1100 \nL 3047 0 \nL 2419 0 \nL 2419 1100 \nL 313 1100 \nL 313 1709 \nL 2253 4666 \nz\n\" transform=\"scale(0.015625)\"/>\n       </defs>\n       <use xlink:href=\"#DejaVuSans-34\"/>\n       <use xlink:href=\"#DejaVuSans-30\" x=\"63.623047\"/>\n      </g>\n     </g>\n    </g>\n    <g id=\"xtick_4\">\n     <g id=\"line2d_4\">\n      <g>\n       <use xlink:href=\"#m052132adc8\" x=\"254.875125\" y=\"288.430125\" style=\"stroke: #000000; stroke-width: 0.8\"/>\n      </g>\n     </g>\n     <g id=\"text_4\">\n      <!-- 60 -->\n      <g transform=\"translate(248.512625 303.028562) scale(0.1 -0.1)\">\n       <defs>\n        <path id=\"DejaVuSans-36\" d=\"M 2113 2584 \nQ 1688 2584 1439 2293 \nQ 1191 2003 1191 1497 \nQ 1191 994 1439 701 \nQ 1688 409 2113 409 \nQ 2538 409 2786 701 \nQ 3034 994 3034 1497 \nQ 3034 2003 2786 2293 \nQ 2538 2584 2113 2584 \nz\nM 3366 4563 \nL 3366 3988 \nQ 3128 4100 2886 4159 \nQ 2644 4219 2406 4219 \nQ 1781 4219 1451 3797 \nQ 1122 3375 1075 2522 \nQ 1259 2794 1537 2939 \nQ 1816 3084 2150 3084 \nQ 2853 3084 3261 2657 \nQ 3669 2231 3669 1497 \nQ 3669 778 3244 343 \nQ 2819 -91 2113 -91 \nQ 1303 -91 875 529 \nQ 447 1150 447 2328 \nQ 447 3434 972 4092 \nQ 1497 4750 2381 4750 \nQ 2619 4750 2861 4703 \nQ 3103 4656 3366 4563 \nz\n\" transform=\"scale(0.015625)\"/>\n       </defs>\n       <use xlink:href=\"#DejaVuSans-36\"/>\n       <use xlink:href=\"#DejaVuSans-30\" x=\"63.623047\"/>\n      </g>\n     </g>\n    </g>\n    <g id=\"xtick_5\">\n     <g id=\"line2d_5\">\n      <g>\n       <use xlink:href=\"#m052132adc8\" x=\"326.299125\" y=\"288.430125\" style=\"stroke: #000000; stroke-width: 0.8\"/>\n      </g>\n     </g>\n     <g id=\"text_5\">\n      <!-- 80 -->\n      <g transform=\"translate(319.936625 303.028562) scale(0.1 -0.1)\">\n       <defs>\n        <path id=\"DejaVuSans-38\" d=\"M 2034 2216 \nQ 1584 2216 1326 1975 \nQ 1069 1734 1069 1313 \nQ 1069 891 1326 650 \nQ 1584 409 2034 409 \nQ 2484 409 2743 651 \nQ 3003 894 3003 1313 \nQ 3003 1734 2745 1975 \nQ 2488 2216 2034 2216 \nz\nM 1403 2484 \nQ 997 2584 770 2862 \nQ 544 3141 544 3541 \nQ 544 4100 942 4425 \nQ 1341 4750 2034 4750 \nQ 2731 4750 3128 4425 \nQ 3525 4100 3525 3541 \nQ 3525 3141 3298 2862 \nQ 3072 2584 2669 2484 \nQ 3125 2378 3379 2068 \nQ 3634 1759 3634 1313 \nQ 3634 634 3220 271 \nQ 2806 -91 2034 -91 \nQ 1263 -91 848 271 \nQ 434 634 434 1313 \nQ 434 1759 690 2068 \nQ 947 2378 1403 2484 \nz\nM 1172 3481 \nQ 1172 3119 1398 2916 \nQ 1625 2713 2034 2713 \nQ 2441 2713 2670 2916 \nQ 2900 3119 2900 3481 \nQ 2900 3844 2670 4047 \nQ 2441 4250 2034 4250 \nQ 1625 4250 1398 4047 \nQ 1172 3844 1172 3481 \nz\n\" transform=\"scale(0.015625)\"/>\n       </defs>\n       <use xlink:href=\"#DejaVuSans-38\"/>\n       <use xlink:href=\"#DejaVuSans-30\" x=\"63.623047\"/>\n      </g>\n     </g>\n    </g>\n    <g id=\"xtick_6\">\n     <g id=\"line2d_6\">\n      <g>\n       <use xlink:href=\"#m052132adc8\" x=\"397.723125\" y=\"288.430125\" style=\"stroke: #000000; stroke-width: 0.8\"/>\n      </g>\n     </g>\n     <g id=\"text_6\">\n      <!-- 100 -->\n      <g transform=\"translate(388.179375 303.028562) scale(0.1 -0.1)\">\n       <defs>\n        <path id=\"DejaVuSans-31\" d=\"M 794 531 \nL 1825 531 \nL 1825 4091 \nL 703 3866 \nL 703 4441 \nL 1819 4666 \nL 2450 4666 \nL 2450 531 \nL 3481 531 \nL 3481 0 \nL 794 0 \nL 794 531 \nz\n\" transform=\"scale(0.015625)\"/>\n       </defs>\n       <use xlink:href=\"#DejaVuSans-31\"/>\n       <use xlink:href=\"#DejaVuSans-30\" x=\"63.623047\"/>\n       <use xlink:href=\"#DejaVuSans-30\" x=\"127.246094\"/>\n      </g>\n     </g>\n    </g>\n    <g id=\"text_7\">\n     <!-- Sampels -->\n     <g transform=\"translate(197.81 316.706687) scale(0.1 -0.1)\">\n      <defs>\n       <path id=\"DejaVuSans-53\" d=\"M 3425 4513 \nL 3425 3897 \nQ 3066 4069 2747 4153 \nQ 2428 4238 2131 4238 \nQ 1616 4238 1336 4038 \nQ 1056 3838 1056 3469 \nQ 1056 3159 1242 3001 \nQ 1428 2844 1947 2747 \nL 2328 2669 \nQ 3034 2534 3370 2195 \nQ 3706 1856 3706 1288 \nQ 3706 609 3251 259 \nQ 2797 -91 1919 -91 \nQ 1588 -91 1214 -16 \nQ 841 59 441 206 \nL 441 856 \nQ 825 641 1194 531 \nQ 1563 422 1919 422 \nQ 2459 422 2753 634 \nQ 3047 847 3047 1241 \nQ 3047 1584 2836 1778 \nQ 2625 1972 2144 2069 \nL 1759 2144 \nQ 1053 2284 737 2584 \nQ 422 2884 422 3419 \nQ 422 4038 858 4394 \nQ 1294 4750 2059 4750 \nQ 2388 4750 2728 4690 \nQ 3069 4631 3425 4513 \nz\n\" transform=\"scale(0.015625)\"/>\n       <path id=\"DejaVuSans-61\" d=\"M 2194 1759 \nQ 1497 1759 1228 1600 \nQ 959 1441 959 1056 \nQ 959 750 1161 570 \nQ 1363 391 1709 391 \nQ 2188 391 2477 730 \nQ 2766 1069 2766 1631 \nL 2766 1759 \nL 2194 1759 \nz\nM 3341 1997 \nL 3341 0 \nL 2766 0 \nL 2766 531 \nQ 2569 213 2275 61 \nQ 1981 -91 1556 -91 \nQ 1019 -91 701 211 \nQ 384 513 384 1019 \nQ 384 1609 779 1909 \nQ 1175 2209 1959 2209 \nL 2766 2209 \nL 2766 2266 \nQ 2766 2663 2505 2880 \nQ 2244 3097 1772 3097 \nQ 1472 3097 1187 3025 \nQ 903 2953 641 2809 \nL 641 3341 \nQ 956 3463 1253 3523 \nQ 1550 3584 1831 3584 \nQ 2591 3584 2966 3190 \nQ 3341 2797 3341 1997 \nz\n\" transform=\"scale(0.015625)\"/>\n       <path id=\"DejaVuSans-6d\" d=\"M 3328 2828 \nQ 3544 3216 3844 3400 \nQ 4144 3584 4550 3584 \nQ 5097 3584 5394 3201 \nQ 5691 2819 5691 2113 \nL 5691 0 \nL 5113 0 \nL 5113 2094 \nQ 5113 2597 4934 2840 \nQ 4756 3084 4391 3084 \nQ 3944 3084 3684 2787 \nQ 3425 2491 3425 1978 \nL 3425 0 \nL 2847 0 \nL 2847 2094 \nQ 2847 2600 2669 2842 \nQ 2491 3084 2119 3084 \nQ 1678 3084 1418 2786 \nQ 1159 2488 1159 1978 \nL 1159 0 \nL 581 0 \nL 581 3500 \nL 1159 3500 \nL 1159 2956 \nQ 1356 3278 1631 3431 \nQ 1906 3584 2284 3584 \nQ 2666 3584 2933 3390 \nQ 3200 3197 3328 2828 \nz\n\" transform=\"scale(0.015625)\"/>\n       <path id=\"DejaVuSans-70\" d=\"M 1159 525 \nL 1159 -1331 \nL 581 -1331 \nL 581 3500 \nL 1159 3500 \nL 1159 2969 \nQ 1341 3281 1617 3432 \nQ 1894 3584 2278 3584 \nQ 2916 3584 3314 3078 \nQ 3713 2572 3713 1747 \nQ 3713 922 3314 415 \nQ 2916 -91 2278 -91 \nQ 1894 -91 1617 61 \nQ 1341 213 1159 525 \nz\nM 3116 1747 \nQ 3116 2381 2855 2742 \nQ 2594 3103 2138 3103 \nQ 1681 3103 1420 2742 \nQ 1159 2381 1159 1747 \nQ 1159 1113 1420 752 \nQ 1681 391 2138 391 \nQ 2594 391 2855 752 \nQ 3116 1113 3116 1747 \nz\n\" transform=\"scale(0.015625)\"/>\n       <path id=\"DejaVuSans-65\" d=\"M 3597 1894 \nL 3597 1613 \nL 953 1613 \nQ 991 1019 1311 708 \nQ 1631 397 2203 397 \nQ 2534 397 2845 478 \nQ 3156 559 3463 722 \nL 3463 178 \nQ 3153 47 2828 -22 \nQ 2503 -91 2169 -91 \nQ 1331 -91 842 396 \nQ 353 884 353 1716 \nQ 353 2575 817 3079 \nQ 1281 3584 2069 3584 \nQ 2775 3584 3186 3129 \nQ 3597 2675 3597 1894 \nz\nM 3022 2063 \nQ 3016 2534 2758 2815 \nQ 2500 3097 2075 3097 \nQ 1594 3097 1305 2825 \nQ 1016 2553 972 2059 \nL 3022 2063 \nz\n\" transform=\"scale(0.015625)\"/>\n       <path id=\"DejaVuSans-6c\" d=\"M 603 4863 \nL 1178 4863 \nL 1178 0 \nL 603 0 \nL 603 4863 \nz\n\" transform=\"scale(0.015625)\"/>\n       <path id=\"DejaVuSans-73\" d=\"M 2834 3397 \nL 2834 2853 \nQ 2591 2978 2328 3040 \nQ 2066 3103 1784 3103 \nQ 1356 3103 1142 2972 \nQ 928 2841 928 2578 \nQ 928 2378 1081 2264 \nQ 1234 2150 1697 2047 \nL 1894 2003 \nQ 2506 1872 2764 1633 \nQ 3022 1394 3022 966 \nQ 3022 478 2636 193 \nQ 2250 -91 1575 -91 \nQ 1294 -91 989 -36 \nQ 684 19 347 128 \nL 347 722 \nQ 666 556 975 473 \nQ 1284 391 1588 391 \nQ 1994 391 2212 530 \nQ 2431 669 2431 922 \nQ 2431 1156 2273 1281 \nQ 2116 1406 1581 1522 \nL 1381 1569 \nQ 847 1681 609 1914 \nQ 372 2147 372 2553 \nQ 372 3047 722 3315 \nQ 1072 3584 1716 3584 \nQ 2034 3584 2315 3537 \nQ 2597 3491 2834 3397 \nz\n\" transform=\"scale(0.015625)\"/>\n      </defs>\n      <use xlink:href=\"#DejaVuSans-53\"/>\n      <use xlink:href=\"#DejaVuSans-61\" x=\"63.476562\"/>\n      <use xlink:href=\"#DejaVuSans-6d\" x=\"124.755859\"/>\n      <use xlink:href=\"#DejaVuSans-70\" x=\"222.167969\"/>\n      <use xlink:href=\"#DejaVuSans-65\" x=\"285.644531\"/>\n      <use xlink:href=\"#DejaVuSans-6c\" x=\"347.167969\"/>\n      <use xlink:href=\"#DejaVuSans-73\" x=\"374.951172\"/>\n     </g>\n    </g>\n   </g>\n   <g id=\"matplotlib.axis_2\">\n    <g id=\"ytick_1\">\n     <g id=\"line2d_7\">\n      <defs>\n       <path id=\"m2f6d1fb16c\" d=\"M 0 0 \nL -3.5 0 \n\" style=\"stroke: #000000; stroke-width: 0.8\"/>\n      </defs>\n      <g>\n       <use xlink:href=\"#m2f6d1fb16c\" x=\"40.603125\" y=\"255.475043\" style=\"stroke: #000000; stroke-width: 0.8\"/>\n      </g>\n     </g>\n     <g id=\"text_8\">\n      <!-- 20 -->\n      <g transform=\"translate(20.878125 259.274262) scale(0.1 -0.1)\">\n       <use xlink:href=\"#DejaVuSans-32\"/>\n       <use xlink:href=\"#DejaVuSans-30\" x=\"63.623047\"/>\n      </g>\n     </g>\n    </g>\n    <g id=\"ytick_2\">\n     <g id=\"line2d_8\">\n      <g>\n       <use xlink:href=\"#m2f6d1fb16c\" x=\"40.603125\" y=\"219.675704\" style=\"stroke: #000000; stroke-width: 0.8\"/>\n      </g>\n     </g>\n     <g id=\"text_9\">\n      <!-- 30 -->\n      <g transform=\"translate(20.878125 223.474923) scale(0.1 -0.1)\">\n       <defs>\n        <path id=\"DejaVuSans-33\" d=\"M 2597 2516 \nQ 3050 2419 3304 2112 \nQ 3559 1806 3559 1356 \nQ 3559 666 3084 287 \nQ 2609 -91 1734 -91 \nQ 1441 -91 1130 -33 \nQ 819 25 488 141 \nL 488 750 \nQ 750 597 1062 519 \nQ 1375 441 1716 441 \nQ 2309 441 2620 675 \nQ 2931 909 2931 1356 \nQ 2931 1769 2642 2001 \nQ 2353 2234 1838 2234 \nL 1294 2234 \nL 1294 2753 \nL 1863 2753 \nQ 2328 2753 2575 2939 \nQ 2822 3125 2822 3475 \nQ 2822 3834 2567 4026 \nQ 2313 4219 1838 4219 \nQ 1578 4219 1281 4162 \nQ 984 4106 628 3988 \nL 628 4550 \nQ 988 4650 1302 4700 \nQ 1616 4750 1894 4750 \nQ 2613 4750 3031 4423 \nQ 3450 4097 3450 3541 \nQ 3450 3153 3228 2886 \nQ 3006 2619 2597 2516 \nz\n\" transform=\"scale(0.015625)\"/>\n       </defs>\n       <use xlink:href=\"#DejaVuSans-33\"/>\n       <use xlink:href=\"#DejaVuSans-30\" x=\"63.623047\"/>\n      </g>\n     </g>\n    </g>\n    <g id=\"ytick_3\">\n     <g id=\"line2d_9\">\n      <g>\n       <use xlink:href=\"#m2f6d1fb16c\" x=\"40.603125\" y=\"183.876365\" style=\"stroke: #000000; stroke-width: 0.8\"/>\n      </g>\n     </g>\n     <g id=\"text_10\">\n      <!-- 40 -->\n      <g transform=\"translate(20.878125 187.675584) scale(0.1 -0.1)\">\n       <use xlink:href=\"#DejaVuSans-34\"/>\n       <use xlink:href=\"#DejaVuSans-30\" x=\"63.623047\"/>\n      </g>\n     </g>\n    </g>\n    <g id=\"ytick_4\">\n     <g id=\"line2d_10\">\n      <g>\n       <use xlink:href=\"#m2f6d1fb16c\" x=\"40.603125\" y=\"148.077026\" style=\"stroke: #000000; stroke-width: 0.8\"/>\n      </g>\n     </g>\n     <g id=\"text_11\">\n      <!-- 50 -->\n      <g transform=\"translate(20.878125 151.876245) scale(0.1 -0.1)\">\n       <defs>\n        <path id=\"DejaVuSans-35\" d=\"M 691 4666 \nL 3169 4666 \nL 3169 4134 \nL 1269 4134 \nL 1269 2991 \nQ 1406 3038 1543 3061 \nQ 1681 3084 1819 3084 \nQ 2600 3084 3056 2656 \nQ 3513 2228 3513 1497 \nQ 3513 744 3044 326 \nQ 2575 -91 1722 -91 \nQ 1428 -91 1123 -41 \nQ 819 9 494 109 \nL 494 744 \nQ 775 591 1075 516 \nQ 1375 441 1709 441 \nQ 2250 441 2565 725 \nQ 2881 1009 2881 1497 \nQ 2881 1984 2565 2268 \nQ 2250 2553 1709 2553 \nQ 1456 2553 1204 2497 \nQ 953 2441 691 2322 \nL 691 4666 \nz\n\" transform=\"scale(0.015625)\"/>\n       </defs>\n       <use xlink:href=\"#DejaVuSans-35\"/>\n       <use xlink:href=\"#DejaVuSans-30\" x=\"63.623047\"/>\n      </g>\n     </g>\n    </g>\n    <g id=\"ytick_5\">\n     <g id=\"line2d_11\">\n      <g>\n       <use xlink:href=\"#m2f6d1fb16c\" x=\"40.603125\" y=\"112.277687\" style=\"stroke: #000000; stroke-width: 0.8\"/>\n      </g>\n     </g>\n     <g id=\"text_12\">\n      <!-- 60 -->\n      <g transform=\"translate(20.878125 116.076906) scale(0.1 -0.1)\">\n       <use xlink:href=\"#DejaVuSans-36\"/>\n       <use xlink:href=\"#DejaVuSans-30\" x=\"63.623047\"/>\n      </g>\n     </g>\n    </g>\n    <g id=\"ytick_6\">\n     <g id=\"line2d_12\">\n      <g>\n       <use xlink:href=\"#m2f6d1fb16c\" x=\"40.603125\" y=\"76.478348\" style=\"stroke: #000000; stroke-width: 0.8\"/>\n      </g>\n     </g>\n     <g id=\"text_13\">\n      <!-- 70 -->\n      <g transform=\"translate(20.878125 80.277567) scale(0.1 -0.1)\">\n       <defs>\n        <path id=\"DejaVuSans-37\" d=\"M 525 4666 \nL 3525 4666 \nL 3525 4397 \nL 1831 0 \nL 1172 0 \nL 2766 4134 \nL 525 4134 \nL 525 4666 \nz\n\" transform=\"scale(0.015625)\"/>\n       </defs>\n       <use xlink:href=\"#DejaVuSans-37\"/>\n       <use xlink:href=\"#DejaVuSans-30\" x=\"63.623047\"/>\n      </g>\n     </g>\n    </g>\n    <g id=\"ytick_7\">\n     <g id=\"line2d_13\">\n      <g>\n       <use xlink:href=\"#m2f6d1fb16c\" x=\"40.603125\" y=\"40.679009\" style=\"stroke: #000000; stroke-width: 0.8\"/>\n      </g>\n     </g>\n     <g id=\"text_14\">\n      <!-- 80 -->\n      <g transform=\"translate(20.878125 44.478228) scale(0.1 -0.1)\">\n       <use xlink:href=\"#DejaVuSans-38\"/>\n       <use xlink:href=\"#DejaVuSans-30\" x=\"63.623047\"/>\n      </g>\n     </g>\n    </g>\n    <g id=\"text_15\">\n     <!-- Strength -->\n     <g transform=\"translate(14.798438 176.999906) rotate(-90) scale(0.1 -0.1)\">\n      <defs>\n       <path id=\"DejaVuSans-74\" d=\"M 1172 4494 \nL 1172 3500 \nL 2356 3500 \nL 2356 3053 \nL 1172 3053 \nL 1172 1153 \nQ 1172 725 1289 603 \nQ 1406 481 1766 481 \nL 2356 481 \nL 2356 0 \nL 1766 0 \nQ 1100 0 847 248 \nQ 594 497 594 1153 \nL 594 3053 \nL 172 3053 \nL 172 3500 \nL 594 3500 \nL 594 4494 \nL 1172 4494 \nz\n\" transform=\"scale(0.015625)\"/>\n       <path id=\"DejaVuSans-72\" d=\"M 2631 2963 \nQ 2534 3019 2420 3045 \nQ 2306 3072 2169 3072 \nQ 1681 3072 1420 2755 \nQ 1159 2438 1159 1844 \nL 1159 0 \nL 581 0 \nL 581 3500 \nL 1159 3500 \nL 1159 2956 \nQ 1341 3275 1631 3429 \nQ 1922 3584 2338 3584 \nQ 2397 3584 2469 3576 \nQ 2541 3569 2628 3553 \nL 2631 2963 \nz\n\" transform=\"scale(0.015625)\"/>\n       <path id=\"DejaVuSans-6e\" d=\"M 3513 2113 \nL 3513 0 \nL 2938 0 \nL 2938 2094 \nQ 2938 2591 2744 2837 \nQ 2550 3084 2163 3084 \nQ 1697 3084 1428 2787 \nQ 1159 2491 1159 1978 \nL 1159 0 \nL 581 0 \nL 581 3500 \nL 1159 3500 \nL 1159 2956 \nQ 1366 3272 1645 3428 \nQ 1925 3584 2291 3584 \nQ 2894 3584 3203 3211 \nQ 3513 2838 3513 2113 \nz\n\" transform=\"scale(0.015625)\"/>\n       <path id=\"DejaVuSans-67\" d=\"M 2906 1791 \nQ 2906 2416 2648 2759 \nQ 2391 3103 1925 3103 \nQ 1463 3103 1205 2759 \nQ 947 2416 947 1791 \nQ 947 1169 1205 825 \nQ 1463 481 1925 481 \nQ 2391 481 2648 825 \nQ 2906 1169 2906 1791 \nz\nM 3481 434 \nQ 3481 -459 3084 -895 \nQ 2688 -1331 1869 -1331 \nQ 1566 -1331 1297 -1286 \nQ 1028 -1241 775 -1147 \nL 775 -588 \nQ 1028 -725 1275 -790 \nQ 1522 -856 1778 -856 \nQ 2344 -856 2625 -561 \nQ 2906 -266 2906 331 \nL 2906 616 \nQ 2728 306 2450 153 \nQ 2172 0 1784 0 \nQ 1141 0 747 490 \nQ 353 981 353 1791 \nQ 353 2603 747 3093 \nQ 1141 3584 1784 3584 \nQ 2172 3584 2450 3431 \nQ 2728 3278 2906 2969 \nL 2906 3500 \nL 3481 3500 \nL 3481 434 \nz\n\" transform=\"scale(0.015625)\"/>\n       <path id=\"DejaVuSans-68\" d=\"M 3513 2113 \nL 3513 0 \nL 2938 0 \nL 2938 2094 \nQ 2938 2591 2744 2837 \nQ 2550 3084 2163 3084 \nQ 1697 3084 1428 2787 \nQ 1159 2491 1159 1978 \nL 1159 0 \nL 581 0 \nL 581 4863 \nL 1159 4863 \nL 1159 2956 \nQ 1366 3272 1645 3428 \nQ 1925 3584 2291 3584 \nQ 2894 3584 3203 3211 \nQ 3513 2838 3513 2113 \nz\n\" transform=\"scale(0.015625)\"/>\n      </defs>\n      <use xlink:href=\"#DejaVuSans-53\"/>\n      <use xlink:href=\"#DejaVuSans-74\" x=\"63.476562\"/>\n      <use xlink:href=\"#DejaVuSans-72\" x=\"102.685547\"/>\n      <use xlink:href=\"#DejaVuSans-65\" x=\"141.548828\"/>\n      <use xlink:href=\"#DejaVuSans-6e\" x=\"203.072266\"/>\n      <use xlink:href=\"#DejaVuSans-67\" x=\"266.451172\"/>\n      <use xlink:href=\"#DejaVuSans-74\" x=\"329.927734\"/>\n      <use xlink:href=\"#DejaVuSans-68\" x=\"369.136719\"/>\n     </g>\n    </g>\n   </g>\n   <g id=\"line2d_14\">\n    <path d=\"M 40.603125 161.573377 \nL 44.174325 180.547027 \nL 47.745525 122.265703 \nL 51.316725 90.440091 \nL 54.887925 183.661569 \nL 58.459125 139.413586 \nL 62.030325 128.38739 \n\" clip-path=\"url(#p28e9bd9e64)\" style=\"fill: none; stroke: #1f77b4; stroke-width: 1.5; stroke-linecap: square\"/>\n   </g>\n   <g id=\"line2d_15\">\n    <path d=\"M 40.603125 257.623004 \nL 44.174325 245.53476 \nL 47.745525 214.592198 \nL 51.316725 180.117435 \nL 54.887925 227.539626 \nL 58.459125 198.2319 \nL 62.030325 179.258251 \nL 65.601525 220.833216 \nL 69.172725 246.393944 \nL 72.743925 261.489332 \nL 76.315125 160.153337 \nL 79.886325 160.153337 \nL 83.457525 214.592198 \nL 87.028725 214.592198 \nL 90.599925 181.274947 \nL 94.171125 265.355661 \nL 97.742325 268.84013 \nL 104.884725 205.021842 \nL 108.455925 198.935954 \nL 112.027125 199.055285 \nL 115.598325 276.334125 \nL 119.169525 200.582724 \nL 122.740725 246.596807 \nL 126.311925 181.274947 \nL 129.883125 261.584797 \nL 133.454325 261.584797 \nL 137.025525 211.561188 \nL 140.596725 150.04599 \nL 144.167925 146.430257 \nL 147.739125 137.671352 \nL 151.310325 156.131878 \nL 154.881525 196.095873 \nL 158.452725 208.231849 \nL 162.023925 264.090751 \nL 165.595125 209.114899 \nL 169.166325 264.090751 \nL 172.737525 250.379604 \nL 176.308725 203.303473 \nL 179.879925 203.303473 \nL 183.451125 234.317634 \nL 187.022325 234.317634 \nL 190.593525 155.606821 \nL 194.164725 164.138997 \nL 197.735925 173.85255 \nL 201.307125 143.900437 \nL 204.878325 182.36086 \nL 208.449525 198.243833 \nL 212.020725 209.46096 \nL 215.591925 205.833293 \nL 219.163125 249.305624 \nL 222.734325 253.85214 \nL 226.305525 253.85214 \nL 229.876725 264.997668 \nL 233.447925 245.355764 \nL 237.019125 256.202963 \nL 240.590325 245.355764 \nL 244.161525 241.143375 \nL 247.732725 269.902177 \nL 251.303925 144.676089 \nL 254.875125 152.623542 \nL 258.446325 138.602135 \nL 262.017525 134.855137 \nL 265.588725 248.852166 \nL 269.159925 206.071956 \nL 272.731125 205.009909 \nL 276.302325 203.148343 \nL 279.873525 257.849733 \nL 283.444725 200.582724 \nL 287.015925 261.131339 \nL 290.587125 269.317455 \nL 294.158325 269.317455 \nL 297.729525 242.420218 \nL 301.300725 269.317455 \nL 304.871925 206.179354 \nL 308.443125 249.305624 \nL 312.014325 209.46096 \nL 315.585525 205.833293 \nL 319.156725 228.518141 \nL 322.727925 253.85214 \nL 326.299125 253.85214 \nL 329.870325 260.773346 \nL 333.441525 247.324727 \nL 337.012725 195.916876 \nL 340.583925 195.916876 \nL 344.155125 208.601776 \nL 347.726325 165.165244 \nL 351.297525 208.601776 \nL 354.868725 199.425212 \nL 358.439925 193.816649 \nL 362.011125 190.606641 \nL 365.582325 199.425212 \nL 372.724725 199.425212 \nL 376.295925 190.606641 \nL 379.867125 193.816649 \nL 383.438325 173.85255 \nL 387.009525 155.618754 \nL 390.580725 155.618754 \nL 394.151925 143.900437 \nL 397.723125 173.85255 \nL 401.294325 143.900437 \nL 404.865525 173.85255 \nL 408.436725 182.36086 \nL 412.007925 173.85255 \nL 415.466875 156.191879 \nL 415.466875 156.191879 \n\" clip-path=\"url(#p28e9bd9e64)\" style=\"fill: none; stroke: #ff7f0e; stroke-width: 1.5; stroke-linecap: square\"/>\n   </g>\n   <g id=\"patch_3\">\n    <path d=\"M 40.603125 288.430125 \nL 40.603125 22.318125 \n\" style=\"fill: none; stroke: #000000; stroke-width: 0.8; stroke-linejoin: miter; stroke-linecap: square\"/>\n   </g>\n   <g id=\"patch_4\">\n    <path d=\"M 397.723125 288.430125 \nL 397.723125 22.318125 \n\" style=\"fill: none; stroke: #000000; stroke-width: 0.8; stroke-linejoin: miter; stroke-linecap: square\"/>\n   </g>\n   <g id=\"patch_5\">\n    <path d=\"M 40.603125 288.430125 \nL 397.723125 288.430125 \n\" style=\"fill: none; stroke: #000000; stroke-width: 0.8; stroke-linejoin: miter; stroke-linecap: square\"/>\n   </g>\n   <g id=\"patch_6\">\n    <path d=\"M 40.603125 22.318125 \nL 397.723125 22.318125 \n\" style=\"fill: none; stroke: #000000; stroke-width: 0.8; stroke-linejoin: miter; stroke-linecap: square\"/>\n   </g>\n   <g id=\"text_16\">\n    <!-- TwoStageTrAdaBoostR2 with MSE: 122.31511587301588 -->\n    <g transform=\"translate(48.864375 16.318125) scale(0.12 -0.12)\">\n     <defs>\n      <path id=\"DejaVuSans-54\" d=\"M -19 4666 \nL 3928 4666 \nL 3928 4134 \nL 2272 4134 \nL 2272 0 \nL 1638 0 \nL 1638 4134 \nL -19 4134 \nL -19 4666 \nz\n\" transform=\"scale(0.015625)\"/>\n      <path id=\"DejaVuSans-77\" d=\"M 269 3500 \nL 844 3500 \nL 1563 769 \nL 2278 3500 \nL 2956 3500 \nL 3675 769 \nL 4391 3500 \nL 4966 3500 \nL 4050 0 \nL 3372 0 \nL 2619 2869 \nL 1863 0 \nL 1184 0 \nL 269 3500 \nz\n\" transform=\"scale(0.015625)\"/>\n      <path id=\"DejaVuSans-6f\" d=\"M 1959 3097 \nQ 1497 3097 1228 2736 \nQ 959 2375 959 1747 \nQ 959 1119 1226 758 \nQ 1494 397 1959 397 \nQ 2419 397 2687 759 \nQ 2956 1122 2956 1747 \nQ 2956 2369 2687 2733 \nQ 2419 3097 1959 3097 \nz\nM 1959 3584 \nQ 2709 3584 3137 3096 \nQ 3566 2609 3566 1747 \nQ 3566 888 3137 398 \nQ 2709 -91 1959 -91 \nQ 1206 -91 779 398 \nQ 353 888 353 1747 \nQ 353 2609 779 3096 \nQ 1206 3584 1959 3584 \nz\n\" transform=\"scale(0.015625)\"/>\n      <path id=\"DejaVuSans-41\" d=\"M 2188 4044 \nL 1331 1722 \nL 3047 1722 \nL 2188 4044 \nz\nM 1831 4666 \nL 2547 4666 \nL 4325 0 \nL 3669 0 \nL 3244 1197 \nL 1141 1197 \nL 716 0 \nL 50 0 \nL 1831 4666 \nz\n\" transform=\"scale(0.015625)\"/>\n      <path id=\"DejaVuSans-64\" d=\"M 2906 2969 \nL 2906 4863 \nL 3481 4863 \nL 3481 0 \nL 2906 0 \nL 2906 525 \nQ 2725 213 2448 61 \nQ 2172 -91 1784 -91 \nQ 1150 -91 751 415 \nQ 353 922 353 1747 \nQ 353 2572 751 3078 \nQ 1150 3584 1784 3584 \nQ 2172 3584 2448 3432 \nQ 2725 3281 2906 2969 \nz\nM 947 1747 \nQ 947 1113 1208 752 \nQ 1469 391 1925 391 \nQ 2381 391 2643 752 \nQ 2906 1113 2906 1747 \nQ 2906 2381 2643 2742 \nQ 2381 3103 1925 3103 \nQ 1469 3103 1208 2742 \nQ 947 2381 947 1747 \nz\n\" transform=\"scale(0.015625)\"/>\n      <path id=\"DejaVuSans-42\" d=\"M 1259 2228 \nL 1259 519 \nL 2272 519 \nQ 2781 519 3026 730 \nQ 3272 941 3272 1375 \nQ 3272 1813 3026 2020 \nQ 2781 2228 2272 2228 \nL 1259 2228 \nz\nM 1259 4147 \nL 1259 2741 \nL 2194 2741 \nQ 2656 2741 2882 2914 \nQ 3109 3088 3109 3444 \nQ 3109 3797 2882 3972 \nQ 2656 4147 2194 4147 \nL 1259 4147 \nz\nM 628 4666 \nL 2241 4666 \nQ 2963 4666 3353 4366 \nQ 3744 4066 3744 3513 \nQ 3744 3084 3544 2831 \nQ 3344 2578 2956 2516 \nQ 3422 2416 3680 2098 \nQ 3938 1781 3938 1306 \nQ 3938 681 3513 340 \nQ 3088 0 2303 0 \nL 628 0 \nL 628 4666 \nz\n\" transform=\"scale(0.015625)\"/>\n      <path id=\"DejaVuSans-52\" d=\"M 2841 2188 \nQ 3044 2119 3236 1894 \nQ 3428 1669 3622 1275 \nL 4263 0 \nL 3584 0 \nL 2988 1197 \nQ 2756 1666 2539 1819 \nQ 2322 1972 1947 1972 \nL 1259 1972 \nL 1259 0 \nL 628 0 \nL 628 4666 \nL 2053 4666 \nQ 2853 4666 3247 4331 \nQ 3641 3997 3641 3322 \nQ 3641 2881 3436 2590 \nQ 3231 2300 2841 2188 \nz\nM 1259 4147 \nL 1259 2491 \nL 2053 2491 \nQ 2509 2491 2742 2702 \nQ 2975 2913 2975 3322 \nQ 2975 3731 2742 3939 \nQ 2509 4147 2053 4147 \nL 1259 4147 \nz\n\" transform=\"scale(0.015625)\"/>\n      <path id=\"DejaVuSans-20\" transform=\"scale(0.015625)\"/>\n      <path id=\"DejaVuSans-69\" d=\"M 603 3500 \nL 1178 3500 \nL 1178 0 \nL 603 0 \nL 603 3500 \nz\nM 603 4863 \nL 1178 4863 \nL 1178 4134 \nL 603 4134 \nL 603 4863 \nz\n\" transform=\"scale(0.015625)\"/>\n      <path id=\"DejaVuSans-4d\" d=\"M 628 4666 \nL 1569 4666 \nL 2759 1491 \nL 3956 4666 \nL 4897 4666 \nL 4897 0 \nL 4281 0 \nL 4281 4097 \nL 3078 897 \nL 2444 897 \nL 1241 4097 \nL 1241 0 \nL 628 0 \nL 628 4666 \nz\n\" transform=\"scale(0.015625)\"/>\n      <path id=\"DejaVuSans-45\" d=\"M 628 4666 \nL 3578 4666 \nL 3578 4134 \nL 1259 4134 \nL 1259 2753 \nL 3481 2753 \nL 3481 2222 \nL 1259 2222 \nL 1259 531 \nL 3634 531 \nL 3634 0 \nL 628 0 \nL 628 4666 \nz\n\" transform=\"scale(0.015625)\"/>\n      <path id=\"DejaVuSans-3a\" d=\"M 750 794 \nL 1409 794 \nL 1409 0 \nL 750 0 \nL 750 794 \nz\nM 750 3309 \nL 1409 3309 \nL 1409 2516 \nL 750 2516 \nL 750 3309 \nz\n\" transform=\"scale(0.015625)\"/>\n      <path id=\"DejaVuSans-2e\" d=\"M 684 794 \nL 1344 794 \nL 1344 0 \nL 684 0 \nL 684 794 \nz\n\" transform=\"scale(0.015625)\"/>\n     </defs>\n     <use xlink:href=\"#DejaVuSans-54\"/>\n     <use xlink:href=\"#DejaVuSans-77\" x=\"44.583984\"/>\n     <use xlink:href=\"#DejaVuSans-6f\" x=\"126.371094\"/>\n     <use xlink:href=\"#DejaVuSans-53\" x=\"187.552734\"/>\n     <use xlink:href=\"#DejaVuSans-74\" x=\"251.029297\"/>\n     <use xlink:href=\"#DejaVuSans-61\" x=\"290.238281\"/>\n     <use xlink:href=\"#DejaVuSans-67\" x=\"351.517578\"/>\n     <use xlink:href=\"#DejaVuSans-65\" x=\"414.994141\"/>\n     <use xlink:href=\"#DejaVuSans-54\" x=\"476.517578\"/>\n     <use xlink:href=\"#DejaVuSans-72\" x=\"522.851562\"/>\n     <use xlink:href=\"#DejaVuSans-41\" x=\"563.964844\"/>\n     <use xlink:href=\"#DejaVuSans-64\" x=\"630.623047\"/>\n     <use xlink:href=\"#DejaVuSans-61\" x=\"694.099609\"/>\n     <use xlink:href=\"#DejaVuSans-42\" x=\"755.378906\"/>\n     <use xlink:href=\"#DejaVuSans-6f\" x=\"823.982422\"/>\n     <use xlink:href=\"#DejaVuSans-6f\" x=\"885.164062\"/>\n     <use xlink:href=\"#DejaVuSans-73\" x=\"946.345703\"/>\n     <use xlink:href=\"#DejaVuSans-74\" x=\"998.445312\"/>\n     <use xlink:href=\"#DejaVuSans-52\" x=\"1037.654297\"/>\n     <use xlink:href=\"#DejaVuSans-32\" x=\"1107.136719\"/>\n     <use xlink:href=\"#DejaVuSans-20\" x=\"1170.759766\"/>\n     <use xlink:href=\"#DejaVuSans-77\" x=\"1202.546875\"/>\n     <use xlink:href=\"#DejaVuSans-69\" x=\"1284.333984\"/>\n     <use xlink:href=\"#DejaVuSans-74\" x=\"1312.117188\"/>\n     <use xlink:href=\"#DejaVuSans-68\" x=\"1351.326172\"/>\n     <use xlink:href=\"#DejaVuSans-20\" x=\"1414.705078\"/>\n     <use xlink:href=\"#DejaVuSans-4d\" x=\"1446.492188\"/>\n     <use xlink:href=\"#DejaVuSans-53\" x=\"1532.771484\"/>\n     <use xlink:href=\"#DejaVuSans-45\" x=\"1596.248047\"/>\n     <use xlink:href=\"#DejaVuSans-3a\" x=\"1659.431641\"/>\n     <use xlink:href=\"#DejaVuSans-20\" x=\"1693.123047\"/>\n     <use xlink:href=\"#DejaVuSans-31\" x=\"1724.910156\"/>\n     <use xlink:href=\"#DejaVuSans-32\" x=\"1788.533203\"/>\n     <use xlink:href=\"#DejaVuSans-32\" x=\"1852.15625\"/>\n     <use xlink:href=\"#DejaVuSans-2e\" x=\"1915.779297\"/>\n     <use xlink:href=\"#DejaVuSans-33\" x=\"1947.566406\"/>\n     <use xlink:href=\"#DejaVuSans-31\" x=\"2011.189453\"/>\n     <use xlink:href=\"#DejaVuSans-35\" x=\"2074.8125\"/>\n     <use xlink:href=\"#DejaVuSans-31\" x=\"2138.435547\"/>\n     <use xlink:href=\"#DejaVuSans-31\" x=\"2202.058594\"/>\n     <use xlink:href=\"#DejaVuSans-35\" x=\"2265.681641\"/>\n     <use xlink:href=\"#DejaVuSans-38\" x=\"2329.304688\"/>\n     <use xlink:href=\"#DejaVuSans-37\" x=\"2392.927734\"/>\n     <use xlink:href=\"#DejaVuSans-33\" x=\"2456.550781\"/>\n     <use xlink:href=\"#DejaVuSans-30\" x=\"2520.173828\"/>\n     <use xlink:href=\"#DejaVuSans-31\" x=\"2583.796875\"/>\n     <use xlink:href=\"#DejaVuSans-35\" x=\"2647.419922\"/>\n     <use xlink:href=\"#DejaVuSans-38\" x=\"2711.042969\"/>\n     <use xlink:href=\"#DejaVuSans-38\" x=\"2774.666016\"/>\n    </g>\n   </g>\n  </g>\n </g>\n <defs>\n  <clipPath id=\"p28e9bd9e64\">\n   <rect x=\"40.603125\" y=\"22.318125\" width=\"357.12\" height=\"266.112\"/>\n  </clipPath>\n </defs>\n</svg>\n",
      "text/plain": "<Figure size 640x480 with 1 Axes>"
     },
     "metadata": {},
     "output_type": "display_data"
    },
    {
     "name": "stdout",
     "output_type": "stream",
     "text": "MSE Transfer Testdata:  122.31511587301588\nMSE Transfer Validationdata:  253.63605569938875\n"
    }
   ],
   "source": [
    "from TL_Regression_Methods.TwoStageTrAdaBoostR2 import TwoStageTrAdaBoostR2\n",
    "from sklearn.tree import DecisionTreeRegressor\n",
    "from sklearn.ensemble import AdaBoostRegressor\n",
    "from sklearn.metrics import mean_squared_error\n",
    "from sklearn.model_selection import train_test_split\n",
    "\n",
    "results_transfer = []\n",
    "results_transfer_val = []\n",
    "\n",
    "# Train Test Split\n",
    "df_train, df_test= train_test_split(df_tar[:25], random_state=0)\n",
    "\n",
    "# source\n",
    "n_source1 = len(df_src)\n",
    "x_source1 = df_src.iloc[:,:-1]\n",
    "y_source1 = df_src.iloc[:,-1]\n",
    "\n",
    "# target_train\n",
    "n_target_train = len(df_train)\n",
    "x_target_train = df_train.iloc[:,:-1]\n",
    "y_target_train = df_train.iloc[:,-1]\n",
    "\n",
    "# target_test\n",
    "n_target_test = len(df_test)\n",
    "x_target_test = df_test.iloc[:,:-1]\n",
    "y_target_test = df_test.iloc[:,-1]\n",
    "\n",
    "print(len(df_src),len(df_train),len(df_test))\n",
    "\n",
    "for i in range(1, 2):\n",
    "    # 4. transfer learning regressiong for the target_train data\n",
    "    # 4.1 data combination and initial setting specification\n",
    "    X = np.concatenate((x_source1, x_target_train))\n",
    "    y = np.concatenate((y_source1, y_target_train))\n",
    "    sample_size = [n_source1, n_target_train]\n",
    "\n",
    "    n_estimators = 80\n",
    "    steps = 10\n",
    "    fold = 5\n",
    "    random_state = np.random.RandomState(1)\n",
    "\n",
    "    regr_1 = TwoStageTrAdaBoostR2(KNeighborsRegressor(n_neighbors=3),\n",
    "                        n_estimators = n_estimators, sample_size = sample_size, \n",
    "                        steps = steps, fold = fold, \n",
    "                        random_state = random_state)\n",
    "    regr_1.fit(X, y)\n",
    "    y_pre_twostageboost = regr_1.predict(x_target_test)\n",
    "    mse_twostageboost = mean_squared_error(y_target_test, y_pre_twostageboost) \n",
    "\n",
    "    results_transfer.append(mse_twostageboost)\n",
    "\n",
    "    y_pre_twostageboost = regr_1.predict(Xt[25:])\n",
    "    mse_ridge_val = sklearn.metrics.mean_squared_error(Yt[25:], y_pre_twostageboost)\n",
    "    results_transfer_val.append(mse_ridge_val)\n",
    "\n",
    "plt.plot(y_target_test.reset_index(drop=True))\n",
    "plt.plot(y_pre_twostageboost)\n",
    "plt.xlim(0, 100)\n",
    "plt.title('TwoStageTrAdaBoostR2 with MSE: '+ str(mse_twostageboost))\n",
    "plt.xlabel('Sampels')\n",
    "plt.ylabel('Strength')\n",
    "plt.show()\n",
    "\n",
    "print(\"MSE Transfer Testdata: \", np.mean(results_transfer))\n",
    "print(\"MSE Transfer Validationdata: \", np.mean(results_transfer_val))"
   ]
  },
  {
   "cell_type": "markdown",
   "metadata": {},
   "source": [
    "# Baselines"
   ]
  },
  {
   "cell_type": "markdown",
   "execution_count": null,
   "metadata": {},
   "outputs": [],
   "source": [
    "## Baseline DecisionTreeRegressor"
   ]
  },
  {
   "cell_type": "code",
   "execution_count": 38,
   "metadata": {},
   "outputs": [
    {
     "name": "stdout",
     "output_type": "stream",
     "text": "MSE Baseline Testdata:  8.766784170854269\nMSE Baseline Validationdata:  230.44358653014268\n"
    }
   ],
   "source": [
    "import sklearn\n",
    "from sklearn.tree import DecisionTreeRegressor\n",
    "from sklearn.model_selection import train_test_split\n",
    "\n",
    "results_transfer = []\n",
    "results_transfer_val = []\n",
    "\n",
    "# Train Test Split\n",
    "X_train, X_test, y_train, y_test= train_test_split(Xt[:25], Yt[:25], random_state=0)\n",
    "\n",
    "for i in range(1, 200):\n",
    "    clf = DecisionTreeRegressor(max_depth=5)\n",
    "    clf.fit(X_train, y_train)\n",
    "    y_pre_ridge = clf.predict(X_test)\n",
    "    mse_ridge = sklearn.metrics.mean_squared_error(y_test, y_pre_ridge)\n",
    "    results_transfer.append(mse_ridge)\n",
    "\n",
    "    y_pre_ridge = clf.predict(Xt[25:])\n",
    "    mse_ridge_val = sklearn.metrics.mean_squared_error(Yt[25:], y_pre_ridge)\n",
    "    results_transfer_val.append(mse_ridge_val)\n",
    "\n",
    "'''plt.plot(y_test.reset_index(drop=True))\n",
    "plt.plot(y_pre_ridge)\n",
    "plt.xlim(0, len(y_target_test))\n",
    "plt.title('Decision Tree Regressor with MSE: '+ str(mse_ridge))\n",
    "plt.xlabel('Sampels')\n",
    "plt.ylabel('Strength')\n",
    "plt.show()'''\n",
    "\n",
    "print(\"MSE Baseline Testdata: \", np.mean(results_transfer))\n",
    "print(\"MSE Baseline Validationdata: \", np.mean(results_transfer_val))"
   ]
  },
  {
   "cell_type": "markdown",
   "execution_count": null,
   "metadata": {},
   "outputs": [],
   "source": [
    "## Baseline KNeighborsRegressor "
   ]
  },
  {
   "cell_type": "code",
   "execution_count": 121,
   "metadata": {},
   "outputs": [
    {
     "name": "stdout",
     "output_type": "stream",
     "text": "MSE Baseline Testdata:  179.20678571428567\nMSE Baseline Validationdata:  334.6286577849695\n"
    }
   ],
   "source": [
    "from sklearn.neighbors import KNeighborsRegressor\n",
    "from sklearn.model_selection import train_test_split\n",
    "\n",
    "results_transfer = []\n",
    "results_transfer_val = []\n",
    "\n",
    "# Train Test Split\n",
    "X_train, X_test, y_train, y_test= train_test_split(Xt[:25], Yt[:25], random_state=0)\n",
    "\n",
    "for i in range(1, 200):\n",
    "    clf = KNeighborsRegressor(n_neighbors=3)\n",
    "    clf.fit(X_train, y_train)\n",
    "    y_pre_ridge = clf.predict(X_test)\n",
    "    mse_knr = sklearn.metrics.mean_squared_error(y_test, y_pre_ridge)\n",
    "\n",
    "    results_transfer.append(mse_knr)\n",
    "\n",
    "    y_pre_ridge = clf.predict(Xt[25:])\n",
    "    mse_ridge_val = sklearn.metrics.mean_squared_error(Yt[25:], y_pre_ridge)\n",
    "    results_transfer_val.append(mse_ridge_val)\n",
    "\n",
    "'''plt.plot(y_test.reset_index(drop=True))\n",
    "plt.plot(y_pre_ridge)\n",
    "plt.xlim(0, len(y_test))\n",
    "plt.title('KNeighborsRegressor: '+ str(mse_knr))\n",
    "plt.xlabel('Sampels')\n",
    "plt.ylabel('Strength')\n",
    "plt.show()\n",
    "\n",
    "print(X_train.shape, X_test.shape, y_train.shape, y_test.shape)'''\n",
    "\n",
    "print(\"MSE Baseline Testdata: \", np.mean(results_transfer))\n",
    "print(\"MSE Baseline Validationdata: \", np.mean(results_transfer_val))"
   ]
  },
  {
   "cell_type": "markdown",
   "execution_count": null,
   "metadata": {},
   "outputs": [],
   "source": [
    "## Baseline SVR"
   ]
  },
  {
   "cell_type": "code",
   "execution_count": 72,
   "metadata": {},
   "outputs": [
    {
     "name": "stdout",
     "output_type": "stream",
     "text": "MSE Baseline Testdata:  1786.1158838418248\nMSE Baseline Validationdata:  2286.4154369008415\n"
    }
   ],
   "source": [
    "from sklearn.svm import SVR\n",
    "\n",
    "results_transfer = []\n",
    "results_transfer_val = []\n",
    "\n",
    "# Train Test Split\n",
    "X_train, X_test, y_train, y_test= train_test_split(Xt[:25], Yt[:25], random_state=0)\n",
    "\n",
    "for i in range(1, 200):\n",
    "    clf = SVR(kernel=\"linear\")\n",
    "    clf.fit(X_train, y_train)\n",
    "    y_pre_ridge = clf.predict(X_test)\n",
    "    mse_knr = sklearn.metrics.mean_squared_error(y_test, y_pre_ridge)\n",
    "\n",
    "    results_transfer.append(mse_knr)\n",
    "\n",
    "    y_pre_ridge = clf.predict(Xt[25:])\n",
    "    mse_ridge_val = sklearn.metrics.mean_squared_error(Yt[25:], y_pre_ridge)\n",
    "    results_transfer_val.append(mse_ridge_val)\n",
    "\n",
    "'''plt.plot(y_test.reset_index(drop=True))\n",
    "plt.plot(y_pre_ridge)\n",
    "plt.xlim(0, len(y_test))\n",
    "plt.title('KNeighborsRegressor: '+ str(mse_knr))\n",
    "plt.xlabel('Sampels')\n",
    "plt.ylabel('Strength')\n",
    "plt.show()\n",
    "\n",
    "print(X_train.shape, X_test.shape, y_train.shape, y_test.shape)'''\n",
    "\n",
    "print(\"MSE Baseline Testdata: \", np.mean(results_transfer))\n",
    "print(\"MSE Baseline Validationdata: \", np.mean(results_transfer_val))\n"
   ]
  },
  {
   "cell_type": "markdown",
   "metadata": {},
   "source": [
    "## Baseline Lasso"
   ]
  },
  {
   "cell_type": "code",
   "execution_count": 70,
   "metadata": {},
   "outputs": [
    {
     "name": "stdout",
     "output_type": "stream",
     "text": "MSE Baseline Testdata:  57.24992342366318\nMSE Baseline Validationdata:  127.90061788586358\n"
    }
   ],
   "source": [
    "from sklearn import linear_model\n",
    "from sklearn.model_selection import train_test_split\n",
    "\n",
    "results_transfer = []\n",
    "results_transfer_val = []\n",
    "\n",
    "# Train Test Split\n",
    "X_train, X_test, y_train, y_test= train_test_split(Xt[:25], Yt[:25], random_state=0)\n",
    "\n",
    "for i in range(1, 200):\n",
    "    clf = linear_model.Lasso(alpha=15)\n",
    "    clf.fit(X_train, y_train)\n",
    "    y_pre_ridge = clf.predict(X_test)\n",
    "    mse_ridge = sklearn.metrics.mean_squared_error(y_test, y_pre_ridge)\n",
    "    results_transfer.append(mse_ridge)\n",
    "\n",
    "    y_pre_ridge = clf.predict(Xt[25:])\n",
    "    mse_ridge_val = sklearn.metrics.mean_squared_error(Yt[25:], y_pre_ridge)\n",
    "    results_transfer_val.append(mse_ridge_val)\n",
    "\n",
    "'''plt.plot(y_test.reset_index(drop=True))\n",
    "plt.plot(y_pre_ridge)\n",
    "plt.xlim(0, len(y_target_test))\n",
    "plt.title('Decision Tree Regressor with MSE: '+ str(mse_ridge))\n",
    "plt.xlabel('Sampels')\n",
    "plt.ylabel('Strength')\n",
    "plt.show()'''\n",
    "\n",
    "print(\"MSE Baseline Testdata: \", np.mean(results_transfer))\n",
    "print(\"MSE Baseline Validationdata: \", np.mean(results_transfer_val))"
   ]
  },
  {
   "cell_type": "markdown",
   "metadata": {},
   "source": [
    "## Baseline Ridge"
   ]
  },
  {
   "cell_type": "code",
   "execution_count": 71,
   "metadata": {},
   "outputs": [
    {
     "name": "stdout",
     "output_type": "stream",
     "text": "MSE Baseline Testdata:  1894.5156570365539\nMSE Baseline Validationdata:  2387.2123206185565\n"
    }
   ],
   "source": [
    "from sklearn.linear_model import Ridge\n",
    "from sklearn.model_selection import train_test_split\n",
    "\n",
    "results_transfer = []\n",
    "results_transfer_val = []\n",
    "\n",
    "# Train Test Split\n",
    "X_train, X_test, y_train, y_test= train_test_split(Xt[:25], Yt[:25], random_state=0)\n",
    "\n",
    "for i in range(1, 200):\n",
    "    clf = Ridge(alpha=15)\n",
    "    clf.fit(X_train, y_train)\n",
    "    y_pre_ridge = clf.predict(X_test)\n",
    "    mse_ridge = sklearn.metrics.mean_squared_error(y_test, y_pre_ridge)\n",
    "    results_transfer.append(mse_ridge)\n",
    "\n",
    "    y_pre_ridge = clf.predict(Xt[25:])\n",
    "    mse_ridge_val = sklearn.metrics.mean_squared_error(Yt[25:], y_pre_ridge)\n",
    "    results_transfer_val.append(mse_ridge_val)\n",
    "\n",
    "'''plt.plot(y_test.reset_index(drop=True))\n",
    "plt.plot(y_pre_ridge)\n",
    "plt.xlim(0, len(y_target_test))\n",
    "plt.title('Decision Tree Regressor with MSE: '+ str(mse_ridge))\n",
    "plt.xlabel('Sampels')\n",
    "plt.ylabel('Strength')\n",
    "plt.show()'''\n",
    "\n",
    "print(\"MSE Baseline Testdata: \", np.mean(results_transfer))\n",
    "print(\"MSE Baseline Validationdata: \", np.mean(results_transfer_val))"
   ]
  }
 ]
}