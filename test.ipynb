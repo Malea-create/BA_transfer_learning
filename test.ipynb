{
 "nbformat": 4,
 "nbformat_minor": 2,
 "metadata": {
  "language_info": {
   "name": "python",
   "codemirror_mode": {
    "name": "ipython",
    "version": 3
   },
   "version": "3.10.9-final"
  },
  "orig_nbformat": 2,
  "file_extension": ".py",
  "mimetype": "text/x-python",
  "name": "python",
  "npconvert_exporter": "python",
  "pygments_lexer": "ipython3",
  "version": 3,
  "kernelspec": {
   "name": "python310964bittransferlearningconda9726b93461e0487db588c58d1bc36ff2",
   "display_name": "Python 3.10.9 64-bit ('transfer-learning': conda)"
  }
 },
 "cells": [
  {
   "cell_type": "code",
   "execution_count": 64,
   "metadata": {},
   "outputs": [],
   "source": [
    "import os\n",
    "import sys\n",
    "import numpy as np \n",
    "import math\n",
    "import matplotlib.pyplot as plt\n",
    "from cvxopt import matrix, solvers"
   ]
  },
  {
   "cell_type": "code",
   "execution_count": 65,
   "metadata": {},
   "outputs": [],
   "source": [
    "# an implementation of Kernel Mean Matchin\n",
    "# referenres:\n",
    "#  1. Gretton, Arthur, et al. \"Covariate shift by kernel mean matching.\" Dataset shift in machine learning 3.4 (2009): 5.\n",
    "#  2. Huang, Jiayuan, et al. \"Correcting sample selection bias by unlabeled data.\" Advances in neural information processing systems. 2006.\n",
    "def kernel_mean_matching(X, Z, kern='lin', B=1.0, eps=None):\n",
    "    nx = X.shape[0]\n",
    "    nz = Z.shape[0]\n",
    "    if eps == None:\n",
    "        eps = B/math.sqrt(nz)\n",
    "    if kern == 'lin':\n",
    "        K = np.dot(Z, Z.T)\n",
    "        kappa = np.sum(np.dot(Z, X.T)*float(nz)/float(nx),axis=1)\n",
    "    elif kern == 'rbf':\n",
    "        K = compute_rbf(Z,Z)\n",
    "        kappa = np.sum(compute_rbf(Z,X),axis=1)*float(nz)/float(nx)\n",
    "    else:\n",
    "        raise ValueError('unknown kernel')\n",
    "        \n",
    "    K = matrix(K)\n",
    "    kappa = matrix(kappa)\n",
    "    G = matrix(np.r_[np.ones((1,nz)), -np.ones((1,nz)), np.eye(nz), -np.eye(nz)])\n",
    "    h = matrix(np.r_[nz*(1+eps), nz*(eps-1), B*np.ones((nz,)), np.zeros((nz,))])\n",
    "    \n",
    "    sol = solvers.qp(K, -kappa, G, h)\n",
    "    coef = np.array(sol['x'])\n",
    "    return coef\n",
    "\n",
    "def compute_rbf(X, Z, sigma=1.0):\n",
    "    K = np.zeros((X.shape[0], Z.shape[0]), dtype=float)\n",
    "    for i, vx in enumerate(X):\n",
    "        K[i,:] = np.exp(-np.sum((vx-Z)**2, axis=1)/(2.0*sigma))\n",
    "    return K"
   ]
  },
  {
   "cell_type": "code",
   "execution_count": 67,
   "metadata": {},
   "outputs": [
    {
     "ename": "ValueError",
     "evalue": "Rank(A) < p or Rank([P; A; G]) < n",
     "output_type": "error",
     "traceback": [
      "\u001b[1;31m---------------------------------------------------------------------------\u001b[0m",
      "\u001b[1;31mArithmeticError\u001b[0m                           Traceback (most recent call last)",
      "File \u001b[1;32m~\\Miniconda3\\envs\\transfer-learning\\lib\\site-packages\\cvxopt\\misc.py:1429\u001b[0m, in \u001b[0;36mkkt_chol2.<locals>.factor\u001b[1;34m(W, H, Df)\u001b[0m\n\u001b[0;32m   1428\u001b[0m \u001b[38;5;28;01mif\u001b[39;00m \u001b[38;5;28mtype\u001b[39m(F[\u001b[38;5;124m'\u001b[39m\u001b[38;5;124mS\u001b[39m\u001b[38;5;124m'\u001b[39m]) \u001b[38;5;129;01mis\u001b[39;00m matrix: \n\u001b[1;32m-> 1429\u001b[0m     \u001b[43mlapack\u001b[49m\u001b[38;5;241;43m.\u001b[39;49m\u001b[43mpotrf\u001b[49m\u001b[43m(\u001b[49m\u001b[43mF\u001b[49m\u001b[43m[\u001b[49m\u001b[38;5;124;43m'\u001b[39;49m\u001b[38;5;124;43mS\u001b[39;49m\u001b[38;5;124;43m'\u001b[39;49m\u001b[43m]\u001b[49m\u001b[43m)\u001b[49m \n\u001b[0;32m   1430\u001b[0m \u001b[38;5;28;01melse\u001b[39;00m:\n",
      "\u001b[1;31mArithmeticError\u001b[0m: 37",
      "\nDuring handling of the above exception, another exception occurred:\n",
      "\u001b[1;31mArithmeticError\u001b[0m                           Traceback (most recent call last)",
      "File \u001b[1;32m~\\Miniconda3\\envs\\transfer-learning\\lib\\site-packages\\cvxopt\\coneprog.py:2065\u001b[0m, in \u001b[0;36mconeqp\u001b[1;34m(P, q, G, h, dims, A, b, initvals, kktsolver, xnewcopy, xdot, xaxpy, xscal, ynewcopy, ydot, yaxpy, yscal, **kwargs)\u001b[0m\n\u001b[0;32m   2064\u001b[0m \u001b[38;5;28;01mfor\u001b[39;00m rti \u001b[38;5;129;01min\u001b[39;00m W[\u001b[38;5;124m'\u001b[39m\u001b[38;5;124mrti\u001b[39m\u001b[38;5;124m'\u001b[39m]: rti[::rti\u001b[38;5;241m.\u001b[39msize[\u001b[38;5;241m0\u001b[39m]\u001b[38;5;241m+\u001b[39m\u001b[38;5;241m1\u001b[39m ] \u001b[38;5;241m=\u001b[39m \u001b[38;5;241m1.0\u001b[39m\n\u001b[1;32m-> 2065\u001b[0m \u001b[38;5;28;01mtry\u001b[39;00m: f \u001b[38;5;241m=\u001b[39m \u001b[43mkktsolver\u001b[49m\u001b[43m(\u001b[49m\u001b[43mW\u001b[49m\u001b[43m)\u001b[49m\n\u001b[0;32m   2066\u001b[0m \u001b[38;5;28;01mexcept\u001b[39;00m \u001b[38;5;167;01mArithmeticError\u001b[39;00m:\n",
      "File \u001b[1;32m~\\Miniconda3\\envs\\transfer-learning\\lib\\site-packages\\cvxopt\\coneprog.py:1981\u001b[0m, in \u001b[0;36mconeqp.<locals>.kktsolver\u001b[1;34m(W)\u001b[0m\n\u001b[0;32m   1980\u001b[0m \u001b[38;5;28;01mdef\u001b[39;00m \u001b[38;5;21mkktsolver\u001b[39m(W):\n\u001b[1;32m-> 1981\u001b[0m     \u001b[38;5;28;01mreturn\u001b[39;00m \u001b[43mfactor\u001b[49m\u001b[43m(\u001b[49m\u001b[43mW\u001b[49m\u001b[43m,\u001b[49m\u001b[43m \u001b[49m\u001b[43mP\u001b[49m\u001b[43m)\u001b[49m\n",
      "File \u001b[1;32m~\\Miniconda3\\envs\\transfer-learning\\lib\\site-packages\\cvxopt\\misc.py:1444\u001b[0m, in \u001b[0;36mkkt_chol2.<locals>.factor\u001b[1;34m(W, H, Df)\u001b[0m\n\u001b[0;32m   1443\u001b[0m \u001b[38;5;28;01mif\u001b[39;00m \u001b[38;5;28mtype\u001b[39m(F[\u001b[38;5;124m'\u001b[39m\u001b[38;5;124mS\u001b[39m\u001b[38;5;124m'\u001b[39m]) \u001b[38;5;129;01mis\u001b[39;00m matrix: \n\u001b[1;32m-> 1444\u001b[0m     \u001b[43mlapack\u001b[49m\u001b[38;5;241;43m.\u001b[39;49m\u001b[43mpotrf\u001b[49m\u001b[43m(\u001b[49m\u001b[43mF\u001b[49m\u001b[43m[\u001b[49m\u001b[38;5;124;43m'\u001b[39;49m\u001b[38;5;124;43mS\u001b[39;49m\u001b[38;5;124;43m'\u001b[39;49m\u001b[43m]\u001b[49m\u001b[43m)\u001b[49m \n\u001b[0;32m   1445\u001b[0m \u001b[38;5;28;01melse\u001b[39;00m:\n",
      "\u001b[1;31mArithmeticError\u001b[0m: 37",
      "\nDuring handling of the above exception, another exception occurred:\n",
      "\u001b[1;31mValueError\u001b[0m                                Traceback (most recent call last)",
      "Cell \u001b[1;32mIn[67], line 9\u001b[0m\n\u001b[0;32m      6\u001b[0m y \u001b[38;5;241m=\u001b[39m x\u001b[38;5;241m*\u001b[39m\u001b[38;5;241m*\u001b[39m\u001b[38;5;241m2\u001b[39m \u001b[38;5;241m+\u001b[39m \u001b[38;5;241m10\u001b[39m\u001b[38;5;241m*\u001b[39mnp\u001b[38;5;241m.\u001b[39mrandom\u001b[38;5;241m.\u001b[39mrandom(\u001b[38;5;241m10\u001b[39m) \u001b[38;5;241m-\u001b[39m \u001b[38;5;241m5\u001b[39m\n\u001b[0;32m      7\u001b[0m X \u001b[38;5;241m=\u001b[39m np\u001b[38;5;241m.\u001b[39mc_[x, y]\n\u001b[1;32m----> 9\u001b[0m coef \u001b[38;5;241m=\u001b[39m \u001b[43mkernel_mean_matching\u001b[49m\u001b[43m(\u001b[49m\u001b[43mX\u001b[49m\u001b[43m,\u001b[49m\u001b[43m \u001b[49m\u001b[43mZ\u001b[49m\u001b[43m,\u001b[49m\u001b[43m \u001b[49m\u001b[43mkern\u001b[49m\u001b[38;5;241;43m=\u001b[39;49m\u001b[38;5;124;43m'\u001b[39;49m\u001b[38;5;124;43mrbf\u001b[39;49m\u001b[38;5;124;43m'\u001b[39;49m\u001b[43m,\u001b[49m\u001b[43m \u001b[49m\u001b[43mB\u001b[49m\u001b[38;5;241;43m=\u001b[39;49m\u001b[38;5;241;43m10\u001b[39;49m\u001b[43m)\u001b[49m\n\u001b[0;32m     11\u001b[0m \u001b[38;5;28mprint\u001b[39m(coef)\n\u001b[0;32m     13\u001b[0m \u001b[38;5;124;03m'''plt.close()\u001b[39;00m\n\u001b[0;32m     14\u001b[0m \u001b[38;5;124;03mplt.figure()\u001b[39;00m\n\u001b[0;32m     15\u001b[0m \u001b[38;5;124;03mplt.scatter(Z[:,0], Z[:,1], color='black', marker='x')\u001b[39;00m\n\u001b[1;32m   (...)\u001b[0m\n\u001b[0;32m     18\u001b[0m \n\u001b[0;32m     19\u001b[0m \u001b[38;5;124;03mnp.sum(coef > 1e-2)'''\u001b[39;00m\n",
      "Cell \u001b[1;32mIn[65], line 24\u001b[0m, in \u001b[0;36mkernel_mean_matching\u001b[1;34m(X, Z, kern, B, eps)\u001b[0m\n\u001b[0;32m     21\u001b[0m G \u001b[38;5;241m=\u001b[39m matrix(np\u001b[38;5;241m.\u001b[39mr_[np\u001b[38;5;241m.\u001b[39mones((\u001b[38;5;241m1\u001b[39m,nz)), \u001b[38;5;241m-\u001b[39mnp\u001b[38;5;241m.\u001b[39mones((\u001b[38;5;241m1\u001b[39m,nz)), np\u001b[38;5;241m.\u001b[39meye(nz), \u001b[38;5;241m-\u001b[39mnp\u001b[38;5;241m.\u001b[39meye(nz)])\n\u001b[0;32m     22\u001b[0m h \u001b[38;5;241m=\u001b[39m matrix(np\u001b[38;5;241m.\u001b[39mr_[nz\u001b[38;5;241m*\u001b[39m(\u001b[38;5;241m1\u001b[39m\u001b[38;5;241m+\u001b[39meps), nz\u001b[38;5;241m*\u001b[39m(eps\u001b[38;5;241m-\u001b[39m\u001b[38;5;241m1\u001b[39m), B\u001b[38;5;241m*\u001b[39mnp\u001b[38;5;241m.\u001b[39mones((nz,)), np\u001b[38;5;241m.\u001b[39mzeros((nz,))])\n\u001b[1;32m---> 24\u001b[0m sol \u001b[38;5;241m=\u001b[39m \u001b[43msolvers\u001b[49m\u001b[38;5;241;43m.\u001b[39;49m\u001b[43mqp\u001b[49m\u001b[43m(\u001b[49m\u001b[43mK\u001b[49m\u001b[43m,\u001b[49m\u001b[43m \u001b[49m\u001b[38;5;241;43m-\u001b[39;49m\u001b[43mkappa\u001b[49m\u001b[43m,\u001b[49m\u001b[43m \u001b[49m\u001b[43mG\u001b[49m\u001b[43m,\u001b[49m\u001b[43m \u001b[49m\u001b[43mh\u001b[49m\u001b[43m)\u001b[49m\n\u001b[0;32m     25\u001b[0m coef \u001b[38;5;241m=\u001b[39m np\u001b[38;5;241m.\u001b[39marray(sol[\u001b[38;5;124m'\u001b[39m\u001b[38;5;124mx\u001b[39m\u001b[38;5;124m'\u001b[39m])\n\u001b[0;32m     26\u001b[0m \u001b[38;5;28;01mreturn\u001b[39;00m coef\n",
      "File \u001b[1;32m~\\Miniconda3\\envs\\transfer-learning\\lib\\site-packages\\cvxopt\\coneprog.py:4485\u001b[0m, in \u001b[0;36mqp\u001b[1;34m(P, q, G, h, A, b, solver, kktsolver, initvals, **kwargs)\u001b[0m\n\u001b[0;32m   4475\u001b[0m         pinfres, dinfres \u001b[38;5;241m=\u001b[39m \u001b[38;5;28;01mNone\u001b[39;00m, \u001b[38;5;28;01mNone\u001b[39;00m\n\u001b[0;32m   4477\u001b[0m     \u001b[38;5;28;01mreturn\u001b[39;00m {\u001b[38;5;124m'\u001b[39m\u001b[38;5;124mstatus\u001b[39m\u001b[38;5;124m'\u001b[39m: status, \u001b[38;5;124m'\u001b[39m\u001b[38;5;124mx\u001b[39m\u001b[38;5;124m'\u001b[39m: x, \u001b[38;5;124m'\u001b[39m\u001b[38;5;124ms\u001b[39m\u001b[38;5;124m'\u001b[39m: s, \u001b[38;5;124m'\u001b[39m\u001b[38;5;124my\u001b[39m\u001b[38;5;124m'\u001b[39m: y, \u001b[38;5;124m'\u001b[39m\u001b[38;5;124mz\u001b[39m\u001b[38;5;124m'\u001b[39m: z,\n\u001b[0;32m   4478\u001b[0m         \u001b[38;5;124m'\u001b[39m\u001b[38;5;124mprimal objective\u001b[39m\u001b[38;5;124m'\u001b[39m: pcost, \u001b[38;5;124m'\u001b[39m\u001b[38;5;124mdual objective\u001b[39m\u001b[38;5;124m'\u001b[39m: dcost,\n\u001b[0;32m   4479\u001b[0m         \u001b[38;5;124m'\u001b[39m\u001b[38;5;124mgap\u001b[39m\u001b[38;5;124m'\u001b[39m: gap, \u001b[38;5;124m'\u001b[39m\u001b[38;5;124mrelative gap\u001b[39m\u001b[38;5;124m'\u001b[39m: relgap,\n\u001b[1;32m   (...)\u001b[0m\n\u001b[0;32m   4482\u001b[0m         \u001b[38;5;124m'\u001b[39m\u001b[38;5;124mresidual as primal infeasibility certificate\u001b[39m\u001b[38;5;124m'\u001b[39m: pinfres,\n\u001b[0;32m   4483\u001b[0m         \u001b[38;5;124m'\u001b[39m\u001b[38;5;124mresidual as dual infeasibility certificate\u001b[39m\u001b[38;5;124m'\u001b[39m: dinfres}\n\u001b[1;32m-> 4485\u001b[0m \u001b[38;5;28;01mreturn\u001b[39;00m \u001b[43mconeqp\u001b[49m\u001b[43m(\u001b[49m\u001b[43mP\u001b[49m\u001b[43m,\u001b[49m\u001b[43m \u001b[49m\u001b[43mq\u001b[49m\u001b[43m,\u001b[49m\u001b[43m \u001b[49m\u001b[43mG\u001b[49m\u001b[43m,\u001b[49m\u001b[43m \u001b[49m\u001b[43mh\u001b[49m\u001b[43m,\u001b[49m\u001b[43m \u001b[49m\u001b[38;5;28;43;01mNone\u001b[39;49;00m\u001b[43m,\u001b[49m\u001b[43m \u001b[49m\u001b[43mA\u001b[49m\u001b[43m,\u001b[49m\u001b[43m  \u001b[49m\u001b[43mb\u001b[49m\u001b[43m,\u001b[49m\u001b[43m \u001b[49m\u001b[43minitvals\u001b[49m\u001b[43m,\u001b[49m\u001b[43m \u001b[49m\u001b[43mkktsolver\u001b[49m\u001b[43m \u001b[49m\u001b[38;5;241;43m=\u001b[39;49m\u001b[43m \u001b[49m\u001b[43mkktsolver\u001b[49m\u001b[43m,\u001b[49m\u001b[43m \u001b[49m\u001b[43moptions\u001b[49m\u001b[43m \u001b[49m\u001b[38;5;241;43m=\u001b[39;49m\u001b[43m \u001b[49m\u001b[43moptions\u001b[49m\u001b[43m)\u001b[49m\n",
      "File \u001b[1;32m~\\Miniconda3\\envs\\transfer-learning\\lib\\site-packages\\cvxopt\\coneprog.py:2067\u001b[0m, in \u001b[0;36mconeqp\u001b[1;34m(P, q, G, h, dims, A, b, initvals, kktsolver, xnewcopy, xdot, xaxpy, xscal, ynewcopy, ydot, yaxpy, yscal, **kwargs)\u001b[0m\n\u001b[0;32m   2065\u001b[0m \u001b[38;5;28;01mtry\u001b[39;00m: f \u001b[38;5;241m=\u001b[39m kktsolver(W)\n\u001b[0;32m   2066\u001b[0m \u001b[38;5;28;01mexcept\u001b[39;00m \u001b[38;5;167;01mArithmeticError\u001b[39;00m:\n\u001b[1;32m-> 2067\u001b[0m     \u001b[38;5;28;01mraise\u001b[39;00m \u001b[38;5;167;01mValueError\u001b[39;00m(\u001b[38;5;124m\"\u001b[39m\u001b[38;5;124mRank(A) < p or Rank([P; A; G]) < n\u001b[39m\u001b[38;5;124m\"\u001b[39m)\n\u001b[0;32m   2070\u001b[0m \u001b[38;5;66;03m# Solve\u001b[39;00m\n\u001b[0;32m   2071\u001b[0m \u001b[38;5;66;03m#\u001b[39;00m\n\u001b[0;32m   2072\u001b[0m \u001b[38;5;66;03m#     [ P   A'  G' ]   [ x ]   [ -q ]\u001b[39;00m\n\u001b[0;32m   2073\u001b[0m \u001b[38;5;66;03m#     [ A   0   0  ] * [ y ] = [  b ].\u001b[39;00m\n\u001b[0;32m   2074\u001b[0m \u001b[38;5;66;03m#     [ G   0  -I  ]   [ z ]   [  h ]\u001b[39;00m\n\u001b[0;32m   2076\u001b[0m xcopy(q, x)\n",
      "\u001b[1;31mValueError\u001b[0m: Rank(A) < p or Rank([P; A; G]) < n"
     ]
    }
   ],
   "source": [
    "x = 11*np.random.random(200)- 6.0\n",
    "y = x**2 + 10*np.random.random(200) - 5\n",
    "Z = np.c_[x, y]\n",
    "\n",
    "x = 2*np.random.random(10) - 6.0\n",
    "y = x**2 + 10*np.random.random(10) - 5\n",
    "X = np.c_[x, y]\n",
    "\n",
    "coef = kernel_mean_matching(X, Z, kern='rbf', B=10)\n",
    "\n",
    "print(coef)\n",
    "\n",
    "'''plt.close()\n",
    "plt.figure()\n",
    "plt.scatter(Z[:,0], Z[:,1], color='black', marker='x')\n",
    "plt.scatter(X[:,0], X[:,1], color='red')\n",
    "plt.scatter(Z[:,0], Z[:,1], color='green', s=coef*10, alpha=0.5)\n",
    "\n",
    "np.sum(coef > 1e-2)'''"
   ]
  },
  {
   "cell_type": "code",
   "execution_count": 60,
   "metadata": {},
   "outputs": [],
   "source": [
    "%reset -f"
   ]
  },
  {
   "cell_type": "code",
   "execution_count": null,
   "metadata": {},
   "outputs": [],
   "source": []
  }
 ]
}